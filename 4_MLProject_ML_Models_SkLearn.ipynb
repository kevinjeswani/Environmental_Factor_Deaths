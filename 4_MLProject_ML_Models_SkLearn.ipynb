{
 "cells": [
  {
   "cell_type": "markdown",
   "metadata": {},
   "source": [
    "# 4) ML Project - Air Pollution - SkLearn ML Models"
   ]
  },
  {
   "cell_type": "markdown",
   "metadata": {},
   "source": [
    "<font color='blue'> Scripts by Kevin Jeswani, Junaid Zafar, & Laiba Shah \n",
    "<br>\n",
    "WeCloudData Bootcamp 2022 (Part-time Cohort)<br> </font>\n",
    "\n",
    "First we take a look at a dataset for air pollutions deaths due over time for different countries. We visualize data and develop the linear regression models on the regional and national level. The linear regression models are valuable at predicting the general trend in deaths due over time and be used to predict future deaths, where past data appears to be highly linear. It has severe limitations for many countries. Polynomial models could be explored. To explore the interaction with other features, we proceed to merge different datasets between death due to environmental factors and socio-demographic/economic factors. We then examine them in 3 tree-based machine learning models.\n",
    "\n",
    "The set of scripts in the folder 'AirPollution_Scripts' are segmented for the purpose of clarity & convenience <br>\n",
    "The following is the suggested order for running the scripts:\n",
    "- 'MLProject_AirPollution_Viz_LR.ipynb' - loading the initial Kaggle air pollution deaths dataset, processing, visualizing the base dataset, linear regression examination and future predictions.\n",
    "- 'MLProject_DataProcessing_OECD_WB_GBD.ipynb'  - loading raw data from world bank and GBD/OECD datasets, cleaning, and merging usable data. We test the use of fuzzy data set merging.\n",
    "- 'MLProject_Exploratory_ML_Models.ipynb' **This Script**- loading the cleaning & merged dataset, model selection with PyCaret, and discussion of models/insights in modelling data.\n",
    "- 'MLProject_ML_Models_refined.ipynb' - development of selected machine learning models (Extra Trees, Random Forest, XGBoost), cross-validation, & Ensemble methods; discussion of model results\n",
    "\n",
    "The aim is to explore the intial dataset (https://www.kaggle.com/datasets/akshat0giri/death-due-to-air-pollution-19902017?resource=download), supplement it, infer trends, and make predictions on future deaths due to environmental factors. \n",
    "The data is then supplement with:\n",
    "- Global Burden of Disease Study 2019 Results via OECD.stats: https://stats.oecd.org/index.aspx?lang=en# (where the Kaggle dataset seems to have extracted and cleaned data from)\n",
    "- World Bank Development Indicators: https://databank.worldbank.org/source/world-development-indicators#\n",
    "<br>"
   ]
  },
  {
   "cell_type": "markdown",
   "metadata": {},
   "source": [
    "## 1.0 Pre-processing"
   ]
  },
  {
   "attachments": {},
   "cell_type": "markdown",
   "metadata": {},
   "source": [
    "Steps to run SkLearn 1.2.2 in Conda virtual environment: <br>\n",
    "- Open CMD.exe prompt in conda navigator <br>\n",
    "- create a conda environment: conda create --name sklearn1_2_2 python=3.9.16 <br>\n",
    "- activate conda environment: conda activate sklearn1_2_2 <br>\n",
    "- install pycaret: pip install scikit-learn=1.2.2 <br>\n",
    "- conda install ipykernel\n",
    "- create notebook kernel: python -m ipykernel install --user --name sklearn1_2_2 --display-name \"sklearn1_2_2\" <br>\n",
    "- Install other packages: pip install pandas, numexpr, plotly, seaborn, xgboost, matplotlib, icecream\n",
    "<br>"
   ]
  },
  {
   "cell_type": "markdown",
   "metadata": {},
   "source": [
    "### 1.1 Standard Imports"
   ]
  },
  {
   "cell_type": "code",
   "execution_count": 1,
   "metadata": {},
   "outputs": [
    {
     "name": "stdout",
     "output_type": "stream",
     "text": [
      "1.2.2\n"
     ]
    }
   ],
   "source": [
    "#check sklearn version\n",
    "import sklearn\n",
    "print(sklearn.__version__)"
   ]
  },
  {
   "cell_type": "code",
   "execution_count": 2,
   "metadata": {},
   "outputs": [],
   "source": [
    "# Data Processing\n",
    "import numpy as np #\n",
    "from numpy import mean, std, absolute\n",
    "import numexpr #numerical expression eval\n",
    "import pandas as pd\n",
    "import csv\n",
    "\n",
    "# Plotting - Mat PlotLib & Seaborn\n",
    "import plotly.express as px\n",
    "import matplotlib as mpl\n",
    "import matplotlib.pyplot as plt\n",
    "from matplotlib.pylab import rcParams\n",
    "%matplotlib inline\n",
    "import seaborn as sns\n",
    "sns.set()\n",
    "\n",
    "# Machine Learning - SkLearn\n",
    "# Transformers\n",
    "from sklearn.compose import ColumnTransformer\n",
    "from sklearn.preprocessing import StandardScaler, PowerTransformer, FunctionTransformer,QuantileTransformer,Normalizer #data scaling\n",
    "from sklearn.preprocessing import OrdinalEncoder # ordinal-categorical encoder\n",
    "# Test-Train Split / Cross-Validation\n",
    "from sklearn.model_selection import train_test_split, GroupKFold,StratifiedGroupKFold, RepeatedKFold, KFold #folds & splits\n",
    "from sklearn.model_selection import cross_val_score, cross_validate, BaseCrossValidator, GridSearchCV #cross-valdation & gridsearch\n",
    "# Models\n",
    "from sklearn.ensemble import ExtraTreesRegressor, RandomForestRegressor, VotingRegressor # Regressors + Blending Regressor\n",
    "# Evaluation\n",
    "from sklearn.metrics import r2_score, mean_absolute_error, mean_absolute_percentage_error, mean_squared_error as MSE #Regression metrics\n",
    "from sklearn.metrics import make_scorer, PredictionErrorDisplay #custom scoring function, plotting residuals\n",
    "#Pipeline\n",
    "from sklearn.pipeline import Pipeline\n",
    "# Transformed target regressor\n",
    "from sklearn.compose import TransformedTargetRegressor\n",
    "\n",
    "# temp file for caching pipeline\n",
    "from tempfile import mkdtemp\n",
    "\n",
    "# XGBoost\n",
    "from xgboost import XGBRegressor"
   ]
  },
  {
   "cell_type": "markdown",
   "metadata": {},
   "source": [
    "## 2.0 Data Examination & Processing"
   ]
  },
  {
   "cell_type": "code",
   "execution_count": 3,
   "metadata": {},
   "outputs": [],
   "source": [
    "# Input your local directories here - everything else is parametric\n",
    "root = r'C:\\Users\\kevin\\Documents\\WCD_Bootcamp\\ML\\ML_Project\\Scripts'\n",
    "root_raw=r'C:\\Users\\kevin\\Documents\\WCD_Bootcamp\\ML\\ML_Project\\Scripts\\Raw Data'\n",
    "root_proc=r'C:\\Users\\kevin\\Documents\\WCD_Bootcamp\\ML\\ML_Project\\Scripts\\Processed'\n",
    "root_plots=r'C:\\Users\\kevin\\Documents\\WCD_Bootcamp\\ML\\ML_Project\\Scripts\\Plots'"
   ]
  },
  {
   "cell_type": "markdown",
   "metadata": {},
   "source": [
    "### 2.1 Load Data into DF & Examine Contents"
   ]
  },
  {
   "cell_type": "code",
   "execution_count": 4,
   "metadata": {},
   "outputs": [
    {
     "data": {
      "text/html": [
       "<div>\n",
       "<style scoped>\n",
       "    .dataframe tbody tr th:only-of-type {\n",
       "        vertical-align: middle;\n",
       "    }\n",
       "\n",
       "    .dataframe tbody tr th {\n",
       "        vertical-align: top;\n",
       "    }\n",
       "\n",
       "    .dataframe thead th {\n",
       "        text-align: right;\n",
       "    }\n",
       "</style>\n",
       "<table border=\"1\" class=\"dataframe\">\n",
       "  <thead>\n",
       "    <tr style=\"text-align: right;\">\n",
       "      <th></th>\n",
       "      <th>COU</th>\n",
       "      <th>Country</th>\n",
       "      <th>Year</th>\n",
       "      <th>Deaths_OZone</th>\n",
       "      <th>Deaths_PM2.5</th>\n",
       "      <th>Deaths_Indoor</th>\n",
       "      <th>Deaths_Handwashing</th>\n",
       "      <th>Deaths_Sanitation</th>\n",
       "      <th>Deaths_Water</th>\n",
       "      <th>Deaths_HighTemp</th>\n",
       "      <th>Deaths_LowTemp</th>\n",
       "      <th>GDP_pCapita</th>\n",
       "      <th>Population</th>\n",
       "      <th>Income_Class</th>\n",
       "      <th>SoDI</th>\n",
       "    </tr>\n",
       "  </thead>\n",
       "  <tbody>\n",
       "    <tr>\n",
       "      <th>0</th>\n",
       "      <td>AFG</td>\n",
       "      <td>Afghanistan</td>\n",
       "      <td>2002</td>\n",
       "      <td>0.008418</td>\n",
       "      <td>0.069128</td>\n",
       "      <td>0.864084</td>\n",
       "      <td>0.154955</td>\n",
       "      <td>0.146771</td>\n",
       "      <td>0.195852</td>\n",
       "      <td>0.027761</td>\n",
       "      <td>7775.0</td>\n",
       "      <td>179.426579</td>\n",
       "      <td>22600774.0</td>\n",
       "      <td>L</td>\n",
       "      <td>0.194</td>\n",
       "    </tr>\n",
       "    <tr>\n",
       "      <th>1</th>\n",
       "      <td>AFG</td>\n",
       "      <td>Afghanistan</td>\n",
       "      <td>2003</td>\n",
       "      <td>0.007989</td>\n",
       "      <td>0.065408</td>\n",
       "      <td>0.801610</td>\n",
       "      <td>0.151253</td>\n",
       "      <td>0.144548</td>\n",
       "      <td>0.193319</td>\n",
       "      <td>0.025447</td>\n",
       "      <td>8358.0</td>\n",
       "      <td>190.683814</td>\n",
       "      <td>23680871.0</td>\n",
       "      <td>L</td>\n",
       "      <td>0.202</td>\n",
       "    </tr>\n",
       "    <tr>\n",
       "      <th>2</th>\n",
       "      <td>AFG</td>\n",
       "      <td>Afghanistan</td>\n",
       "      <td>2004</td>\n",
       "      <td>0.007311</td>\n",
       "      <td>0.060990</td>\n",
       "      <td>0.728383</td>\n",
       "      <td>0.138042</td>\n",
       "      <td>0.131303</td>\n",
       "      <td>0.176003</td>\n",
       "      <td>0.023667</td>\n",
       "      <td>7936.0</td>\n",
       "      <td>211.382074</td>\n",
       "      <td>24726689.0</td>\n",
       "      <td>L</td>\n",
       "      <td>0.209</td>\n",
       "    </tr>\n",
       "    <tr>\n",
       "      <th>3</th>\n",
       "      <td>AFG</td>\n",
       "      <td>Afghanistan</td>\n",
       "      <td>2005</td>\n",
       "      <td>0.006731</td>\n",
       "      <td>0.056720</td>\n",
       "      <td>0.657609</td>\n",
       "      <td>0.122056</td>\n",
       "      <td>0.114443</td>\n",
       "      <td>0.153736</td>\n",
       "      <td>0.020634</td>\n",
       "      <td>8244.0</td>\n",
       "      <td>242.031313</td>\n",
       "      <td>25654274.0</td>\n",
       "      <td>L</td>\n",
       "      <td>0.216</td>\n",
       "    </tr>\n",
       "    <tr>\n",
       "      <th>4</th>\n",
       "      <td>AFG</td>\n",
       "      <td>Afghanistan</td>\n",
       "      <td>2006</td>\n",
       "      <td>0.006097</td>\n",
       "      <td>0.054472</td>\n",
       "      <td>0.597933</td>\n",
       "      <td>0.107069</td>\n",
       "      <td>0.096464</td>\n",
       "      <td>0.129969</td>\n",
       "      <td>0.022527</td>\n",
       "      <td>7277.0</td>\n",
       "      <td>263.733602</td>\n",
       "      <td>26433058.0</td>\n",
       "      <td>L</td>\n",
       "      <td>0.224</td>\n",
       "    </tr>\n",
       "    <tr>\n",
       "      <th>...</th>\n",
       "      <td>...</td>\n",
       "      <td>...</td>\n",
       "      <td>...</td>\n",
       "      <td>...</td>\n",
       "      <td>...</td>\n",
       "      <td>...</td>\n",
       "      <td>...</td>\n",
       "      <td>...</td>\n",
       "      <td>...</td>\n",
       "      <td>...</td>\n",
       "      <td>...</td>\n",
       "      <td>...</td>\n",
       "      <td>...</td>\n",
       "      <td>...</td>\n",
       "      <td>...</td>\n",
       "    </tr>\n",
       "    <tr>\n",
       "      <th>5707</th>\n",
       "      <td>ZWE</td>\n",
       "      <td>Zimbabwe</td>\n",
       "      <td>2015</td>\n",
       "      <td>0.002620</td>\n",
       "      <td>0.145930</td>\n",
       "      <td>0.546781</td>\n",
       "      <td>0.226782</td>\n",
       "      <td>0.150856</td>\n",
       "      <td>0.227201</td>\n",
       "      <td>0.020383</td>\n",
       "      <td>742.0</td>\n",
       "      <td>1445.069702</td>\n",
       "      <td>13814642.0</td>\n",
       "      <td>L</td>\n",
       "      <td>0.452</td>\n",
       "    </tr>\n",
       "    <tr>\n",
       "      <th>5708</th>\n",
       "      <td>ZWE</td>\n",
       "      <td>Zimbabwe</td>\n",
       "      <td>2016</td>\n",
       "      <td>0.002946</td>\n",
       "      <td>0.138328</td>\n",
       "      <td>0.526542</td>\n",
       "      <td>0.218186</td>\n",
       "      <td>0.142138</td>\n",
       "      <td>0.215595</td>\n",
       "      <td>0.023571</td>\n",
       "      <td>762.0</td>\n",
       "      <td>1464.588957</td>\n",
       "      <td>14030338.0</td>\n",
       "      <td>L</td>\n",
       "      <td>0.459</td>\n",
       "    </tr>\n",
       "    <tr>\n",
       "      <th>5709</th>\n",
       "      <td>ZWE</td>\n",
       "      <td>Zimbabwe</td>\n",
       "      <td>2017</td>\n",
       "      <td>0.003454</td>\n",
       "      <td>0.129761</td>\n",
       "      <td>0.506067</td>\n",
       "      <td>0.209739</td>\n",
       "      <td>0.135385</td>\n",
       "      <td>0.206877</td>\n",
       "      <td>0.008881</td>\n",
       "      <td>891.0</td>\n",
       "      <td>1235.189032</td>\n",
       "      <td>14236599.0</td>\n",
       "      <td>L</td>\n",
       "      <td>0.465</td>\n",
       "    </tr>\n",
       "    <tr>\n",
       "      <th>5710</th>\n",
       "      <td>ZWE</td>\n",
       "      <td>Zimbabwe</td>\n",
       "      <td>2018</td>\n",
       "      <td>0.003310</td>\n",
       "      <td>0.124713</td>\n",
       "      <td>0.485084</td>\n",
       "      <td>0.199204</td>\n",
       "      <td>0.125096</td>\n",
       "      <td>0.192489</td>\n",
       "      <td>0.013527</td>\n",
       "      <td>767.0</td>\n",
       "      <td>1254.642265</td>\n",
       "      <td>14438812.0</td>\n",
       "      <td>LM</td>\n",
       "      <td>0.471</td>\n",
       "    </tr>\n",
       "    <tr>\n",
       "      <th>5711</th>\n",
       "      <td>ZWE</td>\n",
       "      <td>Zimbabwe</td>\n",
       "      <td>2019</td>\n",
       "      <td>0.003403</td>\n",
       "      <td>0.121544</td>\n",
       "      <td>0.467108</td>\n",
       "      <td>0.191757</td>\n",
       "      <td>0.118001</td>\n",
       "      <td>0.182479</td>\n",
       "      <td>0.015199</td>\n",
       "      <td>744.0</td>\n",
       "      <td>1316.740657</td>\n",
       "      <td>14645473.0</td>\n",
       "      <td>LM</td>\n",
       "      <td>0.476</td>\n",
       "    </tr>\n",
       "  </tbody>\n",
       "</table>\n",
       "<p>5712 rows × 15 columns</p>\n",
       "</div>"
      ],
      "text/plain": [
       "      COU      Country  Year  Deaths_OZone  Deaths_PM2.5  Deaths_Indoor   \n",
       "0     AFG  Afghanistan  2002      0.008418      0.069128       0.864084  \\\n",
       "1     AFG  Afghanistan  2003      0.007989      0.065408       0.801610   \n",
       "2     AFG  Afghanistan  2004      0.007311      0.060990       0.728383   \n",
       "3     AFG  Afghanistan  2005      0.006731      0.056720       0.657609   \n",
       "4     AFG  Afghanistan  2006      0.006097      0.054472       0.597933   \n",
       "...   ...          ...   ...           ...           ...            ...   \n",
       "5707  ZWE     Zimbabwe  2015      0.002620      0.145930       0.546781   \n",
       "5708  ZWE     Zimbabwe  2016      0.002946      0.138328       0.526542   \n",
       "5709  ZWE     Zimbabwe  2017      0.003454      0.129761       0.506067   \n",
       "5710  ZWE     Zimbabwe  2018      0.003310      0.124713       0.485084   \n",
       "5711  ZWE     Zimbabwe  2019      0.003403      0.121544       0.467108   \n",
       "\n",
       "      Deaths_Handwashing  Deaths_Sanitation  Deaths_Water  Deaths_HighTemp   \n",
       "0               0.154955           0.146771      0.195852         0.027761  \\\n",
       "1               0.151253           0.144548      0.193319         0.025447   \n",
       "2               0.138042           0.131303      0.176003         0.023667   \n",
       "3               0.122056           0.114443      0.153736         0.020634   \n",
       "4               0.107069           0.096464      0.129969         0.022527   \n",
       "...                  ...                ...           ...              ...   \n",
       "5707            0.226782           0.150856      0.227201         0.020383   \n",
       "5708            0.218186           0.142138      0.215595         0.023571   \n",
       "5709            0.209739           0.135385      0.206877         0.008881   \n",
       "5710            0.199204           0.125096      0.192489         0.013527   \n",
       "5711            0.191757           0.118001      0.182479         0.015199   \n",
       "\n",
       "      Deaths_LowTemp  GDP_pCapita  Population Income_Class   SoDI  \n",
       "0             7775.0   179.426579  22600774.0            L  0.194  \n",
       "1             8358.0   190.683814  23680871.0            L  0.202  \n",
       "2             7936.0   211.382074  24726689.0            L  0.209  \n",
       "3             8244.0   242.031313  25654274.0            L  0.216  \n",
       "4             7277.0   263.733602  26433058.0            L  0.224  \n",
       "...              ...          ...         ...          ...    ...  \n",
       "5707           742.0  1445.069702  13814642.0            L  0.452  \n",
       "5708           762.0  1464.588957  14030338.0            L  0.459  \n",
       "5709           891.0  1235.189032  14236599.0            L  0.465  \n",
       "5710           767.0  1254.642265  14438812.0           LM  0.471  \n",
       "5711           744.0  1316.740657  14645473.0           LM  0.476  \n",
       "\n",
       "[5712 rows x 15 columns]"
      ]
     },
     "execution_count": 4,
     "metadata": {},
     "output_type": "execute_result"
    }
   ],
   "source": [
    "fid = '\\MergedData_EnvDeaths_GDP_Pop_Income_SoDI_2.csv'\n",
    "dtypes = {'Population':'float','GDP_pCapita':'float'} #specify data types as required\n",
    "df_in = pd.read_csv(root_proc+fid,dtype=dtypes)\n",
    "df_in=df_in.drop(['Unnamed: 0'],axis=1) #drop excess index column\n",
    "\n",
    "#Display Properties\n",
    "heading_properties = [('font-size', '10px')]\n",
    "cell_properties = [('font-size', '10px')]\n",
    "\n",
    "pd.set_option('display.max_rows', 100)  \n",
    "df_in"
   ]
  },
  {
   "attachments": {},
   "cell_type": "markdown",
   "metadata": {},
   "source": [
    "### 2.2 Label Encoding of Categorical (Ordinal) Features"
   ]
  },
  {
   "cell_type": "code",
   "execution_count": 5,
   "metadata": {},
   "outputs": [],
   "source": [
    "# Encore Ordinal Features before PyCaret to avoid dashboard mismatch issues\n",
    "ordinal_features = ['Income_Class']\n",
    "ordinal_encoder = OrdinalEncoder(categories=[['L', 'LM', 'UM', 'H']]) #Initialize encored on Income class col\n",
    "df_in['Income_Class_encoded'] = ordinal_encoder.fit_transform(df_in[ordinal_features])"
   ]
  },
  {
   "cell_type": "code",
   "execution_count": 6,
   "metadata": {},
   "outputs": [
    {
     "data": {
      "text/plain": [
       "array([0., 1., 2., 3.])"
      ]
     },
     "execution_count": 6,
     "metadata": {},
     "output_type": "execute_result"
    }
   ],
   "source": [
    "# Verify encoded column\n",
    "df_in['Income_Class_encoded'].unique()"
   ]
  },
  {
   "attachments": {},
   "cell_type": "markdown",
   "metadata": {},
   "source": [
    "### 2.3 Scale Numeric Features"
   ]
  },
  {
   "cell_type": "code",
   "execution_count": 7,
   "metadata": {},
   "outputs": [],
   "source": [
    "# Train the model on the selected features to predict target air pollution deaths per 100,000\n",
    "numeric_features=['Year','GDP_pCapita','Population','SoDI']"
   ]
  },
  {
   "cell_type": "code",
   "execution_count": 8,
   "metadata": {},
   "outputs": [],
   "source": [
    "# Create new list of all features\n",
    "features = numeric_features+['Income_Class_encoded']"
   ]
  },
  {
   "cell_type": "code",
   "execution_count": 9,
   "metadata": {},
   "outputs": [
    {
     "data": {
      "image/png": "[encoded data removed]",
      "text/plain": [
       "<Figure size 1600x400 with 5 Axes>"
      ]
     },
     "metadata": {},
     "output_type": "display_data"
    }
   ],
   "source": [
    "# Plot histograms of features to understand which scalers are appropriate\n",
    "# Initialize subplots\n",
    "fig, ax = plt.subplots(nrows=1, ncols = len(features), figsize=(16,4))\n",
    "# for each subplot plot histogram\n",
    "for i, feature in enumerate(features):\n",
    "    sns.histplot(data=df_in,x=feature,ax=ax[i],kde=True) #use kernel density estimation to create smooth curve approximating distribution\n",
    "    plt.xlim(0, df_in[feature].quantile(0.95)) #plot up to 95th percentile to avoid outliers for better viz\n",
    "# Add more adding space between subplots\n",
    "fig.tight_layout(pad=1.0)\n",
    "# Display fig\n",
    "plt.show()"
   ]
  },
  {
   "attachments": {},
   "cell_type": "markdown",
   "metadata": {},
   "source": [
    "Summary of SkLearn Scalers:\n",
    "- StandardScaler - standarizes features by removing mean and scaling to uni variance. Works well with normally distributed data. This is a good default option.\n",
    "- MinMaxScaler - scales to a fixed range (typ. [0,1]) Good when distribution is not Guassian, and to preserve data sparsity. Sensitive to outliers especially with large feautre range.\n",
    "- RobustScaler - robust to outliers, removes median and scales data according to IQR. Good for data with outliers.\n",
    "- MaxAbsScaler - scales to max abs val. appropriate for data centered at 0 and features have different scales\n",
    "- PowerTransformer - corrects skeness and makes distribution more gaussian. Yeo-Johnson (defeault) (handles +/- vals) or box-cox (only positive vals)\n",
    "- QuantileTransformer - makes data uniform or Gaussian by mapping to a quantile function, and mapping quantiles to uniform or gaussian distribution. Minimizes impact of outliers. <br>\n",
    "<br>\n",
    "As such:\n",
    "- SoDI does need to be scaled given their distribution is not highly skewed and values are already [0,1]. <br>\n",
    "- MinMaxScaler can be applied to the Year to simply change the magnitude of the values. Essentially this becomes a parameter that relates to change with increasing time magnitude.\n",
    "- PowerTransformer will be applied to bother GDP_pCapita & Population due to their right skew"
   ]
  },
  {
   "cell_type": "code",
   "execution_count": 10,
   "metadata": {},
   "outputs": [],
   "source": [
    "# Create new df of only features + Country Code\n",
    "X_df = df_in[features+['COU']]\n",
    "# Define Transformers\n",
    "transformers = [('power', PowerTransformer(method='box-cox'), ['Population', 'GDP_pCapita']),\n",
    "               ('standard', StandardScaler(), ['Year'])]\n",
    "# Use ColumnTransformer to apply multiple transformers to multiple columns\n",
    "X_transformer = ColumnTransformer(transformers=transformers, remainder='passthrough') #remainder='passthrough' to keep all other columns\n",
    "X_transformed = ColumnTransformer.fit_transform(X_transformer, X_df) #fit and transform\n",
    "\n",
    "# Convert to df\n",
    "X_df_transformed = pd.DataFrame(X_transformed, columns =features+['COU'])"
   ]
  },
  {
   "cell_type": "code",
   "execution_count": 11,
   "metadata": {},
   "outputs": [
    {
     "data": {
      "image/png": "[encoded data removed]",
      "text/plain": [
       "<Figure size 1600x400 with 5 Axes>"
      ]
     },
     "metadata": {},
     "output_type": "display_data"
    }
   ],
   "source": [
    "# Plot histograms of features to understand which scalers are appropriate\n",
    "# Initialize subplots\n",
    "fig, ax = plt.subplots(nrows=1, ncols = len(features), figsize=(16,4))\n",
    "# for each subplot plot histogram\n",
    "for i, feature in enumerate(features):\n",
    "    sns.histplot(data=X_df_transformed,x=feature,ax=ax[i],kde=True) #use kernel density estimation to create smooth curve approximating distribution\n",
    "# Add more adding space between subplots\n",
    "fig.tight_layout(pad=1.0)\n",
    "# Display fig\n",
    "plt.show()"
   ]
  },
  {
   "attachments": {},
   "cell_type": "markdown",
   "metadata": {},
   "source": [
    "### 2.4 Scaling of Target Variables"
   ]
  },
  {
   "attachments": {},
   "cell_type": "markdown",
   "metadata": {},
   "source": [
    "The target variables do not typically need to be scaled unless the range is large or the scale of the values being predicted is very sensitive to scale"
   ]
  },
  {
   "cell_type": "code",
   "execution_count": 12,
   "metadata": {},
   "outputs": [],
   "source": [
    "target_vars = ['Deaths_OZone','Deaths_PM2.5','Deaths_Indoor']"
   ]
  },
  {
   "cell_type": "code",
   "execution_count": 13,
   "metadata": {},
   "outputs": [
    {
     "data": {
      "text/html": [
       "<div>\n",
       "<style scoped>\n",
       "    .dataframe tbody tr th:only-of-type {\n",
       "        vertical-align: middle;\n",
       "    }\n",
       "\n",
       "    .dataframe tbody tr th {\n",
       "        vertical-align: top;\n",
       "    }\n",
       "\n",
       "    .dataframe thead th {\n",
       "        text-align: right;\n",
       "    }\n",
       "</style>\n",
       "<table border=\"1\" class=\"dataframe\">\n",
       "  <thead>\n",
       "    <tr style=\"text-align: right;\">\n",
       "      <th></th>\n",
       "      <th>Deaths_OZone</th>\n",
       "      <th>Deaths_PM2.5</th>\n",
       "      <th>Deaths_Indoor</th>\n",
       "    </tr>\n",
       "  </thead>\n",
       "  <tbody>\n",
       "    <tr>\n",
       "      <th>count</th>\n",
       "      <td>5712.000000</td>\n",
       "      <td>5712.000000</td>\n",
       "      <td>5712.000000</td>\n",
       "    </tr>\n",
       "    <tr>\n",
       "      <th>mean</th>\n",
       "      <td>0.146362</td>\n",
       "      <td>5.360815</td>\n",
       "      <td>7.849054</td>\n",
       "    </tr>\n",
       "    <tr>\n",
       "      <th>std</th>\n",
       "      <td>0.790284</td>\n",
       "      <td>17.362746</td>\n",
       "      <td>54.112946</td>\n",
       "    </tr>\n",
       "    <tr>\n",
       "      <th>min</th>\n",
       "      <td>0.000000</td>\n",
       "      <td>0.003234</td>\n",
       "      <td>0.000000</td>\n",
       "    </tr>\n",
       "    <tr>\n",
       "      <th>25%</th>\n",
       "      <td>0.001667</td>\n",
       "      <td>0.122347</td>\n",
       "      <td>0.011979</td>\n",
       "    </tr>\n",
       "    <tr>\n",
       "      <th>50%</th>\n",
       "      <td>0.006778</td>\n",
       "      <td>0.399815</td>\n",
       "      <td>0.261600</td>\n",
       "    </tr>\n",
       "    <tr>\n",
       "      <th>75%</th>\n",
       "      <td>0.031309</td>\n",
       "      <td>2.259193</td>\n",
       "      <td>1.686023</td>\n",
       "    </tr>\n",
       "    <tr>\n",
       "      <th>max</th>\n",
       "      <td>13.575265</td>\n",
       "      <td>229.067954</td>\n",
       "      <td>1385.598093</td>\n",
       "    </tr>\n",
       "  </tbody>\n",
       "</table>\n",
       "</div>"
      ],
      "text/plain": [
       "       Deaths_OZone  Deaths_PM2.5  Deaths_Indoor\n",
       "count   5712.000000   5712.000000    5712.000000\n",
       "mean       0.146362      5.360815       7.849054\n",
       "std        0.790284     17.362746      54.112946\n",
       "min        0.000000      0.003234       0.000000\n",
       "25%        0.001667      0.122347       0.011979\n",
       "50%        0.006778      0.399815       0.261600\n",
       "75%        0.031309      2.259193       1.686023\n",
       "max       13.575265    229.067954    1385.598093"
      ]
     },
     "execution_count": 13,
     "metadata": {},
     "output_type": "execute_result"
    }
   ],
   "source": [
    "df_in[target_vars].describe()"
   ]
  },
  {
   "cell_type": "code",
   "execution_count": 14,
   "metadata": {},
   "outputs": [
    {
     "data": {
      "image/png": "[encoded data removed]",
      "text/plain": [
       "<Figure size 1600x400 with 3 Axes>"
      ]
     },
     "metadata": {},
     "output_type": "display_data"
    }
   ],
   "source": [
    "# Plot histograms of target variables to understand which scalers are appropriate\n",
    "# Initialize subplots\n",
    "fig, ax = plt.subplots(nrows=1, ncols = len(target_vars), figsize=(16,4))\n",
    "# for each subplot plot histogram\n",
    "for i, target in enumerate(target_vars):\n",
    "    sns.histplot(data=df_in,x=target,ax=ax[i]) #use kernel density estimation to create smooth curve approximating distribution\n",
    "    ax[i].set_xlim(0, df_in[target].quantile(0.90)) #plot up to 90th percentile to avoid outliers for better viz\n",
    "\n",
    "# Add more adding space between subplots\n",
    "fig.tight_layout(pad=1.0)\n",
    "# Display fig\n",
    "plt.show()"
   ]
  },
  {
   "attachments": {},
   "cell_type": "markdown",
   "metadata": {},
   "source": [
    "The target variables will be transformed using a log transformation, so that using MAPE as the primary evaluation metric will result in meaningful results. Without target transformations, the MAPE tends to infinity due to incredibly small actual values."
   ]
  },
  {
   "cell_type": "code",
   "execution_count": 15,
   "metadata": {},
   "outputs": [],
   "source": [
    "# Create a pipeline to transform the target variables\n",
    "target_pipeline = Pipeline(steps=[\n",
    "    ('sqrt_transform', FunctionTransformer(func=np.sqrt,inverse_func=np.square,\n",
    "                                                validate=True)), #sqrt transformation, square inverse\n",
    "    ('scale_transform', FunctionTransformer(func=lambda x: x * 100,inverse_func=lambda x: x / 100)) #scale up by 100\n",
    "])\n"
   ]
  },
  {
   "cell_type": "code",
   "execution_count": 16,
   "metadata": {},
   "outputs": [
    {
     "name": "stderr",
     "output_type": "stream",
     "text": [
      "c:\\Users\\kevin\\anaconda3\\envs\\sklearn1_2_2\\lib\\site-packages\\sklearn\\base.py:439: UserWarning: X does not have valid feature names, but FunctionTransformer was fitted with feature names\n",
      "  warnings.warn(\n"
     ]
    }
   ],
   "source": [
    "# Create a ColumnTransformer to pass target cols through pipeline\n",
    "y_transformer = ColumnTransformer(transformers=[('target', target_pipeline, target_vars)], remainder='passthrough')\n",
    "\n",
    "# Transform target variables\n",
    "y_transformed = y_transformer.fit_transform(df_in[target_vars])\n",
    "# Convert to df\n",
    "y_df_transformed = pd.DataFrame(y_transformed, columns = target_vars) "
   ]
  },
  {
   "cell_type": "code",
   "execution_count": 17,
   "metadata": {},
   "outputs": [
    {
     "data": {
      "image/png": "[encoded data removed]",
      "text/plain": [
       "<Figure size 1600x400 with 3 Axes>"
      ]
     },
     "metadata": {},
     "output_type": "display_data"
    }
   ],
   "source": [
    "# Plot histograms of target variables to understand which scalers are appropriate\n",
    "# Initialize subplots\n",
    "fig, ax = plt.subplots(nrows=1, ncols = len(target_vars), figsize=(16,4))\n",
    "# for each subplot plot histogram\n",
    "for i, target in enumerate(target_vars):\n",
    "    sns.histplot(data=y_df_transformed,x=target,ax=ax[i])\n",
    "    ax[i].set_xlim(0, y_df_transformed[target].quantile(0.95)) #plot up to 90th percentile to avoid outliers for better viz\n",
    "# Add more adding space between subplots\n",
    "fig.tight_layout(pad=1.0)\n",
    "# Display fig\n",
    "plt.show()"
   ]
  },
  {
   "cell_type": "code",
   "execution_count": 18,
   "metadata": {},
   "outputs": [
    {
     "data": {
      "text/html": [
       "<div>\n",
       "<style scoped>\n",
       "    .dataframe tbody tr th:only-of-type {\n",
       "        vertical-align: middle;\n",
       "    }\n",
       "\n",
       "    .dataframe tbody tr th {\n",
       "        vertical-align: top;\n",
       "    }\n",
       "\n",
       "    .dataframe thead th {\n",
       "        text-align: right;\n",
       "    }\n",
       "</style>\n",
       "<table border=\"1\" class=\"dataframe\">\n",
       "  <thead>\n",
       "    <tr style=\"text-align: right;\">\n",
       "      <th></th>\n",
       "      <th>Deaths_OZone</th>\n",
       "      <th>Deaths_PM2.5</th>\n",
       "      <th>Deaths_Indoor</th>\n",
       "    </tr>\n",
       "  </thead>\n",
       "  <tbody>\n",
       "    <tr>\n",
       "      <th>96</th>\n",
       "      <td>183.459309</td>\n",
       "      <td>550.377926</td>\n",
       "      <td>0.0</td>\n",
       "    </tr>\n",
       "    <tr>\n",
       "      <th>97</th>\n",
       "      <td>176.472664</td>\n",
       "      <td>529.417993</td>\n",
       "      <td>0.0</td>\n",
       "    </tr>\n",
       "    <tr>\n",
       "      <th>98</th>\n",
       "      <td>169.831188</td>\n",
       "      <td>537.053371</td>\n",
       "      <td>0.0</td>\n",
       "    </tr>\n",
       "    <tr>\n",
       "      <th>99</th>\n",
       "      <td>164.004330</td>\n",
       "      <td>518.627228</td>\n",
       "      <td>0.0</td>\n",
       "    </tr>\n",
       "    <tr>\n",
       "      <th>100</th>\n",
       "      <td>159.550705</td>\n",
       "      <td>504.543631</td>\n",
       "      <td>0.0</td>\n",
       "    </tr>\n",
       "    <tr>\n",
       "      <th>...</th>\n",
       "      <td>...</td>\n",
       "      <td>...</td>\n",
       "      <td>...</td>\n",
       "    </tr>\n",
       "    <tr>\n",
       "      <th>5394</th>\n",
       "      <td>11.924306</td>\n",
       "      <td>52.877186</td>\n",
       "      <td>0.0</td>\n",
       "    </tr>\n",
       "    <tr>\n",
       "      <th>5395</th>\n",
       "      <td>12.412115</td>\n",
       "      <td>54.271636</td>\n",
       "      <td>0.0</td>\n",
       "    </tr>\n",
       "    <tr>\n",
       "      <th>5396</th>\n",
       "      <td>12.866333</td>\n",
       "      <td>55.555593</td>\n",
       "      <td>0.0</td>\n",
       "    </tr>\n",
       "    <tr>\n",
       "      <th>5397</th>\n",
       "      <td>12.372980</td>\n",
       "      <td>56.937299</td>\n",
       "      <td>0.0</td>\n",
       "    </tr>\n",
       "    <tr>\n",
       "      <th>5398</th>\n",
       "      <td>12.493243</td>\n",
       "      <td>58.365650</td>\n",
       "      <td>0.0</td>\n",
       "    </tr>\n",
       "  </tbody>\n",
       "</table>\n",
       "<p>204 rows × 3 columns</p>\n",
       "</div>"
      ],
      "text/plain": [
       "      Deaths_OZone  Deaths_PM2.5  Deaths_Indoor\n",
       "96      183.459309    550.377926            0.0\n",
       "97      176.472664    529.417993            0.0\n",
       "98      169.831188    537.053371            0.0\n",
       "99      164.004330    518.627228            0.0\n",
       "100     159.550705    504.543631            0.0\n",
       "...            ...           ...            ...\n",
       "5394     11.924306     52.877186            0.0\n",
       "5395     12.412115     54.271636            0.0\n",
       "5396     12.866333     55.555593            0.0\n",
       "5397     12.372980     56.937299            0.0\n",
       "5398     12.493243     58.365650            0.0\n",
       "\n",
       "[204 rows x 3 columns]"
      ]
     },
     "execution_count": 18,
     "metadata": {},
     "output_type": "execute_result"
    }
   ],
   "source": [
    "y_df_transformed[y_df_transformed['Deaths_Indoor']==0]"
   ]
  },
  {
   "attachments": {},
   "cell_type": "markdown",
   "metadata": {},
   "source": [
    "## 3.0 Simple Regression Modelling of Deaths due to Indoor Air Pollution with SkLearn"
   ]
  },
  {
   "attachments": {},
   "cell_type": "markdown",
   "metadata": {},
   "source": [
    "This section will go through the basics of using an SkLearn regressor, conduct hold-out validation, and then cross-validation. <br>\n",
    "<br>\n",
    "**Notes**: <br>\n",
    "- Feature Scaling was experimented with but in the end, research online suggested that scaling is not necessary with tree-based regressors\n",
    "- We will score all regressors by MAE = mean absolute error, but check R2, MAE, RMSE when doing cross validation and hold-out validation. MAE - penalizes for outliers less than MSE, MAPE is just the MAE expressed as a percentage of the actual value, but because many of the actuals are 0 or extremely low, this metric can become uninterpretable by tending to infinity.\n",
    "- By Using SMAPE instead of MAPE, a more robust metric can be used in evaluating the models where values in the denominator tend to 0. It takes into account the magnitude of the actual and predicted values in computing the percentage error. However, when both values are 0, then it also results in undefined values. As such, a custom if mask function is inserted to mask and remove values  both elements on the index with a condition actuali=predictedi=0.\n",
    "- A similar custom MAPE function is defined that uses a mask for when elements in the actuals array are 0\n",
    "- We realized it was an added challenge to construction cross-validation folds while preserving the timeseries data. Thus, see Section 4.0."
   ]
  },
  {
   "attachments": {},
   "cell_type": "markdown",
   "metadata": {},
   "source": [
    "### 3.1 Custom Regression Metrics Functions"
   ]
  },
  {
   "cell_type": "code",
   "execution_count": 19,
   "metadata": {},
   "outputs": [],
   "source": [
    "# Create Custom RMSE Scoring Function\n",
    "def rmse(actual, predicted):\n",
    "    \"\"\"\n",
    "    Computes Root Mean Absolute Error (RMSE) between actual and predicted values\n",
    "    Args:\n",
    "        actual (array-like): Actual values\n",
    "        predicted (array-like): Predicted values\n",
    "    Returns:\n",
    "        RMSE (float): Root Mean Absolute Error\n",
    "    \"\"\"\n",
    "    # Calculcate RMSE = sqrt(mean(absolute difference between actual and predicted values squared))\n",
    "    RMSE = np.sqrt(np.mean((actual - predicted)**2))\n",
    "    return RMSE\n",
    "# Create sklearn compatible scorer\n",
    "rmse_scorer = make_scorer(rmse, greater_is_better=False)"
   ]
  },
  {
   "cell_type": "code",
   "execution_count": 20,
   "metadata": {},
   "outputs": [],
   "source": [
    "def mape_masked(actual,predicted,mask0=True):\n",
    "    \"\"\"\n",
    "    Computes Mean Absolute Percentage Error (MAPE) between actual and predicted values, while excluding values that are divided by 0,\n",
    "    which would result in infinite values\n",
    "    Args:\n",
    "        actual (array-like): Actual values\n",
    "        predicted (array-like): Predicted values\n",
    "    Returns:\n",
    "        MAPE (float): Mean Absolute Percentage Error\n",
    "    \"\"\"\n",
    "    if mask0:\n",
    "        # Mask where actual values are not 0\n",
    "        mask = np.where(actual != 0, True, False)\n",
    "    else: #else create mask where all are True\n",
    "        mask = np.ones_like(actual, dtype=bool)\n",
    "    actual_masked = np.where(mask, actual, np.nan)  # Replace zeros with NaNs\n",
    "    # Calculcate MAPE = mean(absolute difference between actual and predicted values divided by actual values)\n",
    "    MAPE = np.divide(np.fabs(actual - predicted), actual_masked)[mask].mean()\n",
    "    return MAPE\n",
    "# Create sklearn compatible scorer\n",
    "mape_scorer = make_scorer(mape_masked, greater_is_better=False)"
   ]
  },
  {
   "cell_type": "code",
   "execution_count": 21,
   "metadata": {},
   "outputs": [],
   "source": [
    "# Define Custom SMAPE Scoring Function\n",
    "def smape_masked(actual, predicted,mask0=True):\n",
    "    \"\"\"\n",
    "    Computes Symmetric Mean Absolute Percentage Error (SMAPE) between actual and predicted values\n",
    "    Args:\n",
    "        actual (array-like): Actual values\n",
    "        predicted (array-like): Predicted values\n",
    "        mask0 (bool): Flag to mask 0 values in actual and predicted values\n",
    "    Returns:\n",
    "        SMAPE (float): Symmetric Mean Absolute Percentage Error    \n",
    "    \"\"\"\n",
    "    # Calculate absolute difference and sum of actual and predicted values\n",
    "    abs_diff = np.fabs(actual - predicted)\n",
    "    sum_values = np.fabs(actual) + np.fabs(predicted)\n",
    "    # If flag to mask 0 values is True\n",
    "    if mask0:\n",
    "        # Exclude elements where both abs_diff and sum_values are 0\n",
    "        mask = (abs_diff == 0) & (sum_values == 0) # Create boolean mask where both elements on index are 0\n",
    "        abs_diff = abs_diff[~mask] #mask out to exclude from calculation\n",
    "        sum_values = sum_values[~mask]\n",
    "    \n",
    "    # Calculate SMAPE\n",
    "    SMAPE = (2 * np.sum(abs_diff / sum_values)) / len(actual)\n",
    "    return SMAPE\n",
    "# Create sklearn compatible scorer\n",
    "smape_scorer = make_scorer(smape_masked, greater_is_better=False)\n"
   ]
  },
  {
   "cell_type": "code",
   "execution_count": 22,
   "metadata": {},
   "outputs": [],
   "source": [
    "# Define function to quickly evaluate model\n",
    "def regression_metrics(actual,predicted):\n",
    "    \"\"\"\n",
    "    Calculate R2 MAE MAPE, SMAPE, and RMSE for regression. This is a wrapper for the evaluation of the model\n",
    "    Args:\n",
    "        actual (array-like): Actual values\n",
    "        predicted (array-like): Predicted values\n",
    "    Returns: \n",
    "        [R2, MAE, MAPE,SMAPE, RMSE] Regression metrics as a list of 5 floats\n",
    "    \"\"\"\n",
    "    # Evaluate the model\n",
    "    R2 = round(r2_score(actual, predicted),2)\n",
    "    MAE = round(mean_absolute_error(actual, predicted),2)\n",
    "    MAPE = round(mape_masked(actual, predicted),2)\n",
    "    SMAPE = round(smape_masked(actual, predicted),2)\n",
    "    RMSE = round(rmse(actual, predicted),2)\n",
    "    return [R2,MAE,MAPE,SMAPE,RMSE]"
   ]
  },
  {
   "cell_type": "code",
   "execution_count": 23,
   "metadata": {},
   "outputs": [],
   "source": [
    "scores = ['r2','mae','mape','smape','rmse']"
   ]
  },
  {
   "attachments": {},
   "cell_type": "markdown",
   "metadata": {},
   "source": [
    "### 3.2 Splitting Strategy\n",
    "-  Simple Train - Hold-out Test, using 30% testing of the total dataset\n",
    "- Another constraint placed on the exercise will be to ensure that the full time-series of a country is kept within the same fold and either in the cross-validation group or in the hold-out testing set.\n",
    "- Use the Country Code ('COU') identifier to split the data\n",
    "- This will somewhat preserve timeseries data within the same grouping, It will still be mixed in with dozens of other time-series. <br>"
   ]
  },
  {
   "cell_type": "code",
   "execution_count": 24,
   "metadata": {},
   "outputs": [],
   "source": [
    "#Create an array with the unique country codes\n",
    "CountryCodes = X_df_transformed['COU'].unique() "
   ]
  },
  {
   "cell_type": "code",
   "execution_count": 25,
   "metadata": {},
   "outputs": [],
   "source": [
    "#Number of holdout-testing countries\n",
    "n_holdout = int(len(CountryCodes)*0.30) #30% of countries \n",
    "# Randomly select countries for hold-out testing\n",
    "c_holdout= np.random.choice(CountryCodes, size=n_holdout, replace=True)"
   ]
  },
  {
   "cell_type": "code",
   "execution_count": 26,
   "metadata": {},
   "outputs": [],
   "source": [
    "# Cross-validation Train-Validate dataset\n",
    "X_train = X_df_transformed[~X_df_transformed['COU'].isin(c_holdout)]\n",
    "\n",
    "#Hold-out Testing dataset\n",
    "X_test  = X_df_transformed[X_df_transformed['COU'].isin(c_holdout)]"
   ]
  },
  {
   "attachments": {},
   "cell_type": "markdown",
   "metadata": {},
   "source": [
    "### 3.3 Simple Random Forest Model"
   ]
  },
  {
   "cell_type": "code",
   "execution_count": 27,
   "metadata": {},
   "outputs": [],
   "source": [
    "death = 'Deaths_Indoor'"
   ]
  },
  {
   "cell_type": "code",
   "execution_count": 28,
   "metadata": {},
   "outputs": [],
   "source": [
    "# Determine the target variable of the dataset\n",
    "y_train = y_df_transformed[~df_in['COU'].isin(c_holdout)].loc[:,[death]].to_numpy().ravel() #select the death metric being predicted, convert series to numpy and ravel to flatten array\n",
    "y_test = y_df_transformed[df_in['COU'].isin(c_holdout)].loc[:,[death]].to_numpy().ravel()"
   ]
  },
  {
   "attachments": {},
   "cell_type": "markdown",
   "metadata": {},
   "source": [
    "Default Random Forest Model Parameters: <br>\n",
    "RandomForestRegressor(bootstrap=True, ccp_alpha=0.0, criterion='mse',\n",
    "                      max_depth=None, max_features='auto', max_leaf_nodes=None,\n",
    "                      max_samples=None, min_impurity_decrease=0.0,\n",
    "                      min_impurity_split=None, min_samples_leaf=1,\n",
    "                      min_samples_split=2, min_weight_fraction_leaf=0.0,\n",
    "                      n_estimators=100, n_jobs=-1, oob_score=False,\n",
    "                      random_state=7671, verbose=0, warm_start=False)\n",
    "                      <Br>\n",
    "<br>\n",
    "The following parameters will be changed:\n",
    "- n_estimators = number of trees to build\n",
    "- Criterion = MAE as MSE is more susceptible to outliers\n",
    "- max_depth = 7 as we see that the number of levels in the tree did not need to be too large to \n",
    "- get decent results without overfitting\n",
    "- If max_features=1.0,  max_features=n_features on regression problems - this is acceptable \n",
    "- n_jobs=-1 to run in parallel set to number of available cores"
   ]
  },
  {
   "attachments": {},
   "cell_type": "markdown",
   "metadata": {},
   "source": [
    "#### 3.2.1 Simple Train - Hold-out Testing"
   ]
  },
  {
   "cell_type": "code",
   "execution_count": 29,
   "metadata": {},
   "outputs": [],
   "source": [
    "# Initialize the model\n",
    "model = RandomForestRegressor(n_estimators = 100,\n",
    "          criterion='absolute_error',max_depth=7, max_features=1.0,n_jobs=-1,random_state=123)"
   ]
  },
  {
   "cell_type": "code",
   "execution_count": 30,
   "metadata": {},
   "outputs": [],
   "source": [
    "#Train model on training set\n",
    "model_fit = model.fit(X_train[features], y_train)"
   ]
  },
  {
   "cell_type": "code",
   "execution_count": 41,
   "metadata": {},
   "outputs": [
    {
     "data": {
      "text/html": [
       "<div>\n",
       "<style scoped>\n",
       "    .dataframe tbody tr th:only-of-type {\n",
       "        vertical-align: middle;\n",
       "    }\n",
       "\n",
       "    .dataframe tbody tr th {\n",
       "        vertical-align: top;\n",
       "    }\n",
       "\n",
       "    .dataframe thead th {\n",
       "        text-align: right;\n",
       "    }\n",
       "</style>\n",
       "<table border=\"1\" class=\"dataframe\">\n",
       "  <thead>\n",
       "    <tr style=\"text-align: right;\">\n",
       "      <th></th>\n",
       "      <th>Year</th>\n",
       "      <th>GDP_pCapita</th>\n",
       "      <th>Population</th>\n",
       "      <th>SoDI</th>\n",
       "      <th>Income_Class_encoded</th>\n",
       "    </tr>\n",
       "  </thead>\n",
       "  <tbody>\n",
       "    <tr>\n",
       "      <th>Feature Importance</th>\n",
       "      <td>0.57</td>\n",
       "      <td>0.25</td>\n",
       "      <td>0.03</td>\n",
       "      <td>0.14</td>\n",
       "      <td>0.01</td>\n",
       "    </tr>\n",
       "  </tbody>\n",
       "</table>\n",
       "</div>"
      ],
      "text/plain": [
       "                    Year  GDP_pCapita  Population  SoDI  Income_Class_encoded\n",
       "Feature Importance  0.57         0.25        0.03  0.14                  0.01"
      ]
     },
     "execution_count": 41,
     "metadata": {},
     "output_type": "execute_result"
    }
   ],
   "source": [
    "# Feature Importance - display as df\n",
    "f_importance = list(np.round(model.feature_importances_,2))\n",
    "pd.DataFrame(f_importance,index=features,columns=['Feature Importance']).T"
   ]
  },
  {
   "attachments": {},
   "cell_type": "markdown",
   "metadata": {},
   "source": [
    "In comparison to the PyCaret models, the feature transformation of the Year causes there to be a much larger importance placed on the Year in predicted indoor air pollution deaths, with the next important feature being GDP per capita."
   ]
  },
  {
   "cell_type": "code",
   "execution_count": 42,
   "metadata": {},
   "outputs": [
    {
     "data": {
      "text/html": [
       "<div>\n",
       "<style scoped>\n",
       "    .dataframe tbody tr th:only-of-type {\n",
       "        vertical-align: middle;\n",
       "    }\n",
       "\n",
       "    .dataframe tbody tr th {\n",
       "        vertical-align: top;\n",
       "    }\n",
       "\n",
       "    .dataframe thead th {\n",
       "        text-align: right;\n",
       "    }\n",
       "</style>\n",
       "<table border=\"1\" class=\"dataframe\">\n",
       "  <thead>\n",
       "    <tr style=\"text-align: right;\">\n",
       "      <th></th>\n",
       "      <th>r2</th>\n",
       "      <th>mae</th>\n",
       "      <th>mape</th>\n",
       "      <th>smape</th>\n",
       "      <th>rmse</th>\n",
       "    </tr>\n",
       "  </thead>\n",
       "  <tbody>\n",
       "    <tr>\n",
       "      <th>Metrics</th>\n",
       "      <td>0.77</td>\n",
       "      <td>39.05</td>\n",
       "      <td>0.47</td>\n",
       "      <td>0.37</td>\n",
       "      <td>90.74</td>\n",
       "    </tr>\n",
       "    <tr>\n",
       "      <th>Metrics_inv</th>\n",
       "      <td>-0.09</td>\n",
       "      <td>4.13</td>\n",
       "      <td>1.75</td>\n",
       "      <td>0.63</td>\n",
       "      <td>16.48</td>\n",
       "    </tr>\n",
       "  </tbody>\n",
       "</table>\n",
       "</div>"
      ],
      "text/plain": [
       "               r2    mae  mape  smape   rmse\n",
       "Metrics      0.77  39.05  0.47   0.37  90.74\n",
       "Metrics_inv -0.09   4.13  1.75   0.63  16.48"
      ]
     },
     "execution_count": 42,
     "metadata": {},
     "output_type": "execute_result"
    }
   ],
   "source": [
    "# Make predictions for test data\n",
    "y_pred = model.predict(X_test[features])\n",
    "# Get Regression metrics - display as df\n",
    "r_metrics = regression_metrics(y_test,y_pred)\n",
    "# Pass through inverse column transformer\n",
    "y_test_inv = target_pipeline.inverse_transform(y_test.reshape(-1,1)).flatten()\n",
    "y_pred_inv = target_pipeline.inverse_transform(y_pred.reshape(-1,1)).flatten()\n",
    "r_metrics_inv = regression_metrics(y_test_inv,y_pred_inv)\n",
    "pd.DataFrame([r_metrics,r_metrics_inv],index=['Metrics','Metrics_inv'],columns=scores)"
   ]
  },
  {
   "cell_type": "code",
   "execution_count": 43,
   "metadata": {},
   "outputs": [
    {
     "data": {
      "image/png": "[encoded data removed]",
      "text/plain": [
       "<Figure size 640x480 with 1 Axes>"
      ]
     },
     "metadata": {},
     "output_type": "display_data"
    }
   ],
   "source": [
    "# Plotting predictions v. actuals for Random Forest Model\n",
    "fig, ax = plt.subplots()\n",
    "ax.scatter(y_test_inv, y_pred_inv)\n",
    "ax.plot([y_test_inv.min(), y_test_inv.max()], [y_test_inv.min(), y_test_inv.max()], 'k--', lw=4)\n",
    "ax.set_xlabel('Measured')\n",
    "ax.set_ylabel('Predicted')\n",
    "plt.title('Random Forest Model - Simple - Indoor Pollution Deaths')\n",
    "plt.show()"
   ]
  },
  {
   "cell_type": "code",
   "execution_count": 44,
   "metadata": {},
   "outputs": [
    {
     "data": {
      "image/png": "[encoded data removed]",
      "text/plain": [
       "<Figure size 1200x400 with 2 Axes>"
      ]
     },
     "metadata": {},
     "output_type": "display_data"
    }
   ],
   "source": [
    "# New sklearn PredictionErrorDisplay can be used as well\n",
    "fig, axs = plt.subplots(nrows=1,ncols=2,figsize=(12,4))\n",
    "# Plot actual vs predicted\n",
    "PredictionErrorDisplay.from_predictions(y_true=y_test_inv, y_pred=y_pred_inv,ax=axs[0],kind=\"actual_vs_predicted\")\n",
    "axs[0].set_title(\"Actual vs. Predicted values\")\n",
    "# Plot residual vs predicted\n",
    "PredictionErrorDisplay.from_predictions(y_true=y_test_inv, y_pred=y_pred_inv,ax=axs[1],kind=\"residual_vs_predicted\")\n",
    "axs[1].set_title(\"Residuals vs. Predicted Values\")\n",
    "#axs[0].set_xlim([0,np.maximum(y_test_inv.max(), y_pred_inv.max())]) - does not seem to work to set lowerbound xlim\n",
    "fig.suptitle('Random Forest Model - Simple - Indoor Pollution Deaths')\n",
    "plt.show()"
   ]
  },
  {
   "attachments": {},
   "cell_type": "markdown",
   "metadata": {},
   "source": [
    "The preliminary model has a tendency to severely underpredicted or overpredict indoor air pollution deaths at the upper range of values."
   ]
  },
  {
   "attachments": {},
   "cell_type": "markdown",
   "metadata": {},
   "source": [
    "#### 3.2.2 Cross-Validation - k-folds=10"
   ]
  },
  {
   "attachments": {},
   "cell_type": "markdown",
   "metadata": {},
   "source": [
    "Instead of hold-out validation, cross-validation can be conducted on the entire dataset.\n",
    "- k=10 fold cross-validation (i.e. split into 10 subsets, where each subset will be the validation set exactly once)\n",
    "- By using GroupKFold this continues with the group-preserving splitting strategy, where all elements for a country are put in the same fold."
   ]
  },
  {
   "cell_type": "code",
   "execution_count": 45,
   "metadata": {},
   "outputs": [],
   "source": [
    "# Use the full data set for cross-validation\n",
    "y_cv = y_df_transformed[death].to_numpy().ravel()\n",
    "X_cv = X_df_transformed"
   ]
  },
  {
   "cell_type": "code",
   "execution_count": 46,
   "metadata": {
    "scrolled": true
   },
   "outputs": [],
   "source": [
    "# define cross-validator (iterator)\n",
    "cv = GroupKFold(n_splits=10) #10-fold cross-validation preserving groups\n",
    "# evaluate model - only single metric permitted\n",
    "cv_scores = cross_val_score(model, X_cv[features], y_cv, groups=X_cv['COU'],scoring='neg_mean_absolute_error',cv=cv, n_jobs=-1)"
   ]
  },
  {
   "cell_type": "code",
   "execution_count": 47,
   "metadata": {},
   "outputs": [
    {
     "name": "stdout",
     "output_type": "stream",
     "text": [
      "MAE CV mean: 22.23; MAE CV std: 6.0\n"
     ]
    }
   ],
   "source": [
    "# Absolute values of neg MAE scores for 3x(10-fold CV)\n",
    "# Note this is for the TRANSFORMED TARGET values\n",
    "MAE_cv = ((np.fabs(cv_scores).mean())**2)/100\n",
    "MAE_cv_std = ((np.fabs(cv_scores).std())**2)/100\n",
    "print(f'MAE CV mean: {round(MAE_cv,2)}; MAE CV std: {round(MAE_cv_std,2)}')"
   ]
  },
  {
   "attachments": {},
   "cell_type": "markdown",
   "metadata": {},
   "source": [
    "- The more general function cross_validate can to return multiple metrics."
   ]
  },
  {
   "cell_type": "code",
   "execution_count": 48,
   "metadata": {},
   "outputs": [],
   "source": [
    "# Create scoring dict to pass to cross_validate to examine multiple metrics\n",
    "scoring = {'r2':'r2','mae':'neg_mean_absolute_error','mape':mape_scorer,'smape':smape_scorer,'rmse':'neg_root_mean_squared_error'}"
   ]
  },
  {
   "cell_type": "code",
   "execution_count": 49,
   "metadata": {},
   "outputs": [],
   "source": [
    "# Use cross-validate function: display training score, pass \n",
    "cv_scores = cross_validate(model, X_cv[features], y_cv, scoring=scoring, groups=X_cv['COU'], cv=cv, n_jobs=-1,return_train_score=True) #return training results also"
   ]
  },
  {
   "cell_type": "code",
   "execution_count": 50,
   "metadata": {},
   "outputs": [
    {
     "data": {
      "text/html": [
       "<div>\n",
       "<style scoped>\n",
       "    .dataframe tbody tr th:only-of-type {\n",
       "        vertical-align: middle;\n",
       "    }\n",
       "\n",
       "    .dataframe tbody tr th {\n",
       "        vertical-align: top;\n",
       "    }\n",
       "\n",
       "    .dataframe thead th {\n",
       "        text-align: right;\n",
       "    }\n",
       "</style>\n",
       "<table border=\"1\" class=\"dataframe\">\n",
       "  <thead>\n",
       "    <tr style=\"text-align: right;\">\n",
       "      <th></th>\n",
       "      <th>fit_time</th>\n",
       "      <th>score_time</th>\n",
       "      <th>test_r2</th>\n",
       "      <th>train_r2</th>\n",
       "      <th>test_mae</th>\n",
       "      <th>train_mae</th>\n",
       "      <th>test_mape</th>\n",
       "      <th>train_mape</th>\n",
       "      <th>test_smape</th>\n",
       "      <th>train_smape</th>\n",
       "      <th>test_rmse</th>\n",
       "      <th>train_rmse</th>\n",
       "    </tr>\n",
       "  </thead>\n",
       "  <tbody>\n",
       "    <tr>\n",
       "      <th>0</th>\n",
       "      <td>44.428783</td>\n",
       "      <td>0.644003</td>\n",
       "      <td>0.597634</td>\n",
       "      <td>0.982812</td>\n",
       "      <td>38.39</td>\n",
       "      <td>17.11</td>\n",
       "      <td>0.29</td>\n",
       "      <td>0.46</td>\n",
       "      <td>0.41</td>\n",
       "      <td>0.31</td>\n",
       "      <td>92.87</td>\n",
       "      <td>34.04</td>\n",
       "    </tr>\n",
       "    <tr>\n",
       "      <th>1</th>\n",
       "      <td>44.980772</td>\n",
       "      <td>0.241002</td>\n",
       "      <td>0.532439</td>\n",
       "      <td>0.984909</td>\n",
       "      <td>46.07</td>\n",
       "      <td>16.06</td>\n",
       "      <td>0.83</td>\n",
       "      <td>0.41</td>\n",
       "      <td>0.67</td>\n",
       "      <td>0.29</td>\n",
       "      <td>70.88</td>\n",
       "      <td>32.18</td>\n",
       "    </tr>\n",
       "    <tr>\n",
       "      <th>2</th>\n",
       "      <td>44.189780</td>\n",
       "      <td>0.858997</td>\n",
       "      <td>0.601806</td>\n",
       "      <td>0.975918</td>\n",
       "      <td>115.92</td>\n",
       "      <td>14.96</td>\n",
       "      <td>0.52</td>\n",
       "      <td>0.46</td>\n",
       "      <td>0.45</td>\n",
       "      <td>0.30</td>\n",
       "      <td>351.37</td>\n",
       "      <td>28.31</td>\n",
       "    </tr>\n",
       "    <tr>\n",
       "      <th>...</th>\n",
       "      <td>...</td>\n",
       "      <td>...</td>\n",
       "      <td>...</td>\n",
       "      <td>...</td>\n",
       "      <td>...</td>\n",
       "      <td>...</td>\n",
       "      <td>...</td>\n",
       "      <td>...</td>\n",
       "      <td>...</td>\n",
       "      <td>...</td>\n",
       "      <td>...</td>\n",
       "      <td>...</td>\n",
       "    </tr>\n",
       "    <tr>\n",
       "      <th>8</th>\n",
       "      <td>12.806040</td>\n",
       "      <td>0.102992</td>\n",
       "      <td>0.760797</td>\n",
       "      <td>0.985183</td>\n",
       "      <td>53.26</td>\n",
       "      <td>15.40</td>\n",
       "      <td>1.50</td>\n",
       "      <td>0.38</td>\n",
       "      <td>0.56</td>\n",
       "      <td>0.28</td>\n",
       "      <td>99.48</td>\n",
       "      <td>31.08</td>\n",
       "    </tr>\n",
       "    <tr>\n",
       "      <th>9</th>\n",
       "      <td>12.702038</td>\n",
       "      <td>0.116992</td>\n",
       "      <td>0.684808</td>\n",
       "      <td>0.974224</td>\n",
       "      <td>24.84</td>\n",
       "      <td>19.11</td>\n",
       "      <td>0.87</td>\n",
       "      <td>0.44</td>\n",
       "      <td>0.50</td>\n",
       "      <td>0.30</td>\n",
       "      <td>46.17</td>\n",
       "      <td>42.07</td>\n",
       "    </tr>\n",
       "    <tr>\n",
       "      <th>mean</th>\n",
       "      <td>38.091826</td>\n",
       "      <td>0.602201</td>\n",
       "      <td>0.646010</td>\n",
       "      <td>0.980048</td>\n",
       "      <td>47.15</td>\n",
       "      <td>17.07</td>\n",
       "      <td>0.70</td>\n",
       "      <td>0.44</td>\n",
       "      <td>0.48</td>\n",
       "      <td>0.30</td>\n",
       "      <td>109.48</td>\n",
       "      <td>34.98</td>\n",
       "    </tr>\n",
       "  </tbody>\n",
       "</table>\n",
       "<p>11 rows × 12 columns</p>\n",
       "</div>"
      ],
      "text/plain": [
       "       fit_time  score_time   test_r2  train_r2  test_mae  train_mae   \n",
       "0     44.428783    0.644003  0.597634  0.982812     38.39      17.11  \\\n",
       "1     44.980772    0.241002  0.532439  0.984909     46.07      16.06   \n",
       "2     44.189780    0.858997  0.601806  0.975918    115.92      14.96   \n",
       "...         ...         ...       ...       ...       ...        ...   \n",
       "8     12.806040    0.102992  0.760797  0.985183     53.26      15.40   \n",
       "9     12.702038    0.116992  0.684808  0.974224     24.84      19.11   \n",
       "mean  38.091826    0.602201  0.646010  0.980048     47.15      17.07   \n",
       "\n",
       "      test_mape  train_mape  test_smape  train_smape  test_rmse  train_rmse  \n",
       "0          0.29        0.46        0.41         0.31      92.87       34.04  \n",
       "1          0.83        0.41        0.67         0.29      70.88       32.18  \n",
       "2          0.52        0.46        0.45         0.30     351.37       28.31  \n",
       "...         ...         ...         ...          ...        ...         ...  \n",
       "8          1.50        0.38        0.56         0.28      99.48       31.08  \n",
       "9          0.87        0.44        0.50         0.30      46.17       42.07  \n",
       "mean       0.70        0.44        0.48         0.30     109.48       34.98  \n",
       "\n",
       "[11 rows x 12 columns]"
      ]
     },
     "execution_count": 50,
     "metadata": {},
     "output_type": "execute_result"
    }
   ],
   "source": [
    "# Convert to df and display\n",
    "pd.set_option('display.max_rows', 6)\n",
    "scores_df = pd.DataFrame(cv_scores)\n",
    "# Add a row for the mean of the scores_df\n",
    "mean_row = pd.DataFrame(scores_df.mean(), columns=['mean']).T\n",
    "scores_df = pd.concat([scores_df, mean_row])\n",
    "# Set the index name to \"mean\"\n",
    "scores_df.index = list(range(len(scores_df)-1)) + ['mean']\n",
    "# Multiply columns by -1 based on substring for negative scoring metrics\n",
    "neg_cols = scores_df.filter(regex='_mae$|_mape$|_smape$|_rmse$').columns\n",
    "scores_df[neg_cols] = scores_df[neg_cols].mul(-1).round(2) #multiply by -1, round to 2 dec.\n",
    "scores_df\n"
   ]
  },
  {
   "attachments": {},
   "cell_type": "markdown",
   "metadata": {},
   "source": [
    "Challenge with this approach are:\n",
    "- The cross_validate results are for the transformed target and not the regression metrics on predicting actual target values"
   ]
  },
  {
   "attachments": {},
   "cell_type": "markdown",
   "metadata": {},
   "source": [
    "## 4.0 Tuning & Advanced Functiononality\n"
   ]
  },
  {
   "attachments": {},
   "cell_type": "markdown",
   "metadata": {},
   "source": [
    "This section will address some drawbacks experienced in the previous section.\n",
    "- The focus will be to generalize the procedure and develop a pipeline\n",
    "- The TransformedTargetRegressor can  be used instead of a ColumnTransformer that fits on an input target pipeline. Pipelines are meant to be used to transform features and not targets. \n",
    "- GridSearchCV will be conducted instead of a basic cross_validatate\n",
    "- A blended model with other regressors will be built"
   ]
  },
  {
   "attachments": {},
   "cell_type": "markdown",
   "metadata": {},
   "source": [
    "### 4.1 Common Setup"
   ]
  },
  {
   "attachments": {},
   "cell_type": "markdown",
   "metadata": {},
   "source": [
    "#### 4.1.1 Metrics"
   ]
  },
  {
   "cell_type": "code",
   "execution_count": 51,
   "metadata": {},
   "outputs": [],
   "source": [
    "# Initialize empty dict for outputs of cross-validation\n",
    "output = {}"
   ]
  },
  {
   "cell_type": "code",
   "execution_count": 136,
   "metadata": {},
   "outputs": [],
   "source": [
    "# Define features\n",
    "features = ['Year','Population','GDP_pCapita','SoDI','Income_Class']"
   ]
  },
  {
   "cell_type": "code",
   "execution_count": 137,
   "metadata": {},
   "outputs": [],
   "source": [
    "#Store Model Stats\n",
    "scores_cols = ['train_'+m for m in scores] + ['test_'+m for m in scores] #add train/test prefix\n",
    "metrics_cols = scores_cols + [f+'_importance' for f in features] #add feature importance metrics\n",
    "df_modelstats = pd.DataFrame(metrics_cols) #create df with each row as a metric\n",
    "df_modelstats.columns=['Metric'] #rename column"
   ]
  },
  {
   "cell_type": "code",
   "execution_count": 53,
   "metadata": {},
   "outputs": [],
   "source": [
    "# Define scoring metrics for CV\n",
    "scoring = {'r2':'r2','mae':'neg_mean_absolute_error','mape':mape_scorer,'smape':smape_scorer,'rmse':'neg_root_mean_squared_error'}"
   ]
  },
  {
   "cell_type": "code",
   "execution_count": 81,
   "metadata": {},
   "outputs": [],
   "source": [
    "# Define function to extract metrics from cross_validate or GridSearchCV output\n",
    "def cv_metrics(cv_output,neg_metrics=['mae','mape','smape','rmse']):\n",
    "    '''\n",
    "    Args:\n",
    "        cv_output: output from cross_validate function or gridsearchcv; if estimator, results for best_estimator_ are extracted\n",
    "        neg_metrics: list of metrics to extract from cv_output that are negative scoring metrics\n",
    "    Returns:\n",
    "        metrics_df: df of metrics for each fold and the mean; if GridSearchCV then only mean of best estimator is returned\n",
    "    '''\n",
    "    # If cv_output is a dict, it is the output from cross_validate\n",
    "    if type(cv_output)==dict:\n",
    "        cv_output_ = cv_output.copy()\n",
    "        # Remove 'estimator' from ouput dict\n",
    "        cv_output_.pop('estimator', None)   \n",
    "        # Create a list of dfs for each estimator, each df is a row of feature importance\n",
    "        metrics_df = pd.DataFrame(cv_output_)\n",
    "        # Add a row for the mean of the scores_df\n",
    "        mean_row = pd.DataFrame(metrics_df.mean(), columns=['mean']).T\n",
    "        metrics_df = pd.concat([metrics_df, mean_row])\n",
    "        # Set the index name to \"mean\"\n",
    "        metrics_df.index = list(range(len(metrics_df)-1)) + ['mean']\n",
    "        \n",
    "    else: # Gridsearchcv estimator output\n",
    "        # Convert full gridsearchcv results to df\n",
    "        cv_results_df = pd.DataFrame(cv_output.cv_results_)\n",
    "        # Get index of best estimator\n",
    "        best_index = cv_output.best_index_\n",
    "        # Remove all unnecessary columns to match any cross_validate output\n",
    "        metrics_df = cv_results_df.loc[[best_index]].filter(regex='^(?!.*(split|param|std|rank)).*$')\n",
    "        # Add mean as index and remove 'mean_' prefix in df\n",
    "        metrics_df.columns = metrics_df.columns.str.replace('mean_','')\n",
    "        metrics_df.index = ['mean']\n",
    "    # Multiply columns by -1 based on substring for negative scoring metrics\n",
    "    regex_pattern = '|'.join(['_{}$'.format(metric) for metric in neg_metrics]) #generate the pattern from input metrics\n",
    "    neg_cols = metrics_df.filter(regex=regex_pattern).columns \n",
    "\n",
    "    metrics_df[neg_cols] = metrics_df[neg_cols].mul(-1).round(2) #multiply by -1\n",
    "\n",
    "    return metrics_df"
   ]
  },
  {
   "cell_type": "code",
   "execution_count": 55,
   "metadata": {},
   "outputs": [],
   "source": [
    "# Define function to extract feature importance from cross_validate output\n",
    "def cv_featureimp(cv_output,features):\n",
    "    '''\n",
    "    Args:\n",
    "        cv_output: output from cross_validate function or gridsearchcv; if estimator, results for best_estimator_ are extracted\n",
    "        features: list of features used in the model\n",
    "    Returns:\n",
    "        feature_importances: df of feature importance for each estimator in the fold, and the mean\n",
    "    '''\n",
    "    # If cv_output is a dict, it is the output from cross_validate\n",
    "    if type(cv_output)==dict:\n",
    "        # Intiaize empty dfs list\n",
    "        dfs = []\n",
    "        # Get the estimator from the cross_validate output\n",
    "        estimators = cv_output['estimator'] \n",
    "        try:\n",
    "            # Create a list of dfs for each estimator, each df is a row of feature importance\n",
    "            dfs = [pd.DataFrame(\n",
    "                        estimator.regressor_.named_steps['regressor'].feature_importances_,  #locate the regressor in the pipeline, get the feature importance\n",
    "                        index=features, columns=[idx]).T for idx, estimator in enumerate(estimators)]\n",
    "        except:\n",
    "            for idx,estimator in enumerate(estimators):\n",
    "                for estimator_ in estimator.regressor_.estimators_:\n",
    "                    #feats = estimator_.named_steps['regressor'].feature_importances_\n",
    "                    feats = estimator_.named_steps['regressor'].feature_importances_\n",
    "                    df = pd.DataFrame(feats, index=features, columns=[idx]).T\n",
    "                    dfs.append(df)\n",
    "                    \n",
    "        # Concatenate all dataframes\n",
    "        feature_importances = pd.concat(dfs, axis=0)\n",
    "        # Add a row for the mean of the scores_df\n",
    "        mean_row = pd.DataFrame(feature_importances.mean(), columns=['mean']).T\n",
    "        feature_importances = pd.concat([feature_importances, mean_row])    \n",
    "        \n",
    "    # If cv_output is a GridSearchCV object, it is the output from GridSearchCV\n",
    "    # Only best estimator is extracted\n",
    "    else:\n",
    "        feature_importances = pd.DataFrame(\n",
    "                    cv_output.best_estimator_.regressor_.named_steps['regressor'].feature_importances_,  #locate the regressor in the pipeline, get the feature importance\n",
    "                    index=features, columns=['mean']).T\n",
    "                    \n",
    "    return feature_importances"
   ]
  },
  {
   "attachments": {},
   "cell_type": "markdown",
   "metadata": {},
   "source": [
    "#### 4.1.2 Feature & Target Transformation"
   ]
  },
  {
   "cell_type": "code",
   "execution_count": 56,
   "metadata": {},
   "outputs": [],
   "source": [
    "# Repeating some previously defined variables for clarity\n",
    "# Create new df of only features + Country Code\n",
    "X_df = df_in[features] \n",
    "# Define Transformers\n",
    "transformers = [('power', PowerTransformer(method='box-cox'), ['Population', 'GDP_pCapita']),\n",
    "               ('standard', StandardScaler(), ['Year']),\n",
    "               ('ordinal', OrdinalEncoder(categories=[['L', 'LM', 'UM', 'H']]), ['Income_Class'])] #include ordinal in the feature transform pipeline\n",
    "# Use ColumnTransformer to apply multiple transformers to multiple columns\n",
    "X_transformer = ColumnTransformer(transformers=transformers, remainder='passthrough') #passthrough to keep all other columns if exists\n",
    "\n",
    "# Separate out the groups for custom CV = country coode\n",
    "groups = df_in['COU']"
   ]
  },
  {
   "cell_type": "code",
   "execution_count": 57,
   "metadata": {},
   "outputs": [],
   "source": [
    "def sqrt_transformer(y):\n",
    "    return np.sqrt(y)*100\n",
    "def sqrt_inv_transformer(y):\n",
    "    return (y/100)**2"
   ]
  },
  {
   "attachments": {},
   "cell_type": "markdown",
   "metadata": {},
   "source": [
    "#### 4.2 GroupKFold vs. RepeatedKFold"
   ]
  },
  {
   "attachments": {},
   "cell_type": "markdown",
   "metadata": {},
   "source": [
    "This section will test results of using the group-preserving splitting strategy with GroupKFold vs. a standard KFold."
   ]
  },
  {
   "cell_type": "code",
   "execution_count": 164,
   "metadata": {},
   "outputs": [],
   "source": [
    "# Current Environmental Factor Death being predicted\n",
    "death='Deaths_Indoor'\n",
    "# Define model label\n",
    "deathmodel='RF_Indoor_GroupKF'"
   ]
  },
  {
   "cell_type": "code",
   "execution_count": 59,
   "metadata": {},
   "outputs": [],
   "source": [
    "# Separate target variable\n",
    "y = df_in[death].to_numpy().ravel()\n",
    "\n",
    "#Define primary regressor model\n",
    "model = RandomForestRegressor(n_estimators = 100,criterion='absolute_error',max_depth=7, \n",
    "                                  max_features=1.0,n_jobs=-1,random_state=123)\n",
    "# Set the cache for pipeline\n",
    "cachedir = mkdtemp() \n",
    "\n",
    "# Define the features + main regressor pipeline\n",
    "model_pipeline = Pipeline(steps=[('features', X_transformer),\n",
    "                                ('regressor',model)],memory=cachedir) #cache the pipeline to temporary directory to inspect\n",
    "\n",
    "# Define the transformed target regressor, pass the model pipeline and the target transformer\n",
    "target_regressor = TransformedTargetRegressor(regressor=model_pipeline, func=sqrt_transformer, inverse_func=sqrt_inv_transformer)\n",
    "\n",
    "# Define the cross-validator\n",
    "cv = GroupKFold(n_splits=10) #10-fold cross-validation preserving groups\n",
    "\n",
    "# Use cross-validate function: display training score, pass transformed target regressor pipeline\n",
    "output[deathmodel] = cross_validate(estimator=target_regressor, X=X_df, y=y,  scoring=scoring, cv=cv, groups=groups,\n",
    "                        n_jobs=-1,return_train_score=True,return_estimator=True)  #return training results, return the estimator fitted on the whole dataset\n",
    "                        "
   ]
  },
  {
   "cell_type": "code",
   "execution_count": 165,
   "metadata": {},
   "outputs": [],
   "source": [
    "# Extract feature importance of each fold\n",
    "feature_importances = cv_featureimp(output[deathmodel] ,features)\n",
    "# Extract metrics of each fold and mean; pass negative scoring metrics to multiply by -1\n",
    "metrics_df = cv_metrics(output[deathmodel] ,neg_metrics=['mae','mape','smape','rmse'])\n",
    "# Convert to df and display\n",
    "pd.set_option('display.max_rows', 6)"
   ]
  },
  {
   "cell_type": "code",
   "execution_count": 61,
   "metadata": {},
   "outputs": [
    {
     "data": {
      "text/html": [
       "<div>\n",
       "<style scoped>\n",
       "    .dataframe tbody tr th:only-of-type {\n",
       "        vertical-align: middle;\n",
       "    }\n",
       "\n",
       "    .dataframe tbody tr th {\n",
       "        vertical-align: top;\n",
       "    }\n",
       "\n",
       "    .dataframe thead th {\n",
       "        text-align: right;\n",
       "    }\n",
       "</style>\n",
       "<table border=\"1\" class=\"dataframe\">\n",
       "  <thead>\n",
       "    <tr style=\"text-align: right;\">\n",
       "      <th></th>\n",
       "      <th>fit_time</th>\n",
       "      <th>score_time</th>\n",
       "      <th>test_r2</th>\n",
       "      <th>train_r2</th>\n",
       "      <th>test_mae</th>\n",
       "      <th>train_mae</th>\n",
       "      <th>test_mape</th>\n",
       "      <th>train_mape</th>\n",
       "      <th>test_smape</th>\n",
       "      <th>train_smape</th>\n",
       "      <th>test_rmse</th>\n",
       "      <th>train_rmse</th>\n",
       "    </tr>\n",
       "  </thead>\n",
       "  <tbody>\n",
       "    <tr>\n",
       "      <th>0</th>\n",
       "      <td>45.329006</td>\n",
       "      <td>0.102999</td>\n",
       "      <td>0.255356</td>\n",
       "      <td>0.992319</td>\n",
       "      <td>2.23</td>\n",
       "      <td>1.13</td>\n",
       "      <td>0.57</td>\n",
       "      <td>3.21</td>\n",
       "      <td>0.66</td>\n",
       "      <td>0.51</td>\n",
       "      <td>7.99</td>\n",
       "      <td>4.99</td>\n",
       "    </tr>\n",
       "    <tr>\n",
       "      <th>1</th>\n",
       "      <td>44.112020</td>\n",
       "      <td>1.102000</td>\n",
       "      <td>-1.142891</td>\n",
       "      <td>0.993299</td>\n",
       "      <td>1.80</td>\n",
       "      <td>1.06</td>\n",
       "      <td>3.95</td>\n",
       "      <td>2.49</td>\n",
       "      <td>1.01</td>\n",
       "      <td>0.49</td>\n",
       "      <td>4.68</td>\n",
       "      <td>4.67</td>\n",
       "    </tr>\n",
       "    <tr>\n",
       "      <th>2</th>\n",
       "      <td>41.675019</td>\n",
       "      <td>3.246005</td>\n",
       "      <td>0.246918</td>\n",
       "      <td>0.966830</td>\n",
       "      <td>29.54</td>\n",
       "      <td>0.77</td>\n",
       "      <td>1.61</td>\n",
       "      <td>3.77</td>\n",
       "      <td>0.77</td>\n",
       "      <td>0.48</td>\n",
       "      <td>139.07</td>\n",
       "      <td>3.14</td>\n",
       "    </tr>\n",
       "    <tr>\n",
       "      <th>...</th>\n",
       "      <td>...</td>\n",
       "      <td>...</td>\n",
       "      <td>...</td>\n",
       "      <td>...</td>\n",
       "      <td>...</td>\n",
       "      <td>...</td>\n",
       "      <td>...</td>\n",
       "      <td>...</td>\n",
       "      <td>...</td>\n",
       "      <td>...</td>\n",
       "      <td>...</td>\n",
       "      <td>...</td>\n",
       "    </tr>\n",
       "    <tr>\n",
       "      <th>8</th>\n",
       "      <td>11.891028</td>\n",
       "      <td>0.057000</td>\n",
       "      <td>0.572516</td>\n",
       "      <td>0.993128</td>\n",
       "      <td>3.53</td>\n",
       "      <td>0.99</td>\n",
       "      <td>25.12</td>\n",
       "      <td>2.08</td>\n",
       "      <td>0.84</td>\n",
       "      <td>0.47</td>\n",
       "      <td>10.02</td>\n",
       "      <td>4.71</td>\n",
       "    </tr>\n",
       "    <tr>\n",
       "      <th>9</th>\n",
       "      <td>11.889028</td>\n",
       "      <td>0.052999</td>\n",
       "      <td>0.373295</td>\n",
       "      <td>0.985748</td>\n",
       "      <td>0.68</td>\n",
       "      <td>1.51</td>\n",
       "      <td>6.35</td>\n",
       "      <td>3.68</td>\n",
       "      <td>0.81</td>\n",
       "      <td>0.48</td>\n",
       "      <td>2.17</td>\n",
       "      <td>6.80</td>\n",
       "    </tr>\n",
       "    <tr>\n",
       "      <th>mean</th>\n",
       "      <td>37.339219</td>\n",
       "      <td>1.175000</td>\n",
       "      <td>-0.054507</td>\n",
       "      <td>0.988512</td>\n",
       "      <td>5.49</td>\n",
       "      <td>1.15</td>\n",
       "      <td>5.10</td>\n",
       "      <td>3.25</td>\n",
       "      <td>0.76</td>\n",
       "      <td>0.49</td>\n",
       "      <td>22.53</td>\n",
       "      <td>5.13</td>\n",
       "    </tr>\n",
       "  </tbody>\n",
       "</table>\n",
       "<p>11 rows × 12 columns</p>\n",
       "</div>"
      ],
      "text/plain": [
       "       fit_time  score_time   test_r2  train_r2  test_mae  train_mae   \n",
       "0     45.329006    0.102999  0.255356  0.992319      2.23       1.13  \\\n",
       "1     44.112020    1.102000 -1.142891  0.993299      1.80       1.06   \n",
       "2     41.675019    3.246005  0.246918  0.966830     29.54       0.77   \n",
       "...         ...         ...       ...       ...       ...        ...   \n",
       "8     11.891028    0.057000  0.572516  0.993128      3.53       0.99   \n",
       "9     11.889028    0.052999  0.373295  0.985748      0.68       1.51   \n",
       "mean  37.339219    1.175000 -0.054507  0.988512      5.49       1.15   \n",
       "\n",
       "      test_mape  train_mape  test_smape  train_smape  test_rmse  train_rmse  \n",
       "0          0.57        3.21        0.66         0.51       7.99        4.99  \n",
       "1          3.95        2.49        1.01         0.49       4.68        4.67  \n",
       "2          1.61        3.77        0.77         0.48     139.07        3.14  \n",
       "...         ...         ...         ...          ...        ...         ...  \n",
       "8         25.12        2.08        0.84         0.47      10.02        4.71  \n",
       "9          6.35        3.68        0.81         0.48       2.17        6.80  \n",
       "mean       5.10        3.25        0.76         0.49      22.53        5.13  \n",
       "\n",
       "[11 rows x 12 columns]"
      ]
     },
     "execution_count": 61,
     "metadata": {},
     "output_type": "execute_result"
    }
   ],
   "source": [
    "metrics_df"
   ]
  },
  {
   "cell_type": "code",
   "execution_count": 166,
   "metadata": {},
   "outputs": [],
   "source": [
    "# Store in model comparison df\n",
    "df_modelstats[deathmodel] = metrics_df.loc['mean',scores_cols].tolist() + feature_importances.loc['mean',:].tolist()"
   ]
  },
  {
   "attachments": {},
   "cell_type": "markdown",
   "metadata": {},
   "source": [
    "Using the GroupKFold results in very inconsistent results on the test set for certain folds, wherein the average test MAE increases by over 4.75x(train MAE) and some folds result in a negative r2 score. It means that the the group KFold Stategy is not reliable when implemented through cross-validation, as compared to the simple hold-out validation."
   ]
  },
  {
   "cell_type": "code",
   "execution_count": 167,
   "metadata": {},
   "outputs": [],
   "source": [
    "deathmodel='RF_Indoor_KF'"
   ]
  },
  {
   "cell_type": "code",
   "execution_count": 67,
   "metadata": {},
   "outputs": [],
   "source": [
    "# Conduct KFold CV\n",
    "cv = RepeatedKFold(n_splits=10,n_repeats=2) #10-fold, with repeats\n",
    "\n",
    "# Run CV\n",
    "output[deathmodel] = cross_validate(estimator=target_regressor, X=X_df, y=y,  scoring=scoring, cv=cv,\n",
    "                        n_jobs=-1,return_train_score=True,return_estimator=True)  #return training results, return the estimator fitted on the whole dataset"
   ]
  },
  {
   "cell_type": "code",
   "execution_count": 168,
   "metadata": {},
   "outputs": [],
   "source": [
    "# Extract feature importance of each fold\n",
    "feature_importances = cv_featureimp(output[deathmodel],features)\n",
    "# Extract metrics of each fold and mean; pass negative scoring metrics to multiply by -1\n",
    "metrics_df = cv_metrics(output[deathmodel],neg_metrics=['mae','mape','smape','rmse'])"
   ]
  },
  {
   "cell_type": "code",
   "execution_count": 69,
   "metadata": {},
   "outputs": [
    {
     "data": {
      "text/html": [
       "<div>\n",
       "<style scoped>\n",
       "    .dataframe tbody tr th:only-of-type {\n",
       "        vertical-align: middle;\n",
       "    }\n",
       "\n",
       "    .dataframe tbody tr th {\n",
       "        vertical-align: top;\n",
       "    }\n",
       "\n",
       "    .dataframe thead th {\n",
       "        text-align: right;\n",
       "    }\n",
       "</style>\n",
       "<table border=\"1\" class=\"dataframe\">\n",
       "  <thead>\n",
       "    <tr style=\"text-align: right;\">\n",
       "      <th></th>\n",
       "      <th>fit_time</th>\n",
       "      <th>score_time</th>\n",
       "      <th>test_r2</th>\n",
       "      <th>train_r2</th>\n",
       "      <th>test_mae</th>\n",
       "      <th>train_mae</th>\n",
       "      <th>test_mape</th>\n",
       "      <th>train_mape</th>\n",
       "      <th>test_smape</th>\n",
       "      <th>train_smape</th>\n",
       "      <th>test_rmse</th>\n",
       "      <th>train_rmse</th>\n",
       "    </tr>\n",
       "  </thead>\n",
       "  <tbody>\n",
       "    <tr>\n",
       "      <th>0</th>\n",
       "      <td>43.030240</td>\n",
       "      <td>1.964004</td>\n",
       "      <td>0.990710</td>\n",
       "      <td>0.988968</td>\n",
       "      <td>1.46</td>\n",
       "      <td>1.24</td>\n",
       "      <td>3.13</td>\n",
       "      <td>3.31</td>\n",
       "      <td>0.55</td>\n",
       "      <td>0.51</td>\n",
       "      <td>7.21</td>\n",
       "      <td>5.39</td>\n",
       "    </tr>\n",
       "    <tr>\n",
       "      <th>1</th>\n",
       "      <td>43.567243</td>\n",
       "      <td>1.463999</td>\n",
       "      <td>0.931038</td>\n",
       "      <td>0.988967</td>\n",
       "      <td>2.10</td>\n",
       "      <td>1.23</td>\n",
       "      <td>1.49</td>\n",
       "      <td>3.58</td>\n",
       "      <td>0.55</td>\n",
       "      <td>0.51</td>\n",
       "      <td>13.76</td>\n",
       "      <td>5.70</td>\n",
       "    </tr>\n",
       "    <tr>\n",
       "      <th>2</th>\n",
       "      <td>42.320236</td>\n",
       "      <td>2.551004</td>\n",
       "      <td>0.978616</td>\n",
       "      <td>0.983651</td>\n",
       "      <td>1.94</td>\n",
       "      <td>1.38</td>\n",
       "      <td>7.71</td>\n",
       "      <td>3.23</td>\n",
       "      <td>0.52</td>\n",
       "      <td>0.50</td>\n",
       "      <td>10.14</td>\n",
       "      <td>6.67</td>\n",
       "    </tr>\n",
       "    <tr>\n",
       "      <th>...</th>\n",
       "      <td>...</td>\n",
       "      <td>...</td>\n",
       "      <td>...</td>\n",
       "      <td>...</td>\n",
       "      <td>...</td>\n",
       "      <td>...</td>\n",
       "      <td>...</td>\n",
       "      <td>...</td>\n",
       "      <td>...</td>\n",
       "      <td>...</td>\n",
       "      <td>...</td>\n",
       "      <td>...</td>\n",
       "    </tr>\n",
       "    <tr>\n",
       "      <th>18</th>\n",
       "      <td>23.004049</td>\n",
       "      <td>0.711005</td>\n",
       "      <td>0.983902</td>\n",
       "      <td>0.983288</td>\n",
       "      <td>2.11</td>\n",
       "      <td>1.35</td>\n",
       "      <td>4.08</td>\n",
       "      <td>3.47</td>\n",
       "      <td>0.54</td>\n",
       "      <td>0.50</td>\n",
       "      <td>9.52</td>\n",
       "      <td>6.63</td>\n",
       "    </tr>\n",
       "    <tr>\n",
       "      <th>19</th>\n",
       "      <td>24.011572</td>\n",
       "      <td>0.098000</td>\n",
       "      <td>0.962822</td>\n",
       "      <td>0.987538</td>\n",
       "      <td>1.34</td>\n",
       "      <td>1.33</td>\n",
       "      <td>2.39</td>\n",
       "      <td>3.42</td>\n",
       "      <td>0.54</td>\n",
       "      <td>0.50</td>\n",
       "      <td>5.37</td>\n",
       "      <td>6.28</td>\n",
       "    </tr>\n",
       "    <tr>\n",
       "      <th>mean</th>\n",
       "      <td>40.190321</td>\n",
       "      <td>1.162154</td>\n",
       "      <td>0.964896</td>\n",
       "      <td>0.988903</td>\n",
       "      <td>1.57</td>\n",
       "      <td>1.26</td>\n",
       "      <td>3.89</td>\n",
       "      <td>3.44</td>\n",
       "      <td>0.55</td>\n",
       "      <td>0.50</td>\n",
       "      <td>7.56</td>\n",
       "      <td>5.67</td>\n",
       "    </tr>\n",
       "  </tbody>\n",
       "</table>\n",
       "<p>21 rows × 12 columns</p>\n",
       "</div>"
      ],
      "text/plain": [
       "       fit_time  score_time   test_r2  train_r2  test_mae  train_mae   \n",
       "0     43.030240    1.964004  0.990710  0.988968      1.46       1.24  \\\n",
       "1     43.567243    1.463999  0.931038  0.988967      2.10       1.23   \n",
       "2     42.320236    2.551004  0.978616  0.983651      1.94       1.38   \n",
       "...         ...         ...       ...       ...       ...        ...   \n",
       "18    23.004049    0.711005  0.983902  0.983288      2.11       1.35   \n",
       "19    24.011572    0.098000  0.962822  0.987538      1.34       1.33   \n",
       "mean  40.190321    1.162154  0.964896  0.988903      1.57       1.26   \n",
       "\n",
       "      test_mape  train_mape  test_smape  train_smape  test_rmse  train_rmse  \n",
       "0          3.13        3.31        0.55         0.51       7.21        5.39  \n",
       "1          1.49        3.58        0.55         0.51      13.76        5.70  \n",
       "2          7.71        3.23        0.52         0.50      10.14        6.67  \n",
       "...         ...         ...         ...          ...        ...         ...  \n",
       "18         4.08        3.47        0.54         0.50       9.52        6.63  \n",
       "19         2.39        3.42        0.54         0.50       5.37        6.28  \n",
       "mean       3.89        3.44        0.55         0.50       7.56        5.67  \n",
       "\n",
       "[21 rows x 12 columns]"
      ]
     },
     "execution_count": 69,
     "metadata": {},
     "output_type": "execute_result"
    }
   ],
   "source": [
    "metrics_df"
   ]
  },
  {
   "cell_type": "code",
   "execution_count": 169,
   "metadata": {},
   "outputs": [],
   "source": [
    "# Store in model comparison df\n",
    "df_modelstats[deathmodel] = metrics_df.loc['mean',scores_cols].tolist() + feature_importances.loc['mean',:].tolist()"
   ]
  },
  {
   "attachments": {},
   "cell_type": "markdown",
   "metadata": {},
   "source": [
    "Using a standard KFold performs better. In this manner the feature importance of macroeconomic indicators are effectively nation-independent. Feature importance is relatively stable through all the simple modeling exercises above."
   ]
  },
  {
   "attachments": {},
   "cell_type": "markdown",
   "metadata": {},
   "source": [
    "### 4.3 GridSearch CV - Random Forest"
   ]
  },
  {
   "cell_type": "code",
   "execution_count": 170,
   "metadata": {},
   "outputs": [],
   "source": [
    "deathmodel='RF_Indoor_tuned'"
   ]
  },
  {
   "attachments": {},
   "cell_type": "markdown",
   "metadata": {},
   "source": [
    "The same workflow can be used with a GridSearchCV to examine different tune modeling hyperparameters."
   ]
  },
  {
   "cell_type": "code",
   "execution_count": 101,
   "metadata": {},
   "outputs": [],
   "source": [
    "# Define Paramter Grid\n",
    "# Regressor kwargs need to be accessed through the two layer regressor pipeline regressor__regressor__kwarg\n",
    "# Similarly for the kwags of the feature transformers\n",
    "param_grid = {'regressor__regressor__max_depth': [5,7,9],\n",
    "                #'regressor__regressor__max_features': [0.5,0.75,1.0],  - #typical parameters to tune, not done here for succinctness based on PyCaret results\n",
    "                #'regressor__regressor__n_estimators': [50,100,150],\n",
    "                #'regressor__regressor__min_samples_split': [2,5,10],\n",
    "                'regressor__regressor__min_samples_leaf': [1,2,5],\n",
    "                'regressor__regressor__max_samples': [0.5,0.75,1.0],\n",
    "                'regressor__features__power__method': ['box-cox', 'yeo-johnson']} #feature transformation"
   ]
  },
  {
   "cell_type": "code",
   "execution_count": 102,
   "metadata": {},
   "outputs": [],
   "source": [
    "# Conduct KFold CV - no repeats to avoid computational expense\n",
    "cv = RepeatedKFold(n_splits=10,n_repeats=2) #10-fold, with repeats"
   ]
  },
  {
   "cell_type": "code",
   "execution_count": 103,
   "metadata": {},
   "outputs": [
    {
     "name": "stdout",
     "output_type": "stream",
     "text": [
      "Fitting 20 folds for each of 54 candidates, totalling 1080 fits\n"
     ]
    }
   ],
   "source": [
    "# Run GridSearchCV - returns the best estimator\n",
    "output[deathmodel] = GridSearchCV(estimator=target_regressor, scoring=scoring, cv=cv, param_grid=param_grid,\n",
    "                        n_jobs=-1,return_train_score=True,refit='mae',verbose=1).fit(X=X_df, y=y)\n",
    "                          #return training results, return refitted best estimator"
   ]
  },
  {
   "cell_type": "code",
   "execution_count": 171,
   "metadata": {},
   "outputs": [],
   "source": [
    "# Extract feature importance for the best estimator\n",
    "feature_importances = cv_featureimp(output[deathmodel],features)\n",
    "# Extract metrics of mean of cv for best estimator\n",
    "metrics_df = cv_metrics(output[deathmodel],neg_metrics=['mae','mape','smape','rmse'])"
   ]
  },
  {
   "cell_type": "code",
   "execution_count": 105,
   "metadata": {},
   "outputs": [
    {
     "data": {
      "text/html": [
       "<div>\n",
       "<style scoped>\n",
       "    .dataframe tbody tr th:only-of-type {\n",
       "        vertical-align: middle;\n",
       "    }\n",
       "\n",
       "    .dataframe tbody tr th {\n",
       "        vertical-align: top;\n",
       "    }\n",
       "\n",
       "    .dataframe thead th {\n",
       "        text-align: right;\n",
       "    }\n",
       "</style>\n",
       "<table border=\"1\" class=\"dataframe\">\n",
       "  <thead>\n",
       "    <tr style=\"text-align: right;\">\n",
       "      <th></th>\n",
       "      <th>fit_time</th>\n",
       "      <th>score_time</th>\n",
       "      <th>test_r2</th>\n",
       "      <th>train_r2</th>\n",
       "      <th>test_mae</th>\n",
       "      <th>train_mae</th>\n",
       "      <th>test_mape</th>\n",
       "      <th>train_mape</th>\n",
       "      <th>test_smape</th>\n",
       "      <th>train_smape</th>\n",
       "      <th>test_rmse</th>\n",
       "      <th>train_rmse</th>\n",
       "    </tr>\n",
       "  </thead>\n",
       "  <tbody>\n",
       "    <tr>\n",
       "      <th>mean</th>\n",
       "      <td>39.992802</td>\n",
       "      <td>4.756199</td>\n",
       "      <td>0.979354</td>\n",
       "      <td>0.996781</td>\n",
       "      <td>1.06</td>\n",
       "      <td>0.66</td>\n",
       "      <td>3.03</td>\n",
       "      <td>2.34</td>\n",
       "      <td>0.44</td>\n",
       "      <td>0.37</td>\n",
       "      <td>5.48</td>\n",
       "      <td>3.04</td>\n",
       "    </tr>\n",
       "  </tbody>\n",
       "</table>\n",
       "</div>"
      ],
      "text/plain": [
       "       fit_time  score_time   test_r2  train_r2  test_mae  train_mae   \n",
       "mean  39.992802    4.756199  0.979354  0.996781      1.06       0.66  \\\n",
       "\n",
       "      test_mape  train_mape  test_smape  train_smape  test_rmse  train_rmse  \n",
       "mean       3.03        2.34        0.44         0.37       5.48        3.04  "
      ]
     },
     "execution_count": 105,
     "metadata": {},
     "output_type": "execute_result"
    }
   ],
   "source": [
    "metrics_df"
   ]
  },
  {
   "cell_type": "code",
   "execution_count": 172,
   "metadata": {},
   "outputs": [],
   "source": [
    "# Store in model comparison df\n",
    "df_modelstats[deathmodel] = metrics_df.loc['mean',scores_cols].tolist() + feature_importances.loc['mean',:].tolist()"
   ]
  },
  {
   "attachments": {},
   "cell_type": "markdown",
   "metadata": {},
   "source": [
    "### 4.4 GridSearch CV - Extra Trees"
   ]
  },
  {
   "attachments": {},
   "cell_type": "markdown",
   "metadata": {},
   "source": [
    "Extra Trees Regressor implements the entire original dataset without replacement while Random Forest which subsamples the data with replacements <br>\n",
    "Extra Trees randomly selects split location vs. Random Forest which chooses optimal split location.\n",
    "\n",
    "Advantages of Extra Tree algorithm\n",
    "- highly randomized choice of split location = lower variance = increase in speed\n",
    "- Speed(Extra Trees) > Speed(Descision Tree | Random Forest)\n",
    "- Reduced bias (reduced over- or under-fitting) <br>\n",
    "<Br> <br>\n",
    "Parameters:\n",
    "- n_estimators = number of trees to build\n",
    "- Criterion = gini (default) = function to measure quality of split\n",
    "- max_depth = 7 as we see that the number of levels in the tree did not need to be too large to \n",
    "- get decent results without overfitting\n",
    "- If max_features=1.0,  max_features=n_features on regression problems\n",
    "- min_samples_split = number of samples required to split a node\n",
    "- n_jobs=-1 to run in parallel set to number of available cores"
   ]
  },
  {
   "cell_type": "code",
   "execution_count": 107,
   "metadata": {},
   "outputs": [],
   "source": [
    "# Define model label\n",
    "deathmodel='XT_Indoor_tuned'\n",
    "# Define the regressor\n",
    "model = ExtraTreesRegressor(n_estimators = 100,\n",
    "          criterion ='absolute_error',max_depth=7, max_features = 1.0,n_jobs=-1)\n",
    "# Update pipeline\n",
    "# Define the features + main regressor pipeline\n",
    "model_pipeline = Pipeline(steps=[('features', X_transformer),\n",
    "                                ('regressor',model)],memory=cachedir) #cache the pipeline to temporary directory to inspect\n",
    "\n",
    "# Define the transformed target regressor\n",
    "target_regressor = TransformedTargetRegressor(regressor=model_pipeline, func=sqrt_transformer, inverse_func=sqrt_inv_transformer)\n"
   ]
  },
  {
   "cell_type": "markdown",
   "metadata": {},
   "source": [
    "The same workflow can be used with a GridSearchCV to examine different tune modeling hyperparameters."
   ]
  },
  {
   "cell_type": "code",
   "execution_count": 108,
   "metadata": {},
   "outputs": [],
   "source": [
    "# Define Paramter Grid\n",
    "# Regressor kwargs need to be accessed through the two layer regressor pipeline regressor__regressor__kwarg\n",
    "param_grid = {'regressor__regressor__max_depth': [5,7,9],\n",
    "               'regressor__regressor__n_estimators': [50,100,150], \n",
    "                'regressor__regressor__min_samples_split': [2,5,10]}"
   ]
  },
  {
   "cell_type": "code",
   "execution_count": 109,
   "metadata": {},
   "outputs": [],
   "source": [
    "# Run GridSearchCV\n",
    "output[deathmodel] = GridSearchCV(estimator=target_regressor, scoring=scoring, cv=cv, param_grid=param_grid,\n",
    "                        n_jobs=-1,return_train_score=True,refit='mae').fit(X=X_df, y=y)\n",
    "                          #return training results, return refitted best estimator"
   ]
  },
  {
   "cell_type": "code",
   "execution_count": 174,
   "metadata": {},
   "outputs": [],
   "source": [
    "# Extract feature importance for the best estimator\n",
    "feature_importances = cv_featureimp(output[deathmodel],features)\n",
    "# Extract metrics of mean of cv for best estimator\n",
    "metrics_df = cv_metrics(output[deathmodel],neg_metrics=['mae','mape','smape','rmse'])"
   ]
  },
  {
   "cell_type": "code",
   "execution_count": 111,
   "metadata": {},
   "outputs": [
    {
     "data": {
      "text/html": [
       "<div>\n",
       "<style scoped>\n",
       "    .dataframe tbody tr th:only-of-type {\n",
       "        vertical-align: middle;\n",
       "    }\n",
       "\n",
       "    .dataframe tbody tr th {\n",
       "        vertical-align: top;\n",
       "    }\n",
       "\n",
       "    .dataframe thead th {\n",
       "        text-align: right;\n",
       "    }\n",
       "</style>\n",
       "<table border=\"1\" class=\"dataframe\">\n",
       "  <thead>\n",
       "    <tr style=\"text-align: right;\">\n",
       "      <th></th>\n",
       "      <th>fit_time</th>\n",
       "      <th>score_time</th>\n",
       "      <th>test_r2</th>\n",
       "      <th>train_r2</th>\n",
       "      <th>test_mae</th>\n",
       "      <th>train_mae</th>\n",
       "      <th>test_mape</th>\n",
       "      <th>train_mape</th>\n",
       "      <th>test_smape</th>\n",
       "      <th>train_smape</th>\n",
       "      <th>test_rmse</th>\n",
       "      <th>train_rmse</th>\n",
       "    </tr>\n",
       "  </thead>\n",
       "  <tbody>\n",
       "    <tr>\n",
       "      <th>mean</th>\n",
       "      <td>36.531201</td>\n",
       "      <td>4.431651</td>\n",
       "      <td>0.978694</td>\n",
       "      <td>0.99371</td>\n",
       "      <td>1.46</td>\n",
       "      <td>1.15</td>\n",
       "      <td>3.45</td>\n",
       "      <td>3.06</td>\n",
       "      <td>0.54</td>\n",
       "      <td>0.51</td>\n",
       "      <td>5.91</td>\n",
       "      <td>4.27</td>\n",
       "    </tr>\n",
       "  </tbody>\n",
       "</table>\n",
       "</div>"
      ],
      "text/plain": [
       "       fit_time  score_time   test_r2  train_r2  test_mae  train_mae   \n",
       "mean  36.531201    4.431651  0.978694   0.99371      1.46       1.15  \\\n",
       "\n",
       "      test_mape  train_mape  test_smape  train_smape  test_rmse  train_rmse  \n",
       "mean       3.45        3.06        0.54         0.51       5.91        4.27  "
      ]
     },
     "execution_count": 111,
     "metadata": {},
     "output_type": "execute_result"
    }
   ],
   "source": [
    "metrics_df"
   ]
  },
  {
   "cell_type": "code",
   "execution_count": 175,
   "metadata": {},
   "outputs": [],
   "source": [
    "# Store in model comparison df\n",
    "df_modelstats[deathmodel] = metrics_df.loc['mean',scores_cols].tolist() + feature_importances.loc['mean',:].tolist()"
   ]
  },
  {
   "attachments": {},
   "cell_type": "markdown",
   "metadata": {},
   "source": [
    "### 4.5 GridSearch CV - XGBoost"
   ]
  },
  {
   "attachments": {},
   "cell_type": "markdown",
   "metadata": {},
   "source": [
    "- XGBoost is somewhat imilar to the Extra Tree Regressor and Random Forest Regressor, but XGBoost is built on decision trees.\n",
    "- XGBoost can use Random FOrest-like regressor as a base regressor, throught the XGBoost package, but it is different than Random Forest itself. \n",
    "- RandomForestRegressor in sklearn utilizes bagging (=bootstrap-aggregating), in essentially using multiple decision trees and combining predictions. \n",
    "- The XGRFRegressor is conducted through XGBoost gradient boosting. In this manner, trees are built sequentially and attempts are made to correct errors of the previous tree. <br>\n",
    "<br>\n",
    "Parameters:\n",
    "- objective ='reg:squarederror' for regression problems\n",
    "- booster by default is gbtree = tree-based model\n",
    "- eta=learning_rate = 0.15, step-size shrinkage on the conservative side to prevent over-fitting\n",
    "- max_depth = 7 to limit overfitting\n",
    "- n_jobs=-1 to run in parallel set to number of available cores\n",
    "- colsample_bytree = impacts number of features sampled for tree splitting"
   ]
  },
  {
   "cell_type": "code",
   "execution_count": 113,
   "metadata": {},
   "outputs": [],
   "source": [
    "# Define model label\n",
    "deathmodel='XGB_Indoor_tuned'\n",
    "# Define the regressor\n",
    "model = XGBRegressor(n_estimators = 100, objective ='reg:tweedie',\n",
    "                    max_depth=7, learning_rate=0.15,\n",
    "                    n_jobs=-1) \n",
    "# Update pipeline\n",
    "# Define the features + main regressor pipeline\n",
    "model_pipeline = Pipeline(steps=[('features', X_transformer),\n",
    "                                ('regressor',model)],memory=cachedir) #cache the pipeline to temporary directory to inspect\n",
    "\n",
    "# Define the transformed target regressor\n",
    "target_regressor = TransformedTargetRegressor(regressor=model_pipeline, func=sqrt_transformer, inverse_func=sqrt_inv_transformer)\n"
   ]
  },
  {
   "cell_type": "markdown",
   "metadata": {},
   "source": [
    "The same workflow can be used with a GridSearchCV to examine different tune modeling hyperparameters."
   ]
  },
  {
   "cell_type": "code",
   "execution_count": 114,
   "metadata": {},
   "outputs": [],
   "source": [
    "# Define the parameter grid for GridSearchCV\n",
    "param_grid = {'regressor__regressor__learning_rate': [0.01,0.1,0.15],\n",
    "             'regressor__regressor__max_depth': [5,7,9],\n",
    "             'regressor__regressor__subsample': [0.5, 1],\n",
    "             'regressor__regressor__colsample_bytree': [0.5, 1],\n",
    "             'regressor__regressor__colsample_bylevel': [0.5, 1],\n",
    "             'regressor__regressor__objective': ['reg:tweedie','reg:squarederror'],\n",
    "        }"
   ]
  },
  {
   "cell_type": "code",
   "execution_count": 116,
   "metadata": {},
   "outputs": [],
   "source": [
    "# Run GridSearchCV\n",
    "output[deathmodel] = GridSearchCV(estimator=target_regressor, scoring=scoring, cv=cv, param_grid=param_grid,\n",
    "                        return_train_score=True,refit='mae',n_jobs=-1).fit(X=X_df, y=y)\n",
    "                          #return training results, return refitted best estimator"
   ]
  },
  {
   "cell_type": "code",
   "execution_count": 177,
   "metadata": {},
   "outputs": [],
   "source": [
    "# Extract feature importance for the best estimator\n",
    "feature_importances = cv_featureimp(output[deathmodel],features)\n",
    "# Extract metrics of mean of cv for best estimator\n",
    "metrics_df = cv_metrics(output[deathmodel],neg_metrics=['mae','mape','smape','rmse'])"
   ]
  },
  {
   "cell_type": "code",
   "execution_count": 119,
   "metadata": {},
   "outputs": [
    {
     "data": {
      "text/html": [
       "<div>\n",
       "<style scoped>\n",
       "    .dataframe tbody tr th:only-of-type {\n",
       "        vertical-align: middle;\n",
       "    }\n",
       "\n",
       "    .dataframe tbody tr th {\n",
       "        vertical-align: top;\n",
       "    }\n",
       "\n",
       "    .dataframe thead th {\n",
       "        text-align: right;\n",
       "    }\n",
       "</style>\n",
       "<table border=\"1\" class=\"dataframe\">\n",
       "  <thead>\n",
       "    <tr style=\"text-align: right;\">\n",
       "      <th></th>\n",
       "      <th>fit_time</th>\n",
       "      <th>score_time</th>\n",
       "      <th>test_r2</th>\n",
       "      <th>train_r2</th>\n",
       "      <th>test_mae</th>\n",
       "      <th>train_mae</th>\n",
       "      <th>test_mape</th>\n",
       "      <th>train_mape</th>\n",
       "      <th>test_smape</th>\n",
       "      <th>train_smape</th>\n",
       "      <th>test_rmse</th>\n",
       "      <th>train_rmse</th>\n",
       "    </tr>\n",
       "  </thead>\n",
       "  <tbody>\n",
       "    <tr>\n",
       "      <th>mean</th>\n",
       "      <td>1.4178</td>\n",
       "      <td>0.019151</td>\n",
       "      <td>0.980731</td>\n",
       "      <td>0.999967</td>\n",
       "      <td>0.76</td>\n",
       "      <td>0.08</td>\n",
       "      <td>0.71</td>\n",
       "      <td>0.08</td>\n",
       "      <td>0.33</td>\n",
       "      <td>0.14</td>\n",
       "      <td>5.37</td>\n",
       "      <td>0.31</td>\n",
       "    </tr>\n",
       "  </tbody>\n",
       "</table>\n",
       "</div>"
      ],
      "text/plain": [
       "      fit_time  score_time   test_r2  train_r2  test_mae  train_mae   \n",
       "mean    1.4178    0.019151  0.980731  0.999967      0.76       0.08  \\\n",
       "\n",
       "      test_mape  train_mape  test_smape  train_smape  test_rmse  train_rmse  \n",
       "mean       0.71        0.08        0.33         0.14       5.37        0.31  "
      ]
     },
     "execution_count": 119,
     "metadata": {},
     "output_type": "execute_result"
    }
   ],
   "source": [
    "metrics_df"
   ]
  },
  {
   "cell_type": "code",
   "execution_count": 178,
   "metadata": {},
   "outputs": [],
   "source": [
    "# Store in model comparison df\n",
    "df_modelstats[deathmodel] = metrics_df.loc['mean',scores_cols].tolist() + feature_importances.loc['mean',:].tolist()"
   ]
  },
  {
   "attachments": {},
   "cell_type": "markdown",
   "metadata": {},
   "source": [
    "### 4.6 Ensembling (Blending) 3 Regression Models"
   ]
  },
  {
   "cell_type": "code",
   "execution_count": 179,
   "metadata": {},
   "outputs": [],
   "source": [
    "deathmodel = 'voting'"
   ]
  },
  {
   "cell_type": "code",
   "execution_count": 122,
   "metadata": {},
   "outputs": [
    {
     "data": {
      "text/plain": [
       "{'regressor__features__power__method': 'box-cox',\n",
       " 'regressor__regressor__max_depth': 9,\n",
       " 'regressor__regressor__max_samples': 1.0,\n",
       " 'regressor__regressor__min_samples_leaf': 1}"
      ]
     },
     "execution_count": 122,
     "metadata": {},
     "output_type": "execute_result"
    }
   ],
   "source": [
    "# Examine best parameters for each model\n",
    "output['RF_Indoor_tuned'].best_params_"
   ]
  },
  {
   "cell_type": "code",
   "execution_count": 123,
   "metadata": {},
   "outputs": [
    {
     "data": {
      "text/plain": [
       "{'regressor__regressor__max_depth': 9,\n",
       " 'regressor__regressor__min_samples_split': 2,\n",
       " 'regressor__regressor__n_estimators': 150}"
      ]
     },
     "execution_count": 123,
     "metadata": {},
     "output_type": "execute_result"
    }
   ],
   "source": [
    "output['XT_Indoor_tuned'].best_params_"
   ]
  },
  {
   "cell_type": "code",
   "execution_count": 124,
   "metadata": {},
   "outputs": [
    {
     "data": {
      "text/plain": [
       "{'regressor__regressor__colsample_bylevel': 1,\n",
       " 'regressor__regressor__colsample_bytree': 1,\n",
       " 'regressor__regressor__learning_rate': 0.15,\n",
       " 'regressor__regressor__max_depth': 9,\n",
       " 'regressor__regressor__objective': 'reg:tweedie',\n",
       " 'regressor__regressor__subsample': 1}"
      ]
     },
     "execution_count": 124,
     "metadata": {},
     "output_type": "execute_result"
    }
   ],
   "source": [
    "output['XGB_Indoor_tuned'].best_params_"
   ]
  },
  {
   "cell_type": "code",
   "execution_count": 125,
   "metadata": {},
   "outputs": [],
   "source": [
    "# Define parameter dict for each model - slight modifications to the best parameters\n",
    "rf_params = {'n_estimators': 150, 'max_depth':9,'min_samples_leaf':1,'min_samples_split':2,'max_features':1.0,'criterion':'absolute_error','bootstrap':True}\n",
    "xt_params = {'n_estimators': 150, 'max_depth':9,'min_samples_leaf':1,'min_samples_split':2,'max_features':1.0,'criterion':'absolute_error'}\n",
    "xgb_params = {'colsample_bylevel': 1, 'colsample_bytree': 1, 'learning_rate': 0.1, 'max_depth': 7, 'objective': 'reg:tweedie','subsample': 1}"
   ]
  },
  {
   "cell_type": "code",
   "execution_count": 127,
   "metadata": {},
   "outputs": [],
   "source": [
    "# Define feature transformer & regressor pipelines - pass args\n",
    "rf_pipeline = Pipeline(steps=[('features', X_transformer),('regressor',RandomForestRegressor(**rf_params))])\n",
    "xt_pipeline = Pipeline(steps=[('features', X_transformer),('regressor',ExtraTreesRegressor(**xt_params))])\n",
    "xgb_pipeline = Pipeline(steps=[('features', X_transformer),('regressor',XGBRegressor(**xgb_params))])\n",
    "\n",
    "# Define voting regressor\n",
    "voting_regressor = VotingRegressor(estimators=[('RF_Indoor_tuned', rf_pipeline), ('XT_Indoor_tuned', xt_pipeline),('XGB_Indoor_tuned', xgb_pipeline)])\n",
    "\n",
    "# Define the TransformedTargetRegressor - pass voting regressor\n",
    "voting_target_reg = TransformedTargetRegressor(regressor=voting_regressor,\n",
    "                                                     func=sqrt_transformer,\n",
    "                                                     inverse_func=sqrt_inv_transformer)\n",
    "# Define a cross validator\n",
    "cv = RepeatedKFold(n_splits=10,n_repeats=2) #10-fold CV - repeats = 2\n",
    "# Run Cross Validation\n",
    "output[deathmodel] = cross_validate(voting_target_reg, X=X_df, y=y, cv=cv, scoring=scoring, return_train_score=True,return_estimator=True)"
   ]
  },
  {
   "cell_type": "code",
   "execution_count": 180,
   "metadata": {},
   "outputs": [],
   "source": [
    "# Get feature importance and metrics\n",
    "feature_importances = cv_featureimp(output[deathmodel],features)\n",
    "metrics_df = cv_metrics(output[deathmodel],neg_metrics=['mae','mape','smape','rmse'])\n"
   ]
  },
  {
   "cell_type": "code",
   "execution_count": 181,
   "metadata": {},
   "outputs": [],
   "source": [
    "# Store in model comparison df\n",
    "df_modelstats[deathmodel] = metrics_df.loc['mean',scores_cols].tolist() + feature_importances.loc['mean',:].tolist()"
   ]
  },
  {
   "attachments": {},
   "cell_type": "markdown",
   "metadata": {},
   "source": [
    "### 4.7 Model Evaluation"
   ]
  },
  {
   "cell_type": "code",
   "execution_count": 182,
   "metadata": {},
   "outputs": [
    {
     "data": {
      "text/html": [
       "<div>\n",
       "<style scoped>\n",
       "    .dataframe tbody tr th:only-of-type {\n",
       "        vertical-align: middle;\n",
       "    }\n",
       "\n",
       "    .dataframe tbody tr th {\n",
       "        vertical-align: top;\n",
       "    }\n",
       "\n",
       "    .dataframe thead th {\n",
       "        text-align: right;\n",
       "    }\n",
       "</style>\n",
       "<table border=\"1\" class=\"dataframe\">\n",
       "  <thead>\n",
       "    <tr style=\"text-align: right;\">\n",
       "      <th></th>\n",
       "      <th>Metric</th>\n",
       "      <th>RF_Indoor_GroupKF</th>\n",
       "      <th>RF_Indoor_KF</th>\n",
       "      <th>RF_Indoor_tuned</th>\n",
       "      <th>XT_Indoor_tuned</th>\n",
       "      <th>XGB_Indoor_tuned</th>\n",
       "      <th>voting</th>\n",
       "    </tr>\n",
       "  </thead>\n",
       "  <tbody>\n",
       "    <tr>\n",
       "      <th>0</th>\n",
       "      <td>train_r2</td>\n",
       "      <td>0.988512</td>\n",
       "      <td>0.988903</td>\n",
       "      <td>0.996781</td>\n",
       "      <td>0.993710</td>\n",
       "      <td>0.999967</td>\n",
       "      <td>0.997665</td>\n",
       "    </tr>\n",
       "    <tr>\n",
       "      <th>1</th>\n",
       "      <td>train_mae</td>\n",
       "      <td>1.150000</td>\n",
       "      <td>1.260000</td>\n",
       "      <td>0.660000</td>\n",
       "      <td>1.150000</td>\n",
       "      <td>0.080000</td>\n",
       "      <td>0.680000</td>\n",
       "    </tr>\n",
       "    <tr>\n",
       "      <th>2</th>\n",
       "      <td>train_mape</td>\n",
       "      <td>3.250000</td>\n",
       "      <td>3.440000</td>\n",
       "      <td>2.340000</td>\n",
       "      <td>3.060000</td>\n",
       "      <td>0.080000</td>\n",
       "      <td>1.720000</td>\n",
       "    </tr>\n",
       "    <tr>\n",
       "      <th>3</th>\n",
       "      <td>train_smape</td>\n",
       "      <td>0.490000</td>\n",
       "      <td>0.500000</td>\n",
       "      <td>0.370000</td>\n",
       "      <td>0.510000</td>\n",
       "      <td>0.140000</td>\n",
       "      <td>0.390000</td>\n",
       "    </tr>\n",
       "    <tr>\n",
       "      <th>4</th>\n",
       "      <td>train_rmse</td>\n",
       "      <td>5.130000</td>\n",
       "      <td>5.670000</td>\n",
       "      <td>3.040000</td>\n",
       "      <td>4.270000</td>\n",
       "      <td>0.310000</td>\n",
       "      <td>2.600000</td>\n",
       "    </tr>\n",
       "    <tr>\n",
       "      <th>5</th>\n",
       "      <td>test_r2</td>\n",
       "      <td>-0.054507</td>\n",
       "      <td>0.964896</td>\n",
       "      <td>0.979354</td>\n",
       "      <td>0.978694</td>\n",
       "      <td>0.980731</td>\n",
       "      <td>0.981080</td>\n",
       "    </tr>\n",
       "    <tr>\n",
       "      <th>6</th>\n",
       "      <td>test_mae</td>\n",
       "      <td>5.490000</td>\n",
       "      <td>1.570000</td>\n",
       "      <td>1.060000</td>\n",
       "      <td>1.460000</td>\n",
       "      <td>0.760000</td>\n",
       "      <td>1.090000</td>\n",
       "    </tr>\n",
       "    <tr>\n",
       "      <th>7</th>\n",
       "      <td>test_mape</td>\n",
       "      <td>5.100000</td>\n",
       "      <td>3.890000</td>\n",
       "      <td>3.030000</td>\n",
       "      <td>3.450000</td>\n",
       "      <td>0.710000</td>\n",
       "      <td>2.480000</td>\n",
       "    </tr>\n",
       "    <tr>\n",
       "      <th>8</th>\n",
       "      <td>test_smape</td>\n",
       "      <td>0.760000</td>\n",
       "      <td>0.550000</td>\n",
       "      <td>0.440000</td>\n",
       "      <td>0.540000</td>\n",
       "      <td>0.330000</td>\n",
       "      <td>0.460000</td>\n",
       "    </tr>\n",
       "    <tr>\n",
       "      <th>9</th>\n",
       "      <td>test_rmse</td>\n",
       "      <td>22.530000</td>\n",
       "      <td>7.560000</td>\n",
       "      <td>5.480000</td>\n",
       "      <td>5.910000</td>\n",
       "      <td>5.370000</td>\n",
       "      <td>5.160000</td>\n",
       "    </tr>\n",
       "    <tr>\n",
       "      <th>10</th>\n",
       "      <td>Year_importance</td>\n",
       "      <td>0.558882</td>\n",
       "      <td>0.560610</td>\n",
       "      <td>0.543621</td>\n",
       "      <td>0.604924</td>\n",
       "      <td>0.445907</td>\n",
       "      <td>0.532395</td>\n",
       "    </tr>\n",
       "    <tr>\n",
       "      <th>11</th>\n",
       "      <td>Population_importance</td>\n",
       "      <td>0.289630</td>\n",
       "      <td>0.302353</td>\n",
       "      <td>0.288214</td>\n",
       "      <td>0.104127</td>\n",
       "      <td>0.293564</td>\n",
       "      <td>0.236871</td>\n",
       "    </tr>\n",
       "    <tr>\n",
       "      <th>12</th>\n",
       "      <td>GDP_pCapita_importance</td>\n",
       "      <td>0.019025</td>\n",
       "      <td>0.018569</td>\n",
       "      <td>0.034535</td>\n",
       "      <td>0.026377</td>\n",
       "      <td>0.040589</td>\n",
       "      <td>0.034775</td>\n",
       "    </tr>\n",
       "    <tr>\n",
       "      <th>13</th>\n",
       "      <td>SoDI_importance</td>\n",
       "      <td>0.008431</td>\n",
       "      <td>0.008571</td>\n",
       "      <td>0.009289</td>\n",
       "      <td>0.146842</td>\n",
       "      <td>0.117418</td>\n",
       "      <td>0.084065</td>\n",
       "    </tr>\n",
       "    <tr>\n",
       "      <th>14</th>\n",
       "      <td>Income_Class_importance</td>\n",
       "      <td>0.124033</td>\n",
       "      <td>0.109896</td>\n",
       "      <td>0.124341</td>\n",
       "      <td>0.117731</td>\n",
       "      <td>0.102523</td>\n",
       "      <td>0.111894</td>\n",
       "    </tr>\n",
       "  </tbody>\n",
       "</table>\n",
       "</div>"
      ],
      "text/plain": [
       "                     Metric  RF_Indoor_GroupKF  RF_Indoor_KF  RF_Indoor_tuned   \n",
       "0                  train_r2           0.988512      0.988903         0.996781  \\\n",
       "1                 train_mae           1.150000      1.260000         0.660000   \n",
       "2                train_mape           3.250000      3.440000         2.340000   \n",
       "3               train_smape           0.490000      0.500000         0.370000   \n",
       "4                train_rmse           5.130000      5.670000         3.040000   \n",
       "5                   test_r2          -0.054507      0.964896         0.979354   \n",
       "6                  test_mae           5.490000      1.570000         1.060000   \n",
       "7                 test_mape           5.100000      3.890000         3.030000   \n",
       "8                test_smape           0.760000      0.550000         0.440000   \n",
       "9                 test_rmse          22.530000      7.560000         5.480000   \n",
       "10          Year_importance           0.558882      0.560610         0.543621   \n",
       "11    Population_importance           0.289630      0.302353         0.288214   \n",
       "12   GDP_pCapita_importance           0.019025      0.018569         0.034535   \n",
       "13          SoDI_importance           0.008431      0.008571         0.009289   \n",
       "14  Income_Class_importance           0.124033      0.109896         0.124341   \n",
       "\n",
       "    XT_Indoor_tuned  XGB_Indoor_tuned    voting  \n",
       "0          0.993710          0.999967  0.997665  \n",
       "1          1.150000          0.080000  0.680000  \n",
       "2          3.060000          0.080000  1.720000  \n",
       "3          0.510000          0.140000  0.390000  \n",
       "4          4.270000          0.310000  2.600000  \n",
       "5          0.978694          0.980731  0.981080  \n",
       "6          1.460000          0.760000  1.090000  \n",
       "7          3.450000          0.710000  2.480000  \n",
       "8          0.540000          0.330000  0.460000  \n",
       "9          5.910000          5.370000  5.160000  \n",
       "10         0.604924          0.445907  0.532395  \n",
       "11         0.104127          0.293564  0.236871  \n",
       "12         0.026377          0.040589  0.034775  \n",
       "13         0.146842          0.117418  0.084065  \n",
       "14         0.117731          0.102523  0.111894  "
      ]
     },
     "execution_count": 182,
     "metadata": {},
     "output_type": "execute_result"
    }
   ],
   "source": [
    "# Compare the model metrics\n",
    "pd.set_option('display.max_rows', None)\n",
    "df_modelstats"
   ]
  },
  {
   "attachments": {},
   "cell_type": "markdown",
   "metadata": {},
   "source": [
    "A preliminary GridSearchCV exercise with a simple KFold = 10 revealed worse results than the initial cross_validate exercise with initial hyperparamters. This is in line with what occured in the PyCaret exercise. Some possible reasons:\n",
    "- GridSearchCV may result in overfitted models that perform poorly on test sets.\n",
    "- GridSearchCV conducts nested cross-validation, in which one layer of cv is used to selet the best hyperparamters for the next level of CV. This is a particular issue with small datasets such as this one.\n",
    "\n",
    "However, when RepeatedKFold was used as with the simple cross_validate runs, similar model accuracies were determined."
   ]
  },
  {
   "cell_type": "code",
   "execution_count": 198,
   "metadata": {},
   "outputs": [],
   "source": [
    "# Define plotting paramters\n",
    "plot_groups = [('test_r2','train_r2'),('test_mae','train_mae'),('test_mape','train_mape'),\n",
    "                ('test_smape','train_smape'),('test_rmse','train_rmse'),\n",
    "                ('Year_importance','GDP_pCapita_importance','Population_importance','SoDI_importance','Income_class_importance')]\n",
    "plot_titles = ['R2','MAE','MAPE','SMAPE','RMSE','Feature Importance']\n",
    "plot_models = df_modelstats.columns.tolist()\n",
    "plot_models.remove('Metric')\n",
    "\n",
    "# Reset index as the metric\n",
    "plot_df = df_modelstats.copy().set_index('Metric').stack().reset_index()\n",
    "plot_df.columns = ['Metric','Model','Value']"
   ]
  },
  {
   "cell_type": "code",
   "execution_count": 223,
   "metadata": {},
   "outputs": [
    {
     "data": {
      "image/png": "[encoded data removed]",
      "text/plain": [
       "<Figure size 1200x1200 with 6 Axes>"
      ]
     },
     "metadata": {},
     "output_type": "display_data"
    }
   ],
   "source": [
    "# Create the subplots\n",
    "fig, axes = plt.subplots(3, 2, figsize=(12, 12)) #3 rows, 2 columns\n",
    "# convert 2d axes array to 1d array - easier to iterate\n",
    "axes = axes.flatten()\n",
    "# Set overarching title\n",
    "fig.suptitle('Model Comparison', fontsize=12)\n",
    "# Iterate through each subplot group\n",
    "for idx, (group, ax) in enumerate(zip(plot_groups, axes)): #zip to iterate through 2 lists at once; enumerate to access index too\n",
    "    # Filter data based on the metrics in the group\n",
    "    filtered_data = plot_df[plot_df['Metric'].isin(group)]\n",
    "    # Create a clustered bar plot using seaborn\n",
    "    sns.barplot(x='Metric', y='Value', hue='Model', data=filtered_data, ax=ax)\n",
    "    # Set the title for each subplot\n",
    "    ax.set_title(plot_titles[idx])\n",
    "\n",
    "    # Remove the legend except for the last plot\n",
    "    if idx != len(plot_groups) - 1:\n",
    "        ax.get_legend().remove()\n",
    "    \n",
    "    # Rotate x-axis labels if they have more than 12 characters\n",
    "    for tick in ax.get_xticklabels():\n",
    "        if len(tick.get_text()) > 12:\n",
    "            tick.set_rotation(10)\n",
    "\n",
    "# Remove the unused subplot (if any)\n",
    "if len(plot_groups) < len(axes):\n",
    "    axes[-1].axis('off')\n",
    "\n",
    "# Tight Layout and render\n",
    "plt.tight_layout(rect=[0, 0.03, 1, 1])\n",
    "plt.show()\n"
   ]
  },
  {
   "attachments": {},
   "cell_type": "markdown",
   "metadata": {},
   "source": [
    "Observations <br>\n",
    "- The tree regressors have similar performance and the voting method doesn't produce a model that is significantly better than any of the 3 individual models. However it could prove to be more robust.\n",
    "- These models can still offer some insight into the interaction of the socio-demographic/economic metrics and the deaths.\n",
    "- Linear regression can be used alongside this as it preserves time-series relationships and can predict trends on a national or regional level, whereas the tree-based regressors link other other endogenous variables to environmental deaths. \n",
    "- XGB may be overfitting on the train data, as evidenced by the almost 0 RSE, MAPE, MAE, but also has better test MAE and MAPE than the other regressors. \n",
    "All have strong R2 test & train values with the exception of the group K-fold model, which performs poorly on the test sets."
   ]
  }
 ],
 "metadata": {
  "kernelspec": {
   "display_name": "sklearn_1_2_2",
   "language": "python",
   "name": "sklearn_1_2_2"
  },
  "language_info": {
   "codemirror_mode": {
    "name": "ipython",
    "version": 3
   },
   "file_extension": ".py",
   "mimetype": "text/x-python",
   "name": "python",
   "nbconvert_exporter": "python",
   "pygments_lexer": "ipython3",
   "version": "3.9.16"
  },
  "vscode": {
   "interpreter": {
    "hash": "6defd577cd85e3649e86c46a537635b7104b081260a238509c81cac8b534171b"
   }
  }
 },
 "nbformat": 4,
 "nbformat_minor": 4
}
