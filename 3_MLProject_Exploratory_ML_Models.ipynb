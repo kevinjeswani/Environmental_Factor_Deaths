{
 "cells": [
  {
   "cell_type": "markdown",
   "metadata": {},
   "source": [
    "# 3) ML Project - Air Pollution - Exploratory ML Models (Auto-ML)"
   ]
  },
  {
   "cell_type": "markdown",
   "metadata": {},
   "source": [
    "<font color='blue'> Scripts by Kevin Jeswani, Junaid Zafar, & Laiba Shah \n",
    "<br>\n",
    "WeCloudData Bootcamp 2022 (Part-time Cohort)<br> </font>\n",
    "\n",
    "First we take a look at a dataset for air pollutions deaths due over time for different countries. We visualize data and develop the linear regression models on the regional and national level. The linear regression models are valuable at predicting the general trend in deaths due over time and be used to predict future deaths, where past data appears to be highly linear. It has severe limitations for many countries. Polynomial models could be explored. To explore the interaction with other features, we proceed to merge different datasets between death due to environmental factors and socio-demographic/economic factors. We then examine them in 3 tree-based machine learning models.\n",
    "\n",
    "The set of scripts in the folder 'AirPollution_Scripts' are segmented for the purpose of clarity & convenience <br>\n",
    "The following is the suggested order for running the scripts:\n",
    "- 'MLProject_AirPollution_Viz_LR.ipynb' - loading the initial Kaggle air pollution deaths dataset, processing, visualizing the base dataset, linear regression examination and future predictions.\n",
    "- 'MLProject_DataProcessing_OECD_WB_GBD.ipynb'  - loading raw data from world bank and GBD/OECD datasets, cleaning, and merging usable data. We test the use of fuzzy data set merging.\n",
    "- 'MLProject_Exploratory_ML_Models.ipynb' **This Script**- loading the cleaning & merged dataset, model selection with PyCaret, and discussion of models/insights in modelling data.\n",
    "- 'MLProject_ML_Models_refined.ipynb' - development of selected machine learning models (Extra Trees, Random Forest, XGBoost), cross-validation, & Ensemble methods; discussion of model results\n",
    "\n",
    "The aim is to explore the intial dataset (https://www.kaggle.com/datasets/akshat0giri/death-due-to-air-pollution-19902017?resource=download), supplement it, infer trends, and make predictions on future deaths due to environmental factors. \n",
    "The data is then supplement with:\n",
    "- Global Burden of Disease Study 2019 Results via OECD.stats: https://stats.oecd.org/index.aspx?lang=en# (where the Kaggle dataset seems to have extracted and cleaned data from)\n",
    "- World Bank Development Indicators: https://databank.worldbank.org/source/world-development-indicators#\n",
    "<br>"
   ]
  },
  {
   "cell_type": "markdown",
   "metadata": {},
   "source": [
    "## 1.0 Pre-processing"
   ]
  },
  {
   "cell_type": "markdown",
   "metadata": {},
   "source": [
    "Steps to run PyCaret in Conda virtual environment: <br>\n",
    "- Open CMD.exe prompt in conda navigator <br>\n",
    "- create a conda environment: conda create --name pycaret3 python=3.9.16 <br>\n",
    "- activate conda environment: conda activate pycaret3 <br>\n",
    "- install pycaret: pip install pycaret <br>\n",
    "- conda install ipykernel\n",
    "- create notebook kernel: python -m ipykernel install --user --name pycaret3 --display-name \"display-name\" <br>\n",
    "<br>\n",
    "Install Fugue for parallel processing backend into Spark: <br>\n",
    "!pip install fugue <br>\n",
    "Install pyspark <br>\n",
    "!pip install pyspark\n",
    "Install Dask <br>"
   ]
  },
  {
   "cell_type": "markdown",
   "metadata": {},
   "source": [
    "!pip install fugue"
   ]
  },
  {
   "cell_type": "markdown",
   "metadata": {},
   "source": [
    "!pip install pyspark"
   ]
  },
  {
   "cell_type": "markdown",
   "metadata": {},
   "source": [
    "### 1.1 Standard Imports & Setup"
   ]
  },
  {
   "cell_type": "code",
   "execution_count": 1,
   "metadata": {},
   "outputs": [],
   "source": [
    "#Data Processing\n",
    "import numpy as np \n",
    "import numexpr\n",
    "\n",
    "import pandas as pd\n",
    "import csv\n",
    "\n",
    "#Plotting\n",
    "import plotly.express as px\n",
    "import matplotlib as mpl\n",
    "import matplotlib.pyplot as plt\n",
    "%matplotlib inline\n",
    "import seaborn as sns\n",
    "sns.set()\n",
    "\n",
    "#Machine Learning - general tools\n",
    "from sklearn.model_selection import train_test_split #Test/Train and Holdout split\n",
    "from sklearn.preprocessing import OrdinalEncoder #PyCaret ordinal encoder causing issues "
   ]
  },
  {
   "cell_type": "code",
   "execution_count": 2,
   "metadata": {},
   "outputs": [],
   "source": [
    "# PyCaret\n",
    "from pycaret.regression import * #all regression submodules\n",
    "from pycaret.parallel import FugueBackend #for parallel processing"
   ]
  },
  {
   "cell_type": "code",
   "execution_count": 3,
   "metadata": {},
   "outputs": [],
   "source": [
    "# Dask - parallel processing with pycaret\n",
    "# PyCaret fugue-dask does not always work\n",
    "# from dask import *"
   ]
  },
  {
   "cell_type": "code",
   "execution_count": 4,
   "metadata": {},
   "outputs": [],
   "source": [
    "# create pyspark session for parallel processing\n",
    "# PyCaret fugue-spark does not always work\n",
    "# from pyspark.sql import SparkSession\n",
    "# spark = SparkSession.builder.getOrCreate()"
   ]
  },
  {
   "cell_type": "markdown",
   "metadata": {},
   "source": [
    "## 2.0 Data Examination & Processing"
   ]
  },
  {
   "cell_type": "markdown",
   "metadata": {},
   "source": [
    "**NOTE** Steps in 2.0 are repeated in the 4th script for completeness"
   ]
  },
  {
   "cell_type": "code",
   "execution_count": 5,
   "metadata": {},
   "outputs": [],
   "source": [
    "root = r'C:\\Users\\kevin\\Documents\\WCD_Bootcamp\\ML\\ML_Project\\Scripts'\n",
    "root_raw=r'C:\\Users\\kevin\\Documents\\WCD_Bootcamp\\ML\\ML_Project\\Scripts\\Raw Data'\n",
    "root_proc=r'C:\\Users\\kevin\\Documents\\WCD_Bootcamp\\ML\\ML_Project\\Scripts\\Processed'"
   ]
  },
  {
   "cell_type": "markdown",
   "metadata": {},
   "source": [
    "### 2.1 Load Data into DF & Examine Contents"
   ]
  },
  {
   "cell_type": "code",
   "execution_count": 6,
   "metadata": {},
   "outputs": [
    {
     "data": {
      "text/html": [
       "<div>\n",
       "<style scoped>\n",
       "    .dataframe tbody tr th:only-of-type {\n",
       "        vertical-align: middle;\n",
       "    }\n",
       "\n",
       "    .dataframe tbody tr th {\n",
       "        vertical-align: top;\n",
       "    }\n",
       "\n",
       "    .dataframe thead th {\n",
       "        text-align: right;\n",
       "    }\n",
       "</style>\n",
       "<table border=\"1\" class=\"dataframe\">\n",
       "  <thead>\n",
       "    <tr style=\"text-align: right;\">\n",
       "      <th></th>\n",
       "      <th>Unnamed: 0</th>\n",
       "      <th>COU</th>\n",
       "      <th>Country</th>\n",
       "      <th>Year</th>\n",
       "      <th>Deaths_OZone</th>\n",
       "      <th>Deaths_PM2.5</th>\n",
       "      <th>Deaths_Indoor</th>\n",
       "      <th>Deaths_Handwashing</th>\n",
       "      <th>Deaths_Sanitation</th>\n",
       "      <th>Deaths_Water</th>\n",
       "      <th>Deaths_HighTemp</th>\n",
       "      <th>Deaths_LowTemp</th>\n",
       "      <th>GDP_pCapita</th>\n",
       "      <th>Population</th>\n",
       "      <th>Income_Class</th>\n",
       "      <th>SoDI</th>\n",
       "    </tr>\n",
       "  </thead>\n",
       "  <tbody>\n",
       "    <tr>\n",
       "      <th>0</th>\n",
       "      <td>12</td>\n",
       "      <td>AFG</td>\n",
       "      <td>Afghanistan</td>\n",
       "      <td>2002</td>\n",
       "      <td>0.008418</td>\n",
       "      <td>0.069128</td>\n",
       "      <td>0.864084</td>\n",
       "      <td>0.154955</td>\n",
       "      <td>0.146771</td>\n",
       "      <td>0.195852</td>\n",
       "      <td>0.027761</td>\n",
       "      <td>7775.0</td>\n",
       "      <td>179.426579</td>\n",
       "      <td>22600774.0</td>\n",
       "      <td>L</td>\n",
       "      <td>0.194</td>\n",
       "    </tr>\n",
       "    <tr>\n",
       "      <th>1</th>\n",
       "      <td>13</td>\n",
       "      <td>AFG</td>\n",
       "      <td>Afghanistan</td>\n",
       "      <td>2003</td>\n",
       "      <td>0.007989</td>\n",
       "      <td>0.065408</td>\n",
       "      <td>0.801610</td>\n",
       "      <td>0.151253</td>\n",
       "      <td>0.144548</td>\n",
       "      <td>0.193319</td>\n",
       "      <td>0.025447</td>\n",
       "      <td>8358.0</td>\n",
       "      <td>190.683814</td>\n",
       "      <td>23680871.0</td>\n",
       "      <td>L</td>\n",
       "      <td>0.202</td>\n",
       "    </tr>\n",
       "    <tr>\n",
       "      <th>2</th>\n",
       "      <td>14</td>\n",
       "      <td>AFG</td>\n",
       "      <td>Afghanistan</td>\n",
       "      <td>2004</td>\n",
       "      <td>0.007311</td>\n",
       "      <td>0.060990</td>\n",
       "      <td>0.728383</td>\n",
       "      <td>0.138042</td>\n",
       "      <td>0.131303</td>\n",
       "      <td>0.176003</td>\n",
       "      <td>0.023667</td>\n",
       "      <td>7936.0</td>\n",
       "      <td>211.382074</td>\n",
       "      <td>24726689.0</td>\n",
       "      <td>L</td>\n",
       "      <td>0.209</td>\n",
       "    </tr>\n",
       "    <tr>\n",
       "      <th>3</th>\n",
       "      <td>15</td>\n",
       "      <td>AFG</td>\n",
       "      <td>Afghanistan</td>\n",
       "      <td>2005</td>\n",
       "      <td>0.006731</td>\n",
       "      <td>0.056720</td>\n",
       "      <td>0.657609</td>\n",
       "      <td>0.122056</td>\n",
       "      <td>0.114443</td>\n",
       "      <td>0.153736</td>\n",
       "      <td>0.020634</td>\n",
       "      <td>8244.0</td>\n",
       "      <td>242.031313</td>\n",
       "      <td>25654274.0</td>\n",
       "      <td>L</td>\n",
       "      <td>0.216</td>\n",
       "    </tr>\n",
       "    <tr>\n",
       "      <th>4</th>\n",
       "      <td>16</td>\n",
       "      <td>AFG</td>\n",
       "      <td>Afghanistan</td>\n",
       "      <td>2006</td>\n",
       "      <td>0.006097</td>\n",
       "      <td>0.054472</td>\n",
       "      <td>0.597933</td>\n",
       "      <td>0.107069</td>\n",
       "      <td>0.096464</td>\n",
       "      <td>0.129969</td>\n",
       "      <td>0.022527</td>\n",
       "      <td>7277.0</td>\n",
       "      <td>263.733602</td>\n",
       "      <td>26433058.0</td>\n",
       "      <td>L</td>\n",
       "      <td>0.224</td>\n",
       "    </tr>\n",
       "    <tr>\n",
       "      <th>...</th>\n",
       "      <td>...</td>\n",
       "      <td>...</td>\n",
       "      <td>...</td>\n",
       "      <td>...</td>\n",
       "      <td>...</td>\n",
       "      <td>...</td>\n",
       "      <td>...</td>\n",
       "      <td>...</td>\n",
       "      <td>...</td>\n",
       "      <td>...</td>\n",
       "      <td>...</td>\n",
       "      <td>...</td>\n",
       "      <td>...</td>\n",
       "      <td>...</td>\n",
       "      <td>...</td>\n",
       "      <td>...</td>\n",
       "    </tr>\n",
       "    <tr>\n",
       "      <th>5707</th>\n",
       "      <td>6055</td>\n",
       "      <td>ZWE</td>\n",
       "      <td>Zimbabwe</td>\n",
       "      <td>2015</td>\n",
       "      <td>0.002620</td>\n",
       "      <td>0.145930</td>\n",
       "      <td>0.546781</td>\n",
       "      <td>0.226782</td>\n",
       "      <td>0.150856</td>\n",
       "      <td>0.227201</td>\n",
       "      <td>0.020383</td>\n",
       "      <td>742.0</td>\n",
       "      <td>1445.069702</td>\n",
       "      <td>13814642.0</td>\n",
       "      <td>L</td>\n",
       "      <td>0.452</td>\n",
       "    </tr>\n",
       "    <tr>\n",
       "      <th>5708</th>\n",
       "      <td>6056</td>\n",
       "      <td>ZWE</td>\n",
       "      <td>Zimbabwe</td>\n",
       "      <td>2016</td>\n",
       "      <td>0.002946</td>\n",
       "      <td>0.138328</td>\n",
       "      <td>0.526542</td>\n",
       "      <td>0.218186</td>\n",
       "      <td>0.142138</td>\n",
       "      <td>0.215595</td>\n",
       "      <td>0.023571</td>\n",
       "      <td>762.0</td>\n",
       "      <td>1464.588957</td>\n",
       "      <td>14030338.0</td>\n",
       "      <td>L</td>\n",
       "      <td>0.459</td>\n",
       "    </tr>\n",
       "    <tr>\n",
       "      <th>5709</th>\n",
       "      <td>6057</td>\n",
       "      <td>ZWE</td>\n",
       "      <td>Zimbabwe</td>\n",
       "      <td>2017</td>\n",
       "      <td>0.003454</td>\n",
       "      <td>0.129761</td>\n",
       "      <td>0.506067</td>\n",
       "      <td>0.209739</td>\n",
       "      <td>0.135385</td>\n",
       "      <td>0.206877</td>\n",
       "      <td>0.008881</td>\n",
       "      <td>891.0</td>\n",
       "      <td>1235.189032</td>\n",
       "      <td>14236599.0</td>\n",
       "      <td>L</td>\n",
       "      <td>0.465</td>\n",
       "    </tr>\n",
       "    <tr>\n",
       "      <th>5710</th>\n",
       "      <td>6058</td>\n",
       "      <td>ZWE</td>\n",
       "      <td>Zimbabwe</td>\n",
       "      <td>2018</td>\n",
       "      <td>0.003310</td>\n",
       "      <td>0.124713</td>\n",
       "      <td>0.485084</td>\n",
       "      <td>0.199204</td>\n",
       "      <td>0.125096</td>\n",
       "      <td>0.192489</td>\n",
       "      <td>0.013527</td>\n",
       "      <td>767.0</td>\n",
       "      <td>1254.642265</td>\n",
       "      <td>14438812.0</td>\n",
       "      <td>LM</td>\n",
       "      <td>0.471</td>\n",
       "    </tr>\n",
       "    <tr>\n",
       "      <th>5711</th>\n",
       "      <td>6059</td>\n",
       "      <td>ZWE</td>\n",
       "      <td>Zimbabwe</td>\n",
       "      <td>2019</td>\n",
       "      <td>0.003403</td>\n",
       "      <td>0.121544</td>\n",
       "      <td>0.467108</td>\n",
       "      <td>0.191757</td>\n",
       "      <td>0.118001</td>\n",
       "      <td>0.182479</td>\n",
       "      <td>0.015199</td>\n",
       "      <td>744.0</td>\n",
       "      <td>1316.740657</td>\n",
       "      <td>14645473.0</td>\n",
       "      <td>LM</td>\n",
       "      <td>0.476</td>\n",
       "    </tr>\n",
       "  </tbody>\n",
       "</table>\n",
       "<p>5712 rows × 16 columns</p>\n",
       "</div>"
      ],
      "text/plain": [
       "      Unnamed: 0  COU      Country  Year  Deaths_OZone  Deaths_PM2.5  \\\n",
       "0             12  AFG  Afghanistan  2002      0.008418      0.069128   \n",
       "1             13  AFG  Afghanistan  2003      0.007989      0.065408   \n",
       "2             14  AFG  Afghanistan  2004      0.007311      0.060990   \n",
       "3             15  AFG  Afghanistan  2005      0.006731      0.056720   \n",
       "4             16  AFG  Afghanistan  2006      0.006097      0.054472   \n",
       "...          ...  ...          ...   ...           ...           ...   \n",
       "5707        6055  ZWE     Zimbabwe  2015      0.002620      0.145930   \n",
       "5708        6056  ZWE     Zimbabwe  2016      0.002946      0.138328   \n",
       "5709        6057  ZWE     Zimbabwe  2017      0.003454      0.129761   \n",
       "5710        6058  ZWE     Zimbabwe  2018      0.003310      0.124713   \n",
       "5711        6059  ZWE     Zimbabwe  2019      0.003403      0.121544   \n",
       "\n",
       "      Deaths_Indoor  Deaths_Handwashing  Deaths_Sanitation  Deaths_Water  \\\n",
       "0          0.864084            0.154955           0.146771      0.195852   \n",
       "1          0.801610            0.151253           0.144548      0.193319   \n",
       "2          0.728383            0.138042           0.131303      0.176003   \n",
       "3          0.657609            0.122056           0.114443      0.153736   \n",
       "4          0.597933            0.107069           0.096464      0.129969   \n",
       "...             ...                 ...                ...           ...   \n",
       "5707       0.546781            0.226782           0.150856      0.227201   \n",
       "5708       0.526542            0.218186           0.142138      0.215595   \n",
       "5709       0.506067            0.209739           0.135385      0.206877   \n",
       "5710       0.485084            0.199204           0.125096      0.192489   \n",
       "5711       0.467108            0.191757           0.118001      0.182479   \n",
       "\n",
       "      Deaths_HighTemp  Deaths_LowTemp  GDP_pCapita  Population Income_Class  \\\n",
       "0            0.027761          7775.0   179.426579  22600774.0            L   \n",
       "1            0.025447          8358.0   190.683814  23680871.0            L   \n",
       "2            0.023667          7936.0   211.382074  24726689.0            L   \n",
       "3            0.020634          8244.0   242.031313  25654274.0            L   \n",
       "4            0.022527          7277.0   263.733602  26433058.0            L   \n",
       "...               ...             ...          ...         ...          ...   \n",
       "5707         0.020383           742.0  1445.069702  13814642.0            L   \n",
       "5708         0.023571           762.0  1464.588957  14030338.0            L   \n",
       "5709         0.008881           891.0  1235.189032  14236599.0            L   \n",
       "5710         0.013527           767.0  1254.642265  14438812.0           LM   \n",
       "5711         0.015199           744.0  1316.740657  14645473.0           LM   \n",
       "\n",
       "       SoDI  \n",
       "0     0.194  \n",
       "1     0.202  \n",
       "2     0.209  \n",
       "3     0.216  \n",
       "4     0.224  \n",
       "...     ...  \n",
       "5707  0.452  \n",
       "5708  0.459  \n",
       "5709  0.465  \n",
       "5710  0.471  \n",
       "5711  0.476  \n",
       "\n",
       "[5712 rows x 16 columns]"
      ]
     },
     "execution_count": 6,
     "metadata": {},
     "output_type": "execute_result"
    }
   ],
   "source": [
    "fid = '\\MergedData_EnvDeaths_GDP_Pop_Income_SoDI_2.csv'\n",
    "dtypes = {'Population':'float','GDP_pCapita':'float'} #specify data types as required\n",
    "df_in = pd.read_csv(root_proc+fid,dtype=dtypes)\n",
    "df_in"
   ]
  },
  {
   "cell_type": "code",
   "execution_count": 7,
   "metadata": {},
   "outputs": [],
   "source": [
    "df_in=df_in.drop(['Unnamed: 0'],axis=1)"
   ]
  },
  {
   "cell_type": "markdown",
   "metadata": {},
   "source": [
    "## 3.0 Use PyCaret for Model Selection - Regression (Boosted Trees)"
   ]
  },
  {
   "cell_type": "markdown",
   "metadata": {},
   "source": [
    "**NOTE** EXERCISE CAUTION WHEN RUNNING, THE KERNEL MAY KEEP DYING, MODELS MAY NEED TO BE RUN ONE AT A TIME AND REPEATEDLY"
   ]
  },
  {
   "cell_type": "markdown",
   "metadata": {},
   "source": [
    "Feature Engineering & Encoding\n",
    "Ordinal Features: Income_class\n",
    "- Set ord_features=['Income_Class'] for ordinal_features in setup, if auto-encoding in PyCaret desired\n",
    "- To avoid dashboard issues, perform ordinal encoding with sklearn beforehand\n",
    "Feature Scaling:\n",
    "- By default PyCaret will use the StandardScaler, if nothing is specified in the setup()\n",
    "- This will take care of the difference in magnitude between the numeric features (i.e., population being much larger than the rest) <br>\n",
    "\n",
    "Regression with PyCaret Examples: \n",
    "- https://nbviewer.org/github/pycaret/pycaret/blob/master/tutorials/Tutorial%20-%20Regression.ipynb\n",
    "- https://pycaret.readthedocs.io/en/latest/api/regression.html#"
   ]
  },
  {
   "cell_type": "code",
   "execution_count": 8,
   "metadata": {},
   "outputs": [],
   "source": [
    "# Encore Ordinal Features before PyCaret to avoid dashboard mismatch issues\n",
    "ordinal_encoder = OrdinalEncoder(categories=[['L', 'LM', 'UM', 'H']]) #Initialize encored on Income class col\n",
    "df_in['Income_Class_encoded'] = ordinal_encoder.fit_transform(df_in[['Income_Class']])"
   ]
  },
  {
   "cell_type": "code",
   "execution_count": 9,
   "metadata": {},
   "outputs": [],
   "source": [
    "# Independent Variables\n",
    "# Numeric features\n",
    "num_features=['GDP_pCapita','Population','SoDI','Income_Class_encoded']\n",
    "date_features=['Year'] #cast as datetime\n",
    "X=df_in.loc[:,num_features+date_features]\n",
    "X['Year'] = X['Year'].astype('datetime64[ns]') #cast the year as datetime64"
   ]
  },
  {
   "cell_type": "markdown",
   "metadata": {},
   "source": [
    "### 3.1 Model Selection for Deaths due to Indoor Air Pollution"
   ]
  },
  {
   "cell_type": "code",
   "execution_count": 10,
   "metadata": {},
   "outputs": [],
   "source": [
    "#Dependent variable - classify the level of indoor pollution death\n",
    "y=df_in.loc[:,['Deaths_Indoor']]"
   ]
  },
  {
   "cell_type": "markdown",
   "metadata": {},
   "source": [
    "PyCaret conducts a 70-30 train-test split by default. The data saved for testing is not utilized during the cross-validation exercise. Thus, by default it saves the test set as a hold-out testing, which can be checked upon predicting target values on the full data set."
   ]
  },
  {
   "cell_type": "code",
   "execution_count": 11,
   "metadata": {},
   "outputs": [],
   "source": [
    "dataset = pd.concat([X,y],axis=1)"
   ]
  },
  {
   "cell_type": "markdown",
   "metadata": {},
   "source": [
    "#### 3.1.1 Baseline Model"
   ]
  },
  {
   "cell_type": "markdown",
   "metadata": {},
   "source": [
    "Setup Parameters:\n",
    "- n_jobs=1 if parallel processing with fugue-spark/-dask;  required for spark/dark to avoid deadlocks; else =-1\n",
    "- 10-fold Cross Validation\n",
    "- session_id is equivalent to random seed to reproducibility\n",
    "- Specifying 80-20 train-test split\n",
    "- If using PyCaret ordinal features: ordinal_features={'Income_Class':['L','LM','UM','H']} = mismatch in dashboard output"
   ]
  },
  {
   "cell_type": "code",
   "execution_count": 12,
   "metadata": {},
   "outputs": [
    {
     "data": {
      "text/html": [
       "<style type=\"text/css\">\n",
       "#T_9ac44_row9_col1, #T_9ac44_row16_col1 {\n",
       "  background-color: lightgreen;\n",
       "}\n",
       "</style>\n",
       "<table id=\"T_9ac44\">\n",
       "  <thead>\n",
       "    <tr>\n",
       "      <th class=\"blank level0\" >&nbsp;</th>\n",
       "      <th id=\"T_9ac44_level0_col0\" class=\"col_heading level0 col0\" >Description</th>\n",
       "      <th id=\"T_9ac44_level0_col1\" class=\"col_heading level0 col1\" >Value</th>\n",
       "    </tr>\n",
       "  </thead>\n",
       "  <tbody>\n",
       "    <tr>\n",
       "      <th id=\"T_9ac44_level0_row0\" class=\"row_heading level0 row0\" >0</th>\n",
       "      <td id=\"T_9ac44_row0_col0\" class=\"data row0 col0\" >Session id</td>\n",
       "      <td id=\"T_9ac44_row0_col1\" class=\"data row0 col1\" >123</td>\n",
       "    </tr>\n",
       "    <tr>\n",
       "      <th id=\"T_9ac44_level0_row1\" class=\"row_heading level0 row1\" >1</th>\n",
       "      <td id=\"T_9ac44_row1_col0\" class=\"data row1 col0\" >Target</td>\n",
       "      <td id=\"T_9ac44_row1_col1\" class=\"data row1 col1\" >Deaths_Indoor</td>\n",
       "    </tr>\n",
       "    <tr>\n",
       "      <th id=\"T_9ac44_level0_row2\" class=\"row_heading level0 row2\" >2</th>\n",
       "      <td id=\"T_9ac44_row2_col0\" class=\"data row2 col0\" >Target type</td>\n",
       "      <td id=\"T_9ac44_row2_col1\" class=\"data row2 col1\" >Regression</td>\n",
       "    </tr>\n",
       "    <tr>\n",
       "      <th id=\"T_9ac44_level0_row3\" class=\"row_heading level0 row3\" >3</th>\n",
       "      <td id=\"T_9ac44_row3_col0\" class=\"data row3 col0\" >Original data shape</td>\n",
       "      <td id=\"T_9ac44_row3_col1\" class=\"data row3 col1\" >(5712, 6)</td>\n",
       "    </tr>\n",
       "    <tr>\n",
       "      <th id=\"T_9ac44_level0_row4\" class=\"row_heading level0 row4\" >4</th>\n",
       "      <td id=\"T_9ac44_row4_col0\" class=\"data row4 col0\" >Transformed data shape</td>\n",
       "      <td id=\"T_9ac44_row4_col1\" class=\"data row4 col1\" >(5712, 8)</td>\n",
       "    </tr>\n",
       "    <tr>\n",
       "      <th id=\"T_9ac44_level0_row5\" class=\"row_heading level0 row5\" >5</th>\n",
       "      <td id=\"T_9ac44_row5_col0\" class=\"data row5 col0\" >Transformed train set shape</td>\n",
       "      <td id=\"T_9ac44_row5_col1\" class=\"data row5 col1\" >(4569, 8)</td>\n",
       "    </tr>\n",
       "    <tr>\n",
       "      <th id=\"T_9ac44_level0_row6\" class=\"row_heading level0 row6\" >6</th>\n",
       "      <td id=\"T_9ac44_row6_col0\" class=\"data row6 col0\" >Transformed test set shape</td>\n",
       "      <td id=\"T_9ac44_row6_col1\" class=\"data row6 col1\" >(1143, 8)</td>\n",
       "    </tr>\n",
       "    <tr>\n",
       "      <th id=\"T_9ac44_level0_row7\" class=\"row_heading level0 row7\" >7</th>\n",
       "      <td id=\"T_9ac44_row7_col0\" class=\"data row7 col0\" >Numeric features</td>\n",
       "      <td id=\"T_9ac44_row7_col1\" class=\"data row7 col1\" >4</td>\n",
       "    </tr>\n",
       "    <tr>\n",
       "      <th id=\"T_9ac44_level0_row8\" class=\"row_heading level0 row8\" >8</th>\n",
       "      <td id=\"T_9ac44_row8_col0\" class=\"data row8 col0\" >Date features</td>\n",
       "      <td id=\"T_9ac44_row8_col1\" class=\"data row8 col1\" >1</td>\n",
       "    </tr>\n",
       "    <tr>\n",
       "      <th id=\"T_9ac44_level0_row9\" class=\"row_heading level0 row9\" >9</th>\n",
       "      <td id=\"T_9ac44_row9_col0\" class=\"data row9 col0\" >Preprocess</td>\n",
       "      <td id=\"T_9ac44_row9_col1\" class=\"data row9 col1\" >True</td>\n",
       "    </tr>\n",
       "    <tr>\n",
       "      <th id=\"T_9ac44_level0_row10\" class=\"row_heading level0 row10\" >10</th>\n",
       "      <td id=\"T_9ac44_row10_col0\" class=\"data row10 col0\" >Imputation type</td>\n",
       "      <td id=\"T_9ac44_row10_col1\" class=\"data row10 col1\" >simple</td>\n",
       "    </tr>\n",
       "    <tr>\n",
       "      <th id=\"T_9ac44_level0_row11\" class=\"row_heading level0 row11\" >11</th>\n",
       "      <td id=\"T_9ac44_row11_col0\" class=\"data row11 col0\" >Numeric imputation</td>\n",
       "      <td id=\"T_9ac44_row11_col1\" class=\"data row11 col1\" >mean</td>\n",
       "    </tr>\n",
       "    <tr>\n",
       "      <th id=\"T_9ac44_level0_row12\" class=\"row_heading level0 row12\" >12</th>\n",
       "      <td id=\"T_9ac44_row12_col0\" class=\"data row12 col0\" >Categorical imputation</td>\n",
       "      <td id=\"T_9ac44_row12_col1\" class=\"data row12 col1\" >mode</td>\n",
       "    </tr>\n",
       "    <tr>\n",
       "      <th id=\"T_9ac44_level0_row13\" class=\"row_heading level0 row13\" >13</th>\n",
       "      <td id=\"T_9ac44_row13_col0\" class=\"data row13 col0\" >Fold Generator</td>\n",
       "      <td id=\"T_9ac44_row13_col1\" class=\"data row13 col1\" >KFold</td>\n",
       "    </tr>\n",
       "    <tr>\n",
       "      <th id=\"T_9ac44_level0_row14\" class=\"row_heading level0 row14\" >14</th>\n",
       "      <td id=\"T_9ac44_row14_col0\" class=\"data row14 col0\" >Fold Number</td>\n",
       "      <td id=\"T_9ac44_row14_col1\" class=\"data row14 col1\" >10</td>\n",
       "    </tr>\n",
       "    <tr>\n",
       "      <th id=\"T_9ac44_level0_row15\" class=\"row_heading level0 row15\" >15</th>\n",
       "      <td id=\"T_9ac44_row15_col0\" class=\"data row15 col0\" >CPU Jobs</td>\n",
       "      <td id=\"T_9ac44_row15_col1\" class=\"data row15 col1\" >-1</td>\n",
       "    </tr>\n",
       "    <tr>\n",
       "      <th id=\"T_9ac44_level0_row16\" class=\"row_heading level0 row16\" >16</th>\n",
       "      <td id=\"T_9ac44_row16_col0\" class=\"data row16 col0\" >Use GPU</td>\n",
       "      <td id=\"T_9ac44_row16_col1\" class=\"data row16 col1\" >True</td>\n",
       "    </tr>\n",
       "    <tr>\n",
       "      <th id=\"T_9ac44_level0_row17\" class=\"row_heading level0 row17\" >17</th>\n",
       "      <td id=\"T_9ac44_row17_col0\" class=\"data row17 col0\" >Log Experiment</td>\n",
       "      <td id=\"T_9ac44_row17_col1\" class=\"data row17 col1\" >False</td>\n",
       "    </tr>\n",
       "    <tr>\n",
       "      <th id=\"T_9ac44_level0_row18\" class=\"row_heading level0 row18\" >18</th>\n",
       "      <td id=\"T_9ac44_row18_col0\" class=\"data row18 col0\" >Experiment Name</td>\n",
       "      <td id=\"T_9ac44_row18_col1\" class=\"data row18 col1\" >reg-default-name</td>\n",
       "    </tr>\n",
       "    <tr>\n",
       "      <th id=\"T_9ac44_level0_row19\" class=\"row_heading level0 row19\" >19</th>\n",
       "      <td id=\"T_9ac44_row19_col0\" class=\"data row19 col0\" >USI</td>\n",
       "      <td id=\"T_9ac44_row19_col1\" class=\"data row19 col1\" >f8c8</td>\n",
       "    </tr>\n",
       "  </tbody>\n",
       "</table>\n"
      ],
      "text/plain": [
       "<pandas.io.formats.style.Styler at 0x248552f3d30>"
      ]
     },
     "metadata": {},
     "output_type": "display_data"
    }
   ],
   "source": [
    "# Initialize the PyCaret setup\n",
    "s = setup(data=dataset,target='Deaths_Indoor',\n",
    "          numeric_features=num_features,date_features=date_features,train_size=0.8,\n",
    "          use_gpu=True,fold=10,n_jobs=-1,session_id=123) "
   ]
  },
  {
   "cell_type": "markdown",
   "metadata": {},
   "source": [
    "K-Fold (with k=10) is also conducted: resampling is implemented k times without data replacement, to avoid overfitting. <br>\n",
    "The train set is split into sub train-test splits for the cross-validation. The test set will be saved for additional holdout testing after the model is developed."
   ]
  },
  {
   "cell_type": "code",
   "execution_count": 13,
   "metadata": {
    "scrolled": false
   },
   "outputs": [
    {
     "data": {
      "text/html": [],
      "text/plain": [
       "<IPython.core.display.HTML object>"
      ]
     },
     "metadata": {},
     "output_type": "display_data"
    },
    {
     "data": {
      "text/html": [
       "<style type=\"text/css\">\n",
       "#T_246ba th {\n",
       "  text-align: left;\n",
       "}\n",
       "#T_246ba_row0_col0, #T_246ba_row0_col6, #T_246ba_row1_col0, #T_246ba_row1_col1, #T_246ba_row1_col2, #T_246ba_row1_col3, #T_246ba_row1_col4, #T_246ba_row1_col5, #T_246ba_row2_col0, #T_246ba_row2_col1, #T_246ba_row2_col2, #T_246ba_row2_col3, #T_246ba_row2_col4, #T_246ba_row2_col5, #T_246ba_row2_col6, #T_246ba_row3_col0, #T_246ba_row3_col1, #T_246ba_row3_col2, #T_246ba_row3_col3, #T_246ba_row3_col4, #T_246ba_row3_col5, #T_246ba_row3_col6, #T_246ba_row4_col0, #T_246ba_row4_col1, #T_246ba_row4_col2, #T_246ba_row4_col3, #T_246ba_row4_col4, #T_246ba_row4_col5, #T_246ba_row4_col6, #T_246ba_row5_col0, #T_246ba_row5_col1, #T_246ba_row5_col2, #T_246ba_row5_col3, #T_246ba_row5_col4, #T_246ba_row5_col5, #T_246ba_row5_col6, #T_246ba_row6_col0, #T_246ba_row6_col1, #T_246ba_row6_col2, #T_246ba_row6_col3, #T_246ba_row6_col4, #T_246ba_row6_col5, #T_246ba_row6_col6, #T_246ba_row7_col0, #T_246ba_row7_col1, #T_246ba_row7_col2, #T_246ba_row7_col3, #T_246ba_row7_col4, #T_246ba_row7_col5, #T_246ba_row7_col6, #T_246ba_row8_col0, #T_246ba_row8_col1, #T_246ba_row8_col2, #T_246ba_row8_col3, #T_246ba_row8_col4, #T_246ba_row8_col5, #T_246ba_row8_col6, #T_246ba_row9_col0, #T_246ba_row9_col1, #T_246ba_row9_col2, #T_246ba_row9_col3, #T_246ba_row9_col4, #T_246ba_row9_col5, #T_246ba_row9_col6, #T_246ba_row10_col0, #T_246ba_row10_col1, #T_246ba_row10_col2, #T_246ba_row10_col3, #T_246ba_row10_col4, #T_246ba_row10_col5, #T_246ba_row10_col6, #T_246ba_row11_col0, #T_246ba_row11_col1, #T_246ba_row11_col2, #T_246ba_row11_col3, #T_246ba_row11_col4, #T_246ba_row11_col5, #T_246ba_row11_col6, #T_246ba_row12_col0, #T_246ba_row12_col1, #T_246ba_row12_col2, #T_246ba_row12_col3, #T_246ba_row12_col4, #T_246ba_row12_col5, #T_246ba_row12_col6, #T_246ba_row13_col0, #T_246ba_row13_col1, #T_246ba_row13_col2, #T_246ba_row13_col3, #T_246ba_row13_col4, #T_246ba_row13_col5, #T_246ba_row13_col6, #T_246ba_row14_col0, #T_246ba_row14_col1, #T_246ba_row14_col2, #T_246ba_row14_col3, #T_246ba_row14_col4, #T_246ba_row14_col5, #T_246ba_row14_col6, #T_246ba_row15_col0, #T_246ba_row15_col1, #T_246ba_row15_col2, #T_246ba_row15_col3, #T_246ba_row15_col4, #T_246ba_row15_col5, #T_246ba_row15_col6, #T_246ba_row16_col0, #T_246ba_row16_col1, #T_246ba_row16_col2, #T_246ba_row16_col3, #T_246ba_row16_col4, #T_246ba_row16_col5, #T_246ba_row16_col6 {\n",
       "  text-align: left;\n",
       "}\n",
       "#T_246ba_row0_col1, #T_246ba_row0_col2, #T_246ba_row0_col3, #T_246ba_row0_col4, #T_246ba_row0_col5, #T_246ba_row1_col6 {\n",
       "  text-align: left;\n",
       "  background-color: yellow;\n",
       "}\n",
       "#T_246ba_row0_col7, #T_246ba_row2_col7, #T_246ba_row3_col7, #T_246ba_row4_col7, #T_246ba_row5_col7, #T_246ba_row6_col7, #T_246ba_row7_col7, #T_246ba_row8_col7, #T_246ba_row9_col7, #T_246ba_row10_col7, #T_246ba_row11_col7, #T_246ba_row12_col7, #T_246ba_row13_col7, #T_246ba_row14_col7, #T_246ba_row15_col7, #T_246ba_row16_col7 {\n",
       "  text-align: left;\n",
       "  background-color: lightgrey;\n",
       "}\n",
       "#T_246ba_row1_col7 {\n",
       "  text-align: left;\n",
       "  background-color: yellow;\n",
       "  background-color: lightgrey;\n",
       "}\n",
       "</style>\n",
       "<table id=\"T_246ba\">\n",
       "  <thead>\n",
       "    <tr>\n",
       "      <th class=\"blank level0\" >&nbsp;</th>\n",
       "      <th id=\"T_246ba_level0_col0\" class=\"col_heading level0 col0\" >Model</th>\n",
       "      <th id=\"T_246ba_level0_col1\" class=\"col_heading level0 col1\" >MAE</th>\n",
       "      <th id=\"T_246ba_level0_col2\" class=\"col_heading level0 col2\" >MSE</th>\n",
       "      <th id=\"T_246ba_level0_col3\" class=\"col_heading level0 col3\" >RMSE</th>\n",
       "      <th id=\"T_246ba_level0_col4\" class=\"col_heading level0 col4\" >R2</th>\n",
       "      <th id=\"T_246ba_level0_col5\" class=\"col_heading level0 col5\" >RMSLE</th>\n",
       "      <th id=\"T_246ba_level0_col6\" class=\"col_heading level0 col6\" >MAPE</th>\n",
       "      <th id=\"T_246ba_level0_col7\" class=\"col_heading level0 col7\" >TT (Sec)</th>\n",
       "    </tr>\n",
       "  </thead>\n",
       "  <tbody>\n",
       "    <tr>\n",
       "      <th id=\"T_246ba_level0_row0\" class=\"row_heading level0 row0\" >rf</th>\n",
       "      <td id=\"T_246ba_row0_col0\" class=\"data row0 col0\" >Random Forest Regressor</td>\n",
       "      <td id=\"T_246ba_row0_col1\" class=\"data row0 col1\" >1.0062</td>\n",
       "      <td id=\"T_246ba_row0_col2\" class=\"data row0 col2\" >47.0806</td>\n",
       "      <td id=\"T_246ba_row0_col3\" class=\"data row0 col3\" >5.9146</td>\n",
       "      <td id=\"T_246ba_row0_col4\" class=\"data row0 col4\" >0.9815</td>\n",
       "      <td id=\"T_246ba_row0_col5\" class=\"data row0 col5\" >0.1739</td>\n",
       "      <td id=\"T_246ba_row0_col6\" class=\"data row0 col6\" >3.7086</td>\n",
       "      <td id=\"T_246ba_row0_col7\" class=\"data row0 col7\" >2.8530</td>\n",
       "    </tr>\n",
       "    <tr>\n",
       "      <th id=\"T_246ba_level0_row1\" class=\"row_heading level0 row1\" >dt</th>\n",
       "      <td id=\"T_246ba_row1_col0\" class=\"data row1 col0\" >Decision Tree Regressor</td>\n",
       "      <td id=\"T_246ba_row1_col1\" class=\"data row1 col1\" >1.0125</td>\n",
       "      <td id=\"T_246ba_row1_col2\" class=\"data row1 col2\" >75.1113</td>\n",
       "      <td id=\"T_246ba_row1_col3\" class=\"data row1 col3\" >7.0782</td>\n",
       "      <td id=\"T_246ba_row1_col4\" class=\"data row1 col4\" >0.9738</td>\n",
       "      <td id=\"T_246ba_row1_col5\" class=\"data row1 col5\" >0.1941</td>\n",
       "      <td id=\"T_246ba_row1_col6\" class=\"data row1 col6\" >2.5189</td>\n",
       "      <td id=\"T_246ba_row1_col7\" class=\"data row1 col7\" >2.3720</td>\n",
       "    </tr>\n",
       "    <tr>\n",
       "      <th id=\"T_246ba_level0_row2\" class=\"row_heading level0 row2\" >gbr</th>\n",
       "      <td id=\"T_246ba_row2_col0\" class=\"data row2 col0\" >Gradient Boosting Regressor</td>\n",
       "      <td id=\"T_246ba_row2_col1\" class=\"data row2 col1\" >1.9705</td>\n",
       "      <td id=\"T_246ba_row2_col2\" class=\"data row2 col2\" >74.4780</td>\n",
       "      <td id=\"T_246ba_row2_col3\" class=\"data row2 col3\" >7.5328</td>\n",
       "      <td id=\"T_246ba_row2_col4\" class=\"data row2 col4\" >0.9641</td>\n",
       "      <td id=\"T_246ba_row2_col5\" class=\"data row2 col5\" >0.4151</td>\n",
       "      <td id=\"T_246ba_row2_col6\" class=\"data row2 col6\" >173.6468</td>\n",
       "      <td id=\"T_246ba_row2_col7\" class=\"data row2 col7\" >2.5220</td>\n",
       "    </tr>\n",
       "    <tr>\n",
       "      <th id=\"T_246ba_level0_row3\" class=\"row_heading level0 row3\" >et</th>\n",
       "      <td id=\"T_246ba_row3_col0\" class=\"data row3 col0\" >Extra Trees Regressor</td>\n",
       "      <td id=\"T_246ba_row3_col1\" class=\"data row3 col1\" >2.1216</td>\n",
       "      <td id=\"T_246ba_row3_col2\" class=\"data row3 col2\" >182.9834</td>\n",
       "      <td id=\"T_246ba_row3_col3\" class=\"data row3 col3\" >12.3444</td>\n",
       "      <td id=\"T_246ba_row3_col4\" class=\"data row3 col4\" >0.9263</td>\n",
       "      <td id=\"T_246ba_row3_col5\" class=\"data row3 col5\" >0.4611</td>\n",
       "      <td id=\"T_246ba_row3_col6\" class=\"data row3 col6\" >26.7672</td>\n",
       "      <td id=\"T_246ba_row3_col7\" class=\"data row3 col7\" >2.5570</td>\n",
       "    </tr>\n",
       "    <tr>\n",
       "      <th id=\"T_246ba_level0_row4\" class=\"row_heading level0 row4\" >knn</th>\n",
       "      <td id=\"T_246ba_row4_col0\" class=\"data row4 col0\" >K Neighbors Regressor</td>\n",
       "      <td id=\"T_246ba_row4_col1\" class=\"data row4 col1\" >2.4124</td>\n",
       "      <td id=\"T_246ba_row4_col2\" class=\"data row4 col2\" >104.2100</td>\n",
       "      <td id=\"T_246ba_row4_col3\" class=\"data row4 col3\" >9.5871</td>\n",
       "      <td id=\"T_246ba_row4_col4\" class=\"data row4 col4\" >0.9386</td>\n",
       "      <td id=\"T_246ba_row4_col5\" class=\"data row4 col5\" >0.4968</td>\n",
       "      <td id=\"T_246ba_row4_col6\" class=\"data row4 col6\" >61.9074</td>\n",
       "      <td id=\"T_246ba_row4_col7\" class=\"data row4 col7\" >2.9640</td>\n",
       "    </tr>\n",
       "    <tr>\n",
       "      <th id=\"T_246ba_level0_row5\" class=\"row_heading level0 row5\" >ada</th>\n",
       "      <td id=\"T_246ba_row5_col0\" class=\"data row5 col0\" >AdaBoost Regressor</td>\n",
       "      <td id=\"T_246ba_row5_col1\" class=\"data row5 col1\" >6.6035</td>\n",
       "      <td id=\"T_246ba_row5_col2\" class=\"data row5 col2\" >198.9587</td>\n",
       "      <td id=\"T_246ba_row5_col3\" class=\"data row5 col3\" >13.6576</td>\n",
       "      <td id=\"T_246ba_row5_col4\" class=\"data row5 col4\" >0.8306</td>\n",
       "      <td id=\"T_246ba_row5_col5\" class=\"data row5 col5\" >1.3401</td>\n",
       "      <td id=\"T_246ba_row5_col6\" class=\"data row5 col6\" >2183.5365</td>\n",
       "      <td id=\"T_246ba_row5_col7\" class=\"data row5 col7\" >2.4630</td>\n",
       "    </tr>\n",
       "    <tr>\n",
       "      <th id=\"T_246ba_level0_row6\" class=\"row_heading level0 row6\" >huber</th>\n",
       "      <td id=\"T_246ba_row6_col0\" class=\"data row6 col0\" >Huber Regressor</td>\n",
       "      <td id=\"T_246ba_row6_col1\" class=\"data row6 col1\" >7.9945</td>\n",
       "      <td id=\"T_246ba_row6_col2\" class=\"data row6 col2\" >3325.3974</td>\n",
       "      <td id=\"T_246ba_row6_col3\" class=\"data row6 col3\" >51.5802</td>\n",
       "      <td id=\"T_246ba_row6_col4\" class=\"data row6 col4\" >-0.0318</td>\n",
       "      <td id=\"T_246ba_row6_col5\" class=\"data row6 col5\" >1.2900</td>\n",
       "      <td id=\"T_246ba_row6_col6\" class=\"data row6 col6\" >248.8952</td>\n",
       "      <td id=\"T_246ba_row6_col7\" class=\"data row6 col7\" >3.2020</td>\n",
       "    </tr>\n",
       "    <tr>\n",
       "      <th id=\"T_246ba_level0_row7\" class=\"row_heading level0 row7\" >dummy</th>\n",
       "      <td id=\"T_246ba_row7_col0\" class=\"data row7 col0\" >Dummy Regressor</td>\n",
       "      <td id=\"T_246ba_row7_col1\" class=\"data row7 col1\" >12.8199</td>\n",
       "      <td id=\"T_246ba_row7_col2\" class=\"data row7 col2\" >3264.8115</td>\n",
       "      <td id=\"T_246ba_row7_col3\" class=\"data row7 col3\" >51.1178</td>\n",
       "      <td id=\"T_246ba_row7_col4\" class=\"data row7 col4\" >-0.0181</td>\n",
       "      <td id=\"T_246ba_row7_col5\" class=\"data row7 col5\" >1.8368</td>\n",
       "      <td id=\"T_246ba_row7_col6\" class=\"data row7 col6\" >5762.4278</td>\n",
       "      <td id=\"T_246ba_row7_col7\" class=\"data row7 col7\" >3.1660</td>\n",
       "    </tr>\n",
       "    <tr>\n",
       "      <th id=\"T_246ba_level0_row8\" class=\"row_heading level0 row8\" >omp</th>\n",
       "      <td id=\"T_246ba_row8_col0\" class=\"data row8 col0\" >Orthogonal Matching Pursuit</td>\n",
       "      <td id=\"T_246ba_row8_col1\" class=\"data row8 col1\" >12.9492</td>\n",
       "      <td id=\"T_246ba_row8_col2\" class=\"data row8 col2\" >3260.7586</td>\n",
       "      <td id=\"T_246ba_row8_col3\" class=\"data row8 col3\" >51.0847</td>\n",
       "      <td id=\"T_246ba_row8_col4\" class=\"data row8 col4\" >-0.0169</td>\n",
       "      <td id=\"T_246ba_row8_col5\" class=\"data row8 col5\" >1.8443</td>\n",
       "      <td id=\"T_246ba_row8_col6\" class=\"data row8 col6\" >4692.6749</td>\n",
       "      <td id=\"T_246ba_row8_col7\" class=\"data row8 col7\" >2.8980</td>\n",
       "    </tr>\n",
       "    <tr>\n",
       "      <th id=\"T_246ba_level0_row9\" class=\"row_heading level0 row9\" >ridge</th>\n",
       "      <td id=\"T_246ba_row9_col0\" class=\"data row9 col0\" >Ridge Regression</td>\n",
       "      <td id=\"T_246ba_row9_col1\" class=\"data row9 col1\" >13.1214</td>\n",
       "      <td id=\"T_246ba_row9_col2\" class=\"data row9 col2\" >3241.8840</td>\n",
       "      <td id=\"T_246ba_row9_col3\" class=\"data row9 col3\" >50.9577</td>\n",
       "      <td id=\"T_246ba_row9_col4\" class=\"data row9 col4\" >-0.0150</td>\n",
       "      <td id=\"T_246ba_row9_col5\" class=\"data row9 col5\" >1.7899</td>\n",
       "      <td id=\"T_246ba_row9_col6\" class=\"data row9 col6\" >2787.8545</td>\n",
       "      <td id=\"T_246ba_row9_col7\" class=\"data row9 col7\" >2.8250</td>\n",
       "    </tr>\n",
       "    <tr>\n",
       "      <th id=\"T_246ba_level0_row10\" class=\"row_heading level0 row10\" >lar</th>\n",
       "      <td id=\"T_246ba_row10_col0\" class=\"data row10 col0\" >Least Angle Regression</td>\n",
       "      <td id=\"T_246ba_row10_col1\" class=\"data row10 col1\" >13.1214</td>\n",
       "      <td id=\"T_246ba_row10_col2\" class=\"data row10 col2\" >3241.8978</td>\n",
       "      <td id=\"T_246ba_row10_col3\" class=\"data row10 col3\" >50.9589</td>\n",
       "      <td id=\"T_246ba_row10_col4\" class=\"data row10 col4\" >-0.0152</td>\n",
       "      <td id=\"T_246ba_row10_col5\" class=\"data row10 col5\" >1.7894</td>\n",
       "      <td id=\"T_246ba_row10_col6\" class=\"data row10 col6\" >2789.0198</td>\n",
       "      <td id=\"T_246ba_row10_col7\" class=\"data row10 col7\" >3.5220</td>\n",
       "    </tr>\n",
       "    <tr>\n",
       "      <th id=\"T_246ba_level0_row11\" class=\"row_heading level0 row11\" >lr</th>\n",
       "      <td id=\"T_246ba_row11_col0\" class=\"data row11 col0\" >Linear Regression</td>\n",
       "      <td id=\"T_246ba_row11_col1\" class=\"data row11 col1\" >13.1214</td>\n",
       "      <td id=\"T_246ba_row11_col2\" class=\"data row11 col2\" >3241.8978</td>\n",
       "      <td id=\"T_246ba_row11_col3\" class=\"data row11 col3\" >50.9589</td>\n",
       "      <td id=\"T_246ba_row11_col4\" class=\"data row11 col4\" >-0.0152</td>\n",
       "      <td id=\"T_246ba_row11_col5\" class=\"data row11 col5\" >1.7894</td>\n",
       "      <td id=\"T_246ba_row11_col6\" class=\"data row11 col6\" >2789.0198</td>\n",
       "      <td id=\"T_246ba_row11_col7\" class=\"data row11 col7\" >2.5150</td>\n",
       "    </tr>\n",
       "    <tr>\n",
       "      <th id=\"T_246ba_level0_row12\" class=\"row_heading level0 row12\" >br</th>\n",
       "      <td id=\"T_246ba_row12_col0\" class=\"data row12 col0\" >Bayesian Ridge</td>\n",
       "      <td id=\"T_246ba_row12_col1\" class=\"data row12 col1\" >13.1725</td>\n",
       "      <td id=\"T_246ba_row12_col2\" class=\"data row12 col2\" >3245.2187</td>\n",
       "      <td id=\"T_246ba_row12_col3\" class=\"data row12 col3\" >50.9692</td>\n",
       "      <td id=\"T_246ba_row12_col4\" class=\"data row12 col4\" >-0.0137</td>\n",
       "      <td id=\"T_246ba_row12_col5\" class=\"data row12 col5\" >1.8099</td>\n",
       "      <td id=\"T_246ba_row12_col6\" class=\"data row12 col6\" >2808.6163</td>\n",
       "      <td id=\"T_246ba_row12_col7\" class=\"data row12 col7\" >2.6930</td>\n",
       "    </tr>\n",
       "    <tr>\n",
       "      <th id=\"T_246ba_level0_row13\" class=\"row_heading level0 row13\" >lasso</th>\n",
       "      <td id=\"T_246ba_row13_col0\" class=\"data row13 col0\" >Lasso Regression</td>\n",
       "      <td id=\"T_246ba_row13_col1\" class=\"data row13 col1\" >13.1762</td>\n",
       "      <td id=\"T_246ba_row13_col2\" class=\"data row13 col2\" >3245.2239</td>\n",
       "      <td id=\"T_246ba_row13_col3\" class=\"data row13 col3\" >50.9696</td>\n",
       "      <td id=\"T_246ba_row13_col4\" class=\"data row13 col4\" >-0.0137</td>\n",
       "      <td id=\"T_246ba_row13_col5\" class=\"data row13 col5\" >1.8103</td>\n",
       "      <td id=\"T_246ba_row13_col6\" class=\"data row13 col6\" >2819.0522</td>\n",
       "      <td id=\"T_246ba_row13_col7\" class=\"data row13 col7\" >2.6550</td>\n",
       "    </tr>\n",
       "    <tr>\n",
       "      <th id=\"T_246ba_level0_row14\" class=\"row_heading level0 row14\" >en</th>\n",
       "      <td id=\"T_246ba_row14_col0\" class=\"data row14 col0\" >Elastic Net</td>\n",
       "      <td id=\"T_246ba_row14_col1\" class=\"data row14 col1\" >13.1762</td>\n",
       "      <td id=\"T_246ba_row14_col2\" class=\"data row14 col2\" >3245.2239</td>\n",
       "      <td id=\"T_246ba_row14_col3\" class=\"data row14 col3\" >50.9696</td>\n",
       "      <td id=\"T_246ba_row14_col4\" class=\"data row14 col4\" >-0.0137</td>\n",
       "      <td id=\"T_246ba_row14_col5\" class=\"data row14 col5\" >1.8103</td>\n",
       "      <td id=\"T_246ba_row14_col6\" class=\"data row14 col6\" >2819.0796</td>\n",
       "      <td id=\"T_246ba_row14_col7\" class=\"data row14 col7\" >3.0190</td>\n",
       "    </tr>\n",
       "    <tr>\n",
       "      <th id=\"T_246ba_level0_row15\" class=\"row_heading level0 row15\" >llar</th>\n",
       "      <td id=\"T_246ba_row15_col0\" class=\"data row15 col0\" >Lasso Least Angle Regression</td>\n",
       "      <td id=\"T_246ba_row15_col1\" class=\"data row15 col1\" >13.1762</td>\n",
       "      <td id=\"T_246ba_row15_col2\" class=\"data row15 col2\" >3245.2239</td>\n",
       "      <td id=\"T_246ba_row15_col3\" class=\"data row15 col3\" >50.9696</td>\n",
       "      <td id=\"T_246ba_row15_col4\" class=\"data row15 col4\" >-0.0137</td>\n",
       "      <td id=\"T_246ba_row15_col5\" class=\"data row15 col5\" >1.8103</td>\n",
       "      <td id=\"T_246ba_row15_col6\" class=\"data row15 col6\" >2819.0524</td>\n",
       "      <td id=\"T_246ba_row15_col7\" class=\"data row15 col7\" >2.8210</td>\n",
       "    </tr>\n",
       "    <tr>\n",
       "      <th id=\"T_246ba_level0_row16\" class=\"row_heading level0 row16\" >par</th>\n",
       "      <td id=\"T_246ba_row16_col0\" class=\"data row16 col0\" >Passive Aggressive Regressor</td>\n",
       "      <td id=\"T_246ba_row16_col1\" class=\"data row16 col1\" >4103.1268</td>\n",
       "      <td id=\"T_246ba_row16_col2\" class=\"data row16 col2\" >1962109334.2228</td>\n",
       "      <td id=\"T_246ba_row16_col3\" class=\"data row16 col3\" >15228.8593</td>\n",
       "      <td id=\"T_246ba_row16_col4\" class=\"data row16 col4\" >-236881.0080</td>\n",
       "      <td id=\"T_246ba_row16_col5\" class=\"data row16 col5\" >5.8849</td>\n",
       "      <td id=\"T_246ba_row16_col6\" class=\"data row16 col6\" >6369415.4462</td>\n",
       "      <td id=\"T_246ba_row16_col7\" class=\"data row16 col7\" >2.6200</td>\n",
       "    </tr>\n",
       "  </tbody>\n",
       "</table>\n"
      ],
      "text/plain": [
       "<pandas.io.formats.style.Styler at 0x24852f4f190>"
      ]
     },
     "metadata": {},
     "output_type": "display_data"
    },
    {
     "data": {
      "application/vnd.jupyter.widget-view+json": {
       "model_id": "caa5a64953574bb0832ce64f2aa71439",
       "version_major": 2,
       "version_minor": 0
      },
      "text/plain": [
       "Processing:   0%|          | 0/49 [00:00<?, ?it/s]"
      ]
     },
     "metadata": {},
     "output_type": "display_data"
    }
   ],
   "source": [
    "#Multi-model training/test - Compare Mean Absolute Error\n",
    "best_indoor = compare_models(sort='MAE',budget_time=30,fold=10,exclude='lightgbm') #30 mins budget time\n",
    "# remove Light gradient boosting - causes error"
   ]
  },
  {
   "cell_type": "markdown",
   "metadata": {},
   "source": [
    "- parallel processing with fugue-spark; set n_jobs = 1 in setup()\n",
    "- set parallel = FugueBackend(\"dask\") or = FugueBackend; does not always work"
   ]
  },
  {
   "cell_type": "code",
   "execution_count": 14,
   "metadata": {
    "scrolled": true
   },
   "outputs": [
    {
     "data": {
      "text/html": [
       "<style>#sk-container-id-1 {color: black;background-color: white;}#sk-container-id-1 pre{padding: 0;}#sk-container-id-1 div.sk-toggleable {background-color: white;}#sk-container-id-1 label.sk-toggleable__label {cursor: pointer;display: block;width: 100%;margin-bottom: 0;padding: 0.3em;box-sizing: border-box;text-align: center;}#sk-container-id-1 label.sk-toggleable__label-arrow:before {content: \"▸\";float: left;margin-right: 0.25em;color: #696969;}#sk-container-id-1 label.sk-toggleable__label-arrow:hover:before {color: black;}#sk-container-id-1 div.sk-estimator:hover label.sk-toggleable__label-arrow:before {color: black;}#sk-container-id-1 div.sk-toggleable__content {max-height: 0;max-width: 0;overflow: hidden;text-align: left;background-color: #f0f8ff;}#sk-container-id-1 div.sk-toggleable__content pre {margin: 0.2em;color: black;border-radius: 0.25em;background-color: #f0f8ff;}#sk-container-id-1 input.sk-toggleable__control:checked~div.sk-toggleable__content {max-height: 200px;max-width: 100%;overflow: auto;}#sk-container-id-1 input.sk-toggleable__control:checked~label.sk-toggleable__label-arrow:before {content: \"▾\";}#sk-container-id-1 div.sk-estimator input.sk-toggleable__control:checked~label.sk-toggleable__label {background-color: #d4ebff;}#sk-container-id-1 div.sk-label input.sk-toggleable__control:checked~label.sk-toggleable__label {background-color: #d4ebff;}#sk-container-id-1 input.sk-hidden--visually {border: 0;clip: rect(1px 1px 1px 1px);clip: rect(1px, 1px, 1px, 1px);height: 1px;margin: -1px;overflow: hidden;padding: 0;position: absolute;width: 1px;}#sk-container-id-1 div.sk-estimator {font-family: monospace;background-color: #f0f8ff;border: 1px dotted black;border-radius: 0.25em;box-sizing: border-box;margin-bottom: 0.5em;}#sk-container-id-1 div.sk-estimator:hover {background-color: #d4ebff;}#sk-container-id-1 div.sk-parallel-item::after {content: \"\";width: 100%;border-bottom: 1px solid gray;flex-grow: 1;}#sk-container-id-1 div.sk-label:hover label.sk-toggleable__label {background-color: #d4ebff;}#sk-container-id-1 div.sk-serial::before {content: \"\";position: absolute;border-left: 1px solid gray;box-sizing: border-box;top: 0;bottom: 0;left: 50%;z-index: 0;}#sk-container-id-1 div.sk-serial {display: flex;flex-direction: column;align-items: center;background-color: white;padding-right: 0.2em;padding-left: 0.2em;position: relative;}#sk-container-id-1 div.sk-item {position: relative;z-index: 1;}#sk-container-id-1 div.sk-parallel {display: flex;align-items: stretch;justify-content: center;background-color: white;position: relative;}#sk-container-id-1 div.sk-item::before, #sk-container-id-1 div.sk-parallel-item::before {content: \"\";position: absolute;border-left: 1px solid gray;box-sizing: border-box;top: 0;bottom: 0;left: 50%;z-index: -1;}#sk-container-id-1 div.sk-parallel-item {display: flex;flex-direction: column;z-index: 1;position: relative;background-color: white;}#sk-container-id-1 div.sk-parallel-item:first-child::after {align-self: flex-end;width: 50%;}#sk-container-id-1 div.sk-parallel-item:last-child::after {align-self: flex-start;width: 50%;}#sk-container-id-1 div.sk-parallel-item:only-child::after {width: 0;}#sk-container-id-1 div.sk-dashed-wrapped {border: 1px dashed gray;margin: 0 0.4em 0.5em 0.4em;box-sizing: border-box;padding-bottom: 0.4em;background-color: white;}#sk-container-id-1 div.sk-label label {font-family: monospace;font-weight: bold;display: inline-block;line-height: 1.2em;}#sk-container-id-1 div.sk-label-container {text-align: center;}#sk-container-id-1 div.sk-container {/* jupyter's `normalize.less` sets `[hidden] { display: none; }` but bootstrap.min.css set `[hidden] { display: none !important; }` so we also need the `!important` here to be able to override the default hidden behavior on the sphinx rendered scikit-learn.org. See: https://github.com/scikit-learn/scikit-learn/issues/21755 */display: inline-block !important;position: relative;}#sk-container-id-1 div.sk-text-repr-fallback {display: none;}</style><div id=\"sk-container-id-1\" class=\"sk-top-container\"><div class=\"sk-text-repr-fallback\"><pre>RandomForestRegressor(n_jobs=-1, random_state=123)</pre><b>In a Jupyter environment, please rerun this cell to show the HTML representation or trust the notebook. <br />On GitHub, the HTML representation is unable to render, please try loading this page with nbviewer.org.</b></div><div class=\"sk-container\" hidden><div class=\"sk-item\"><div class=\"sk-estimator sk-toggleable\"><input class=\"sk-toggleable__control sk-hidden--visually\" id=\"sk-estimator-id-1\" type=\"checkbox\" checked><label for=\"sk-estimator-id-1\" class=\"sk-toggleable__label sk-toggleable__label-arrow\">RandomForestRegressor</label><div class=\"sk-toggleable__content\"><pre>RandomForestRegressor(n_jobs=-1, random_state=123)</pre></div></div></div></div></div>"
      ],
      "text/plain": [
       "RandomForestRegressor(n_jobs=-1, random_state=123)"
      ]
     },
     "execution_count": 14,
     "metadata": {},
     "output_type": "execute_result"
    }
   ],
   "source": [
    "best_indoor"
   ]
  },
  {
   "cell_type": "markdown",
   "metadata": {},
   "source": [
    "#### 3.1.2 Evaluate Baseline"
   ]
  },
  {
   "cell_type": "code",
   "execution_count": 22,
   "metadata": {
    "scrolled": false
   },
   "outputs": [
    {
     "name": "stdout",
     "output_type": "stream",
     "text": [
      "Changing class type to RandomForestRegressionExplainer...\n",
      "Generating self.shap_explainer = shap.TreeExplainer(model)\n",
      "Building ExplainerDashboard..\n",
      "WARNING: the number of idxs (=1143) > max_idxs_in_dropdown(=1000). However with your installed version of dash(2.9.1) dropdown search may not work smoothly. You can downgrade to `pip install dash==2.6.2` which should work better for now...\n",
      "Warning: calculating shap interaction values can be slow! Pass shap_interaction=False to remove interactions tab.\n",
      "Generating layout...\n",
      "Calculating shap values...\n",
      "Calculating predictions...\n",
      "Calculating residuals...\n",
      "Calculating absolute residuals...\n",
      "Warning: mean-absolute-percentage-error is very large (54231862601686.51), you can hide it from the metrics by passing parameter show_metrics...\n",
      "Calculating shap interaction values...\n",
      "Reminder: TreeShap computational complexity is O(TLD^2), where T is the number of trees, L is the maximum number of leaves in any tree and D the maximal depth of any tree. So reducing these will speed up the calculation.\n",
      "Warning: mean-absolute-percentage-error is very large (54231862601686.51), you can hide it from the metrics by passing parameter show_metrics...\n",
      "Warning: mean-absolute-percentage-error is very large (54231862601686.51), you can hide it from the metrics by passing parameter show_metrics...\n",
      "Calculating dependencies...\n",
      "Calculating importances...\n",
      "Calculating ShadowDecTree for each individual decision tree...\n",
      "Reminder: you can store the explainer (including calculated dependencies) with explainer.dump('explainer.joblib') and reload with e.g. ClassifierExplainer.from_file('explainer.joblib')\n",
      "Registering callbacks...\n",
      "Starting ExplainerDashboard inline (terminate it with ExplainerDashboard.terminate(8050))\n",
      "Dash is running on http://127.0.0.1:8050/\n",
      "\n"
     ]
    },
    {
     "data": {
      "text/html": [
       "\n",
       "        <iframe\n",
       "            width=\"1000\"\n",
       "            height=\"800\"\n",
       "            src=\"http://127.0.0.1:8050/\"\n",
       "            frameborder=\"0\"\n",
       "            allowfullscreen\n",
       "            \n",
       "        ></iframe>\n",
       "        "
      ],
      "text/plain": [
       "<IPython.lib.display.IFrame at 0x2487d429910>"
      ]
     },
     "metadata": {},
     "output_type": "display_data"
    }
   ],
   "source": [
    "# View evaluation dashboard - show inline\n",
    "dashboard(best_indoor,display_format='inline')"
   ]
  },
  {
   "cell_type": "markdown",
   "metadata": {},
   "source": [
    "It appears that Random forest/Decision Tree regressors are the best options. <br>\n",
    "Upon checking the SHAP results in the dashboard, the population and GDP per capita have the highest feature importance for the model."
   ]
  },
  {
   "cell_type": "code",
   "execution_count": 23,
   "metadata": {},
   "outputs": [
    {
     "data": {
      "text/html": [],
      "text/plain": [
       "<IPython.core.display.HTML object>"
      ]
     },
     "metadata": {},
     "output_type": "display_data"
    },
    {
     "data": {
      "image/png": "[encoded data removed]",
      "text/plain": [
       "<Figure size 800x550 with 1 Axes>"
      ]
     },
     "metadata": {},
     "output_type": "display_data"
    }
   ],
   "source": [
    "#Plot learning Curve\n",
    "plot_model(best_indoor, plot = 'learning')"
   ]
  },
  {
   "cell_type": "markdown",
   "metadata": {},
   "source": [
    "As shown in the learning curve, model training score doesn't increase greatly with with an increase in training instances between. In contrast, cross-validation model scores increase moderately from around 85% to 97%  (roughly 19% to 63% of the total test-train dataset). The model does not appear to be overfit."
   ]
  },
  {
   "cell_type": "code",
   "execution_count": 88,
   "metadata": {},
   "outputs": [
    {
     "name": "stdout",
     "output_type": "stream",
     "text": [
      "Mean Deaths= 7.850 | Max Deaths= 1385.600\n"
     ]
    }
   ],
   "source": [
    "print('Mean Deaths= %.3f | Max Deaths= %.3f'%(round(np.mean(df_in['Deaths_Indoor']),2),round(np.max(df_in['Deaths_Indoor']),2)))"
   ]
  },
  {
   "cell_type": "code",
   "execution_count": 24,
   "metadata": {
    "scrolled": true
   },
   "outputs": [
    {
     "data": {
      "text/html": [],
      "text/plain": [
       "<IPython.core.display.HTML object>"
      ]
     },
     "metadata": {},
     "output_type": "display_data"
    },
    {
     "data": {
      "image/png": "[encoded data removed]",
      "text/plain": [
       "<Figure size 800x550 with 2 Axes>"
      ]
     },
     "metadata": {},
     "output_type": "display_data"
    }
   ],
   "source": [
    "# Plot Residuals\n",
    "plot_model(best_indoor, plot = 'residuals')"
   ]
  },
  {
   "cell_type": "markdown",
   "metadata": {},
   "source": [
    "The residuals plot shows the distribution of residual (delta between actual vs predicted indoor air pollution deaths), which are larely within +/-10 deaths per 100,000, which relatively poor on the individual country level considering the {mean,max} of the metric. However, the R2 is actually around 99%"
   ]
  },
  {
   "cell_type": "code",
   "execution_count": 25,
   "metadata": {
    "scrolled": false
   },
   "outputs": [
    {
     "data": {
      "text/html": [],
      "text/plain": [
       "<IPython.core.display.HTML object>"
      ]
     },
     "metadata": {},
     "output_type": "display_data"
    },
    {
     "data": {
      "image/png": "[encoded data removed]",
      "text/plain": [
       "<Figure size 800x550 with 1 Axes>"
      ]
     },
     "metadata": {},
     "output_type": "display_data"
    }
   ],
   "source": [
    "# Validation curve for tree depth\n",
    "plot_model(best_indoor, plot = 'vc')"
   ]
  },
  {
   "cell_type": "markdown",
   "metadata": {},
   "source": [
    "The actual estimator (max depth) reprents the maximum number of decision tree levels were used in the cross-validation exercise. The cross-validation score has a significant increase from around 55% to 95% from a tree depth of 2 to 7. Typically a max depth around 5 to 7 is recommended in online resources."
   ]
  },
  {
   "cell_type": "code",
   "execution_count": 26,
   "metadata": {},
   "outputs": [
    {
     "data": {
      "text/html": [],
      "text/plain": [
       "<IPython.core.display.HTML object>"
      ]
     },
     "metadata": {},
     "output_type": "display_data"
    },
    {
     "data": {
      "image/png": "[encoded data removed]",
      "text/plain": [
       "<Figure size 800x500 with 1 Axes>"
      ]
     },
     "metadata": {},
     "output_type": "display_data"
    }
   ],
   "source": [
    "# Plot Feature Importance - Variable Importance (different from average importance shown in dashbaoard)\n",
    "plot_model(best_indoor, plot = 'feature')"
   ]
  },
  {
   "cell_type": "markdown",
   "metadata": {},
   "source": [
    "The Feature Importance plot shows that the Population drives the model at a variable importance of around 0.95, with GDP per capita coming in a distance second at around 0.1. The year does not seem to contribute much, which could be a problem when projecting the model forward into time."
   ]
  },
  {
   "cell_type": "markdown",
   "metadata": {},
   "source": [
    "#### 3.1.3 Tune Baseline"
   ]
  },
  {
   "cell_type": "code",
   "execution_count": 27,
   "metadata": {},
   "outputs": [
    {
     "data": {
      "text/html": [],
      "text/plain": [
       "<IPython.core.display.HTML object>"
      ]
     },
     "metadata": {},
     "output_type": "display_data"
    },
    {
     "data": {
      "text/html": [
       "<style type=\"text/css\">\n",
       "#T_e7ac0_row10_col0, #T_e7ac0_row10_col1, #T_e7ac0_row10_col2, #T_e7ac0_row10_col3, #T_e7ac0_row10_col4, #T_e7ac0_row10_col5 {\n",
       "  background: yellow;\n",
       "}\n",
       "</style>\n",
       "<table id=\"T_e7ac0\">\n",
       "  <thead>\n",
       "    <tr>\n",
       "      <th class=\"blank level0\" >&nbsp;</th>\n",
       "      <th id=\"T_e7ac0_level0_col0\" class=\"col_heading level0 col0\" >MAE</th>\n",
       "      <th id=\"T_e7ac0_level0_col1\" class=\"col_heading level0 col1\" >MSE</th>\n",
       "      <th id=\"T_e7ac0_level0_col2\" class=\"col_heading level0 col2\" >RMSE</th>\n",
       "      <th id=\"T_e7ac0_level0_col3\" class=\"col_heading level0 col3\" >R2</th>\n",
       "      <th id=\"T_e7ac0_level0_col4\" class=\"col_heading level0 col4\" >RMSLE</th>\n",
       "      <th id=\"T_e7ac0_level0_col5\" class=\"col_heading level0 col5\" >MAPE</th>\n",
       "    </tr>\n",
       "    <tr>\n",
       "      <th class=\"index_name level0\" >Fold</th>\n",
       "      <th class=\"blank col0\" >&nbsp;</th>\n",
       "      <th class=\"blank col1\" >&nbsp;</th>\n",
       "      <th class=\"blank col2\" >&nbsp;</th>\n",
       "      <th class=\"blank col3\" >&nbsp;</th>\n",
       "      <th class=\"blank col4\" >&nbsp;</th>\n",
       "      <th class=\"blank col5\" >&nbsp;</th>\n",
       "    </tr>\n",
       "  </thead>\n",
       "  <tbody>\n",
       "    <tr>\n",
       "      <th id=\"T_e7ac0_level0_row0\" class=\"row_heading level0 row0\" >0</th>\n",
       "      <td id=\"T_e7ac0_row0_col0\" class=\"data row0 col0\" >1.1214</td>\n",
       "      <td id=\"T_e7ac0_row0_col1\" class=\"data row0 col1\" >26.7613</td>\n",
       "      <td id=\"T_e7ac0_row0_col2\" class=\"data row0 col2\" >5.1731</td>\n",
       "      <td id=\"T_e7ac0_row0_col3\" class=\"data row0 col3\" >0.9890</td>\n",
       "      <td id=\"T_e7ac0_row0_col4\" class=\"data row0 col4\" >0.2590</td>\n",
       "      <td id=\"T_e7ac0_row0_col5\" class=\"data row0 col5\" >2.1161</td>\n",
       "    </tr>\n",
       "    <tr>\n",
       "      <th id=\"T_e7ac0_level0_row1\" class=\"row_heading level0 row1\" >1</th>\n",
       "      <td id=\"T_e7ac0_row1_col0\" class=\"data row1 col0\" >1.1793</td>\n",
       "      <td id=\"T_e7ac0_row1_col1\" class=\"data row1 col1\" >43.6549</td>\n",
       "      <td id=\"T_e7ac0_row1_col2\" class=\"data row1 col2\" >6.6072</td>\n",
       "      <td id=\"T_e7ac0_row1_col3\" class=\"data row1 col3\" >0.9944</td>\n",
       "      <td id=\"T_e7ac0_row1_col4\" class=\"data row1 col4\" >0.1342</td>\n",
       "      <td id=\"T_e7ac0_row1_col5\" class=\"data row1 col5\" >3.1850</td>\n",
       "    </tr>\n",
       "    <tr>\n",
       "      <th id=\"T_e7ac0_level0_row2\" class=\"row_heading level0 row2\" >2</th>\n",
       "      <td id=\"T_e7ac0_row2_col0\" class=\"data row2 col0\" >0.4054</td>\n",
       "      <td id=\"T_e7ac0_row2_col1\" class=\"data row2 col1\" >4.8780</td>\n",
       "      <td id=\"T_e7ac0_row2_col2\" class=\"data row2 col2\" >2.2086</td>\n",
       "      <td id=\"T_e7ac0_row2_col3\" class=\"data row2 col3\" >0.9780</td>\n",
       "      <td id=\"T_e7ac0_row2_col4\" class=\"data row2 col4\" >0.1180</td>\n",
       "      <td id=\"T_e7ac0_row2_col5\" class=\"data row2 col5\" >5.5689</td>\n",
       "    </tr>\n",
       "    <tr>\n",
       "      <th id=\"T_e7ac0_level0_row3\" class=\"row_heading level0 row3\" >3</th>\n",
       "      <td id=\"T_e7ac0_row3_col0\" class=\"data row3 col0\" >0.6219</td>\n",
       "      <td id=\"T_e7ac0_row3_col1\" class=\"data row3 col1\" >10.1628</td>\n",
       "      <td id=\"T_e7ac0_row3_col2\" class=\"data row3 col2\" >3.1879</td>\n",
       "      <td id=\"T_e7ac0_row3_col3\" class=\"data row3 col3\" >0.9592</td>\n",
       "      <td id=\"T_e7ac0_row3_col4\" class=\"data row3 col4\" >0.2333</td>\n",
       "      <td id=\"T_e7ac0_row3_col5\" class=\"data row3 col5\" >0.8061</td>\n",
       "    </tr>\n",
       "    <tr>\n",
       "      <th id=\"T_e7ac0_level0_row4\" class=\"row_heading level0 row4\" >4</th>\n",
       "      <td id=\"T_e7ac0_row4_col0\" class=\"data row4 col0\" >1.2171</td>\n",
       "      <td id=\"T_e7ac0_row4_col1\" class=\"data row4 col1\" >34.7624</td>\n",
       "      <td id=\"T_e7ac0_row4_col2\" class=\"data row4 col2\" >5.8960</td>\n",
       "      <td id=\"T_e7ac0_row4_col3\" class=\"data row4 col3\" >0.9857</td>\n",
       "      <td id=\"T_e7ac0_row4_col4\" class=\"data row4 col4\" >0.1761</td>\n",
       "      <td id=\"T_e7ac0_row4_col5\" class=\"data row4 col5\" >1.7779</td>\n",
       "    </tr>\n",
       "    <tr>\n",
       "      <th id=\"T_e7ac0_level0_row5\" class=\"row_heading level0 row5\" >5</th>\n",
       "      <td id=\"T_e7ac0_row5_col0\" class=\"data row5 col0\" >1.5510</td>\n",
       "      <td id=\"T_e7ac0_row5_col1\" class=\"data row5 col1\" >217.3038</td>\n",
       "      <td id=\"T_e7ac0_row5_col2\" class=\"data row5 col2\" >14.7412</td>\n",
       "      <td id=\"T_e7ac0_row5_col3\" class=\"data row5 col3\" >0.9497</td>\n",
       "      <td id=\"T_e7ac0_row5_col4\" class=\"data row5 col4\" >0.1773</td>\n",
       "      <td id=\"T_e7ac0_row5_col5\" class=\"data row5 col5\" >1.8205</td>\n",
       "    </tr>\n",
       "    <tr>\n",
       "      <th id=\"T_e7ac0_level0_row6\" class=\"row_heading level0 row6\" >6</th>\n",
       "      <td id=\"T_e7ac0_row6_col0\" class=\"data row6 col0\" >1.2693</td>\n",
       "      <td id=\"T_e7ac0_row6_col1\" class=\"data row6 col1\" >35.3477</td>\n",
       "      <td id=\"T_e7ac0_row6_col2\" class=\"data row6 col2\" >5.9454</td>\n",
       "      <td id=\"T_e7ac0_row6_col3\" class=\"data row6 col3\" >0.9849</td>\n",
       "      <td id=\"T_e7ac0_row6_col4\" class=\"data row6 col4\" >0.1364</td>\n",
       "      <td id=\"T_e7ac0_row6_col5\" class=\"data row6 col5\" >1.5787</td>\n",
       "    </tr>\n",
       "    <tr>\n",
       "      <th id=\"T_e7ac0_level0_row7\" class=\"row_heading level0 row7\" >7</th>\n",
       "      <td id=\"T_e7ac0_row7_col0\" class=\"data row7 col0\" >0.6133</td>\n",
       "      <td id=\"T_e7ac0_row7_col1\" class=\"data row7 col1\" >7.7193</td>\n",
       "      <td id=\"T_e7ac0_row7_col2\" class=\"data row7 col2\" >2.7784</td>\n",
       "      <td id=\"T_e7ac0_row7_col3\" class=\"data row7 col3\" >0.9872</td>\n",
       "      <td id=\"T_e7ac0_row7_col4\" class=\"data row7 col4\" >0.1402</td>\n",
       "      <td id=\"T_e7ac0_row7_col5\" class=\"data row7 col5\" >1.9843</td>\n",
       "    </tr>\n",
       "    <tr>\n",
       "      <th id=\"T_e7ac0_level0_row8\" class=\"row_heading level0 row8\" >8</th>\n",
       "      <td id=\"T_e7ac0_row8_col0\" class=\"data row8 col0\" >0.7966</td>\n",
       "      <td id=\"T_e7ac0_row8_col1\" class=\"data row8 col1\" >15.9025</td>\n",
       "      <td id=\"T_e7ac0_row8_col2\" class=\"data row8 col2\" >3.9878</td>\n",
       "      <td id=\"T_e7ac0_row8_col3\" class=\"data row8 col3\" >0.9959</td>\n",
       "      <td id=\"T_e7ac0_row8_col4\" class=\"data row8 col4\" >0.1714</td>\n",
       "      <td id=\"T_e7ac0_row8_col5\" class=\"data row8 col5\" >3.6194</td>\n",
       "    </tr>\n",
       "    <tr>\n",
       "      <th id=\"T_e7ac0_level0_row9\" class=\"row_heading level0 row9\" >9</th>\n",
       "      <td id=\"T_e7ac0_row9_col0\" class=\"data row9 col0\" >1.2869</td>\n",
       "      <td id=\"T_e7ac0_row9_col1\" class=\"data row9 col1\" >74.3128</td>\n",
       "      <td id=\"T_e7ac0_row9_col2\" class=\"data row9 col2\" >8.6205</td>\n",
       "      <td id=\"T_e7ac0_row9_col3\" class=\"data row9 col3\" >0.9911</td>\n",
       "      <td id=\"T_e7ac0_row9_col4\" class=\"data row9 col4\" >0.1927</td>\n",
       "      <td id=\"T_e7ac0_row9_col5\" class=\"data row9 col5\" >14.6291</td>\n",
       "    </tr>\n",
       "    <tr>\n",
       "      <th id=\"T_e7ac0_level0_row10\" class=\"row_heading level0 row10\" >Mean</th>\n",
       "      <td id=\"T_e7ac0_row10_col0\" class=\"data row10 col0\" >1.0062</td>\n",
       "      <td id=\"T_e7ac0_row10_col1\" class=\"data row10 col1\" >47.0806</td>\n",
       "      <td id=\"T_e7ac0_row10_col2\" class=\"data row10 col2\" >5.9146</td>\n",
       "      <td id=\"T_e7ac0_row10_col3\" class=\"data row10 col3\" >0.9815</td>\n",
       "      <td id=\"T_e7ac0_row10_col4\" class=\"data row10 col4\" >0.1739</td>\n",
       "      <td id=\"T_e7ac0_row10_col5\" class=\"data row10 col5\" >3.7086</td>\n",
       "    </tr>\n",
       "    <tr>\n",
       "      <th id=\"T_e7ac0_level0_row11\" class=\"row_heading level0 row11\" >Std</th>\n",
       "      <td id=\"T_e7ac0_row11_col0\" class=\"data row11 col0\" >0.3520</td>\n",
       "      <td id=\"T_e7ac0_row11_col1\" class=\"data row11 col1\" >60.0807</td>\n",
       "      <td id=\"T_e7ac0_row11_col2\" class=\"data row11 col2\" >3.4782</td>\n",
       "      <td id=\"T_e7ac0_row11_col3\" class=\"data row11 col3\" >0.0145</td>\n",
       "      <td id=\"T_e7ac0_row11_col4\" class=\"data row11 col4\" >0.0429</td>\n",
       "      <td id=\"T_e7ac0_row11_col5\" class=\"data row11 col5\" >3.8570</td>\n",
       "    </tr>\n",
       "  </tbody>\n",
       "</table>\n"
      ],
      "text/plain": [
       "<pandas.io.formats.style.Styler at 0x2487e5c09a0>"
      ]
     },
     "metadata": {},
     "output_type": "display_data"
    },
    {
     "data": {
      "application/vnd.jupyter.widget-view+json": {
       "model_id": "82f4a8ed2c434719ada549c6124f1374",
       "version_major": 2,
       "version_minor": 0
      },
      "text/plain": [
       "Processing:   0%|          | 0/4 [00:00<?, ?it/s]"
      ]
     },
     "metadata": {},
     "output_type": "display_data"
    }
   ],
   "source": [
    "# Create the Random Forest Regressor Model\n",
    "rf_indoor = create_model('rf')"
   ]
  },
  {
   "cell_type": "code",
   "execution_count": 28,
   "metadata": {},
   "outputs": [
    {
     "data": {
      "text/plain": [
       "{'bootstrap': True,\n",
       " 'ccp_alpha': 0.0,\n",
       " 'criterion': 'squared_error',\n",
       " 'max_depth': None,\n",
       " 'max_features': 1.0,\n",
       " 'max_leaf_nodes': None,\n",
       " 'max_samples': None,\n",
       " 'min_impurity_decrease': 0.0,\n",
       " 'min_samples_leaf': 1,\n",
       " 'min_samples_split': 2,\n",
       " 'min_weight_fraction_leaf': 0.0,\n",
       " 'n_estimators': 100,\n",
       " 'n_jobs': -1,\n",
       " 'oob_score': False,\n",
       " 'random_state': 123,\n",
       " 'verbose': 0,\n",
       " 'warm_start': False}"
      ]
     },
     "execution_count": 28,
     "metadata": {},
     "output_type": "execute_result"
    }
   ],
   "source": [
    "# Check the default random forest parameters\n",
    "rf_indoor.get_params()"
   ]
  },
  {
   "cell_type": "markdown",
   "metadata": {},
   "source": [
    "Comments on default parameters:\n",
    "- Note that max_depth is set to None, which means that the tree could be overfitting on the training data. <br>\n",
    "Commonly searched hyperparameters are:\n",
    "- n_estimators = number of trees in the forest\n",
    "- max_depth = tree depth\n",
    "- max_features = number of features considered when looking for best at every split; if None or 1.0 then max_features = n_features = bagged tree. Lower values = more randomnes. Can increase to sqrt(n total features)\n",
    "- min_samples_split = min sampled data points required to split a node (decision node); lower numbers tend to overfit\n",
    "- min_samples_leaf = min sampled data points required at each leaf (terminal) node; lower numbers tend to overfit\n",
    "- We will leave bootstrapping enabled, to permite for a more accurate estimation"
   ]
  },
  {
   "cell_type": "code",
   "execution_count": 29,
   "metadata": {},
   "outputs": [],
   "source": [
    "# Define custom hyperparamter grid only on select parameters\n",
    "rf_grid = {'max_depth':[3,5,7], \n",
    "           'n_estimators':[25,50,100],\n",
    "           'max_features':[0.5,1,'sqrt']}"
   ]
  },
  {
   "cell_type": "code",
   "execution_count": 30,
   "metadata": {
    "scrolled": false
   },
   "outputs": [
    {
     "data": {
      "text/html": [],
      "text/plain": [
       "<IPython.core.display.HTML object>"
      ]
     },
     "metadata": {},
     "output_type": "display_data"
    },
    {
     "data": {
      "text/html": [
       "<style type=\"text/css\">\n",
       "#T_d8533_row10_col0, #T_d8533_row10_col1, #T_d8533_row10_col2, #T_d8533_row10_col3, #T_d8533_row10_col4, #T_d8533_row10_col5 {\n",
       "  background: yellow;\n",
       "}\n",
       "</style>\n",
       "<table id=\"T_d8533\">\n",
       "  <thead>\n",
       "    <tr>\n",
       "      <th class=\"blank level0\" >&nbsp;</th>\n",
       "      <th id=\"T_d8533_level0_col0\" class=\"col_heading level0 col0\" >MAE</th>\n",
       "      <th id=\"T_d8533_level0_col1\" class=\"col_heading level0 col1\" >MSE</th>\n",
       "      <th id=\"T_d8533_level0_col2\" class=\"col_heading level0 col2\" >RMSE</th>\n",
       "      <th id=\"T_d8533_level0_col3\" class=\"col_heading level0 col3\" >R2</th>\n",
       "      <th id=\"T_d8533_level0_col4\" class=\"col_heading level0 col4\" >RMSLE</th>\n",
       "      <th id=\"T_d8533_level0_col5\" class=\"col_heading level0 col5\" >MAPE</th>\n",
       "    </tr>\n",
       "    <tr>\n",
       "      <th class=\"index_name level0\" >Fold</th>\n",
       "      <th class=\"blank col0\" >&nbsp;</th>\n",
       "      <th class=\"blank col1\" >&nbsp;</th>\n",
       "      <th class=\"blank col2\" >&nbsp;</th>\n",
       "      <th class=\"blank col3\" >&nbsp;</th>\n",
       "      <th class=\"blank col4\" >&nbsp;</th>\n",
       "      <th class=\"blank col5\" >&nbsp;</th>\n",
       "    </tr>\n",
       "  </thead>\n",
       "  <tbody>\n",
       "    <tr>\n",
       "      <th id=\"T_d8533_level0_row0\" class=\"row_heading level0 row0\" >0</th>\n",
       "      <td id=\"T_d8533_row0_col0\" class=\"data row0 col0\" >2.4282</td>\n",
       "      <td id=\"T_d8533_row0_col1\" class=\"data row0 col1\" >54.3249</td>\n",
       "      <td id=\"T_d8533_row0_col2\" class=\"data row0 col2\" >7.3705</td>\n",
       "      <td id=\"T_d8533_row0_col3\" class=\"data row0 col3\" >0.9776</td>\n",
       "      <td id=\"T_d8533_row0_col4\" class=\"data row0 col4\" >0.6369</td>\n",
       "      <td id=\"T_d8533_row0_col5\" class=\"data row0 col5\" >63.9489</td>\n",
       "    </tr>\n",
       "    <tr>\n",
       "      <th id=\"T_d8533_level0_row1\" class=\"row_heading level0 row1\" >1</th>\n",
       "      <td id=\"T_d8533_row1_col0\" class=\"data row1 col0\" >3.7119</td>\n",
       "      <td id=\"T_d8533_row1_col1\" class=\"data row1 col1\" >332.0570</td>\n",
       "      <td id=\"T_d8533_row1_col2\" class=\"data row1 col2\" >18.2224</td>\n",
       "      <td id=\"T_d8533_row1_col3\" class=\"data row1 col3\" >0.9571</td>\n",
       "      <td id=\"T_d8533_row1_col4\" class=\"data row1 col4\" >0.6193</td>\n",
       "      <td id=\"T_d8533_row1_col5\" class=\"data row1 col5\" >79.3246</td>\n",
       "    </tr>\n",
       "    <tr>\n",
       "      <th id=\"T_d8533_level0_row2\" class=\"row_heading level0 row2\" >2</th>\n",
       "      <td id=\"T_d8533_row2_col0\" class=\"data row2 col0\" >1.8073</td>\n",
       "      <td id=\"T_d8533_row2_col1\" class=\"data row2 col1\" >25.6951</td>\n",
       "      <td id=\"T_d8533_row2_col2\" class=\"data row2 col2\" >5.0690</td>\n",
       "      <td id=\"T_d8533_row2_col3\" class=\"data row2 col3\" >0.8844</td>\n",
       "      <td id=\"T_d8533_row2_col4\" class=\"data row2 col4\" >0.6282</td>\n",
       "      <td id=\"T_d8533_row2_col5\" class=\"data row2 col5\" >75.2500</td>\n",
       "    </tr>\n",
       "    <tr>\n",
       "      <th id=\"T_d8533_level0_row3\" class=\"row_heading level0 row3\" >3</th>\n",
       "      <td id=\"T_d8533_row3_col0\" class=\"data row3 col0\" >2.1386</td>\n",
       "      <td id=\"T_d8533_row3_col1\" class=\"data row3 col1\" >36.1435</td>\n",
       "      <td id=\"T_d8533_row3_col2\" class=\"data row3 col2\" >6.0119</td>\n",
       "      <td id=\"T_d8533_row3_col3\" class=\"data row3 col3\" >0.8547</td>\n",
       "      <td id=\"T_d8533_row3_col4\" class=\"data row3 col4\" >0.6054</td>\n",
       "      <td id=\"T_d8533_row3_col5\" class=\"data row3 col5\" >44.9476</td>\n",
       "    </tr>\n",
       "    <tr>\n",
       "      <th id=\"T_d8533_level0_row4\" class=\"row_heading level0 row4\" >4</th>\n",
       "      <td id=\"T_d8533_row4_col0\" class=\"data row4 col0\" >3.0918</td>\n",
       "      <td id=\"T_d8533_row4_col1\" class=\"data row4 col1\" >147.6153</td>\n",
       "      <td id=\"T_d8533_row4_col2\" class=\"data row4 col2\" >12.1497</td>\n",
       "      <td id=\"T_d8533_row4_col3\" class=\"data row4 col3\" >0.9395</td>\n",
       "      <td id=\"T_d8533_row4_col4\" class=\"data row4 col4\" >0.5440</td>\n",
       "      <td id=\"T_d8533_row4_col5\" class=\"data row4 col5\" >55.5251</td>\n",
       "    </tr>\n",
       "    <tr>\n",
       "      <th id=\"T_d8533_level0_row5\" class=\"row_heading level0 row5\" >5</th>\n",
       "      <td id=\"T_d8533_row5_col0\" class=\"data row5 col0\" >2.9600</td>\n",
       "      <td id=\"T_d8533_row5_col1\" class=\"data row5 col1\" >141.3657</td>\n",
       "      <td id=\"T_d8533_row5_col2\" class=\"data row5 col2\" >11.8897</td>\n",
       "      <td id=\"T_d8533_row5_col3\" class=\"data row5 col3\" >0.9673</td>\n",
       "      <td id=\"T_d8533_row5_col4\" class=\"data row5 col4\" >0.6700</td>\n",
       "      <td id=\"T_d8533_row5_col5\" class=\"data row5 col5\" >65.7365</td>\n",
       "    </tr>\n",
       "    <tr>\n",
       "      <th id=\"T_d8533_level0_row6\" class=\"row_heading level0 row6\" >6</th>\n",
       "      <td id=\"T_d8533_row6_col0\" class=\"data row6 col0\" >2.7337</td>\n",
       "      <td id=\"T_d8533_row6_col1\" class=\"data row6 col1\" >64.9904</td>\n",
       "      <td id=\"T_d8533_row6_col2\" class=\"data row6 col2\" >8.0617</td>\n",
       "      <td id=\"T_d8533_row6_col3\" class=\"data row6 col3\" >0.9722</td>\n",
       "      <td id=\"T_d8533_row6_col4\" class=\"data row6 col4\" >0.5586</td>\n",
       "      <td id=\"T_d8533_row6_col5\" class=\"data row6 col5\" >61.3956</td>\n",
       "    </tr>\n",
       "    <tr>\n",
       "      <th id=\"T_d8533_level0_row7\" class=\"row_heading level0 row7\" >7</th>\n",
       "      <td id=\"T_d8533_row7_col0\" class=\"data row7 col0\" >2.5667</td>\n",
       "      <td id=\"T_d8533_row7_col1\" class=\"data row7 col1\" >63.0243</td>\n",
       "      <td id=\"T_d8533_row7_col2\" class=\"data row7 col2\" >7.9388</td>\n",
       "      <td id=\"T_d8533_row7_col3\" class=\"data row7 col3\" >0.8955</td>\n",
       "      <td id=\"T_d8533_row7_col4\" class=\"data row7 col4\" >0.6542</td>\n",
       "      <td id=\"T_d8533_row7_col5\" class=\"data row7 col5\" >86.3050</td>\n",
       "    </tr>\n",
       "    <tr>\n",
       "      <th id=\"T_d8533_level0_row8\" class=\"row_heading level0 row8\" >8</th>\n",
       "      <td id=\"T_d8533_row8_col0\" class=\"data row8 col0\" >2.4097</td>\n",
       "      <td id=\"T_d8533_row8_col1\" class=\"data row8 col1\" >58.7306</td>\n",
       "      <td id=\"T_d8533_row8_col2\" class=\"data row8 col2\" >7.6636</td>\n",
       "      <td id=\"T_d8533_row8_col3\" class=\"data row8 col3\" >0.9849</td>\n",
       "      <td id=\"T_d8533_row8_col4\" class=\"data row8 col4\" >0.6169</td>\n",
       "      <td id=\"T_d8533_row8_col5\" class=\"data row8 col5\" >103.1619</td>\n",
       "    </tr>\n",
       "    <tr>\n",
       "      <th id=\"T_d8533_level0_row9\" class=\"row_heading level0 row9\" >9</th>\n",
       "      <td id=\"T_d8533_row9_col0\" class=\"data row9 col0\" >2.7507</td>\n",
       "      <td id=\"T_d8533_row9_col1\" class=\"data row9 col1\" >184.5570</td>\n",
       "      <td id=\"T_d8533_row9_col2\" class=\"data row9 col2\" >13.5852</td>\n",
       "      <td id=\"T_d8533_row9_col3\" class=\"data row9 col3\" >0.9779</td>\n",
       "      <td id=\"T_d8533_row9_col4\" class=\"data row9 col4\" >0.6049</td>\n",
       "      <td id=\"T_d8533_row9_col5\" class=\"data row9 col5\" >83.4195</td>\n",
       "    </tr>\n",
       "    <tr>\n",
       "      <th id=\"T_d8533_level0_row10\" class=\"row_heading level0 row10\" >Mean</th>\n",
       "      <td id=\"T_d8533_row10_col0\" class=\"data row10 col0\" >2.6599</td>\n",
       "      <td id=\"T_d8533_row10_col1\" class=\"data row10 col1\" >110.8504</td>\n",
       "      <td id=\"T_d8533_row10_col2\" class=\"data row10 col2\" >9.7963</td>\n",
       "      <td id=\"T_d8533_row10_col3\" class=\"data row10 col3\" >0.9411</td>\n",
       "      <td id=\"T_d8533_row10_col4\" class=\"data row10 col4\" >0.6138</td>\n",
       "      <td id=\"T_d8533_row10_col5\" class=\"data row10 col5\" >71.9015</td>\n",
       "    </tr>\n",
       "    <tr>\n",
       "      <th id=\"T_d8533_level0_row11\" class=\"row_heading level0 row11\" >Std</th>\n",
       "      <td id=\"T_d8533_row11_col0\" class=\"data row11 col0\" >0.5020</td>\n",
       "      <td id=\"T_d8533_row11_col1\" class=\"data row11 col1\" >89.3210</td>\n",
       "      <td id=\"T_d8533_row11_col2\" class=\"data row11 col2\" >3.8579</td>\n",
       "      <td id=\"T_d8533_row11_col3\" class=\"data row11 col3\" >0.0439</td>\n",
       "      <td id=\"T_d8533_row11_col4\" class=\"data row11 col4\" >0.0369</td>\n",
       "      <td id=\"T_d8533_row11_col5\" class=\"data row11 col5\" >16.0934</td>\n",
       "    </tr>\n",
       "  </tbody>\n",
       "</table>\n"
      ],
      "text/plain": [
       "<pandas.io.formats.style.Styler at 0x2487e6da160>"
      ]
     },
     "metadata": {},
     "output_type": "display_data"
    },
    {
     "data": {
      "application/vnd.jupyter.widget-view+json": {
       "model_id": "2cfef6a972ff4fa8a96c5011c52b11ac",
       "version_major": 2,
       "version_minor": 0
      },
      "text/plain": [
       "Processing:   0%|          | 0/7 [00:00<?, ?it/s]"
      ]
     },
     "metadata": {},
     "output_type": "display_data"
    },
    {
     "name": "stdout",
     "output_type": "stream",
     "text": [
      "Fitting 10 folds for each of 27 candidates, totalling 270 fits\n"
     ]
    }
   ],
   "source": [
    "# Optimize the model - optimize for MAE, pass custom hyperparameter grid; \n",
    "# force resulting model not to be overriden by baseline if performance is worse\n",
    "tuned_rf_indoor = tune_model(rf_indoor,optimize='MAE',custom_grid=rf_grid,search_algorithm='grid',choose_better=False)"
   ]
  },
  {
   "cell_type": "code",
   "execution_count": 31,
   "metadata": {},
   "outputs": [
    {
     "data": {
      "text/plain": [
       "{'bootstrap': True,\n",
       " 'ccp_alpha': 0.0,\n",
       " 'criterion': 'squared_error',\n",
       " 'max_depth': 7,\n",
       " 'max_features': 0.5,\n",
       " 'max_leaf_nodes': None,\n",
       " 'max_samples': None,\n",
       " 'min_impurity_decrease': 0.0,\n",
       " 'min_samples_leaf': 1,\n",
       " 'min_samples_split': 2,\n",
       " 'min_weight_fraction_leaf': 0.0,\n",
       " 'n_estimators': 100,\n",
       " 'n_jobs': -1,\n",
       " 'oob_score': False,\n",
       " 'random_state': 123,\n",
       " 'verbose': 0,\n",
       " 'warm_start': False}"
      ]
     },
     "execution_count": 31,
     "metadata": {},
     "output_type": "execute_result"
    }
   ],
   "source": [
    "tuned_rf_indoor.get_params()"
   ]
  },
  {
   "cell_type": "markdown",
   "metadata": {},
   "source": [
    "The base random forest model with default parameters appears to still have less MAE than any of the models in the hyperparamter search space. Regardless of this, we will at least constrain the max_depth=7 to avoid overfitting."
   ]
  },
  {
   "cell_type": "markdown",
   "metadata": {},
   "source": [
    "#### 3.1.4 Predict"
   ]
  },
  {
   "cell_type": "code",
   "execution_count": 32,
   "metadata": {
    "scrolled": false
   },
   "outputs": [
    {
     "data": {
      "text/html": [
       "<style type=\"text/css\">\n",
       "</style>\n",
       "<table id=\"T_5e336\">\n",
       "  <thead>\n",
       "    <tr>\n",
       "      <th class=\"blank level0\" >&nbsp;</th>\n",
       "      <th id=\"T_5e336_level0_col0\" class=\"col_heading level0 col0\" >Model</th>\n",
       "      <th id=\"T_5e336_level0_col1\" class=\"col_heading level0 col1\" >MAE</th>\n",
       "      <th id=\"T_5e336_level0_col2\" class=\"col_heading level0 col2\" >MSE</th>\n",
       "      <th id=\"T_5e336_level0_col3\" class=\"col_heading level0 col3\" >RMSE</th>\n",
       "      <th id=\"T_5e336_level0_col4\" class=\"col_heading level0 col4\" >R2</th>\n",
       "      <th id=\"T_5e336_level0_col5\" class=\"col_heading level0 col5\" >RMSLE</th>\n",
       "      <th id=\"T_5e336_level0_col6\" class=\"col_heading level0 col6\" >MAPE</th>\n",
       "    </tr>\n",
       "  </thead>\n",
       "  <tbody>\n",
       "    <tr>\n",
       "      <th id=\"T_5e336_level0_row0\" class=\"row_heading level0 row0\" >0</th>\n",
       "      <td id=\"T_5e336_row0_col0\" class=\"data row0 col0\" >Random Forest Regressor</td>\n",
       "      <td id=\"T_5e336_row0_col1\" class=\"data row0 col1\" >2.7853</td>\n",
       "      <td id=\"T_5e336_row0_col2\" class=\"data row0 col2\" >71.9083</td>\n",
       "      <td id=\"T_5e336_row0_col3\" class=\"data row0 col3\" >8.4799</td>\n",
       "      <td id=\"T_5e336_row0_col4\" class=\"data row0 col4\" >0.9548</td>\n",
       "      <td id=\"T_5e336_row0_col5\" class=\"data row0 col5\" >0.6542</td>\n",
       "      <td id=\"T_5e336_row0_col6\" class=\"data row0 col6\" >80.7505</td>\n",
       "    </tr>\n",
       "  </tbody>\n",
       "</table>\n"
      ],
      "text/plain": [
       "<pandas.io.formats.style.Styler at 0x2487d4b9d90>"
      ]
     },
     "metadata": {},
     "output_type": "display_data"
    },
    {
     "data": {
      "text/html": [
       "<div>\n",
       "<style scoped>\n",
       "    .dataframe tbody tr th:only-of-type {\n",
       "        vertical-align: middle;\n",
       "    }\n",
       "\n",
       "    .dataframe tbody tr th {\n",
       "        vertical-align: top;\n",
       "    }\n",
       "\n",
       "    .dataframe thead th {\n",
       "        text-align: right;\n",
       "    }\n",
       "</style>\n",
       "<table border=\"1\" class=\"dataframe\">\n",
       "  <thead>\n",
       "    <tr style=\"text-align: right;\">\n",
       "      <th></th>\n",
       "      <th>GDP_pCapita</th>\n",
       "      <th>Population</th>\n",
       "      <th>SoDI</th>\n",
       "      <th>Income_Class_encoded</th>\n",
       "      <th>Year</th>\n",
       "      <th>Deaths_Indoor</th>\n",
       "      <th>prediction_label</th>\n",
       "    </tr>\n",
       "  </thead>\n",
       "  <tbody>\n",
       "    <tr>\n",
       "      <th>1025</th>\n",
       "      <td>5386.467773</td>\n",
       "      <td>14587367.0</td>\n",
       "      <td>0.630</td>\n",
       "      <td>2.0</td>\n",
       "      <td>1970-01-01 00:00:00.000001996</td>\n",
       "      <td>0.064852</td>\n",
       "      <td>0.425407</td>\n",
       "    </tr>\n",
       "    <tr>\n",
       "      <th>935</th>\n",
       "      <td>21227.347656</td>\n",
       "      <td>29610218.0</td>\n",
       "      <td>0.809</td>\n",
       "      <td>3.0</td>\n",
       "      <td>1970-01-01 00:00:00.000001996</td>\n",
       "      <td>0.001061</td>\n",
       "      <td>0.036093</td>\n",
       "    </tr>\n",
       "    <tr>\n",
       "      <th>3024</th>\n",
       "      <td>117254.742188</td>\n",
       "      <td>607950.0</td>\n",
       "      <td>0.894</td>\n",
       "      <td>3.0</td>\n",
       "      <td>1970-01-01 00:00:00.000002018</td>\n",
       "      <td>0.000000</td>\n",
       "      <td>0.151802</td>\n",
       "    </tr>\n",
       "    <tr>\n",
       "      <th>3584</th>\n",
       "      <td>10171.480469</td>\n",
       "      <td>10289.0</td>\n",
       "      <td>0.573</td>\n",
       "      <td>3.0</td>\n",
       "      <td>1970-01-01 00:00:00.000002014</td>\n",
       "      <td>94.461243</td>\n",
       "      <td>82.835495</td>\n",
       "    </tr>\n",
       "    <tr>\n",
       "      <th>2131</th>\n",
       "      <td>477.762451</td>\n",
       "      <td>7081119.0</td>\n",
       "      <td>0.190</td>\n",
       "      <td>0.0</td>\n",
       "      <td>1970-01-01 00:00:00.000001994</td>\n",
       "      <td>3.347876</td>\n",
       "      <td>2.131716</td>\n",
       "    </tr>\n",
       "    <tr>\n",
       "      <th>...</th>\n",
       "      <td>...</td>\n",
       "      <td>...</td>\n",
       "      <td>...</td>\n",
       "      <td>...</td>\n",
       "      <td>...</td>\n",
       "      <td>...</td>\n",
       "      <td>...</td>\n",
       "    </tr>\n",
       "    <tr>\n",
       "      <th>524</th>\n",
       "      <td>2993.033691</td>\n",
       "      <td>230248.0</td>\n",
       "      <td>0.494</td>\n",
       "      <td>1.0</td>\n",
       "      <td>1970-01-01 00:00:00.000001998</td>\n",
       "      <td>8.676930</td>\n",
       "      <td>25.638869</td>\n",
       "    </tr>\n",
       "    <tr>\n",
       "      <th>5227</th>\n",
       "      <td>590.393494</td>\n",
       "      <td>4413477.0</td>\n",
       "      <td>0.556</td>\n",
       "      <td>0.0</td>\n",
       "      <td>1970-01-01 00:00:00.000001998</td>\n",
       "      <td>0.017455</td>\n",
       "      <td>1.261738</td>\n",
       "    </tr>\n",
       "    <tr>\n",
       "      <th>2883</th>\n",
       "      <td>7948.685547</td>\n",
       "      <td>5537620.0</td>\n",
       "      <td>0.660</td>\n",
       "      <td>2.0</td>\n",
       "      <td>1970-01-01 00:00:00.000002012</td>\n",
       "      <td>0.007826</td>\n",
       "      <td>0.309097</td>\n",
       "    </tr>\n",
       "    <tr>\n",
       "      <th>3941</th>\n",
       "      <td>1664.245728</td>\n",
       "      <td>3494496.0</td>\n",
       "      <td>0.467</td>\n",
       "      <td>1.0</td>\n",
       "      <td>1970-01-01 00:00:00.000002007</td>\n",
       "      <td>0.076977</td>\n",
       "      <td>4.326149</td>\n",
       "    </tr>\n",
       "    <tr>\n",
       "      <th>2083</th>\n",
       "      <td>26713.058594</td>\n",
       "      <td>158649.0</td>\n",
       "      <td>0.773</td>\n",
       "      <td>3.0</td>\n",
       "      <td>1970-01-01 00:00:00.000002006</td>\n",
       "      <td>1.191918</td>\n",
       "      <td>0.970600</td>\n",
       "    </tr>\n",
       "  </tbody>\n",
       "</table>\n",
       "<p>1143 rows × 7 columns</p>\n",
       "</div>"
      ],
      "text/plain": [
       "        GDP_pCapita  Population   SoDI  Income_Class_encoded  \\\n",
       "1025    5386.467773  14587367.0  0.630                   2.0   \n",
       "935    21227.347656  29610218.0  0.809                   3.0   \n",
       "3024  117254.742188    607950.0  0.894                   3.0   \n",
       "3584   10171.480469     10289.0  0.573                   3.0   \n",
       "2131     477.762451   7081119.0  0.190                   0.0   \n",
       "...             ...         ...    ...                   ...   \n",
       "524     2993.033691    230248.0  0.494                   1.0   \n",
       "5227     590.393494   4413477.0  0.556                   0.0   \n",
       "2883    7948.685547   5537620.0  0.660                   2.0   \n",
       "3941    1664.245728   3494496.0  0.467                   1.0   \n",
       "2083   26713.058594    158649.0  0.773                   3.0   \n",
       "\n",
       "                              Year  Deaths_Indoor  prediction_label  \n",
       "1025 1970-01-01 00:00:00.000001996       0.064852          0.425407  \n",
       "935  1970-01-01 00:00:00.000001996       0.001061          0.036093  \n",
       "3024 1970-01-01 00:00:00.000002018       0.000000          0.151802  \n",
       "3584 1970-01-01 00:00:00.000002014      94.461243         82.835495  \n",
       "2131 1970-01-01 00:00:00.000001994       3.347876          2.131716  \n",
       "...                            ...            ...               ...  \n",
       "524  1970-01-01 00:00:00.000001998       8.676930         25.638869  \n",
       "5227 1970-01-01 00:00:00.000001998       0.017455          1.261738  \n",
       "2883 1970-01-01 00:00:00.000002012       0.007826          0.309097  \n",
       "3941 1970-01-01 00:00:00.000002007       0.076977          4.326149  \n",
       "2083 1970-01-01 00:00:00.000002006       1.191918          0.970600  \n",
       "\n",
       "[1143 rows x 7 columns]"
      ]
     },
     "execution_count": 32,
     "metadata": {},
     "output_type": "execute_result"
    }
   ],
   "source": [
    "#Use random forest model to predict holdout testing dataset indoor pollution deaths per 100,000\n",
    "predictions = predict_model(tuned_rf_indoor)\n",
    "predictions"
   ]
  },
  {
   "cell_type": "markdown",
   "metadata": {},
   "source": [
    "Even with the hold-out testing dataset, the tuned model has RMSE,MAE,R2 not drastically different from the test-train dataset used to build the model, so it shows that the model was not overfitted to the input data."
   ]
  },
  {
   "cell_type": "code",
   "execution_count": 33,
   "metadata": {},
   "outputs": [
    {
     "name": "stdout",
     "output_type": "stream",
     "text": [
      "Transformation Pipeline and Model Successfully Saved\n"
     ]
    },
    {
     "data": {
      "text/plain": [
       "(Pipeline(memory=FastMemory(location=C:\\Users\\kevin\\AppData\\Local\\Temp\\joblib),\n",
       "          steps=[('date_feature_extractor',\n",
       "                  TransformerWrapper(include=['Year'],\n",
       "                                     transformer=ExtractDateTimeFeatures())),\n",
       "                 ('numerical_imputer',\n",
       "                  TransformerWrapper(include=['GDP_pCapita', 'Population',\n",
       "                                              'SoDI', 'Income_Class_encoded'],\n",
       "                                     transformer=SimpleImputer())),\n",
       "                 ('categorical_imputer',\n",
       "                  TransformerWrapper(include=[],\n",
       "                                     transformer=SimpleImputer(strategy='most_frequent'))),\n",
       "                 ('trained_model',\n",
       "                  RandomForestRegressor(n_jobs=-1, random_state=123))]),\n",
       " 'Indoor Deaths Random Forest 2023-03-29.pkl')"
      ]
     },
     "execution_count": 33,
     "metadata": {},
     "output_type": "execute_result"
    }
   ],
   "source": [
    "#Save Model\n",
    "save_model(best_indoor,'Indoor Deaths Random Forest 2023-03-29')"
   ]
  },
  {
   "cell_type": "markdown",
   "metadata": {},
   "source": [
    "**IMPORTANT NOTE** Since this is just a test for which model may offer the best solution, the fact that the data is time-series data was omitted. The first model actually just predicts deaths based mainly on socio-demographic and economic factors. The meaning of the 'Year' is not actually being interpreted as a data-time variable. <br>\n",
    "A potential method could be to set the fold_strategy = 'timeseries', which will use a rolling-window to develop the cross-validation folds. However, the issue with this is that all the timeseries of every nation is concatenated vertically. "
   ]
  },
  {
   "cell_type": "markdown",
   "metadata": {},
   "source": [
    "### 3.2 Model Selection for Outdoor Pollution - PM2.5"
   ]
  },
  {
   "cell_type": "markdown",
   "metadata": {},
   "source": [
    "Now we will test models for predictions on outdoor PM2.5 pollution. First a baseline exercise will be conducted, where the max_depth will be capped at 7, as with the indoor deaths. Hyperparameter tuning will be omitted for this exercise. Next, a  blended model will be created with the top 3 models from the compare_models() process."
   ]
  },
  {
   "cell_type": "code",
   "execution_count": 39,
   "metadata": {},
   "outputs": [],
   "source": [
    "#Dependent variable - classify the level of indoor pollution death\n",
    "y=df_in.loc[:,['Deaths_PM2.5']]"
   ]
  },
  {
   "cell_type": "code",
   "execution_count": 40,
   "metadata": {},
   "outputs": [],
   "source": [
    "dataset = pd.concat([X,y],axis=1)"
   ]
  },
  {
   "cell_type": "markdown",
   "metadata": {},
   "source": [
    "#### 3.2.1 Determine Top 3 Models"
   ]
  },
  {
   "cell_type": "code",
   "execution_count": 41,
   "metadata": {},
   "outputs": [
    {
     "data": {
      "text/html": [
       "<style type=\"text/css\">\n",
       "#T_6e392_row9_col1, #T_6e392_row16_col1 {\n",
       "  background-color: lightgreen;\n",
       "}\n",
       "</style>\n",
       "<table id=\"T_6e392\">\n",
       "  <thead>\n",
       "    <tr>\n",
       "      <th class=\"blank level0\" >&nbsp;</th>\n",
       "      <th id=\"T_6e392_level0_col0\" class=\"col_heading level0 col0\" >Description</th>\n",
       "      <th id=\"T_6e392_level0_col1\" class=\"col_heading level0 col1\" >Value</th>\n",
       "    </tr>\n",
       "  </thead>\n",
       "  <tbody>\n",
       "    <tr>\n",
       "      <th id=\"T_6e392_level0_row0\" class=\"row_heading level0 row0\" >0</th>\n",
       "      <td id=\"T_6e392_row0_col0\" class=\"data row0 col0\" >Session id</td>\n",
       "      <td id=\"T_6e392_row0_col1\" class=\"data row0 col1\" >123</td>\n",
       "    </tr>\n",
       "    <tr>\n",
       "      <th id=\"T_6e392_level0_row1\" class=\"row_heading level0 row1\" >1</th>\n",
       "      <td id=\"T_6e392_row1_col0\" class=\"data row1 col0\" >Target</td>\n",
       "      <td id=\"T_6e392_row1_col1\" class=\"data row1 col1\" >Deaths_PM2.5</td>\n",
       "    </tr>\n",
       "    <tr>\n",
       "      <th id=\"T_6e392_level0_row2\" class=\"row_heading level0 row2\" >2</th>\n",
       "      <td id=\"T_6e392_row2_col0\" class=\"data row2 col0\" >Target type</td>\n",
       "      <td id=\"T_6e392_row2_col1\" class=\"data row2 col1\" >Regression</td>\n",
       "    </tr>\n",
       "    <tr>\n",
       "      <th id=\"T_6e392_level0_row3\" class=\"row_heading level0 row3\" >3</th>\n",
       "      <td id=\"T_6e392_row3_col0\" class=\"data row3 col0\" >Original data shape</td>\n",
       "      <td id=\"T_6e392_row3_col1\" class=\"data row3 col1\" >(5712, 6)</td>\n",
       "    </tr>\n",
       "    <tr>\n",
       "      <th id=\"T_6e392_level0_row4\" class=\"row_heading level0 row4\" >4</th>\n",
       "      <td id=\"T_6e392_row4_col0\" class=\"data row4 col0\" >Transformed data shape</td>\n",
       "      <td id=\"T_6e392_row4_col1\" class=\"data row4 col1\" >(5712, 8)</td>\n",
       "    </tr>\n",
       "    <tr>\n",
       "      <th id=\"T_6e392_level0_row5\" class=\"row_heading level0 row5\" >5</th>\n",
       "      <td id=\"T_6e392_row5_col0\" class=\"data row5 col0\" >Transformed train set shape</td>\n",
       "      <td id=\"T_6e392_row5_col1\" class=\"data row5 col1\" >(4569, 8)</td>\n",
       "    </tr>\n",
       "    <tr>\n",
       "      <th id=\"T_6e392_level0_row6\" class=\"row_heading level0 row6\" >6</th>\n",
       "      <td id=\"T_6e392_row6_col0\" class=\"data row6 col0\" >Transformed test set shape</td>\n",
       "      <td id=\"T_6e392_row6_col1\" class=\"data row6 col1\" >(1143, 8)</td>\n",
       "    </tr>\n",
       "    <tr>\n",
       "      <th id=\"T_6e392_level0_row7\" class=\"row_heading level0 row7\" >7</th>\n",
       "      <td id=\"T_6e392_row7_col0\" class=\"data row7 col0\" >Numeric features</td>\n",
       "      <td id=\"T_6e392_row7_col1\" class=\"data row7 col1\" >4</td>\n",
       "    </tr>\n",
       "    <tr>\n",
       "      <th id=\"T_6e392_level0_row8\" class=\"row_heading level0 row8\" >8</th>\n",
       "      <td id=\"T_6e392_row8_col0\" class=\"data row8 col0\" >Date features</td>\n",
       "      <td id=\"T_6e392_row8_col1\" class=\"data row8 col1\" >1</td>\n",
       "    </tr>\n",
       "    <tr>\n",
       "      <th id=\"T_6e392_level0_row9\" class=\"row_heading level0 row9\" >9</th>\n",
       "      <td id=\"T_6e392_row9_col0\" class=\"data row9 col0\" >Preprocess</td>\n",
       "      <td id=\"T_6e392_row9_col1\" class=\"data row9 col1\" >True</td>\n",
       "    </tr>\n",
       "    <tr>\n",
       "      <th id=\"T_6e392_level0_row10\" class=\"row_heading level0 row10\" >10</th>\n",
       "      <td id=\"T_6e392_row10_col0\" class=\"data row10 col0\" >Imputation type</td>\n",
       "      <td id=\"T_6e392_row10_col1\" class=\"data row10 col1\" >simple</td>\n",
       "    </tr>\n",
       "    <tr>\n",
       "      <th id=\"T_6e392_level0_row11\" class=\"row_heading level0 row11\" >11</th>\n",
       "      <td id=\"T_6e392_row11_col0\" class=\"data row11 col0\" >Numeric imputation</td>\n",
       "      <td id=\"T_6e392_row11_col1\" class=\"data row11 col1\" >mean</td>\n",
       "    </tr>\n",
       "    <tr>\n",
       "      <th id=\"T_6e392_level0_row12\" class=\"row_heading level0 row12\" >12</th>\n",
       "      <td id=\"T_6e392_row12_col0\" class=\"data row12 col0\" >Categorical imputation</td>\n",
       "      <td id=\"T_6e392_row12_col1\" class=\"data row12 col1\" >mode</td>\n",
       "    </tr>\n",
       "    <tr>\n",
       "      <th id=\"T_6e392_level0_row13\" class=\"row_heading level0 row13\" >13</th>\n",
       "      <td id=\"T_6e392_row13_col0\" class=\"data row13 col0\" >Fold Generator</td>\n",
       "      <td id=\"T_6e392_row13_col1\" class=\"data row13 col1\" >KFold</td>\n",
       "    </tr>\n",
       "    <tr>\n",
       "      <th id=\"T_6e392_level0_row14\" class=\"row_heading level0 row14\" >14</th>\n",
       "      <td id=\"T_6e392_row14_col0\" class=\"data row14 col0\" >Fold Number</td>\n",
       "      <td id=\"T_6e392_row14_col1\" class=\"data row14 col1\" >10</td>\n",
       "    </tr>\n",
       "    <tr>\n",
       "      <th id=\"T_6e392_level0_row15\" class=\"row_heading level0 row15\" >15</th>\n",
       "      <td id=\"T_6e392_row15_col0\" class=\"data row15 col0\" >CPU Jobs</td>\n",
       "      <td id=\"T_6e392_row15_col1\" class=\"data row15 col1\" >-1</td>\n",
       "    </tr>\n",
       "    <tr>\n",
       "      <th id=\"T_6e392_level0_row16\" class=\"row_heading level0 row16\" >16</th>\n",
       "      <td id=\"T_6e392_row16_col0\" class=\"data row16 col0\" >Use GPU</td>\n",
       "      <td id=\"T_6e392_row16_col1\" class=\"data row16 col1\" >True</td>\n",
       "    </tr>\n",
       "    <tr>\n",
       "      <th id=\"T_6e392_level0_row17\" class=\"row_heading level0 row17\" >17</th>\n",
       "      <td id=\"T_6e392_row17_col0\" class=\"data row17 col0\" >Log Experiment</td>\n",
       "      <td id=\"T_6e392_row17_col1\" class=\"data row17 col1\" >False</td>\n",
       "    </tr>\n",
       "    <tr>\n",
       "      <th id=\"T_6e392_level0_row18\" class=\"row_heading level0 row18\" >18</th>\n",
       "      <td id=\"T_6e392_row18_col0\" class=\"data row18 col0\" >Experiment Name</td>\n",
       "      <td id=\"T_6e392_row18_col1\" class=\"data row18 col1\" >reg-default-name</td>\n",
       "    </tr>\n",
       "    <tr>\n",
       "      <th id=\"T_6e392_level0_row19\" class=\"row_heading level0 row19\" >19</th>\n",
       "      <td id=\"T_6e392_row19_col0\" class=\"data row19 col0\" >USI</td>\n",
       "      <td id=\"T_6e392_row19_col1\" class=\"data row19 col1\" >7bf4</td>\n",
       "    </tr>\n",
       "  </tbody>\n",
       "</table>\n"
      ],
      "text/plain": [
       "<pandas.io.formats.style.Styler at 0x2487e9eae20>"
      ]
     },
     "metadata": {},
     "output_type": "display_data"
    }
   ],
   "source": [
    "# Initialize the PyCaret setup\n",
    "s = setup(data=dataset,target='Deaths_PM2.5',\n",
    "          numeric_features=num_features,date_features=date_features,train_size=0.8,\n",
    "          use_gpu=True,fold=10,n_jobs=-1,session_id=123) "
   ]
  },
  {
   "cell_type": "code",
   "execution_count": 42,
   "metadata": {
    "scrolled": false
   },
   "outputs": [
    {
     "data": {
      "text/html": [],
      "text/plain": [
       "<IPython.core.display.HTML object>"
      ]
     },
     "metadata": {},
     "output_type": "display_data"
    },
    {
     "data": {
      "text/html": [
       "<style type=\"text/css\">\n",
       "#T_286bc th {\n",
       "  text-align: left;\n",
       "}\n",
       "#T_286bc_row0_col0, #T_286bc_row0_col2, #T_286bc_row0_col3, #T_286bc_row0_col4, #T_286bc_row0_col5, #T_286bc_row1_col0, #T_286bc_row1_col1, #T_286bc_row1_col4, #T_286bc_row1_col6, #T_286bc_row2_col0, #T_286bc_row2_col1, #T_286bc_row2_col2, #T_286bc_row2_col3, #T_286bc_row2_col5, #T_286bc_row2_col6, #T_286bc_row3_col0, #T_286bc_row3_col1, #T_286bc_row3_col2, #T_286bc_row3_col3, #T_286bc_row3_col4, #T_286bc_row3_col5, #T_286bc_row3_col6, #T_286bc_row4_col0, #T_286bc_row4_col1, #T_286bc_row4_col2, #T_286bc_row4_col3, #T_286bc_row4_col4, #T_286bc_row4_col5, #T_286bc_row4_col6, #T_286bc_row5_col0, #T_286bc_row5_col1, #T_286bc_row5_col2, #T_286bc_row5_col3, #T_286bc_row5_col4, #T_286bc_row5_col5, #T_286bc_row5_col6, #T_286bc_row6_col0, #T_286bc_row6_col1, #T_286bc_row6_col2, #T_286bc_row6_col3, #T_286bc_row6_col4, #T_286bc_row6_col5, #T_286bc_row6_col6, #T_286bc_row7_col0, #T_286bc_row7_col1, #T_286bc_row7_col2, #T_286bc_row7_col3, #T_286bc_row7_col4, #T_286bc_row7_col5, #T_286bc_row7_col6, #T_286bc_row8_col0, #T_286bc_row8_col1, #T_286bc_row8_col2, #T_286bc_row8_col3, #T_286bc_row8_col4, #T_286bc_row8_col5, #T_286bc_row8_col6, #T_286bc_row9_col0, #T_286bc_row9_col1, #T_286bc_row9_col2, #T_286bc_row9_col3, #T_286bc_row9_col4, #T_286bc_row9_col5, #T_286bc_row9_col6, #T_286bc_row10_col0, #T_286bc_row10_col1, #T_286bc_row10_col2, #T_286bc_row10_col3, #T_286bc_row10_col4, #T_286bc_row10_col5, #T_286bc_row10_col6, #T_286bc_row11_col0, #T_286bc_row11_col1, #T_286bc_row11_col2, #T_286bc_row11_col3, #T_286bc_row11_col4, #T_286bc_row11_col5, #T_286bc_row11_col6, #T_286bc_row12_col0, #T_286bc_row12_col1, #T_286bc_row12_col2, #T_286bc_row12_col3, #T_286bc_row12_col4, #T_286bc_row12_col5, #T_286bc_row12_col6, #T_286bc_row13_col0, #T_286bc_row13_col1, #T_286bc_row13_col2, #T_286bc_row13_col3, #T_286bc_row13_col4, #T_286bc_row13_col5, #T_286bc_row13_col6, #T_286bc_row14_col0, #T_286bc_row14_col1, #T_286bc_row14_col2, #T_286bc_row14_col3, #T_286bc_row14_col4, #T_286bc_row14_col5, #T_286bc_row14_col6, #T_286bc_row15_col0, #T_286bc_row15_col1, #T_286bc_row15_col2, #T_286bc_row15_col3, #T_286bc_row15_col4, #T_286bc_row15_col5, #T_286bc_row15_col6, #T_286bc_row16_col0, #T_286bc_row16_col1, #T_286bc_row16_col2, #T_286bc_row16_col3, #T_286bc_row16_col4, #T_286bc_row16_col5, #T_286bc_row16_col6 {\n",
       "  text-align: left;\n",
       "}\n",
       "#T_286bc_row0_col1, #T_286bc_row0_col6, #T_286bc_row1_col2, #T_286bc_row1_col3, #T_286bc_row1_col5, #T_286bc_row2_col4 {\n",
       "  text-align: left;\n",
       "  background-color: yellow;\n",
       "}\n",
       "#T_286bc_row0_col7, #T_286bc_row1_col7, #T_286bc_row2_col7, #T_286bc_row3_col7, #T_286bc_row4_col7, #T_286bc_row5_col7, #T_286bc_row6_col7, #T_286bc_row7_col7, #T_286bc_row8_col7, #T_286bc_row9_col7, #T_286bc_row10_col7, #T_286bc_row12_col7, #T_286bc_row13_col7, #T_286bc_row14_col7, #T_286bc_row15_col7, #T_286bc_row16_col7 {\n",
       "  text-align: left;\n",
       "  background-color: lightgrey;\n",
       "}\n",
       "#T_286bc_row11_col7 {\n",
       "  text-align: left;\n",
       "  background-color: yellow;\n",
       "  background-color: lightgrey;\n",
       "}\n",
       "</style>\n",
       "<table id=\"T_286bc\">\n",
       "  <thead>\n",
       "    <tr>\n",
       "      <th class=\"blank level0\" >&nbsp;</th>\n",
       "      <th id=\"T_286bc_level0_col0\" class=\"col_heading level0 col0\" >Model</th>\n",
       "      <th id=\"T_286bc_level0_col1\" class=\"col_heading level0 col1\" >MAE</th>\n",
       "      <th id=\"T_286bc_level0_col2\" class=\"col_heading level0 col2\" >MSE</th>\n",
       "      <th id=\"T_286bc_level0_col3\" class=\"col_heading level0 col3\" >RMSE</th>\n",
       "      <th id=\"T_286bc_level0_col4\" class=\"col_heading level0 col4\" >R2</th>\n",
       "      <th id=\"T_286bc_level0_col5\" class=\"col_heading level0 col5\" >RMSLE</th>\n",
       "      <th id=\"T_286bc_level0_col6\" class=\"col_heading level0 col6\" >MAPE</th>\n",
       "      <th id=\"T_286bc_level0_col7\" class=\"col_heading level0 col7\" >TT (Sec)</th>\n",
       "    </tr>\n",
       "  </thead>\n",
       "  <tbody>\n",
       "    <tr>\n",
       "      <th id=\"T_286bc_level0_row0\" class=\"row_heading level0 row0\" >dt</th>\n",
       "      <td id=\"T_286bc_row0_col0\" class=\"data row0 col0\" >Decision Tree Regressor</td>\n",
       "      <td id=\"T_286bc_row0_col1\" class=\"data row0 col1\" >0.5401</td>\n",
       "      <td id=\"T_286bc_row0_col2\" class=\"data row0 col2\" >10.0574</td>\n",
       "      <td id=\"T_286bc_row0_col3\" class=\"data row0 col3\" >2.9965</td>\n",
       "      <td id=\"T_286bc_row0_col4\" class=\"data row0 col4\" >0.9626</td>\n",
       "      <td id=\"T_286bc_row0_col5\" class=\"data row0 col5\" >0.1710</td>\n",
       "      <td id=\"T_286bc_row0_col6\" class=\"data row0 col6\" >0.2056</td>\n",
       "      <td id=\"T_286bc_row0_col7\" class=\"data row0 col7\" >2.5480</td>\n",
       "    </tr>\n",
       "    <tr>\n",
       "      <th id=\"T_286bc_level0_row1\" class=\"row_heading level0 row1\" >rf</th>\n",
       "      <td id=\"T_286bc_row1_col0\" class=\"data row1 col0\" >Random Forest Regressor</td>\n",
       "      <td id=\"T_286bc_row1_col1\" class=\"data row1 col1\" >0.5480</td>\n",
       "      <td id=\"T_286bc_row1_col2\" class=\"data row1 col2\" >7.0039</td>\n",
       "      <td id=\"T_286bc_row1_col3\" class=\"data row1 col3\" >2.4803</td>\n",
       "      <td id=\"T_286bc_row1_col4\" class=\"data row1 col4\" >0.9789</td>\n",
       "      <td id=\"T_286bc_row1_col5\" class=\"data row1 col5\" >0.1317</td>\n",
       "      <td id=\"T_286bc_row1_col6\" class=\"data row1 col6\" >0.2133</td>\n",
       "      <td id=\"T_286bc_row1_col7\" class=\"data row1 col7\" >2.9100</td>\n",
       "    </tr>\n",
       "    <tr>\n",
       "      <th id=\"T_286bc_level0_row2\" class=\"row_heading level0 row2\" >et</th>\n",
       "      <td id=\"T_286bc_row2_col0\" class=\"data row2 col0\" >Extra Trees Regressor</td>\n",
       "      <td id=\"T_286bc_row2_col1\" class=\"data row2 col1\" >0.6299</td>\n",
       "      <td id=\"T_286bc_row2_col2\" class=\"data row2 col2\" >7.4491</td>\n",
       "      <td id=\"T_286bc_row2_col3\" class=\"data row2 col3\" >2.5118</td>\n",
       "      <td id=\"T_286bc_row2_col4\" class=\"data row2 col4\" >0.9790</td>\n",
       "      <td id=\"T_286bc_row2_col5\" class=\"data row2 col5\" >0.2004</td>\n",
       "      <td id=\"T_286bc_row2_col6\" class=\"data row2 col6\" >0.7481</td>\n",
       "      <td id=\"T_286bc_row2_col7\" class=\"data row2 col7\" >3.0600</td>\n",
       "    </tr>\n",
       "    <tr>\n",
       "      <th id=\"T_286bc_level0_row3\" class=\"row_heading level0 row3\" >gbr</th>\n",
       "      <td id=\"T_286bc_row3_col0\" class=\"data row3 col0\" >Gradient Boosting Regressor</td>\n",
       "      <td id=\"T_286bc_row3_col1\" class=\"data row3 col1\" >1.0531</td>\n",
       "      <td id=\"T_286bc_row3_col2\" class=\"data row3 col2\" >8.6165</td>\n",
       "      <td id=\"T_286bc_row3_col3\" class=\"data row3 col3\" >2.8567</td>\n",
       "      <td id=\"T_286bc_row3_col4\" class=\"data row3 col4\" >0.9696</td>\n",
       "      <td id=\"T_286bc_row3_col5\" class=\"data row3 col5\" >0.2462</td>\n",
       "      <td id=\"T_286bc_row3_col6\" class=\"data row3 col6\" >1.4319</td>\n",
       "      <td id=\"T_286bc_row3_col7\" class=\"data row3 col7\" >2.7630</td>\n",
       "    </tr>\n",
       "    <tr>\n",
       "      <th id=\"T_286bc_level0_row4\" class=\"row_heading level0 row4\" >knn</th>\n",
       "      <td id=\"T_286bc_row4_col0\" class=\"data row4 col0\" >K Neighbors Regressor</td>\n",
       "      <td id=\"T_286bc_row4_col1\" class=\"data row4 col1\" >1.0817</td>\n",
       "      <td id=\"T_286bc_row4_col2\" class=\"data row4 col2\" >13.6959</td>\n",
       "      <td id=\"T_286bc_row4_col3\" class=\"data row4 col3\" >3.5646</td>\n",
       "      <td id=\"T_286bc_row4_col4\" class=\"data row4 col4\" >0.9546</td>\n",
       "      <td id=\"T_286bc_row4_col5\" class=\"data row4 col5\" >0.2761</td>\n",
       "      <td id=\"T_286bc_row4_col6\" class=\"data row4 col6\" >0.7928</td>\n",
       "      <td id=\"T_286bc_row4_col7\" class=\"data row4 col7\" >4.6650</td>\n",
       "    </tr>\n",
       "    <tr>\n",
       "      <th id=\"T_286bc_level0_row5\" class=\"row_heading level0 row5\" >ada</th>\n",
       "      <td id=\"T_286bc_row5_col0\" class=\"data row5 col0\" >AdaBoost Regressor</td>\n",
       "      <td id=\"T_286bc_row5_col1\" class=\"data row5 col1\" >2.2791</td>\n",
       "      <td id=\"T_286bc_row5_col2\" class=\"data row5 col2\" >26.5407</td>\n",
       "      <td id=\"T_286bc_row5_col3\" class=\"data row5 col3\" >5.0671</td>\n",
       "      <td id=\"T_286bc_row5_col4\" class=\"data row5 col4\" >0.9056</td>\n",
       "      <td id=\"T_286bc_row5_col5\" class=\"data row5 col5\" >0.5587</td>\n",
       "      <td id=\"T_286bc_row5_col6\" class=\"data row5 col6\" >11.2681</td>\n",
       "      <td id=\"T_286bc_row5_col7\" class=\"data row5 col7\" >2.7060</td>\n",
       "    </tr>\n",
       "    <tr>\n",
       "      <th id=\"T_286bc_level0_row6\" class=\"row_heading level0 row6\" >huber</th>\n",
       "      <td id=\"T_286bc_row6_col0\" class=\"data row6 col0\" >Huber Regressor</td>\n",
       "      <td id=\"T_286bc_row6_col1\" class=\"data row6 col1\" >5.3816</td>\n",
       "      <td id=\"T_286bc_row6_col2\" class=\"data row6 col2\" >348.8304</td>\n",
       "      <td id=\"T_286bc_row6_col3\" class=\"data row6 col3\" >18.1979</td>\n",
       "      <td id=\"T_286bc_row6_col4\" class=\"data row6 col4\" >-0.0879</td>\n",
       "      <td id=\"T_286bc_row6_col5\" class=\"data row6 col5\" >1.2715</td>\n",
       "      <td id=\"T_286bc_row6_col6\" class=\"data row6 col6\" >3.9441</td>\n",
       "      <td id=\"T_286bc_row6_col7\" class=\"data row6 col7\" >2.7920</td>\n",
       "    </tr>\n",
       "    <tr>\n",
       "      <th id=\"T_286bc_level0_row7\" class=\"row_heading level0 row7\" >br</th>\n",
       "      <td id=\"T_286bc_row7_col0\" class=\"data row7 col0\" >Bayesian Ridge</td>\n",
       "      <td id=\"T_286bc_row7_col1\" class=\"data row7 col1\" >7.6028</td>\n",
       "      <td id=\"T_286bc_row7_col2\" class=\"data row7 col2\" >314.2222</td>\n",
       "      <td id=\"T_286bc_row7_col3\" class=\"data row7 col3\" >17.2453</td>\n",
       "      <td id=\"T_286bc_row7_col4\" class=\"data row7 col4\" >0.0272</td>\n",
       "      <td id=\"T_286bc_row7_col5\" class=\"data row7 col5\" >1.4022</td>\n",
       "      <td id=\"T_286bc_row7_col6\" class=\"data row7 col6\" >50.8959</td>\n",
       "      <td id=\"T_286bc_row7_col7\" class=\"data row7 col7\" >2.4200</td>\n",
       "    </tr>\n",
       "    <tr>\n",
       "      <th id=\"T_286bc_level0_row8\" class=\"row_heading level0 row8\" >ridge</th>\n",
       "      <td id=\"T_286bc_row8_col0\" class=\"data row8 col0\" >Ridge Regression</td>\n",
       "      <td id=\"T_286bc_row8_col1\" class=\"data row8 col1\" >7.6064</td>\n",
       "      <td id=\"T_286bc_row8_col2\" class=\"data row8 col2\" >314.2063</td>\n",
       "      <td id=\"T_286bc_row8_col3\" class=\"data row8 col3\" >17.2454</td>\n",
       "      <td id=\"T_286bc_row8_col4\" class=\"data row8 col4\" >0.0271</td>\n",
       "      <td id=\"T_286bc_row8_col5\" class=\"data row8 col5\" >1.4017</td>\n",
       "      <td id=\"T_286bc_row8_col6\" class=\"data row8 col6\" >50.9735</td>\n",
       "      <td id=\"T_286bc_row8_col7\" class=\"data row8 col7\" >2.5750</td>\n",
       "    </tr>\n",
       "    <tr>\n",
       "      <th id=\"T_286bc_level0_row9\" class=\"row_heading level0 row9\" >lr</th>\n",
       "      <td id=\"T_286bc_row9_col0\" class=\"data row9 col0\" >Linear Regression</td>\n",
       "      <td id=\"T_286bc_row9_col1\" class=\"data row9 col1\" >7.6067</td>\n",
       "      <td id=\"T_286bc_row9_col2\" class=\"data row9 col2\" >314.2076</td>\n",
       "      <td id=\"T_286bc_row9_col3\" class=\"data row9 col3\" >17.2455</td>\n",
       "      <td id=\"T_286bc_row9_col4\" class=\"data row9 col4\" >0.0271</td>\n",
       "      <td id=\"T_286bc_row9_col5\" class=\"data row9 col5\" >1.4017</td>\n",
       "      <td id=\"T_286bc_row9_col6\" class=\"data row9 col6\" >50.9820</td>\n",
       "      <td id=\"T_286bc_row9_col7\" class=\"data row9 col7\" >2.3730</td>\n",
       "    </tr>\n",
       "    <tr>\n",
       "      <th id=\"T_286bc_level0_row10\" class=\"row_heading level0 row10\" >lar</th>\n",
       "      <td id=\"T_286bc_row10_col0\" class=\"data row10 col0\" >Least Angle Regression</td>\n",
       "      <td id=\"T_286bc_row10_col1\" class=\"data row10 col1\" >7.6078</td>\n",
       "      <td id=\"T_286bc_row10_col2\" class=\"data row10 col2\" >314.2209</td>\n",
       "      <td id=\"T_286bc_row10_col3\" class=\"data row10 col3\" >17.2460</td>\n",
       "      <td id=\"T_286bc_row10_col4\" class=\"data row10 col4\" >0.0270</td>\n",
       "      <td id=\"T_286bc_row10_col5\" class=\"data row10 col5\" >1.4014</td>\n",
       "      <td id=\"T_286bc_row10_col6\" class=\"data row10 col6\" >50.9752</td>\n",
       "      <td id=\"T_286bc_row10_col7\" class=\"data row10 col7\" >2.6830</td>\n",
       "    </tr>\n",
       "    <tr>\n",
       "      <th id=\"T_286bc_level0_row11\" class=\"row_heading level0 row11\" >lasso</th>\n",
       "      <td id=\"T_286bc_row11_col0\" class=\"data row11 col0\" >Lasso Regression</td>\n",
       "      <td id=\"T_286bc_row11_col1\" class=\"data row11 col1\" >7.6877</td>\n",
       "      <td id=\"T_286bc_row11_col2\" class=\"data row11 col2\" >315.8708</td>\n",
       "      <td id=\"T_286bc_row11_col3\" class=\"data row11 col3\" >17.2917</td>\n",
       "      <td id=\"T_286bc_row11_col4\" class=\"data row11 col4\" >0.0217</td>\n",
       "      <td id=\"T_286bc_row11_col5\" class=\"data row11 col5\" >1.4416</td>\n",
       "      <td id=\"T_286bc_row11_col6\" class=\"data row11 col6\" >53.8391</td>\n",
       "      <td id=\"T_286bc_row11_col7\" class=\"data row11 col7\" >2.2440</td>\n",
       "    </tr>\n",
       "    <tr>\n",
       "      <th id=\"T_286bc_level0_row12\" class=\"row_heading level0 row12\" >llar</th>\n",
       "      <td id=\"T_286bc_row12_col0\" class=\"data row12 col0\" >Lasso Least Angle Regression</td>\n",
       "      <td id=\"T_286bc_row12_col1\" class=\"data row12 col1\" >7.6877</td>\n",
       "      <td id=\"T_286bc_row12_col2\" class=\"data row12 col2\" >315.8708</td>\n",
       "      <td id=\"T_286bc_row12_col3\" class=\"data row12 col3\" >17.2917</td>\n",
       "      <td id=\"T_286bc_row12_col4\" class=\"data row12 col4\" >0.0217</td>\n",
       "      <td id=\"T_286bc_row12_col5\" class=\"data row12 col5\" >1.4416</td>\n",
       "      <td id=\"T_286bc_row12_col6\" class=\"data row12 col6\" >53.8391</td>\n",
       "      <td id=\"T_286bc_row12_col7\" class=\"data row12 col7\" >2.6220</td>\n",
       "    </tr>\n",
       "    <tr>\n",
       "      <th id=\"T_286bc_level0_row13\" class=\"row_heading level0 row13\" >en</th>\n",
       "      <td id=\"T_286bc_row13_col0\" class=\"data row13 col0\" >Elastic Net</td>\n",
       "      <td id=\"T_286bc_row13_col1\" class=\"data row13 col1\" >7.7125</td>\n",
       "      <td id=\"T_286bc_row13_col2\" class=\"data row13 col2\" >316.5579</td>\n",
       "      <td id=\"T_286bc_row13_col3\" class=\"data row13 col3\" >17.3124</td>\n",
       "      <td id=\"T_286bc_row13_col4\" class=\"data row13 col4\" >0.0191</td>\n",
       "      <td id=\"T_286bc_row13_col5\" class=\"data row13 col5\" >1.4490</td>\n",
       "      <td id=\"T_286bc_row13_col6\" class=\"data row13 col6\" >54.4763</td>\n",
       "      <td id=\"T_286bc_row13_col7\" class=\"data row13 col7\" >2.7290</td>\n",
       "    </tr>\n",
       "    <tr>\n",
       "      <th id=\"T_286bc_level0_row14\" class=\"row_heading level0 row14\" >dummy</th>\n",
       "      <td id=\"T_286bc_row14_col0\" class=\"data row14 col0\" >Dummy Regressor</td>\n",
       "      <td id=\"T_286bc_row14_col1\" class=\"data row14 col1\" >7.8272</td>\n",
       "      <td id=\"T_286bc_row14_col2\" class=\"data row14 col2\" >323.0005</td>\n",
       "      <td id=\"T_286bc_row14_col3\" class=\"data row14 col3\" >17.5022</td>\n",
       "      <td id=\"T_286bc_row14_col4\" class=\"data row14 col4\" >-0.0048</td>\n",
       "      <td id=\"T_286bc_row14_col5\" class=\"data row14 col5\" >1.4837</td>\n",
       "      <td id=\"T_286bc_row14_col6\" class=\"data row14 col6\" >58.0146</td>\n",
       "      <td id=\"T_286bc_row14_col7\" class=\"data row14 col7\" >2.3860</td>\n",
       "    </tr>\n",
       "    <tr>\n",
       "      <th id=\"T_286bc_level0_row15\" class=\"row_heading level0 row15\" >omp</th>\n",
       "      <td id=\"T_286bc_row15_col0\" class=\"data row15 col0\" >Orthogonal Matching Pursuit</td>\n",
       "      <td id=\"T_286bc_row15_col1\" class=\"data row15 col1\" >7.8679</td>\n",
       "      <td id=\"T_286bc_row15_col2\" class=\"data row15 col2\" >321.0936</td>\n",
       "      <td id=\"T_286bc_row15_col3\" class=\"data row15 col3\" >17.4489</td>\n",
       "      <td id=\"T_286bc_row15_col4\" class=\"data row15 col4\" >0.0016</td>\n",
       "      <td id=\"T_286bc_row15_col5\" class=\"data row15 col5\" >1.4829</td>\n",
       "      <td id=\"T_286bc_row15_col6\" class=\"data row15 col6\" >56.8566</td>\n",
       "      <td id=\"T_286bc_row15_col7\" class=\"data row15 col7\" >2.8110</td>\n",
       "    </tr>\n",
       "    <tr>\n",
       "      <th id=\"T_286bc_level0_row16\" class=\"row_heading level0 row16\" >par</th>\n",
       "      <td id=\"T_286bc_row16_col0\" class=\"data row16 col0\" >Passive Aggressive Regressor</td>\n",
       "      <td id=\"T_286bc_row16_col1\" class=\"data row16 col1\" >4246.5662</td>\n",
       "      <td id=\"T_286bc_row16_col2\" class=\"data row16 col2\" >809270356.9473</td>\n",
       "      <td id=\"T_286bc_row16_col3\" class=\"data row16 col3\" >15908.5749</td>\n",
       "      <td id=\"T_286bc_row16_col4\" class=\"data row16 col4\" >-5359446.3804</td>\n",
       "      <td id=\"T_286bc_row16_col5\" class=\"data row16 col5\" >5.2976</td>\n",
       "      <td id=\"T_286bc_row16_col6\" class=\"data row16 col6\" >358158.7250</td>\n",
       "      <td id=\"T_286bc_row16_col7\" class=\"data row16 col7\" >2.8250</td>\n",
       "    </tr>\n",
       "  </tbody>\n",
       "</table>\n"
      ],
      "text/plain": [
       "<pandas.io.formats.style.Styler at 0x248753f4dc0>"
      ]
     },
     "metadata": {},
     "output_type": "display_data"
    },
    {
     "data": {
      "application/vnd.jupyter.widget-view+json": {
       "model_id": "1cb098da1be3458e994ba36747485ce8",
       "version_major": 2,
       "version_minor": 0
      },
      "text/plain": [
       "Processing:   0%|          | 0/51 [00:00<?, ?it/s]"
      ]
     },
     "metadata": {},
     "output_type": "display_data"
    }
   ],
   "source": [
    "# Multi-model training/test - Compare Mean Absolute Error\n",
    "# Select the best 3 models - Create a blended model this time\n",
    "best_3_outdoor = compare_models(sort='MAE',budget_time=30,fold=10,exclude='lightgbm',n_select=3) \n",
    "# 30 mins budget time\n",
    "# remove Light gradient boosting - causes error"
   ]
  },
  {
   "cell_type": "code",
   "execution_count": 49,
   "metadata": {
    "scrolled": true
   },
   "outputs": [
    {
     "data": {
      "text/plain": [
       "{'ccp_alpha': 0.0,\n",
       " 'criterion': 'squared_error',\n",
       " 'max_depth': None,\n",
       " 'max_features': None,\n",
       " 'max_leaf_nodes': None,\n",
       " 'min_impurity_decrease': 0.0,\n",
       " 'min_samples_leaf': 1,\n",
       " 'min_samples_split': 2,\n",
       " 'min_weight_fraction_leaf': 0.0,\n",
       " 'random_state': 123,\n",
       " 'splitter': 'best'}"
      ]
     },
     "execution_count": 49,
     "metadata": {},
     "output_type": "execute_result"
    }
   ],
   "source": [
    "# Check the model parameters in top 3\n",
    "best_3_outdoor[0].get_params()"
   ]
  },
  {
   "cell_type": "markdown",
   "metadata": {},
   "source": [
    "#### 3.2.2 Blended Model"
   ]
  },
  {
   "cell_type": "code",
   "execution_count": 50,
   "metadata": {
    "scrolled": true
   },
   "outputs": [
    {
     "data": {
      "text/html": [],
      "text/plain": [
       "<IPython.core.display.HTML object>"
      ]
     },
     "metadata": {},
     "output_type": "display_data"
    },
    {
     "data": {
      "text/html": [
       "<style type=\"text/css\">\n",
       "#T_f18be_row10_col0, #T_f18be_row10_col1, #T_f18be_row10_col2, #T_f18be_row10_col3, #T_f18be_row10_col4, #T_f18be_row10_col5 {\n",
       "  background: yellow;\n",
       "}\n",
       "</style>\n",
       "<table id=\"T_f18be\">\n",
       "  <thead>\n",
       "    <tr>\n",
       "      <th class=\"blank level0\" >&nbsp;</th>\n",
       "      <th id=\"T_f18be_level0_col0\" class=\"col_heading level0 col0\" >MAE</th>\n",
       "      <th id=\"T_f18be_level0_col1\" class=\"col_heading level0 col1\" >MSE</th>\n",
       "      <th id=\"T_f18be_level0_col2\" class=\"col_heading level0 col2\" >RMSE</th>\n",
       "      <th id=\"T_f18be_level0_col3\" class=\"col_heading level0 col3\" >R2</th>\n",
       "      <th id=\"T_f18be_level0_col4\" class=\"col_heading level0 col4\" >RMSLE</th>\n",
       "      <th id=\"T_f18be_level0_col5\" class=\"col_heading level0 col5\" >MAPE</th>\n",
       "    </tr>\n",
       "    <tr>\n",
       "      <th class=\"index_name level0\" >Fold</th>\n",
       "      <th class=\"blank col0\" >&nbsp;</th>\n",
       "      <th class=\"blank col1\" >&nbsp;</th>\n",
       "      <th class=\"blank col2\" >&nbsp;</th>\n",
       "      <th class=\"blank col3\" >&nbsp;</th>\n",
       "      <th class=\"blank col4\" >&nbsp;</th>\n",
       "      <th class=\"blank col5\" >&nbsp;</th>\n",
       "    </tr>\n",
       "  </thead>\n",
       "  <tbody>\n",
       "    <tr>\n",
       "      <th id=\"T_f18be_level0_row0\" class=\"row_heading level0 row0\" >0</th>\n",
       "      <td id=\"T_f18be_row0_col0\" class=\"data row0 col0\" >1.0453</td>\n",
       "      <td id=\"T_f18be_row0_col1\" class=\"data row0 col1\" >10.8500</td>\n",
       "      <td id=\"T_f18be_row0_col2\" class=\"data row0 col2\" >3.2939</td>\n",
       "      <td id=\"T_f18be_row0_col3\" class=\"data row0 col3\" >0.9685</td>\n",
       "      <td id=\"T_f18be_row0_col4\" class=\"data row0 col4\" >0.2301</td>\n",
       "      <td id=\"T_f18be_row0_col5\" class=\"data row0 col5\" >0.7956</td>\n",
       "    </tr>\n",
       "    <tr>\n",
       "      <th id=\"T_f18be_level0_row1\" class=\"row_heading level0 row1\" >1</th>\n",
       "      <td id=\"T_f18be_row1_col0\" class=\"data row1 col0\" >0.9833</td>\n",
       "      <td id=\"T_f18be_row1_col1\" class=\"data row1 col1\" >7.3053</td>\n",
       "      <td id=\"T_f18be_row1_col2\" class=\"data row1 col2\" >2.7028</td>\n",
       "      <td id=\"T_f18be_row1_col3\" class=\"data row1 col3\" >0.9819</td>\n",
       "      <td id=\"T_f18be_row1_col4\" class=\"data row1 col4\" >0.2370</td>\n",
       "      <td id=\"T_f18be_row1_col5\" class=\"data row1 col5\" >0.8354</td>\n",
       "    </tr>\n",
       "    <tr>\n",
       "      <th id=\"T_f18be_level0_row2\" class=\"row_heading level0 row2\" >2</th>\n",
       "      <td id=\"T_f18be_row2_col0\" class=\"data row2 col0\" >0.7641</td>\n",
       "      <td id=\"T_f18be_row2_col1\" class=\"data row2 col1\" >4.0337</td>\n",
       "      <td id=\"T_f18be_row2_col2\" class=\"data row2 col2\" >2.0084</td>\n",
       "      <td id=\"T_f18be_row2_col3\" class=\"data row2 col3\" >0.9683</td>\n",
       "      <td id=\"T_f18be_row2_col4\" class=\"data row2 col4\" >0.2297</td>\n",
       "      <td id=\"T_f18be_row2_col5\" class=\"data row2 col5\" >0.7437</td>\n",
       "    </tr>\n",
       "    <tr>\n",
       "      <th id=\"T_f18be_level0_row3\" class=\"row_heading level0 row3\" >3</th>\n",
       "      <td id=\"T_f18be_row3_col0\" class=\"data row3 col0\" >0.9622</td>\n",
       "      <td id=\"T_f18be_row3_col1\" class=\"data row3 col1\" >11.4422</td>\n",
       "      <td id=\"T_f18be_row3_col2\" class=\"data row3 col2\" >3.3826</td>\n",
       "      <td id=\"T_f18be_row3_col3\" class=\"data row3 col3\" >0.9057</td>\n",
       "      <td id=\"T_f18be_row3_col4\" class=\"data row3 col4\" >0.2210</td>\n",
       "      <td id=\"T_f18be_row3_col5\" class=\"data row3 col5\" >0.8454</td>\n",
       "    </tr>\n",
       "    <tr>\n",
       "      <th id=\"T_f18be_level0_row4\" class=\"row_heading level0 row4\" >4</th>\n",
       "      <td id=\"T_f18be_row4_col0\" class=\"data row4 col0\" >1.1177</td>\n",
       "      <td id=\"T_f18be_row4_col1\" class=\"data row4 col1\" >8.0929</td>\n",
       "      <td id=\"T_f18be_row4_col2\" class=\"data row4 col2\" >2.8448</td>\n",
       "      <td id=\"T_f18be_row4_col3\" class=\"data row4 col3\" >0.9875</td>\n",
       "      <td id=\"T_f18be_row4_col4\" class=\"data row4 col4\" >0.2377</td>\n",
       "      <td id=\"T_f18be_row4_col5\" class=\"data row4 col5\" >0.8318</td>\n",
       "    </tr>\n",
       "    <tr>\n",
       "      <th id=\"T_f18be_level0_row5\" class=\"row_heading level0 row5\" >5</th>\n",
       "      <td id=\"T_f18be_row5_col0\" class=\"data row5 col0\" >1.0524</td>\n",
       "      <td id=\"T_f18be_row5_col1\" class=\"data row5 col1\" >24.6800</td>\n",
       "      <td id=\"T_f18be_row5_col2\" class=\"data row5 col2\" >4.9679</td>\n",
       "      <td id=\"T_f18be_row5_col3\" class=\"data row5 col3\" >0.9017</td>\n",
       "      <td id=\"T_f18be_row5_col4\" class=\"data row5 col4\" >0.2196</td>\n",
       "      <td id=\"T_f18be_row5_col5\" class=\"data row5 col5\" >0.7730</td>\n",
       "    </tr>\n",
       "    <tr>\n",
       "      <th id=\"T_f18be_level0_row6\" class=\"row_heading level0 row6\" >6</th>\n",
       "      <td id=\"T_f18be_row6_col0\" class=\"data row6 col0\" >0.9995</td>\n",
       "      <td id=\"T_f18be_row6_col1\" class=\"data row6 col1\" >6.2995</td>\n",
       "      <td id=\"T_f18be_row6_col2\" class=\"data row6 col2\" >2.5099</td>\n",
       "      <td id=\"T_f18be_row6_col3\" class=\"data row6 col3\" >0.9838</td>\n",
       "      <td id=\"T_f18be_row6_col4\" class=\"data row6 col4\" >0.2298</td>\n",
       "      <td id=\"T_f18be_row6_col5\" class=\"data row6 col5\" >0.9554</td>\n",
       "    </tr>\n",
       "    <tr>\n",
       "      <th id=\"T_f18be_level0_row7\" class=\"row_heading level0 row7\" >7</th>\n",
       "      <td id=\"T_f18be_row7_col0\" class=\"data row7 col0\" >1.0068</td>\n",
       "      <td id=\"T_f18be_row7_col1\" class=\"data row7 col1\" >25.4069</td>\n",
       "      <td id=\"T_f18be_row7_col2\" class=\"data row7 col2\" >5.0405</td>\n",
       "      <td id=\"T_f18be_row7_col3\" class=\"data row7 col3\" >0.8950</td>\n",
       "      <td id=\"T_f18be_row7_col4\" class=\"data row7 col4\" >0.2189</td>\n",
       "      <td id=\"T_f18be_row7_col5\" class=\"data row7 col5\" >0.7519</td>\n",
       "    </tr>\n",
       "    <tr>\n",
       "      <th id=\"T_f18be_level0_row8\" class=\"row_heading level0 row8\" >8</th>\n",
       "      <td id=\"T_f18be_row8_col0\" class=\"data row8 col0\" >1.0575</td>\n",
       "      <td id=\"T_f18be_row8_col1\" class=\"data row8 col1\" >22.8713</td>\n",
       "      <td id=\"T_f18be_row8_col2\" class=\"data row8 col2\" >4.7824</td>\n",
       "      <td id=\"T_f18be_row8_col3\" class=\"data row8 col3\" >0.9392</td>\n",
       "      <td id=\"T_f18be_row8_col4\" class=\"data row8 col4\" >0.1988</td>\n",
       "      <td id=\"T_f18be_row8_col5\" class=\"data row8 col5\" >0.6752</td>\n",
       "    </tr>\n",
       "    <tr>\n",
       "      <th id=\"T_f18be_level0_row9\" class=\"row_heading level0 row9\" >9</th>\n",
       "      <td id=\"T_f18be_row9_col0\" class=\"data row9 col0\" >0.7316</td>\n",
       "      <td id=\"T_f18be_row9_col1\" class=\"data row9 col1\" >3.0321</td>\n",
       "      <td id=\"T_f18be_row9_col2\" class=\"data row9 col2\" >1.7413</td>\n",
       "      <td id=\"T_f18be_row9_col3\" class=\"data row9 col3\" >0.9903</td>\n",
       "      <td id=\"T_f18be_row9_col4\" class=\"data row9 col4\" >0.2243</td>\n",
       "      <td id=\"T_f18be_row9_col5\" class=\"data row9 col5\" >0.8025</td>\n",
       "    </tr>\n",
       "    <tr>\n",
       "      <th id=\"T_f18be_level0_row10\" class=\"row_heading level0 row10\" >Mean</th>\n",
       "      <td id=\"T_f18be_row10_col0\" class=\"data row10 col0\" >0.9720</td>\n",
       "      <td id=\"T_f18be_row10_col1\" class=\"data row10 col1\" >12.4014</td>\n",
       "      <td id=\"T_f18be_row10_col2\" class=\"data row10 col2\" >3.3275</td>\n",
       "      <td id=\"T_f18be_row10_col3\" class=\"data row10 col3\" >0.9522</td>\n",
       "      <td id=\"T_f18be_row10_col4\" class=\"data row10 col4\" >0.2247</td>\n",
       "      <td id=\"T_f18be_row10_col5\" class=\"data row10 col5\" >0.8010</td>\n",
       "    </tr>\n",
       "    <tr>\n",
       "      <th id=\"T_f18be_level0_row11\" class=\"row_heading level0 row11\" >Std</th>\n",
       "      <td id=\"T_f18be_row11_col0\" class=\"data row11 col0\" >0.1198</td>\n",
       "      <td id=\"T_f18be_row11_col1\" class=\"data row11 col1\" >8.2001</td>\n",
       "      <td id=\"T_f18be_row11_col2\" class=\"data row11 col2\" >1.1530</td>\n",
       "      <td id=\"T_f18be_row11_col3\" class=\"data row11 col3\" >0.0364</td>\n",
       "      <td id=\"T_f18be_row11_col4\" class=\"data row11 col4\" >0.0107</td>\n",
       "      <td id=\"T_f18be_row11_col5\" class=\"data row11 col5\" >0.0709</td>\n",
       "    </tr>\n",
       "  </tbody>\n",
       "</table>\n"
      ],
      "text/plain": [
       "<pandas.io.formats.style.Styler at 0x2487e76ddc0>"
      ]
     },
     "metadata": {},
     "output_type": "display_data"
    },
    {
     "data": {
      "application/vnd.jupyter.widget-view+json": {
       "model_id": "d2f13b3e11724d92b47a576c1c2d5416",
       "version_major": 2,
       "version_minor": 0
      },
      "text/plain": [
       "Processing:   0%|          | 0/4 [00:00<?, ?it/s]"
      ]
     },
     "metadata": {},
     "output_type": "display_data"
    },
    {
     "data": {
      "text/html": [],
      "text/plain": [
       "<IPython.core.display.HTML object>"
      ]
     },
     "metadata": {},
     "output_type": "display_data"
    },
    {
     "data": {
      "text/html": [
       "<style type=\"text/css\">\n",
       "#T_e3dc4_row10_col0, #T_e3dc4_row10_col1, #T_e3dc4_row10_col2, #T_e3dc4_row10_col3, #T_e3dc4_row10_col4, #T_e3dc4_row10_col5 {\n",
       "  background: yellow;\n",
       "}\n",
       "</style>\n",
       "<table id=\"T_e3dc4\">\n",
       "  <thead>\n",
       "    <tr>\n",
       "      <th class=\"blank level0\" >&nbsp;</th>\n",
       "      <th id=\"T_e3dc4_level0_col0\" class=\"col_heading level0 col0\" >MAE</th>\n",
       "      <th id=\"T_e3dc4_level0_col1\" class=\"col_heading level0 col1\" >MSE</th>\n",
       "      <th id=\"T_e3dc4_level0_col2\" class=\"col_heading level0 col2\" >RMSE</th>\n",
       "      <th id=\"T_e3dc4_level0_col3\" class=\"col_heading level0 col3\" >R2</th>\n",
       "      <th id=\"T_e3dc4_level0_col4\" class=\"col_heading level0 col4\" >RMSLE</th>\n",
       "      <th id=\"T_e3dc4_level0_col5\" class=\"col_heading level0 col5\" >MAPE</th>\n",
       "    </tr>\n",
       "    <tr>\n",
       "      <th class=\"index_name level0\" >Fold</th>\n",
       "      <th class=\"blank col0\" >&nbsp;</th>\n",
       "      <th class=\"blank col1\" >&nbsp;</th>\n",
       "      <th class=\"blank col2\" >&nbsp;</th>\n",
       "      <th class=\"blank col3\" >&nbsp;</th>\n",
       "      <th class=\"blank col4\" >&nbsp;</th>\n",
       "      <th class=\"blank col5\" >&nbsp;</th>\n",
       "    </tr>\n",
       "  </thead>\n",
       "  <tbody>\n",
       "    <tr>\n",
       "      <th id=\"T_e3dc4_level0_row0\" class=\"row_heading level0 row0\" >0</th>\n",
       "      <td id=\"T_e3dc4_row0_col0\" class=\"data row0 col0\" >1.0579</td>\n",
       "      <td id=\"T_e3dc4_row0_col1\" class=\"data row0 col1\" >14.0175</td>\n",
       "      <td id=\"T_e3dc4_row0_col2\" class=\"data row0 col2\" >3.7440</td>\n",
       "      <td id=\"T_e3dc4_row0_col3\" class=\"data row0 col3\" >0.9594</td>\n",
       "      <td id=\"T_e3dc4_row0_col4\" class=\"data row0 col4\" >0.2172</td>\n",
       "      <td id=\"T_e3dc4_row0_col5\" class=\"data row0 col5\" >0.7288</td>\n",
       "    </tr>\n",
       "    <tr>\n",
       "      <th id=\"T_e3dc4_level0_row1\" class=\"row_heading level0 row1\" >1</th>\n",
       "      <td id=\"T_e3dc4_row1_col0\" class=\"data row1 col0\" >0.8583</td>\n",
       "      <td id=\"T_e3dc4_row1_col1\" class=\"data row1 col1\" >6.5010</td>\n",
       "      <td id=\"T_e3dc4_row1_col2\" class=\"data row1 col2\" >2.5497</td>\n",
       "      <td id=\"T_e3dc4_row1_col3\" class=\"data row1 col3\" >0.9839</td>\n",
       "      <td id=\"T_e3dc4_row1_col4\" class=\"data row1 col4\" >0.2137</td>\n",
       "      <td id=\"T_e3dc4_row1_col5\" class=\"data row1 col5\" >0.7977</td>\n",
       "    </tr>\n",
       "    <tr>\n",
       "      <th id=\"T_e3dc4_level0_row2\" class=\"row_heading level0 row2\" >2</th>\n",
       "      <td id=\"T_e3dc4_row2_col0\" class=\"data row2 col0\" >0.7770</td>\n",
       "      <td id=\"T_e3dc4_row2_col1\" class=\"data row2 col1\" >4.2761</td>\n",
       "      <td id=\"T_e3dc4_row2_col2\" class=\"data row2 col2\" >2.0679</td>\n",
       "      <td id=\"T_e3dc4_row2_col3\" class=\"data row2 col3\" >0.9664</td>\n",
       "      <td id=\"T_e3dc4_row2_col4\" class=\"data row2 col4\" >0.2078</td>\n",
       "      <td id=\"T_e3dc4_row2_col5\" class=\"data row2 col5\" >0.7152</td>\n",
       "    </tr>\n",
       "    <tr>\n",
       "      <th id=\"T_e3dc4_level0_row3\" class=\"row_heading level0 row3\" >3</th>\n",
       "      <td id=\"T_e3dc4_row3_col0\" class=\"data row3 col0\" >0.7732</td>\n",
       "      <td id=\"T_e3dc4_row3_col1\" class=\"data row3 col1\" >3.6403</td>\n",
       "      <td id=\"T_e3dc4_row3_col2\" class=\"data row3 col2\" >1.9080</td>\n",
       "      <td id=\"T_e3dc4_row3_col3\" class=\"data row3 col3\" >0.9700</td>\n",
       "      <td id=\"T_e3dc4_row3_col4\" class=\"data row3 col4\" >0.2008</td>\n",
       "      <td id=\"T_e3dc4_row3_col5\" class=\"data row3 col5\" >0.7737</td>\n",
       "    </tr>\n",
       "    <tr>\n",
       "      <th id=\"T_e3dc4_level0_row4\" class=\"row_heading level0 row4\" >4</th>\n",
       "      <td id=\"T_e3dc4_row4_col0\" class=\"data row4 col0\" >1.1226</td>\n",
       "      <td id=\"T_e3dc4_row4_col1\" class=\"data row4 col1\" >21.0379</td>\n",
       "      <td id=\"T_e3dc4_row4_col2\" class=\"data row4 col2\" >4.5867</td>\n",
       "      <td id=\"T_e3dc4_row4_col3\" class=\"data row4 col3\" >0.9676</td>\n",
       "      <td id=\"T_e3dc4_row4_col4\" class=\"data row4 col4\" >0.2193</td>\n",
       "      <td id=\"T_e3dc4_row4_col5\" class=\"data row4 col5\" >0.7677</td>\n",
       "    </tr>\n",
       "    <tr>\n",
       "      <th id=\"T_e3dc4_level0_row5\" class=\"row_heading level0 row5\" >5</th>\n",
       "      <td id=\"T_e3dc4_row5_col0\" class=\"data row5 col0\" >0.8107</td>\n",
       "      <td id=\"T_e3dc4_row5_col1\" class=\"data row5 col1\" >11.0711</td>\n",
       "      <td id=\"T_e3dc4_row5_col2\" class=\"data row5 col2\" >3.3273</td>\n",
       "      <td id=\"T_e3dc4_row5_col3\" class=\"data row5 col3\" >0.9559</td>\n",
       "      <td id=\"T_e3dc4_row5_col4\" class=\"data row5 col4\" >0.2071</td>\n",
       "      <td id=\"T_e3dc4_row5_col5\" class=\"data row5 col5\" >0.7263</td>\n",
       "    </tr>\n",
       "    <tr>\n",
       "      <th id=\"T_e3dc4_level0_row6\" class=\"row_heading level0 row6\" >6</th>\n",
       "      <td id=\"T_e3dc4_row6_col0\" class=\"data row6 col0\" >0.9201</td>\n",
       "      <td id=\"T_e3dc4_row6_col1\" class=\"data row6 col1\" >4.7424</td>\n",
       "      <td id=\"T_e3dc4_row6_col2\" class=\"data row6 col2\" >2.1777</td>\n",
       "      <td id=\"T_e3dc4_row6_col3\" class=\"data row6 col3\" >0.9878</td>\n",
       "      <td id=\"T_e3dc4_row6_col4\" class=\"data row6 col4\" >0.2203</td>\n",
       "      <td id=\"T_e3dc4_row6_col5\" class=\"data row6 col5\" >0.8882</td>\n",
       "    </tr>\n",
       "    <tr>\n",
       "      <th id=\"T_e3dc4_level0_row7\" class=\"row_heading level0 row7\" >7</th>\n",
       "      <td id=\"T_e3dc4_row7_col0\" class=\"data row7 col0\" >0.8583</td>\n",
       "      <td id=\"T_e3dc4_row7_col1\" class=\"data row7 col1\" >7.6696</td>\n",
       "      <td id=\"T_e3dc4_row7_col2\" class=\"data row7 col2\" >2.7694</td>\n",
       "      <td id=\"T_e3dc4_row7_col3\" class=\"data row7 col3\" >0.9683</td>\n",
       "      <td id=\"T_e3dc4_row7_col4\" class=\"data row7 col4\" >0.1997</td>\n",
       "      <td id=\"T_e3dc4_row7_col5\" class=\"data row7 col5\" >0.6948</td>\n",
       "    </tr>\n",
       "    <tr>\n",
       "      <th id=\"T_e3dc4_level0_row8\" class=\"row_heading level0 row8\" >8</th>\n",
       "      <td id=\"T_e3dc4_row8_col0\" class=\"data row8 col0\" >0.9592</td>\n",
       "      <td id=\"T_e3dc4_row8_col1\" class=\"data row8 col1\" >10.3014</td>\n",
       "      <td id=\"T_e3dc4_row8_col2\" class=\"data row8 col2\" >3.2096</td>\n",
       "      <td id=\"T_e3dc4_row8_col3\" class=\"data row8 col3\" >0.9726</td>\n",
       "      <td id=\"T_e3dc4_row8_col4\" class=\"data row8 col4\" >0.1972</td>\n",
       "      <td id=\"T_e3dc4_row8_col5\" class=\"data row8 col5\" >0.6586</td>\n",
       "    </tr>\n",
       "    <tr>\n",
       "      <th id=\"T_e3dc4_level0_row9\" class=\"row_heading level0 row9\" >9</th>\n",
       "      <td id=\"T_e3dc4_row9_col0\" class=\"data row9 col0\" >0.8478</td>\n",
       "      <td id=\"T_e3dc4_row9_col1\" class=\"data row9 col1\" >6.8215</td>\n",
       "      <td id=\"T_e3dc4_row9_col2\" class=\"data row9 col2\" >2.6118</td>\n",
       "      <td id=\"T_e3dc4_row9_col3\" class=\"data row9 col3\" >0.9783</td>\n",
       "      <td id=\"T_e3dc4_row9_col4\" class=\"data row9 col4\" >0.2179</td>\n",
       "      <td id=\"T_e3dc4_row9_col5\" class=\"data row9 col5\" >0.7550</td>\n",
       "    </tr>\n",
       "    <tr>\n",
       "      <th id=\"T_e3dc4_level0_row10\" class=\"row_heading level0 row10\" >Mean</th>\n",
       "      <td id=\"T_e3dc4_row10_col0\" class=\"data row10 col0\" >0.8985</td>\n",
       "      <td id=\"T_e3dc4_row10_col1\" class=\"data row10 col1\" >9.0079</td>\n",
       "      <td id=\"T_e3dc4_row10_col2\" class=\"data row10 col2\" >2.8952</td>\n",
       "      <td id=\"T_e3dc4_row10_col3\" class=\"data row10 col3\" >0.9710</td>\n",
       "      <td id=\"T_e3dc4_row10_col4\" class=\"data row10 col4\" >0.2101</td>\n",
       "      <td id=\"T_e3dc4_row10_col5\" class=\"data row10 col5\" >0.7506</td>\n",
       "    </tr>\n",
       "    <tr>\n",
       "      <th id=\"T_e3dc4_level0_row11\" class=\"row_heading level0 row11\" >Std</th>\n",
       "      <td id=\"T_e3dc4_row11_col0\" class=\"data row11 col0\" >0.1112</td>\n",
       "      <td id=\"T_e3dc4_row11_col1\" class=\"data row11 col1\" >5.0794</td>\n",
       "      <td id=\"T_e3dc4_row11_col2\" class=\"data row11 col2\" >0.7910</td>\n",
       "      <td id=\"T_e3dc4_row11_col3\" class=\"data row11 col3\" >0.0095</td>\n",
       "      <td id=\"T_e3dc4_row11_col4\" class=\"data row11 col4\" >0.0083</td>\n",
       "      <td id=\"T_e3dc4_row11_col5\" class=\"data row11 col5\" >0.0599</td>\n",
       "    </tr>\n",
       "  </tbody>\n",
       "</table>\n"
      ],
      "text/plain": [
       "<pandas.io.formats.style.Styler at 0x2487e5d2d90>"
      ]
     },
     "metadata": {},
     "output_type": "display_data"
    },
    {
     "data": {
      "application/vnd.jupyter.widget-view+json": {
       "model_id": "c4d63e34d32e4ed89bb2e488fccddafd",
       "version_major": 2,
       "version_minor": 0
      },
      "text/plain": [
       "Processing:   0%|          | 0/4 [00:00<?, ?it/s]"
      ]
     },
     "metadata": {},
     "output_type": "display_data"
    },
    {
     "data": {
      "text/html": [],
      "text/plain": [
       "<IPython.core.display.HTML object>"
      ]
     },
     "metadata": {},
     "output_type": "display_data"
    },
    {
     "data": {
      "text/html": [
       "<style type=\"text/css\">\n",
       "#T_ea7da_row10_col0, #T_ea7da_row10_col1, #T_ea7da_row10_col2, #T_ea7da_row10_col3, #T_ea7da_row10_col4, #T_ea7da_row10_col5 {\n",
       "  background: yellow;\n",
       "}\n",
       "</style>\n",
       "<table id=\"T_ea7da\">\n",
       "  <thead>\n",
       "    <tr>\n",
       "      <th class=\"blank level0\" >&nbsp;</th>\n",
       "      <th id=\"T_ea7da_level0_col0\" class=\"col_heading level0 col0\" >MAE</th>\n",
       "      <th id=\"T_ea7da_level0_col1\" class=\"col_heading level0 col1\" >MSE</th>\n",
       "      <th id=\"T_ea7da_level0_col2\" class=\"col_heading level0 col2\" >RMSE</th>\n",
       "      <th id=\"T_ea7da_level0_col3\" class=\"col_heading level0 col3\" >R2</th>\n",
       "      <th id=\"T_ea7da_level0_col4\" class=\"col_heading level0 col4\" >RMSLE</th>\n",
       "      <th id=\"T_ea7da_level0_col5\" class=\"col_heading level0 col5\" >MAPE</th>\n",
       "    </tr>\n",
       "    <tr>\n",
       "      <th class=\"index_name level0\" >Fold</th>\n",
       "      <th class=\"blank col0\" >&nbsp;</th>\n",
       "      <th class=\"blank col1\" >&nbsp;</th>\n",
       "      <th class=\"blank col2\" >&nbsp;</th>\n",
       "      <th class=\"blank col3\" >&nbsp;</th>\n",
       "      <th class=\"blank col4\" >&nbsp;</th>\n",
       "      <th class=\"blank col5\" >&nbsp;</th>\n",
       "    </tr>\n",
       "  </thead>\n",
       "  <tbody>\n",
       "    <tr>\n",
       "      <th id=\"T_ea7da_level0_row0\" class=\"row_heading level0 row0\" >0</th>\n",
       "      <td id=\"T_ea7da_row0_col0\" class=\"data row0 col0\" >5.6420</td>\n",
       "      <td id=\"T_ea7da_row0_col1\" class=\"data row0 col1\" >230.4316</td>\n",
       "      <td id=\"T_ea7da_row0_col2\" class=\"data row0 col2\" >15.1800</td>\n",
       "      <td id=\"T_ea7da_row0_col3\" class=\"data row0 col3\" >0.3320</td>\n",
       "      <td id=\"T_ea7da_row0_col4\" class=\"data row0 col4\" >0.9792</td>\n",
       "      <td id=\"T_ea7da_row0_col5\" class=\"data row0 col5\" >14.1895</td>\n",
       "    </tr>\n",
       "    <tr>\n",
       "      <th id=\"T_ea7da_level0_row1\" class=\"row_heading level0 row1\" >1</th>\n",
       "      <td id=\"T_ea7da_row1_col0\" class=\"data row1 col0\" >5.6213</td>\n",
       "      <td id=\"T_ea7da_row1_col1\" class=\"data row1 col1\" >298.0491</td>\n",
       "      <td id=\"T_ea7da_row1_col2\" class=\"data row1 col2\" >17.2641</td>\n",
       "      <td id=\"T_ea7da_row1_col3\" class=\"data row1 col3\" >0.2622</td>\n",
       "      <td id=\"T_ea7da_row1_col4\" class=\"data row1 col4\" >0.9602</td>\n",
       "      <td id=\"T_ea7da_row1_col5\" class=\"data row1 col5\" >12.4515</td>\n",
       "    </tr>\n",
       "    <tr>\n",
       "      <th id=\"T_ea7da_level0_row2\" class=\"row_heading level0 row2\" >2</th>\n",
       "      <td id=\"T_ea7da_row2_col0\" class=\"data row2 col0\" >4.2524</td>\n",
       "      <td id=\"T_ea7da_row2_col1\" class=\"data row2 col1\" >60.7441</td>\n",
       "      <td id=\"T_ea7da_row2_col2\" class=\"data row2 col2\" >7.7939</td>\n",
       "      <td id=\"T_ea7da_row2_col3\" class=\"data row2 col3\" >0.5232</td>\n",
       "      <td id=\"T_ea7da_row2_col4\" class=\"data row2 col4\" >1.0383</td>\n",
       "      <td id=\"T_ea7da_row2_col5\" class=\"data row2 col5\" >14.9541</td>\n",
       "    </tr>\n",
       "    <tr>\n",
       "      <th id=\"T_ea7da_level0_row3\" class=\"row_heading level0 row3\" >3</th>\n",
       "      <td id=\"T_ea7da_row3_col0\" class=\"data row3 col0\" >4.2823</td>\n",
       "      <td id=\"T_ea7da_row3_col1\" class=\"data row3 col1\" >59.4442</td>\n",
       "      <td id=\"T_ea7da_row3_col2\" class=\"data row3 col2\" >7.7100</td>\n",
       "      <td id=\"T_ea7da_row3_col3\" class=\"data row3 col3\" >0.5103</td>\n",
       "      <td id=\"T_ea7da_row3_col4\" class=\"data row3 col4\" >0.9419</td>\n",
       "      <td id=\"T_ea7da_row3_col5\" class=\"data row3 col5\" >13.3897</td>\n",
       "    </tr>\n",
       "    <tr>\n",
       "      <th id=\"T_ea7da_level0_row4\" class=\"row_heading level0 row4\" >4</th>\n",
       "      <td id=\"T_ea7da_row4_col0\" class=\"data row4 col0\" >6.7079</td>\n",
       "      <td id=\"T_ea7da_row4_col1\" class=\"data row4 col1\" >496.7091</td>\n",
       "      <td id=\"T_ea7da_row4_col2\" class=\"data row4 col2\" >22.2870</td>\n",
       "      <td id=\"T_ea7da_row4_col3\" class=\"data row4 col3\" >0.2341</td>\n",
       "      <td id=\"T_ea7da_row4_col4\" class=\"data row4 col4\" >0.9332</td>\n",
       "      <td id=\"T_ea7da_row4_col5\" class=\"data row4 col5\" >10.2214</td>\n",
       "    </tr>\n",
       "    <tr>\n",
       "      <th id=\"T_ea7da_level0_row5\" class=\"row_heading level0 row5\" >5</th>\n",
       "      <td id=\"T_ea7da_row5_col0\" class=\"data row5 col0\" >4.7124</td>\n",
       "      <td id=\"T_ea7da_row5_col1\" class=\"data row5 col1\" >153.9898</td>\n",
       "      <td id=\"T_ea7da_row5_col2\" class=\"data row5 col2\" >12.4093</td>\n",
       "      <td id=\"T_ea7da_row5_col3\" class=\"data row5 col3\" >0.3867</td>\n",
       "      <td id=\"T_ea7da_row5_col4\" class=\"data row5 col4\" >0.9878</td>\n",
       "      <td id=\"T_ea7da_row5_col5\" class=\"data row5 col5\" >14.6409</td>\n",
       "    </tr>\n",
       "    <tr>\n",
       "      <th id=\"T_ea7da_level0_row6\" class=\"row_heading level0 row6\" >6</th>\n",
       "      <td id=\"T_ea7da_row6_col0\" class=\"data row6 col0\" >5.2275</td>\n",
       "      <td id=\"T_ea7da_row6_col1\" class=\"data row6 col1\" >295.1385</td>\n",
       "      <td id=\"T_ea7da_row6_col2\" class=\"data row6 col2\" >17.1796</td>\n",
       "      <td id=\"T_ea7da_row6_col3\" class=\"data row6 col3\" >0.2397</td>\n",
       "      <td id=\"T_ea7da_row6_col4\" class=\"data row6 col4\" >0.9404</td>\n",
       "      <td id=\"T_ea7da_row6_col5\" class=\"data row6 col5\" >12.5175</td>\n",
       "    </tr>\n",
       "    <tr>\n",
       "      <th id=\"T_ea7da_level0_row7\" class=\"row_heading level0 row7\" >7</th>\n",
       "      <td id=\"T_ea7da_row7_col0\" class=\"data row7 col0\" >4.3438</td>\n",
       "      <td id=\"T_ea7da_row7_col1\" class=\"data row7 col1\" >163.1672</td>\n",
       "      <td id=\"T_ea7da_row7_col2\" class=\"data row7 col2\" >12.7737</td>\n",
       "      <td id=\"T_ea7da_row7_col3\" class=\"data row7 col3\" >0.3259</td>\n",
       "      <td id=\"T_ea7da_row7_col4\" class=\"data row7 col4\" >0.9319</td>\n",
       "      <td id=\"T_ea7da_row7_col5\" class=\"data row7 col5\" >13.0943</td>\n",
       "    </tr>\n",
       "    <tr>\n",
       "      <th id=\"T_ea7da_level0_row8\" class=\"row_heading level0 row8\" >8</th>\n",
       "      <td id=\"T_ea7da_row8_col0\" class=\"data row8 col0\" >5.4413</td>\n",
       "      <td id=\"T_ea7da_row8_col1\" class=\"data row8 col1\" >285.9416</td>\n",
       "      <td id=\"T_ea7da_row8_col2\" class=\"data row8 col2\" >16.9098</td>\n",
       "      <td id=\"T_ea7da_row8_col3\" class=\"data row8 col3\" >0.2403</td>\n",
       "      <td id=\"T_ea7da_row8_col4\" class=\"data row8 col4\" >0.9596</td>\n",
       "      <td id=\"T_ea7da_row8_col5\" class=\"data row8 col5\" >13.7237</td>\n",
       "    </tr>\n",
       "    <tr>\n",
       "      <th id=\"T_ea7da_level0_row9\" class=\"row_heading level0 row9\" >9</th>\n",
       "      <td id=\"T_ea7da_row9_col0\" class=\"data row9 col0\" >5.0547</td>\n",
       "      <td id=\"T_ea7da_row9_col1\" class=\"data row9 col1\" >200.6964</td>\n",
       "      <td id=\"T_ea7da_row9_col2\" class=\"data row9 col2\" >14.1667</td>\n",
       "      <td id=\"T_ea7da_row9_col3\" class=\"data row9 col3\" >0.3606</td>\n",
       "      <td id=\"T_ea7da_row9_col4\" class=\"data row9 col4\" >0.9526</td>\n",
       "      <td id=\"T_ea7da_row9_col5\" class=\"data row9 col5\" >12.0229</td>\n",
       "    </tr>\n",
       "    <tr>\n",
       "      <th id=\"T_ea7da_level0_row10\" class=\"row_heading level0 row10\" >Mean</th>\n",
       "      <td id=\"T_ea7da_row10_col0\" class=\"data row10 col0\" >5.1285</td>\n",
       "      <td id=\"T_ea7da_row10_col1\" class=\"data row10 col1\" >224.4312</td>\n",
       "      <td id=\"T_ea7da_row10_col2\" class=\"data row10 col2\" >14.3674</td>\n",
       "      <td id=\"T_ea7da_row10_col3\" class=\"data row10 col3\" >0.3415</td>\n",
       "      <td id=\"T_ea7da_row10_col4\" class=\"data row10 col4\" >0.9625</td>\n",
       "      <td id=\"T_ea7da_row10_col5\" class=\"data row10 col5\" >13.1205</td>\n",
       "    </tr>\n",
       "    <tr>\n",
       "      <th id=\"T_ea7da_level0_row11\" class=\"row_heading level0 row11\" >Std</th>\n",
       "      <td id=\"T_ea7da_row11_col0\" class=\"data row11 col0\" >0.7340</td>\n",
       "      <td id=\"T_ea7da_row11_col1\" class=\"data row11 col1\" >123.1530</td>\n",
       "      <td id=\"T_ea7da_row11_col2\" class=\"data row11 col2\" >4.2437</td>\n",
       "      <td id=\"T_ea7da_row11_col3\" class=\"data row11 col3\" >0.1013</td>\n",
       "      <td id=\"T_ea7da_row11_col4\" class=\"data row11 col4\" >0.0308</td>\n",
       "      <td id=\"T_ea7da_row11_col5\" class=\"data row11 col5\" >1.3294</td>\n",
       "    </tr>\n",
       "  </tbody>\n",
       "</table>\n"
      ],
      "text/plain": [
       "<pandas.io.formats.style.Styler at 0x2487e865490>"
      ]
     },
     "metadata": {},
     "output_type": "display_data"
    },
    {
     "data": {
      "application/vnd.jupyter.widget-view+json": {
       "model_id": "47971aa8fd66473697abaedf2938a269",
       "version_major": 2,
       "version_minor": 0
      },
      "text/plain": [
       "Processing:   0%|          | 0/4 [00:00<?, ?it/s]"
      ]
     },
     "metadata": {},
     "output_type": "display_data"
    }
   ],
   "source": [
    "# Initialize 3 best models, Capping max_depth at 7\n",
    "dt_outdoor = create_model('dt',max_depth=7)\n",
    "rf_outdoor = create_model('rf',max_depth=7)\n",
    "et_outdoor = create_model('et',max_depth=7)"
   ]
  },
  {
   "cell_type": "code",
   "execution_count": 57,
   "metadata": {},
   "outputs": [
    {
     "data": {
      "text/html": [],
      "text/plain": [
       "<IPython.core.display.HTML object>"
      ]
     },
     "metadata": {},
     "output_type": "display_data"
    },
    {
     "data": {
      "text/html": [
       "<style type=\"text/css\">\n",
       "#T_0f73b_row10_col0, #T_0f73b_row10_col1, #T_0f73b_row10_col2, #T_0f73b_row10_col3, #T_0f73b_row10_col4, #T_0f73b_row10_col5 {\n",
       "  background: yellow;\n",
       "}\n",
       "</style>\n",
       "<table id=\"T_0f73b\">\n",
       "  <thead>\n",
       "    <tr>\n",
       "      <th class=\"blank level0\" >&nbsp;</th>\n",
       "      <th id=\"T_0f73b_level0_col0\" class=\"col_heading level0 col0\" >MAE</th>\n",
       "      <th id=\"T_0f73b_level0_col1\" class=\"col_heading level0 col1\" >MSE</th>\n",
       "      <th id=\"T_0f73b_level0_col2\" class=\"col_heading level0 col2\" >RMSE</th>\n",
       "      <th id=\"T_0f73b_level0_col3\" class=\"col_heading level0 col3\" >R2</th>\n",
       "      <th id=\"T_0f73b_level0_col4\" class=\"col_heading level0 col4\" >RMSLE</th>\n",
       "      <th id=\"T_0f73b_level0_col5\" class=\"col_heading level0 col5\" >MAPE</th>\n",
       "    </tr>\n",
       "    <tr>\n",
       "      <th class=\"index_name level0\" >Fold</th>\n",
       "      <th class=\"blank col0\" >&nbsp;</th>\n",
       "      <th class=\"blank col1\" >&nbsp;</th>\n",
       "      <th class=\"blank col2\" >&nbsp;</th>\n",
       "      <th class=\"blank col3\" >&nbsp;</th>\n",
       "      <th class=\"blank col4\" >&nbsp;</th>\n",
       "      <th class=\"blank col5\" >&nbsp;</th>\n",
       "    </tr>\n",
       "  </thead>\n",
       "  <tbody>\n",
       "    <tr>\n",
       "      <th id=\"T_0f73b_level0_row0\" class=\"row_heading level0 row0\" >0</th>\n",
       "      <td id=\"T_0f73b_row0_col0\" class=\"data row0 col0\" >2.0879</td>\n",
       "      <td id=\"T_0f73b_row0_col1\" class=\"data row0 col1\" >27.6458</td>\n",
       "      <td id=\"T_0f73b_row0_col2\" class=\"data row0 col2\" >5.2579</td>\n",
       "      <td id=\"T_0f73b_row0_col3\" class=\"data row0 col3\" >0.9199</td>\n",
       "      <td id=\"T_0f73b_row0_col4\" class=\"data row0 col4\" >0.5040</td>\n",
       "      <td id=\"T_0f73b_row0_col5\" class=\"data row0 col5\" >5.1160</td>\n",
       "    </tr>\n",
       "    <tr>\n",
       "      <th id=\"T_0f73b_level0_row1\" class=\"row_heading level0 row1\" >1</th>\n",
       "      <td id=\"T_0f73b_row1_col0\" class=\"data row1 col0\" >2.2131</td>\n",
       "      <td id=\"T_0f73b_row1_col1\" class=\"data row1 col1\" >38.6490</td>\n",
       "      <td id=\"T_0f73b_row1_col2\" class=\"data row1 col2\" >6.2168</td>\n",
       "      <td id=\"T_0f73b_row1_col3\" class=\"data row1 col3\" >0.9043</td>\n",
       "      <td id=\"T_0f73b_row1_col4\" class=\"data row1 col4\" >0.4962</td>\n",
       "      <td id=\"T_0f73b_row1_col5\" class=\"data row1 col5\" >4.5813</td>\n",
       "    </tr>\n",
       "    <tr>\n",
       "      <th id=\"T_0f73b_level0_row2\" class=\"row_heading level0 row2\" >2</th>\n",
       "      <td id=\"T_0f73b_row2_col0\" class=\"data row2 col0\" >1.7012</td>\n",
       "      <td id=\"T_0f73b_row2_col1\" class=\"data row2 col1\" >10.9323</td>\n",
       "      <td id=\"T_0f73b_row2_col2\" class=\"data row2 col2\" >3.3064</td>\n",
       "      <td id=\"T_0f73b_row2_col3\" class=\"data row2 col3\" >0.9142</td>\n",
       "      <td id=\"T_0f73b_row2_col4\" class=\"data row2 col4\" >0.5508</td>\n",
       "      <td id=\"T_0f73b_row2_col5\" class=\"data row2 col5\" >5.3433</td>\n",
       "    </tr>\n",
       "    <tr>\n",
       "      <th id=\"T_0f73b_level0_row3\" class=\"row_heading level0 row3\" >3</th>\n",
       "      <td id=\"T_0f73b_row3_col0\" class=\"data row3 col0\" >1.6091</td>\n",
       "      <td id=\"T_0f73b_row3_col1\" class=\"data row3 col1\" >8.5854</td>\n",
       "      <td id=\"T_0f73b_row3_col2\" class=\"data row3 col2\" >2.9301</td>\n",
       "      <td id=\"T_0f73b_row3_col3\" class=\"data row3 col3\" >0.9293</td>\n",
       "      <td id=\"T_0f73b_row3_col4\" class=\"data row3 col4\" >0.4889</td>\n",
       "      <td id=\"T_0f73b_row3_col5\" class=\"data row3 col5\" >4.8893</td>\n",
       "    </tr>\n",
       "    <tr>\n",
       "      <th id=\"T_0f73b_level0_row4\" class=\"row_heading level0 row4\" >4</th>\n",
       "      <td id=\"T_0f73b_row4_col0\" class=\"data row4 col0\" >2.6406</td>\n",
       "      <td id=\"T_0f73b_row4_col1\" class=\"data row4 col1\" >79.1854</td>\n",
       "      <td id=\"T_0f73b_row4_col2\" class=\"data row4 col2\" >8.8986</td>\n",
       "      <td id=\"T_0f73b_row4_col3\" class=\"data row4 col3\" >0.8779</td>\n",
       "      <td id=\"T_0f73b_row4_col4\" class=\"data row4 col4\" >0.4693</td>\n",
       "      <td id=\"T_0f73b_row4_col5\" class=\"data row4 col5\" >3.8109</td>\n",
       "    </tr>\n",
       "    <tr>\n",
       "      <th id=\"T_0f73b_level0_row5\" class=\"row_heading level0 row5\" >5</th>\n",
       "      <td id=\"T_0f73b_row5_col0\" class=\"data row5 col0\" >1.8067</td>\n",
       "      <td id=\"T_0f73b_row5_col1\" class=\"data row5 col1\" >23.0395</td>\n",
       "      <td id=\"T_0f73b_row5_col2\" class=\"data row5 col2\" >4.7999</td>\n",
       "      <td id=\"T_0f73b_row5_col3\" class=\"data row5 col3\" >0.9082</td>\n",
       "      <td id=\"T_0f73b_row5_col4\" class=\"data row5 col4\" >0.5133</td>\n",
       "      <td id=\"T_0f73b_row5_col5\" class=\"data row5 col5\" >5.2553</td>\n",
       "    </tr>\n",
       "    <tr>\n",
       "      <th id=\"T_0f73b_level0_row6\" class=\"row_heading level0 row6\" >6</th>\n",
       "      <td id=\"T_0f73b_row6_col0\" class=\"data row6 col0\" >2.0767</td>\n",
       "      <td id=\"T_0f73b_row6_col1\" class=\"data row6 col1\" >38.2177</td>\n",
       "      <td id=\"T_0f73b_row6_col2\" class=\"data row6 col2\" >6.1820</td>\n",
       "      <td id=\"T_0f73b_row6_col3\" class=\"data row6 col3\" >0.9016</td>\n",
       "      <td id=\"T_0f73b_row6_col4\" class=\"data row6 col4\" >0.4952</td>\n",
       "      <td id=\"T_0f73b_row6_col5\" class=\"data row6 col5\" >4.6822</td>\n",
       "    </tr>\n",
       "    <tr>\n",
       "      <th id=\"T_0f73b_level0_row7\" class=\"row_heading level0 row7\" >7</th>\n",
       "      <td id=\"T_0f73b_row7_col0\" class=\"data row7 col0\" >1.6258</td>\n",
       "      <td id=\"T_0f73b_row7_col1\" class=\"data row7 col1\" >18.9040</td>\n",
       "      <td id=\"T_0f73b_row7_col2\" class=\"data row7 col2\" >4.3479</td>\n",
       "      <td id=\"T_0f73b_row7_col3\" class=\"data row7 col3\" >0.9219</td>\n",
       "      <td id=\"T_0f73b_row7_col4\" class=\"data row7 col4\" >0.4822</td>\n",
       "      <td id=\"T_0f73b_row7_col5\" class=\"data row7 col5\" >4.6957</td>\n",
       "    </tr>\n",
       "    <tr>\n",
       "      <th id=\"T_0f73b_level0_row8\" class=\"row_heading level0 row8\" >8</th>\n",
       "      <td id=\"T_0f73b_row8_col0\" class=\"data row8 col0\" >2.2113</td>\n",
       "      <td id=\"T_0f73b_row8_col1\" class=\"data row8 col1\" >55.3550</td>\n",
       "      <td id=\"T_0f73b_row8_col2\" class=\"data row8 col2\" >7.4401</td>\n",
       "      <td id=\"T_0f73b_row8_col3\" class=\"data row8 col3\" >0.8529</td>\n",
       "      <td id=\"T_0f73b_row8_col4\" class=\"data row8 col4\" >0.4881</td>\n",
       "      <td id=\"T_0f73b_row8_col5\" class=\"data row8 col5\" >4.8990</td>\n",
       "    </tr>\n",
       "    <tr>\n",
       "      <th id=\"T_0f73b_level0_row9\" class=\"row_heading level0 row9\" >9</th>\n",
       "      <td id=\"T_0f73b_row9_col0\" class=\"data row9 col0\" >1.8833</td>\n",
       "      <td id=\"T_0f73b_row9_col1\" class=\"data row9 col1\" >23.3095</td>\n",
       "      <td id=\"T_0f73b_row9_col2\" class=\"data row9 col2\" >4.8280</td>\n",
       "      <td id=\"T_0f73b_row9_col3\" class=\"data row9 col3\" >0.9257</td>\n",
       "      <td id=\"T_0f73b_row9_col4\" class=\"data row9 col4\" >0.4896</td>\n",
       "      <td id=\"T_0f73b_row9_col5\" class=\"data row9 col5\" >4.3912</td>\n",
       "    </tr>\n",
       "    <tr>\n",
       "      <th id=\"T_0f73b_level0_row10\" class=\"row_heading level0 row10\" >Mean</th>\n",
       "      <td id=\"T_0f73b_row10_col0\" class=\"data row10 col0\" >1.9856</td>\n",
       "      <td id=\"T_0f73b_row10_col1\" class=\"data row10 col1\" >32.3824</td>\n",
       "      <td id=\"T_0f73b_row10_col2\" class=\"data row10 col2\" >5.4208</td>\n",
       "      <td id=\"T_0f73b_row10_col3\" class=\"data row10 col3\" >0.9056</td>\n",
       "      <td id=\"T_0f73b_row10_col4\" class=\"data row10 col4\" >0.4978</td>\n",
       "      <td id=\"T_0f73b_row10_col5\" class=\"data row10 col5\" >4.7664</td>\n",
       "    </tr>\n",
       "    <tr>\n",
       "      <th id=\"T_0f73b_level0_row11\" class=\"row_heading level0 row11\" >Std</th>\n",
       "      <td id=\"T_0f73b_row11_col0\" class=\"data row11 col0\" >0.3074</td>\n",
       "      <td id=\"T_0f73b_row11_col1\" class=\"data row11 col1\" >20.4737</td>\n",
       "      <td id=\"T_0f73b_row11_col2\" class=\"data row11 col2\" >1.7313</td>\n",
       "      <td id=\"T_0f73b_row11_col3\" class=\"data row11 col3\" >0.0225</td>\n",
       "      <td id=\"T_0f73b_row11_col4\" class=\"data row11 col4\" >0.0210</td>\n",
       "      <td id=\"T_0f73b_row11_col5\" class=\"data row11 col5\" >0.4274</td>\n",
       "    </tr>\n",
       "  </tbody>\n",
       "</table>\n"
      ],
      "text/plain": [
       "<pandas.io.formats.style.Styler at 0x2480958a0d0>"
      ]
     },
     "metadata": {},
     "output_type": "display_data"
    },
    {
     "data": {
      "application/vnd.jupyter.widget-view+json": {
       "model_id": "6b406c7ae4344f559261ccea666d9b9b",
       "version_major": 2,
       "version_minor": 0
      },
      "text/plain": [
       "Processing:   0%|          | 0/6 [00:00<?, ?it/s]"
      ]
     },
     "metadata": {},
     "output_type": "display_data"
    }
   ],
   "source": [
    "# Develop a blended model with voting regressor\n",
    "blended_outdoor = blend_models(estimator_list=[dt_outdoor,rf_outdoor,et_outdoor],optimize='MAE')"
   ]
  },
  {
   "cell_type": "markdown",
   "metadata": {},
   "source": [
    "In this particular case the 2 original individual models decision tree and random forest models have better MAE and R2 compared to the blended model, when extra-tree is limited to a max_depth of 7."
   ]
  },
  {
   "cell_type": "markdown",
   "metadata": {},
   "source": [
    "#### 3.2.3 Evaluate Model"
   ]
  },
  {
   "cell_type": "markdown",
   "metadata": {},
   "source": [
    "Assume that random forest model is the most appropriate"
   ]
  },
  {
   "cell_type": "code",
   "execution_count": 58,
   "metadata": {},
   "outputs": [
    {
     "data": {
      "text/html": [],
      "text/plain": [
       "<IPython.core.display.HTML object>"
      ]
     },
     "metadata": {},
     "output_type": "display_data"
    },
    {
     "data": {
      "image/png": "[encoded data removed]",
      "text/plain": [
       "<Figure size 800x550 with 1 Axes>"
      ]
     },
     "metadata": {},
     "output_type": "display_data"
    }
   ],
   "source": [
    "#Plot learning Curve\n",
    "plot_model(rf_outdoor, plot = 'learning')"
   ]
  },
  {
   "cell_type": "markdown",
   "metadata": {},
   "source": [
    "As shown in the learning curve, model training score doesn't increase greatly with with an increase in training instances between. In contrast, cross-validation model scores increase moderately from around 93% to 97%."
   ]
  },
  {
   "cell_type": "code",
   "execution_count": 61,
   "metadata": {
    "scrolled": false
   },
   "outputs": [
    {
     "data": {
      "text/html": [],
      "text/plain": [
       "<IPython.core.display.HTML object>"
      ]
     },
     "metadata": {},
     "output_type": "display_data"
    },
    {
     "data": {
      "image/png": "[encoded data removed]",
      "text/plain": [
       "<Figure size 800x550 with 2 Axes>"
      ]
     },
     "metadata": {},
     "output_type": "display_data"
    }
   ],
   "source": [
    "# Plot Residuals\n",
    "plot_model(rf_outdoor, plot = 'residuals')"
   ]
  },
  {
   "cell_type": "code",
   "execution_count": 87,
   "metadata": {},
   "outputs": [
    {
     "name": "stdout",
     "output_type": "stream",
     "text": [
      "Mean Deaths= 5.360 | Max Deaths= 229.070\n"
     ]
    }
   ],
   "source": [
    "print('Mean Deaths= %.3f | Max Deaths= %.3f'%(round(np.mean(df_in['Deaths_PM2.5']),2),round(np.max(df_in['Deaths_PM2.5']),2)))"
   ]
  },
  {
   "cell_type": "markdown",
   "metadata": {},
   "source": [
    "The residuals plot shows the distribution of residual (delta between actual vs predicted indoor air pollution deaths), which are largely within +/-5 deaths per 100,000, which is quite poor on the individual country level considering the {mean,max} of the metric. Despite this the R2 is around 97%. The highly right-skewed target values may be causing issues."
   ]
  },
  {
   "cell_type": "code",
   "execution_count": 67,
   "metadata": {},
   "outputs": [
    {
     "data": {
      "text/html": [],
      "text/plain": [
       "<IPython.core.display.HTML object>"
      ]
     },
     "metadata": {},
     "output_type": "display_data"
    },
    {
     "data": {
      "image/png": "[encoded data removed]",
      "text/plain": [
       "<Figure size 800x500 with 1 Axes>"
      ]
     },
     "metadata": {},
     "output_type": "display_data"
    }
   ],
   "source": [
    "# Plot Feature Importance - Variable Importance (different from average importance shown in dashbaoard)\n",
    "plot_model(rf_outdoor, plot = 'feature')"
   ]
  },
  {
   "cell_type": "markdown",
   "metadata": {},
   "source": [
    "The Feature Importance plot shows that the Population drives the model at a variable importance of around 0.95, with GDP per capita coming in a distance second at around 0.1. The year does not seem to contribute much, which could be a problem when projecting the model forward into time."
   ]
  },
  {
   "cell_type": "markdown",
   "metadata": {},
   "source": [
    "#### 3.1.4 Predict"
   ]
  },
  {
   "cell_type": "code",
   "execution_count": 65,
   "metadata": {
    "scrolled": false
   },
   "outputs": [
    {
     "data": {
      "text/html": [
       "<style type=\"text/css\">\n",
       "</style>\n",
       "<table id=\"T_85108\">\n",
       "  <thead>\n",
       "    <tr>\n",
       "      <th class=\"blank level0\" >&nbsp;</th>\n",
       "      <th id=\"T_85108_level0_col0\" class=\"col_heading level0 col0\" >Model</th>\n",
       "      <th id=\"T_85108_level0_col1\" class=\"col_heading level0 col1\" >MAE</th>\n",
       "      <th id=\"T_85108_level0_col2\" class=\"col_heading level0 col2\" >MSE</th>\n",
       "      <th id=\"T_85108_level0_col3\" class=\"col_heading level0 col3\" >RMSE</th>\n",
       "      <th id=\"T_85108_level0_col4\" class=\"col_heading level0 col4\" >R2</th>\n",
       "      <th id=\"T_85108_level0_col5\" class=\"col_heading level0 col5\" >RMSLE</th>\n",
       "      <th id=\"T_85108_level0_col6\" class=\"col_heading level0 col6\" >MAPE</th>\n",
       "    </tr>\n",
       "  </thead>\n",
       "  <tbody>\n",
       "    <tr>\n",
       "      <th id=\"T_85108_level0_row0\" class=\"row_heading level0 row0\" >0</th>\n",
       "      <td id=\"T_85108_row0_col0\" class=\"data row0 col0\" >Random Forest Regressor</td>\n",
       "      <td id=\"T_85108_row0_col1\" class=\"data row0 col1\" >0.8053</td>\n",
       "      <td id=\"T_85108_row0_col2\" class=\"data row0 col2\" >5.0340</td>\n",
       "      <td id=\"T_85108_row0_col3\" class=\"data row0 col3\" >2.2436</td>\n",
       "      <td id=\"T_85108_row0_col4\" class=\"data row0 col4\" >0.9767</td>\n",
       "      <td id=\"T_85108_row0_col5\" class=\"data row0 col5\" >0.2001</td>\n",
       "      <td id=\"T_85108_row0_col6\" class=\"data row0 col6\" >0.7372</td>\n",
       "    </tr>\n",
       "  </tbody>\n",
       "</table>\n"
      ],
      "text/plain": [
       "<pandas.io.formats.style.Styler at 0x2480978f460>"
      ]
     },
     "metadata": {},
     "output_type": "display_data"
    },
    {
     "data": {
      "text/html": [
       "<div>\n",
       "<style scoped>\n",
       "    .dataframe tbody tr th:only-of-type {\n",
       "        vertical-align: middle;\n",
       "    }\n",
       "\n",
       "    .dataframe tbody tr th {\n",
       "        vertical-align: top;\n",
       "    }\n",
       "\n",
       "    .dataframe thead th {\n",
       "        text-align: right;\n",
       "    }\n",
       "</style>\n",
       "<table border=\"1\" class=\"dataframe\">\n",
       "  <thead>\n",
       "    <tr style=\"text-align: right;\">\n",
       "      <th></th>\n",
       "      <th>GDP_pCapita</th>\n",
       "      <th>Population</th>\n",
       "      <th>SoDI</th>\n",
       "      <th>Income_Class_encoded</th>\n",
       "      <th>Year</th>\n",
       "      <th>Deaths_PM2.5</th>\n",
       "      <th>prediction_label</th>\n",
       "    </tr>\n",
       "  </thead>\n",
       "  <tbody>\n",
       "    <tr>\n",
       "      <th>1025</th>\n",
       "      <td>5386.467773</td>\n",
       "      <td>14587367.0</td>\n",
       "      <td>0.630</td>\n",
       "      <td>2.0</td>\n",
       "      <td>1970-01-01 00:00:00.000001996</td>\n",
       "      <td>0.182761</td>\n",
       "      <td>0.161715</td>\n",
       "    </tr>\n",
       "    <tr>\n",
       "      <th>935</th>\n",
       "      <td>21227.347656</td>\n",
       "      <td>29610218.0</td>\n",
       "      <td>0.809</td>\n",
       "      <td>3.0</td>\n",
       "      <td>1970-01-01 00:00:00.000001996</td>\n",
       "      <td>0.067681</td>\n",
       "      <td>0.145434</td>\n",
       "    </tr>\n",
       "    <tr>\n",
       "      <th>3024</th>\n",
       "      <td>117254.742188</td>\n",
       "      <td>607950.0</td>\n",
       "      <td>0.894</td>\n",
       "      <td>3.0</td>\n",
       "      <td>1970-01-01 00:00:00.000002018</td>\n",
       "      <td>2.326820</td>\n",
       "      <td>6.191070</td>\n",
       "    </tr>\n",
       "    <tr>\n",
       "      <th>3584</th>\n",
       "      <td>10171.480469</td>\n",
       "      <td>10289.0</td>\n",
       "      <td>0.573</td>\n",
       "      <td>3.0</td>\n",
       "      <td>1970-01-01 00:00:00.000002014</td>\n",
       "      <td>94.461243</td>\n",
       "      <td>94.875011</td>\n",
       "    </tr>\n",
       "    <tr>\n",
       "      <th>2131</th>\n",
       "      <td>477.762451</td>\n",
       "      <td>7081119.0</td>\n",
       "      <td>0.190</td>\n",
       "      <td>0.0</td>\n",
       "      <td>1970-01-01 00:00:00.000001994</td>\n",
       "      <td>0.266641</td>\n",
       "      <td>0.265382</td>\n",
       "    </tr>\n",
       "    <tr>\n",
       "      <th>...</th>\n",
       "      <td>...</td>\n",
       "      <td>...</td>\n",
       "      <td>...</td>\n",
       "      <td>...</td>\n",
       "      <td>...</td>\n",
       "      <td>...</td>\n",
       "      <td>...</td>\n",
       "    </tr>\n",
       "    <tr>\n",
       "      <th>524</th>\n",
       "      <td>2993.033691</td>\n",
       "      <td>230248.0</td>\n",
       "      <td>0.494</td>\n",
       "      <td>1.0</td>\n",
       "      <td>1970-01-01 00:00:00.000001998</td>\n",
       "      <td>9.620074</td>\n",
       "      <td>7.299584</td>\n",
       "    </tr>\n",
       "    <tr>\n",
       "      <th>5227</th>\n",
       "      <td>590.393494</td>\n",
       "      <td>4413477.0</td>\n",
       "      <td>0.556</td>\n",
       "      <td>0.0</td>\n",
       "      <td>1970-01-01 00:00:00.000001998</td>\n",
       "      <td>1.620225</td>\n",
       "      <td>1.279303</td>\n",
       "    </tr>\n",
       "    <tr>\n",
       "      <th>2883</th>\n",
       "      <td>7948.685547</td>\n",
       "      <td>5537620.0</td>\n",
       "      <td>0.660</td>\n",
       "      <td>2.0</td>\n",
       "      <td>1970-01-01 00:00:00.000002012</td>\n",
       "      <td>1.067985</td>\n",
       "      <td>1.064601</td>\n",
       "    </tr>\n",
       "    <tr>\n",
       "      <th>3941</th>\n",
       "      <td>1664.245728</td>\n",
       "      <td>3494496.0</td>\n",
       "      <td>0.467</td>\n",
       "      <td>1.0</td>\n",
       "      <td>1970-01-01 00:00:00.000002007</td>\n",
       "      <td>1.166933</td>\n",
       "      <td>0.832874</td>\n",
       "    </tr>\n",
       "    <tr>\n",
       "      <th>2083</th>\n",
       "      <td>26713.058594</td>\n",
       "      <td>158649.0</td>\n",
       "      <td>0.773</td>\n",
       "      <td>3.0</td>\n",
       "      <td>1970-01-01 00:00:00.000002006</td>\n",
       "      <td>7.151511</td>\n",
       "      <td>7.601745</td>\n",
       "    </tr>\n",
       "  </tbody>\n",
       "</table>\n",
       "<p>1143 rows × 7 columns</p>\n",
       "</div>"
      ],
      "text/plain": [
       "        GDP_pCapita  Population   SoDI  Income_Class_encoded  \\\n",
       "1025    5386.467773  14587367.0  0.630                   2.0   \n",
       "935    21227.347656  29610218.0  0.809                   3.0   \n",
       "3024  117254.742188    607950.0  0.894                   3.0   \n",
       "3584   10171.480469     10289.0  0.573                   3.0   \n",
       "2131     477.762451   7081119.0  0.190                   0.0   \n",
       "...             ...         ...    ...                   ...   \n",
       "524     2993.033691    230248.0  0.494                   1.0   \n",
       "5227     590.393494   4413477.0  0.556                   0.0   \n",
       "2883    7948.685547   5537620.0  0.660                   2.0   \n",
       "3941    1664.245728   3494496.0  0.467                   1.0   \n",
       "2083   26713.058594    158649.0  0.773                   3.0   \n",
       "\n",
       "                              Year  Deaths_PM2.5  prediction_label  \n",
       "1025 1970-01-01 00:00:00.000001996      0.182761          0.161715  \n",
       "935  1970-01-01 00:00:00.000001996      0.067681          0.145434  \n",
       "3024 1970-01-01 00:00:00.000002018      2.326820          6.191070  \n",
       "3584 1970-01-01 00:00:00.000002014     94.461243         94.875011  \n",
       "2131 1970-01-01 00:00:00.000001994      0.266641          0.265382  \n",
       "...                            ...           ...               ...  \n",
       "524  1970-01-01 00:00:00.000001998      9.620074          7.299584  \n",
       "5227 1970-01-01 00:00:00.000001998      1.620225          1.279303  \n",
       "2883 1970-01-01 00:00:00.000002012      1.067985          1.064601  \n",
       "3941 1970-01-01 00:00:00.000002007      1.166933          0.832874  \n",
       "2083 1970-01-01 00:00:00.000002006      7.151511          7.601745  \n",
       "\n",
       "[1143 rows x 7 columns]"
      ]
     },
     "execution_count": 65,
     "metadata": {},
     "output_type": "execute_result"
    }
   ],
   "source": [
    "#Use random forest model to predict holdout testing dataset indoor pollution deaths per 100,000\n",
    "predictions = predict_model(rf_outdoor)\n",
    "predictions"
   ]
  },
  {
   "cell_type": "markdown",
   "metadata": {},
   "source": [
    "Even with the hold-out testing dataset, the tuned model has RMSE,MAE,R2 not drastically different from the test-train dataset used to build the model, so it shows that the model was not overfitted to the input data."
   ]
  },
  {
   "cell_type": "code",
   "execution_count": 89,
   "metadata": {
    "scrolled": false
   },
   "outputs": [
    {
     "name": "stdout",
     "output_type": "stream",
     "text": [
      "Transformation Pipeline and Model Successfully Saved\n"
     ]
    },
    {
     "data": {
      "text/plain": [
       "(Pipeline(memory=FastMemory(location=C:\\Users\\kevin\\AppData\\Local\\Temp\\joblib),\n",
       "          steps=[('date_feature_extractor',\n",
       "                  TransformerWrapper(include=['Year'],\n",
       "                                     transformer=ExtractDateTimeFeatures())),\n",
       "                 ('numerical_imputer',\n",
       "                  TransformerWrapper(include=['GDP_pCapita', 'Population',\n",
       "                                              'SoDI', 'Income_Class_encoded'],\n",
       "                                     transformer=SimpleImputer())),\n",
       "                 ('categorical_imputer',\n",
       "                  TransformerWrapper(include=[],\n",
       "                                     transformer=SimpleImputer(strategy='most_frequent'))),\n",
       "                 ('trained_model',\n",
       "                  RandomForestRegressor(max_depth=7, n_jobs=-1,\n",
       "                                        random_state=123))]),\n",
       " 'OutdoorPM2.5 Deaths Random Forest 2023-03-29.pkl')"
      ]
     },
     "execution_count": 89,
     "metadata": {},
     "output_type": "execute_result"
    }
   ],
   "source": [
    "#Save Model\n",
    "save_model(rf_outdoor,'OutdoorPM2.5 Deaths Random Forest 2023-03-29')"
   ]
  },
  {
   "cell_type": "markdown",
   "metadata": {},
   "source": [
    "### 3.3 Model Selection for Outdoor Pollution - OZone"
   ]
  },
  {
   "cell_type": "markdown",
   "metadata": {},
   "source": [
    "Now we will test models for predictions on outdoor OZone pollution deaths."
   ]
  },
  {
   "cell_type": "markdown",
   "metadata": {},
   "source": [
    "**Without target transformation:** <br>\n",
    "Predicting deaths due to OZone pollution appears to be more difficult. All MAE/MSE/RMSE/RMSLE values are all close to 0 because the amplitudes of the target is very small. If we scale the target as shown above, the model performance is even worse. Extra Trees Regressor appears to have an acceptable R2 of 0.7-0.8. <br>\n",
    "**With target transformation**: <br>\n",
    "Extra Trees Regressor R2 = 0.65, which is worse."
   ]
  },
  {
   "cell_type": "code",
   "execution_count": 69,
   "metadata": {},
   "outputs": [],
   "source": [
    "#Dependent variable - classify the level of indoor pollution death\n",
    "y=df_in.loc[:,['Deaths_OZone']]"
   ]
  },
  {
   "cell_type": "code",
   "execution_count": 70,
   "metadata": {},
   "outputs": [],
   "source": [
    "dataset = pd.concat([X,y],axis=1)"
   ]
  },
  {
   "cell_type": "markdown",
   "metadata": {},
   "source": [
    "#### 3.3.1 Determine Top 3 Models"
   ]
  },
  {
   "cell_type": "code",
   "execution_count": 71,
   "metadata": {},
   "outputs": [
    {
     "data": {
      "text/html": [
       "<style type=\"text/css\">\n",
       "#T_7defe_row9_col1, #T_7defe_row16_col1 {\n",
       "  background-color: lightgreen;\n",
       "}\n",
       "</style>\n",
       "<table id=\"T_7defe\">\n",
       "  <thead>\n",
       "    <tr>\n",
       "      <th class=\"blank level0\" >&nbsp;</th>\n",
       "      <th id=\"T_7defe_level0_col0\" class=\"col_heading level0 col0\" >Description</th>\n",
       "      <th id=\"T_7defe_level0_col1\" class=\"col_heading level0 col1\" >Value</th>\n",
       "    </tr>\n",
       "  </thead>\n",
       "  <tbody>\n",
       "    <tr>\n",
       "      <th id=\"T_7defe_level0_row0\" class=\"row_heading level0 row0\" >0</th>\n",
       "      <td id=\"T_7defe_row0_col0\" class=\"data row0 col0\" >Session id</td>\n",
       "      <td id=\"T_7defe_row0_col1\" class=\"data row0 col1\" >123</td>\n",
       "    </tr>\n",
       "    <tr>\n",
       "      <th id=\"T_7defe_level0_row1\" class=\"row_heading level0 row1\" >1</th>\n",
       "      <td id=\"T_7defe_row1_col0\" class=\"data row1 col0\" >Target</td>\n",
       "      <td id=\"T_7defe_row1_col1\" class=\"data row1 col1\" >Deaths_OZone</td>\n",
       "    </tr>\n",
       "    <tr>\n",
       "      <th id=\"T_7defe_level0_row2\" class=\"row_heading level0 row2\" >2</th>\n",
       "      <td id=\"T_7defe_row2_col0\" class=\"data row2 col0\" >Target type</td>\n",
       "      <td id=\"T_7defe_row2_col1\" class=\"data row2 col1\" >Regression</td>\n",
       "    </tr>\n",
       "    <tr>\n",
       "      <th id=\"T_7defe_level0_row3\" class=\"row_heading level0 row3\" >3</th>\n",
       "      <td id=\"T_7defe_row3_col0\" class=\"data row3 col0\" >Original data shape</td>\n",
       "      <td id=\"T_7defe_row3_col1\" class=\"data row3 col1\" >(5712, 6)</td>\n",
       "    </tr>\n",
       "    <tr>\n",
       "      <th id=\"T_7defe_level0_row4\" class=\"row_heading level0 row4\" >4</th>\n",
       "      <td id=\"T_7defe_row4_col0\" class=\"data row4 col0\" >Transformed data shape</td>\n",
       "      <td id=\"T_7defe_row4_col1\" class=\"data row4 col1\" >(5712, 8)</td>\n",
       "    </tr>\n",
       "    <tr>\n",
       "      <th id=\"T_7defe_level0_row5\" class=\"row_heading level0 row5\" >5</th>\n",
       "      <td id=\"T_7defe_row5_col0\" class=\"data row5 col0\" >Transformed train set shape</td>\n",
       "      <td id=\"T_7defe_row5_col1\" class=\"data row5 col1\" >(4569, 8)</td>\n",
       "    </tr>\n",
       "    <tr>\n",
       "      <th id=\"T_7defe_level0_row6\" class=\"row_heading level0 row6\" >6</th>\n",
       "      <td id=\"T_7defe_row6_col0\" class=\"data row6 col0\" >Transformed test set shape</td>\n",
       "      <td id=\"T_7defe_row6_col1\" class=\"data row6 col1\" >(1143, 8)</td>\n",
       "    </tr>\n",
       "    <tr>\n",
       "      <th id=\"T_7defe_level0_row7\" class=\"row_heading level0 row7\" >7</th>\n",
       "      <td id=\"T_7defe_row7_col0\" class=\"data row7 col0\" >Numeric features</td>\n",
       "      <td id=\"T_7defe_row7_col1\" class=\"data row7 col1\" >4</td>\n",
       "    </tr>\n",
       "    <tr>\n",
       "      <th id=\"T_7defe_level0_row8\" class=\"row_heading level0 row8\" >8</th>\n",
       "      <td id=\"T_7defe_row8_col0\" class=\"data row8 col0\" >Date features</td>\n",
       "      <td id=\"T_7defe_row8_col1\" class=\"data row8 col1\" >1</td>\n",
       "    </tr>\n",
       "    <tr>\n",
       "      <th id=\"T_7defe_level0_row9\" class=\"row_heading level0 row9\" >9</th>\n",
       "      <td id=\"T_7defe_row9_col0\" class=\"data row9 col0\" >Preprocess</td>\n",
       "      <td id=\"T_7defe_row9_col1\" class=\"data row9 col1\" >True</td>\n",
       "    </tr>\n",
       "    <tr>\n",
       "      <th id=\"T_7defe_level0_row10\" class=\"row_heading level0 row10\" >10</th>\n",
       "      <td id=\"T_7defe_row10_col0\" class=\"data row10 col0\" >Imputation type</td>\n",
       "      <td id=\"T_7defe_row10_col1\" class=\"data row10 col1\" >simple</td>\n",
       "    </tr>\n",
       "    <tr>\n",
       "      <th id=\"T_7defe_level0_row11\" class=\"row_heading level0 row11\" >11</th>\n",
       "      <td id=\"T_7defe_row11_col0\" class=\"data row11 col0\" >Numeric imputation</td>\n",
       "      <td id=\"T_7defe_row11_col1\" class=\"data row11 col1\" >mean</td>\n",
       "    </tr>\n",
       "    <tr>\n",
       "      <th id=\"T_7defe_level0_row12\" class=\"row_heading level0 row12\" >12</th>\n",
       "      <td id=\"T_7defe_row12_col0\" class=\"data row12 col0\" >Categorical imputation</td>\n",
       "      <td id=\"T_7defe_row12_col1\" class=\"data row12 col1\" >mode</td>\n",
       "    </tr>\n",
       "    <tr>\n",
       "      <th id=\"T_7defe_level0_row13\" class=\"row_heading level0 row13\" >13</th>\n",
       "      <td id=\"T_7defe_row13_col0\" class=\"data row13 col0\" >Fold Generator</td>\n",
       "      <td id=\"T_7defe_row13_col1\" class=\"data row13 col1\" >KFold</td>\n",
       "    </tr>\n",
       "    <tr>\n",
       "      <th id=\"T_7defe_level0_row14\" class=\"row_heading level0 row14\" >14</th>\n",
       "      <td id=\"T_7defe_row14_col0\" class=\"data row14 col0\" >Fold Number</td>\n",
       "      <td id=\"T_7defe_row14_col1\" class=\"data row14 col1\" >10</td>\n",
       "    </tr>\n",
       "    <tr>\n",
       "      <th id=\"T_7defe_level0_row15\" class=\"row_heading level0 row15\" >15</th>\n",
       "      <td id=\"T_7defe_row15_col0\" class=\"data row15 col0\" >CPU Jobs</td>\n",
       "      <td id=\"T_7defe_row15_col1\" class=\"data row15 col1\" >-1</td>\n",
       "    </tr>\n",
       "    <tr>\n",
       "      <th id=\"T_7defe_level0_row16\" class=\"row_heading level0 row16\" >16</th>\n",
       "      <td id=\"T_7defe_row16_col0\" class=\"data row16 col0\" >Use GPU</td>\n",
       "      <td id=\"T_7defe_row16_col1\" class=\"data row16 col1\" >True</td>\n",
       "    </tr>\n",
       "    <tr>\n",
       "      <th id=\"T_7defe_level0_row17\" class=\"row_heading level0 row17\" >17</th>\n",
       "      <td id=\"T_7defe_row17_col0\" class=\"data row17 col0\" >Log Experiment</td>\n",
       "      <td id=\"T_7defe_row17_col1\" class=\"data row17 col1\" >False</td>\n",
       "    </tr>\n",
       "    <tr>\n",
       "      <th id=\"T_7defe_level0_row18\" class=\"row_heading level0 row18\" >18</th>\n",
       "      <td id=\"T_7defe_row18_col0\" class=\"data row18 col0\" >Experiment Name</td>\n",
       "      <td id=\"T_7defe_row18_col1\" class=\"data row18 col1\" >reg-default-name</td>\n",
       "    </tr>\n",
       "    <tr>\n",
       "      <th id=\"T_7defe_level0_row19\" class=\"row_heading level0 row19\" >19</th>\n",
       "      <td id=\"T_7defe_row19_col0\" class=\"data row19 col0\" >USI</td>\n",
       "      <td id=\"T_7defe_row19_col1\" class=\"data row19 col1\" >6632</td>\n",
       "    </tr>\n",
       "  </tbody>\n",
       "</table>\n"
      ],
      "text/plain": [
       "<pandas.io.formats.style.Styler at 0x248096d8a90>"
      ]
     },
     "metadata": {},
     "output_type": "display_data"
    }
   ],
   "source": [
    "# Initialize the PyCaret setup\n",
    "s = setup(data=dataset,target='Deaths_OZone',\n",
    "          numeric_features=num_features,date_features=date_features,train_size=0.8,\n",
    "          use_gpu=True,fold=10,n_jobs=-1,session_id=123) "
   ]
  },
  {
   "cell_type": "code",
   "execution_count": 72,
   "metadata": {
    "scrolled": false
   },
   "outputs": [
    {
     "data": {
      "text/html": [],
      "text/plain": [
       "<IPython.core.display.HTML object>"
      ]
     },
     "metadata": {},
     "output_type": "display_data"
    },
    {
     "data": {
      "text/html": [
       "<style type=\"text/css\">\n",
       "#T_6e4f2 th {\n",
       "  text-align: left;\n",
       "}\n",
       "#T_6e4f2_row0_col0, #T_6e4f2_row0_col2, #T_6e4f2_row0_col3, #T_6e4f2_row0_col4, #T_6e4f2_row0_col6, #T_6e4f2_row1_col0, #T_6e4f2_row1_col1, #T_6e4f2_row1_col2, #T_6e4f2_row1_col3, #T_6e4f2_row1_col4, #T_6e4f2_row1_col5, #T_6e4f2_row2_col0, #T_6e4f2_row2_col1, #T_6e4f2_row2_col2, #T_6e4f2_row2_col3, #T_6e4f2_row2_col4, #T_6e4f2_row2_col5, #T_6e4f2_row2_col6, #T_6e4f2_row3_col0, #T_6e4f2_row3_col1, #T_6e4f2_row3_col5, #T_6e4f2_row3_col6, #T_6e4f2_row4_col0, #T_6e4f2_row4_col1, #T_6e4f2_row4_col2, #T_6e4f2_row4_col3, #T_6e4f2_row4_col4, #T_6e4f2_row4_col5, #T_6e4f2_row4_col6, #T_6e4f2_row5_col0, #T_6e4f2_row5_col1, #T_6e4f2_row5_col2, #T_6e4f2_row5_col3, #T_6e4f2_row5_col4, #T_6e4f2_row5_col5, #T_6e4f2_row5_col6, #T_6e4f2_row6_col0, #T_6e4f2_row6_col1, #T_6e4f2_row6_col2, #T_6e4f2_row6_col3, #T_6e4f2_row6_col4, #T_6e4f2_row6_col5, #T_6e4f2_row6_col6, #T_6e4f2_row7_col0, #T_6e4f2_row7_col1, #T_6e4f2_row7_col2, #T_6e4f2_row7_col3, #T_6e4f2_row7_col4, #T_6e4f2_row7_col5, #T_6e4f2_row7_col6, #T_6e4f2_row8_col0, #T_6e4f2_row8_col1, #T_6e4f2_row8_col2, #T_6e4f2_row8_col3, #T_6e4f2_row8_col4, #T_6e4f2_row8_col5, #T_6e4f2_row8_col6, #T_6e4f2_row9_col0, #T_6e4f2_row9_col1, #T_6e4f2_row9_col2, #T_6e4f2_row9_col3, #T_6e4f2_row9_col4, #T_6e4f2_row9_col5, #T_6e4f2_row9_col6, #T_6e4f2_row10_col0, #T_6e4f2_row10_col1, #T_6e4f2_row10_col2, #T_6e4f2_row10_col3, #T_6e4f2_row10_col4, #T_6e4f2_row10_col5, #T_6e4f2_row10_col6, #T_6e4f2_row11_col0, #T_6e4f2_row11_col1, #T_6e4f2_row11_col2, #T_6e4f2_row11_col3, #T_6e4f2_row11_col4, #T_6e4f2_row11_col5, #T_6e4f2_row11_col6, #T_6e4f2_row12_col0, #T_6e4f2_row12_col1, #T_6e4f2_row12_col2, #T_6e4f2_row12_col3, #T_6e4f2_row12_col4, #T_6e4f2_row12_col5, #T_6e4f2_row12_col6, #T_6e4f2_row13_col0, #T_6e4f2_row13_col1, #T_6e4f2_row13_col2, #T_6e4f2_row13_col3, #T_6e4f2_row13_col4, #T_6e4f2_row13_col5, #T_6e4f2_row13_col6, #T_6e4f2_row14_col0, #T_6e4f2_row14_col1, #T_6e4f2_row14_col2, #T_6e4f2_row14_col3, #T_6e4f2_row14_col4, #T_6e4f2_row14_col5, #T_6e4f2_row14_col6, #T_6e4f2_row15_col0, #T_6e4f2_row15_col1, #T_6e4f2_row15_col2, #T_6e4f2_row15_col3, #T_6e4f2_row15_col4, #T_6e4f2_row15_col5, #T_6e4f2_row15_col6, #T_6e4f2_row16_col0, #T_6e4f2_row16_col1, #T_6e4f2_row16_col2, #T_6e4f2_row16_col3, #T_6e4f2_row16_col4, #T_6e4f2_row16_col5, #T_6e4f2_row16_col6 {\n",
       "  text-align: left;\n",
       "}\n",
       "#T_6e4f2_row0_col1, #T_6e4f2_row0_col5, #T_6e4f2_row1_col6, #T_6e4f2_row3_col2, #T_6e4f2_row3_col3, #T_6e4f2_row3_col4 {\n",
       "  text-align: left;\n",
       "  background-color: yellow;\n",
       "}\n",
       "#T_6e4f2_row0_col7, #T_6e4f2_row1_col7, #T_6e4f2_row2_col7, #T_6e4f2_row3_col7, #T_6e4f2_row4_col7, #T_6e4f2_row5_col7, #T_6e4f2_row6_col7, #T_6e4f2_row7_col7, #T_6e4f2_row8_col7, #T_6e4f2_row9_col7, #T_6e4f2_row10_col7, #T_6e4f2_row11_col7, #T_6e4f2_row12_col7, #T_6e4f2_row14_col7, #T_6e4f2_row15_col7, #T_6e4f2_row16_col7 {\n",
       "  text-align: left;\n",
       "  background-color: lightgrey;\n",
       "}\n",
       "#T_6e4f2_row13_col7 {\n",
       "  text-align: left;\n",
       "  background-color: yellow;\n",
       "  background-color: lightgrey;\n",
       "}\n",
       "</style>\n",
       "<table id=\"T_6e4f2\">\n",
       "  <thead>\n",
       "    <tr>\n",
       "      <th class=\"blank level0\" >&nbsp;</th>\n",
       "      <th id=\"T_6e4f2_level0_col0\" class=\"col_heading level0 col0\" >Model</th>\n",
       "      <th id=\"T_6e4f2_level0_col1\" class=\"col_heading level0 col1\" >MAE</th>\n",
       "      <th id=\"T_6e4f2_level0_col2\" class=\"col_heading level0 col2\" >MSE</th>\n",
       "      <th id=\"T_6e4f2_level0_col3\" class=\"col_heading level0 col3\" >RMSE</th>\n",
       "      <th id=\"T_6e4f2_level0_col4\" class=\"col_heading level0 col4\" >R2</th>\n",
       "      <th id=\"T_6e4f2_level0_col5\" class=\"col_heading level0 col5\" >RMSLE</th>\n",
       "      <th id=\"T_6e4f2_level0_col6\" class=\"col_heading level0 col6\" >MAPE</th>\n",
       "      <th id=\"T_6e4f2_level0_col7\" class=\"col_heading level0 col7\" >TT (Sec)</th>\n",
       "    </tr>\n",
       "  </thead>\n",
       "  <tbody>\n",
       "    <tr>\n",
       "      <th id=\"T_6e4f2_level0_row0\" class=\"row_heading level0 row0\" >rf</th>\n",
       "      <td id=\"T_6e4f2_row0_col0\" class=\"data row0 col0\" >Random Forest Regressor</td>\n",
       "      <td id=\"T_6e4f2_row0_col1\" class=\"data row0 col1\" >0.0305</td>\n",
       "      <td id=\"T_6e4f2_row0_col2\" class=\"data row0 col2\" >0.0682</td>\n",
       "      <td id=\"T_6e4f2_row0_col3\" class=\"data row0 col3\" >0.2051</td>\n",
       "      <td id=\"T_6e4f2_row0_col4\" class=\"data row0 col4\" >0.8531</td>\n",
       "      <td id=\"T_6e4f2_row0_col5\" class=\"data row0 col5\" >0.0685</td>\n",
       "      <td id=\"T_6e4f2_row0_col6\" class=\"data row0 col6\" >0.7843</td>\n",
       "      <td id=\"T_6e4f2_row0_col7\" class=\"data row0 col7\" >3.8210</td>\n",
       "    </tr>\n",
       "    <tr>\n",
       "      <th id=\"T_6e4f2_level0_row1\" class=\"row_heading level0 row1\" >dt</th>\n",
       "      <td id=\"T_6e4f2_row1_col0\" class=\"data row1 col0\" >Decision Tree Regressor</td>\n",
       "      <td id=\"T_6e4f2_row1_col1\" class=\"data row1 col1\" >0.0308</td>\n",
       "      <td id=\"T_6e4f2_row1_col2\" class=\"data row1 col2\" >0.1158</td>\n",
       "      <td id=\"T_6e4f2_row1_col3\" class=\"data row1 col3\" >0.2738</td>\n",
       "      <td id=\"T_6e4f2_row1_col4\" class=\"data row1 col4\" >0.7371</td>\n",
       "      <td id=\"T_6e4f2_row1_col5\" class=\"data row1 col5\" >0.0974</td>\n",
       "      <td id=\"T_6e4f2_row1_col6\" class=\"data row1 col6\" >0.5801</td>\n",
       "      <td id=\"T_6e4f2_row1_col7\" class=\"data row1 col7\" >2.3920</td>\n",
       "    </tr>\n",
       "    <tr>\n",
       "      <th id=\"T_6e4f2_level0_row2\" class=\"row_heading level0 row2\" >et</th>\n",
       "      <td id=\"T_6e4f2_row2_col0\" class=\"data row2 col0\" >Extra Trees Regressor</td>\n",
       "      <td id=\"T_6e4f2_row2_col1\" class=\"data row2 col1\" >0.0357</td>\n",
       "      <td id=\"T_6e4f2_row2_col2\" class=\"data row2 col2\" >0.0805</td>\n",
       "      <td id=\"T_6e4f2_row2_col3\" class=\"data row2 col3\" >0.2226</td>\n",
       "      <td id=\"T_6e4f2_row2_col4\" class=\"data row2 col4\" >0.8393</td>\n",
       "      <td id=\"T_6e4f2_row2_col5\" class=\"data row2 col5\" >0.0738</td>\n",
       "      <td id=\"T_6e4f2_row2_col6\" class=\"data row2 col6\" >1.2412</td>\n",
       "      <td id=\"T_6e4f2_row2_col7\" class=\"data row2 col7\" >3.0330</td>\n",
       "    </tr>\n",
       "    <tr>\n",
       "      <th id=\"T_6e4f2_level0_row3\" class=\"row_heading level0 row3\" >knn</th>\n",
       "      <td id=\"T_6e4f2_row3_col0\" class=\"data row3 col0\" >K Neighbors Regressor</td>\n",
       "      <td id=\"T_6e4f2_row3_col1\" class=\"data row3 col1\" >0.0462</td>\n",
       "      <td id=\"T_6e4f2_row3_col2\" class=\"data row3 col2\" >0.0500</td>\n",
       "      <td id=\"T_6e4f2_row3_col3\" class=\"data row3 col3\" >0.1942</td>\n",
       "      <td id=\"T_6e4f2_row3_col4\" class=\"data row3 col4\" >0.8823</td>\n",
       "      <td id=\"T_6e4f2_row3_col5\" class=\"data row3 col5\" >0.0921</td>\n",
       "      <td id=\"T_6e4f2_row3_col6\" class=\"data row3 col6\" >1.9850</td>\n",
       "      <td id=\"T_6e4f2_row3_col7\" class=\"data row3 col7\" >2.9620</td>\n",
       "    </tr>\n",
       "    <tr>\n",
       "      <th id=\"T_6e4f2_level0_row4\" class=\"row_heading level0 row4\" >gbr</th>\n",
       "      <td id=\"T_6e4f2_row4_col0\" class=\"data row4 col0\" >Gradient Boosting Regressor</td>\n",
       "      <td id=\"T_6e4f2_row4_col1\" class=\"data row4 col1\" >0.0598</td>\n",
       "      <td id=\"T_6e4f2_row4_col2\" class=\"data row4 col2\" >0.0996</td>\n",
       "      <td id=\"T_6e4f2_row4_col3\" class=\"data row4 col3\" >0.2551</td>\n",
       "      <td id=\"T_6e4f2_row4_col4\" class=\"data row4 col4\" >0.7820</td>\n",
       "      <td id=\"T_6e4f2_row4_col5\" class=\"data row4 col5\" >0.1001</td>\n",
       "      <td id=\"T_6e4f2_row4_col6\" class=\"data row4 col6\" >2.5866</td>\n",
       "      <td id=\"T_6e4f2_row4_col7\" class=\"data row4 col7\" >3.2160</td>\n",
       "    </tr>\n",
       "    <tr>\n",
       "      <th id=\"T_6e4f2_level0_row5\" class=\"row_heading level0 row5\" >ada</th>\n",
       "      <td id=\"T_6e4f2_row5_col0\" class=\"data row5 col0\" >AdaBoost Regressor</td>\n",
       "      <td id=\"T_6e4f2_row5_col1\" class=\"data row5 col1\" >0.0950</td>\n",
       "      <td id=\"T_6e4f2_row5_col2\" class=\"data row5 col2\" >0.1196</td>\n",
       "      <td id=\"T_6e4f2_row5_col3\" class=\"data row5 col3\" >0.2983</td>\n",
       "      <td id=\"T_6e4f2_row5_col4\" class=\"data row5 col4\" >0.7475</td>\n",
       "      <td id=\"T_6e4f2_row5_col5\" class=\"data row5 col5\" >0.1313</td>\n",
       "      <td id=\"T_6e4f2_row5_col6\" class=\"data row5 col6\" >17.0098</td>\n",
       "      <td id=\"T_6e4f2_row5_col7\" class=\"data row5 col7\" >2.6670</td>\n",
       "    </tr>\n",
       "    <tr>\n",
       "      <th id=\"T_6e4f2_level0_row6\" class=\"row_heading level0 row6\" >huber</th>\n",
       "      <td id=\"T_6e4f2_row6_col0\" class=\"data row6 col0\" >Huber Regressor</td>\n",
       "      <td id=\"T_6e4f2_row6_col1\" class=\"data row6 col1\" >0.1797</td>\n",
       "      <td id=\"T_6e4f2_row6_col2\" class=\"data row6 col2\" >0.5137</td>\n",
       "      <td id=\"T_6e4f2_row6_col3\" class=\"data row6 col3\" >0.6994</td>\n",
       "      <td id=\"T_6e4f2_row6_col4\" class=\"data row6 col4\" >0.0305</td>\n",
       "      <td id=\"T_6e4f2_row6_col5\" class=\"data row6 col5\" >0.2387</td>\n",
       "      <td id=\"T_6e4f2_row6_col6\" class=\"data row6 col6\" >25.7144</td>\n",
       "      <td id=\"T_6e4f2_row6_col7\" class=\"data row6 col7\" >2.4580</td>\n",
       "    </tr>\n",
       "    <tr>\n",
       "      <th id=\"T_6e4f2_level0_row7\" class=\"row_heading level0 row7\" >lar</th>\n",
       "      <td id=\"T_6e4f2_row7_col0\" class=\"data row7 col0\" >Least Angle Regression</td>\n",
       "      <td id=\"T_6e4f2_row7_col1\" class=\"data row7 col1\" >0.2084</td>\n",
       "      <td id=\"T_6e4f2_row7_col2\" class=\"data row7 col2\" >0.4939</td>\n",
       "      <td id=\"T_6e4f2_row7_col3\" class=\"data row7 col3\" >0.6870</td>\n",
       "      <td id=\"T_6e4f2_row7_col4\" class=\"data row7 col4\" >0.0607</td>\n",
       "      <td id=\"T_6e4f2_row7_col5\" class=\"data row7 col5\" >0.2530</td>\n",
       "      <td id=\"T_6e4f2_row7_col6\" class=\"data row7 col6\" >30.6889</td>\n",
       "      <td id=\"T_6e4f2_row7_col7\" class=\"data row7 col7\" >2.4930</td>\n",
       "    </tr>\n",
       "    <tr>\n",
       "      <th id=\"T_6e4f2_level0_row8\" class=\"row_heading level0 row8\" >ridge</th>\n",
       "      <td id=\"T_6e4f2_row8_col0\" class=\"data row8 col0\" >Ridge Regression</td>\n",
       "      <td id=\"T_6e4f2_row8_col1\" class=\"data row8 col1\" >0.2084</td>\n",
       "      <td id=\"T_6e4f2_row8_col2\" class=\"data row8 col2\" >0.4939</td>\n",
       "      <td id=\"T_6e4f2_row8_col3\" class=\"data row8 col3\" >0.6870</td>\n",
       "      <td id=\"T_6e4f2_row8_col4\" class=\"data row8 col4\" >0.0608</td>\n",
       "      <td id=\"T_6e4f2_row8_col5\" class=\"data row8 col5\" >0.2530</td>\n",
       "      <td id=\"T_6e4f2_row8_col6\" class=\"data row8 col6\" >30.6878</td>\n",
       "      <td id=\"T_6e4f2_row8_col7\" class=\"data row8 col7\" >2.9150</td>\n",
       "    </tr>\n",
       "    <tr>\n",
       "      <th id=\"T_6e4f2_level0_row9\" class=\"row_heading level0 row9\" >lr</th>\n",
       "      <td id=\"T_6e4f2_row9_col0\" class=\"data row9 col0\" >Linear Regression</td>\n",
       "      <td id=\"T_6e4f2_row9_col1\" class=\"data row9 col1\" >0.2084</td>\n",
       "      <td id=\"T_6e4f2_row9_col2\" class=\"data row9 col2\" >0.4939</td>\n",
       "      <td id=\"T_6e4f2_row9_col3\" class=\"data row9 col3\" >0.6870</td>\n",
       "      <td id=\"T_6e4f2_row9_col4\" class=\"data row9 col4\" >0.0607</td>\n",
       "      <td id=\"T_6e4f2_row9_col5\" class=\"data row9 col5\" >0.2530</td>\n",
       "      <td id=\"T_6e4f2_row9_col6\" class=\"data row9 col6\" >30.6889</td>\n",
       "      <td id=\"T_6e4f2_row9_col7\" class=\"data row9 col7\" >2.4520</td>\n",
       "    </tr>\n",
       "    <tr>\n",
       "      <th id=\"T_6e4f2_level0_row10\" class=\"row_heading level0 row10\" >lasso</th>\n",
       "      <td id=\"T_6e4f2_row10_col0\" class=\"data row10 col0\" >Lasso Regression</td>\n",
       "      <td id=\"T_6e4f2_row10_col1\" class=\"data row10 col1\" >0.2089</td>\n",
       "      <td id=\"T_6e4f2_row10_col2\" class=\"data row10 col2\" >0.4936</td>\n",
       "      <td id=\"T_6e4f2_row10_col3\" class=\"data row10 col3\" >0.6867</td>\n",
       "      <td id=\"T_6e4f2_row10_col4\" class=\"data row10 col4\" >0.0620</td>\n",
       "      <td id=\"T_6e4f2_row10_col5\" class=\"data row10 col5\" >0.2533</td>\n",
       "      <td id=\"T_6e4f2_row10_col6\" class=\"data row10 col6\" >28.8511</td>\n",
       "      <td id=\"T_6e4f2_row10_col7\" class=\"data row10 col7\" >2.6360</td>\n",
       "    </tr>\n",
       "    <tr>\n",
       "      <th id=\"T_6e4f2_level0_row11\" class=\"row_heading level0 row11\" >en</th>\n",
       "      <td id=\"T_6e4f2_row11_col0\" class=\"data row11 col0\" >Elastic Net</td>\n",
       "      <td id=\"T_6e4f2_row11_col1\" class=\"data row11 col1\" >0.2089</td>\n",
       "      <td id=\"T_6e4f2_row11_col2\" class=\"data row11 col2\" >0.4936</td>\n",
       "      <td id=\"T_6e4f2_row11_col3\" class=\"data row11 col3\" >0.6867</td>\n",
       "      <td id=\"T_6e4f2_row11_col4\" class=\"data row11 col4\" >0.0620</td>\n",
       "      <td id=\"T_6e4f2_row11_col5\" class=\"data row11 col5\" >0.2533</td>\n",
       "      <td id=\"T_6e4f2_row11_col6\" class=\"data row11 col6\" >28.8482</td>\n",
       "      <td id=\"T_6e4f2_row11_col7\" class=\"data row11 col7\" >2.6080</td>\n",
       "    </tr>\n",
       "    <tr>\n",
       "      <th id=\"T_6e4f2_level0_row12\" class=\"row_heading level0 row12\" >llar</th>\n",
       "      <td id=\"T_6e4f2_row12_col0\" class=\"data row12 col0\" >Lasso Least Angle Regression</td>\n",
       "      <td id=\"T_6e4f2_row12_col1\" class=\"data row12 col1\" >0.2089</td>\n",
       "      <td id=\"T_6e4f2_row12_col2\" class=\"data row12 col2\" >0.4936</td>\n",
       "      <td id=\"T_6e4f2_row12_col3\" class=\"data row12 col3\" >0.6867</td>\n",
       "      <td id=\"T_6e4f2_row12_col4\" class=\"data row12 col4\" >0.0620</td>\n",
       "      <td id=\"T_6e4f2_row12_col5\" class=\"data row12 col5\" >0.2533</td>\n",
       "      <td id=\"T_6e4f2_row12_col6\" class=\"data row12 col6\" >28.8511</td>\n",
       "      <td id=\"T_6e4f2_row12_col7\" class=\"data row12 col7\" >2.7230</td>\n",
       "    </tr>\n",
       "    <tr>\n",
       "      <th id=\"T_6e4f2_level0_row13\" class=\"row_heading level0 row13\" >br</th>\n",
       "      <td id=\"T_6e4f2_row13_col0\" class=\"data row13 col0\" >Bayesian Ridge</td>\n",
       "      <td id=\"T_6e4f2_row13_col1\" class=\"data row13 col1\" >0.2089</td>\n",
       "      <td id=\"T_6e4f2_row13_col2\" class=\"data row13 col2\" >0.4936</td>\n",
       "      <td id=\"T_6e4f2_row13_col3\" class=\"data row13 col3\" >0.6867</td>\n",
       "      <td id=\"T_6e4f2_row13_col4\" class=\"data row13 col4\" >0.0620</td>\n",
       "      <td id=\"T_6e4f2_row13_col5\" class=\"data row13 col5\" >0.2533</td>\n",
       "      <td id=\"T_6e4f2_row13_col6\" class=\"data row13 col6\" >28.8536</td>\n",
       "      <td id=\"T_6e4f2_row13_col7\" class=\"data row13 col7\" >2.2400</td>\n",
       "    </tr>\n",
       "    <tr>\n",
       "      <th id=\"T_6e4f2_level0_row14\" class=\"row_heading level0 row14\" >dummy</th>\n",
       "      <td id=\"T_6e4f2_row14_col0\" class=\"data row14 col0\" >Dummy Regressor</td>\n",
       "      <td id=\"T_6e4f2_row14_col1\" class=\"data row14 col1\" >0.2154</td>\n",
       "      <td id=\"T_6e4f2_row14_col2\" class=\"data row14 col2\" >0.5289</td>\n",
       "      <td id=\"T_6e4f2_row14_col3\" class=\"data row14 col3\" >0.7103</td>\n",
       "      <td id=\"T_6e4f2_row14_col4\" class=\"data row14 col4\" >-0.0022</td>\n",
       "      <td id=\"T_6e4f2_row14_col5\" class=\"data row14 col5\" >0.2533</td>\n",
       "      <td id=\"T_6e4f2_row14_col6\" class=\"data row14 col6\" >53.2468</td>\n",
       "      <td id=\"T_6e4f2_row14_col7\" class=\"data row14 col7\" >2.2790</td>\n",
       "    </tr>\n",
       "    <tr>\n",
       "      <th id=\"T_6e4f2_level0_row15\" class=\"row_heading level0 row15\" >omp</th>\n",
       "      <td id=\"T_6e4f2_row15_col0\" class=\"data row15 col0\" >Orthogonal Matching Pursuit</td>\n",
       "      <td id=\"T_6e4f2_row15_col1\" class=\"data row15 col1\" >0.2177</td>\n",
       "      <td id=\"T_6e4f2_row15_col2\" class=\"data row15 col2\" >0.5278</td>\n",
       "      <td id=\"T_6e4f2_row15_col3\" class=\"data row15 col3\" >0.7096</td>\n",
       "      <td id=\"T_6e4f2_row15_col4\" class=\"data row15 col4\" >0.0001</td>\n",
       "      <td id=\"T_6e4f2_row15_col5\" class=\"data row15 col5\" >0.2531</td>\n",
       "      <td id=\"T_6e4f2_row15_col6\" class=\"data row15 col6\" >51.1778</td>\n",
       "      <td id=\"T_6e4f2_row15_col7\" class=\"data row15 col7\" >3.1160</td>\n",
       "    </tr>\n",
       "    <tr>\n",
       "      <th id=\"T_6e4f2_level0_row16\" class=\"row_heading level0 row16\" >par</th>\n",
       "      <td id=\"T_6e4f2_row16_col0\" class=\"data row16 col0\" >Passive Aggressive Regressor</td>\n",
       "      <td id=\"T_6e4f2_row16_col1\" class=\"data row16 col1\" >14.2480</td>\n",
       "      <td id=\"T_6e4f2_row16_col2\" class=\"data row16 col2\" >13256.5484</td>\n",
       "      <td id=\"T_6e4f2_row16_col3\" class=\"data row16 col3\" >55.6178</td>\n",
       "      <td id=\"T_6e4f2_row16_col4\" class=\"data row16 col4\" >-37865.3985</td>\n",
       "      <td id=\"T_6e4f2_row16_col5\" class=\"data row16 col5\" >1.4325</td>\n",
       "      <td id=\"T_6e4f2_row16_col6\" class=\"data row16 col6\" >18658.7069</td>\n",
       "      <td id=\"T_6e4f2_row16_col7\" class=\"data row16 col7\" >2.3790</td>\n",
       "    </tr>\n",
       "  </tbody>\n",
       "</table>\n"
      ],
      "text/plain": [
       "<pandas.io.formats.style.Styler at 0x2482a9640d0>"
      ]
     },
     "metadata": {},
     "output_type": "display_data"
    },
    {
     "data": {
      "application/vnd.jupyter.widget-view+json": {
       "model_id": "dd7c7040f09d4ffb9c99294bbec1eeab",
       "version_major": 2,
       "version_minor": 0
      },
      "text/plain": [
       "Processing:   0%|          | 0/51 [00:00<?, ?it/s]"
      ]
     },
     "metadata": {},
     "output_type": "display_data"
    }
   ],
   "source": [
    "# Multi-model training/test - Compare Mean Absolute Error\n",
    "# Select the best 3 models - Create a blended model this time\n",
    "best_3_ozone = compare_models(sort='MAE',budget_time=30,fold=10,exclude='lightgbm',n_select=3) \n",
    "# 30 mins budget time\n",
    "# remove Light gradient boosting - causes error"
   ]
  },
  {
   "cell_type": "code",
   "execution_count": 74,
   "metadata": {},
   "outputs": [
    {
     "data": {
      "text/plain": [
       "[RandomForestRegressor(n_jobs=-1, random_state=123),\n",
       " DecisionTreeRegressor(random_state=123),\n",
       " ExtraTreesRegressor(n_jobs=-1, random_state=123)]"
      ]
     },
     "execution_count": 74,
     "metadata": {},
     "output_type": "execute_result"
    }
   ],
   "source": [
    "best_3_ozone"
   ]
  },
  {
   "cell_type": "code",
   "execution_count": 75,
   "metadata": {
    "scrolled": true
   },
   "outputs": [
    {
     "data": {
      "text/plain": [
       "{'ccp_alpha': 0.0,\n",
       " 'criterion': 'squared_error',\n",
       " 'max_depth': None,\n",
       " 'max_features': None,\n",
       " 'max_leaf_nodes': None,\n",
       " 'min_impurity_decrease': 0.0,\n",
       " 'min_samples_leaf': 1,\n",
       " 'min_samples_split': 2,\n",
       " 'min_weight_fraction_leaf': 0.0,\n",
       " 'random_state': 123,\n",
       " 'splitter': 'best'}"
      ]
     },
     "execution_count": 75,
     "metadata": {},
     "output_type": "execute_result"
    }
   ],
   "source": [
    "# Check the model parameters in top 3\n",
    "best_3_ozone[1].get_params()"
   ]
  },
  {
   "cell_type": "markdown",
   "metadata": {},
   "source": [
    "#### 3.3.2 Blended Model"
   ]
  },
  {
   "cell_type": "code",
   "execution_count": 76,
   "metadata": {
    "scrolled": true
   },
   "outputs": [
    {
     "data": {
      "text/html": [],
      "text/plain": [
       "<IPython.core.display.HTML object>"
      ]
     },
     "metadata": {},
     "output_type": "display_data"
    },
    {
     "data": {
      "text/html": [
       "<style type=\"text/css\">\n",
       "#T_5772f_row10_col0, #T_5772f_row10_col1, #T_5772f_row10_col2, #T_5772f_row10_col3, #T_5772f_row10_col4, #T_5772f_row10_col5 {\n",
       "  background: yellow;\n",
       "}\n",
       "</style>\n",
       "<table id=\"T_5772f\">\n",
       "  <thead>\n",
       "    <tr>\n",
       "      <th class=\"blank level0\" >&nbsp;</th>\n",
       "      <th id=\"T_5772f_level0_col0\" class=\"col_heading level0 col0\" >MAE</th>\n",
       "      <th id=\"T_5772f_level0_col1\" class=\"col_heading level0 col1\" >MSE</th>\n",
       "      <th id=\"T_5772f_level0_col2\" class=\"col_heading level0 col2\" >RMSE</th>\n",
       "      <th id=\"T_5772f_level0_col3\" class=\"col_heading level0 col3\" >R2</th>\n",
       "      <th id=\"T_5772f_level0_col4\" class=\"col_heading level0 col4\" >RMSLE</th>\n",
       "      <th id=\"T_5772f_level0_col5\" class=\"col_heading level0 col5\" >MAPE</th>\n",
       "    </tr>\n",
       "    <tr>\n",
       "      <th class=\"index_name level0\" >Fold</th>\n",
       "      <th class=\"blank col0\" >&nbsp;</th>\n",
       "      <th class=\"blank col1\" >&nbsp;</th>\n",
       "      <th class=\"blank col2\" >&nbsp;</th>\n",
       "      <th class=\"blank col3\" >&nbsp;</th>\n",
       "      <th class=\"blank col4\" >&nbsp;</th>\n",
       "      <th class=\"blank col5\" >&nbsp;</th>\n",
       "    </tr>\n",
       "  </thead>\n",
       "  <tbody>\n",
       "    <tr>\n",
       "      <th id=\"T_5772f_level0_row0\" class=\"row_heading level0 row0\" >0</th>\n",
       "      <td id=\"T_5772f_row0_col0\" class=\"data row0 col0\" >0.0353</td>\n",
       "      <td id=\"T_5772f_row0_col1\" class=\"data row0 col1\" >0.0110</td>\n",
       "      <td id=\"T_5772f_row0_col2\" class=\"data row0 col2\" >0.1049</td>\n",
       "      <td id=\"T_5772f_row0_col3\" class=\"data row0 col3\" >0.9837</td>\n",
       "      <td id=\"T_5772f_row0_col4\" class=\"data row0 col4\" >0.0732</td>\n",
       "      <td id=\"T_5772f_row0_col5\" class=\"data row0 col5\" >1.5804</td>\n",
       "    </tr>\n",
       "    <tr>\n",
       "      <th id=\"T_5772f_level0_row1\" class=\"row_heading level0 row1\" >1</th>\n",
       "      <td id=\"T_5772f_row1_col0\" class=\"data row1 col0\" >0.0505</td>\n",
       "      <td id=\"T_5772f_row1_col1\" class=\"data row1 col1\" >0.0446</td>\n",
       "      <td id=\"T_5772f_row1_col2\" class=\"data row1 col2\" >0.2111</td>\n",
       "      <td id=\"T_5772f_row1_col3\" class=\"data row1 col3\" >0.8435</td>\n",
       "      <td id=\"T_5772f_row1_col4\" class=\"data row1 col4\" >0.1181</td>\n",
       "      <td id=\"T_5772f_row1_col5\" class=\"data row1 col5\" >1.6742</td>\n",
       "    </tr>\n",
       "    <tr>\n",
       "      <th id=\"T_5772f_level0_row2\" class=\"row_heading level0 row2\" >2</th>\n",
       "      <td id=\"T_5772f_row2_col0\" class=\"data row2 col0\" >0.0269</td>\n",
       "      <td id=\"T_5772f_row2_col1\" class=\"data row2 col1\" >0.0093</td>\n",
       "      <td id=\"T_5772f_row2_col2\" class=\"data row2 col2\" >0.0967</td>\n",
       "      <td id=\"T_5772f_row2_col3\" class=\"data row2 col3\" >0.9741</td>\n",
       "      <td id=\"T_5772f_row2_col4\" class=\"data row2 col4\" >0.0654</td>\n",
       "      <td id=\"T_5772f_row2_col5\" class=\"data row2 col5\" >1.5017</td>\n",
       "    </tr>\n",
       "    <tr>\n",
       "      <th id=\"T_5772f_level0_row3\" class=\"row_heading level0 row3\" >3</th>\n",
       "      <td id=\"T_5772f_row3_col0\" class=\"data row3 col0\" >0.0415</td>\n",
       "      <td id=\"T_5772f_row3_col1\" class=\"data row3 col1\" >0.0282</td>\n",
       "      <td id=\"T_5772f_row3_col2\" class=\"data row3 col2\" >0.1680</td>\n",
       "      <td id=\"T_5772f_row3_col3\" class=\"data row3 col3\" >0.9666</td>\n",
       "      <td id=\"T_5772f_row3_col4\" class=\"data row3 col4\" >0.0872</td>\n",
       "      <td id=\"T_5772f_row3_col5\" class=\"data row3 col5\" >1.1859</td>\n",
       "    </tr>\n",
       "    <tr>\n",
       "      <th id=\"T_5772f_level0_row4\" class=\"row_heading level0 row4\" >4</th>\n",
       "      <td id=\"T_5772f_row4_col0\" class=\"data row4 col0\" >0.0603</td>\n",
       "      <td id=\"T_5772f_row4_col1\" class=\"data row4 col1\" >0.0937</td>\n",
       "      <td id=\"T_5772f_row4_col2\" class=\"data row4 col2\" >0.3060</td>\n",
       "      <td id=\"T_5772f_row4_col3\" class=\"data row4 col3\" >0.8362</td>\n",
       "      <td id=\"T_5772f_row4_col4\" class=\"data row4 col4\" >0.1398</td>\n",
       "      <td id=\"T_5772f_row4_col5\" class=\"data row4 col5\" >1.8607</td>\n",
       "    </tr>\n",
       "    <tr>\n",
       "      <th id=\"T_5772f_level0_row5\" class=\"row_heading level0 row5\" >5</th>\n",
       "      <td id=\"T_5772f_row5_col0\" class=\"data row5 col0\" >0.0295</td>\n",
       "      <td id=\"T_5772f_row5_col1\" class=\"data row5 col1\" >0.0148</td>\n",
       "      <td id=\"T_5772f_row5_col2\" class=\"data row5 col2\" >0.1217</td>\n",
       "      <td id=\"T_5772f_row5_col3\" class=\"data row5 col3\" >0.9655</td>\n",
       "      <td id=\"T_5772f_row5_col4\" class=\"data row5 col4\" >0.0708</td>\n",
       "      <td id=\"T_5772f_row5_col5\" class=\"data row5 col5\" >1.4705</td>\n",
       "    </tr>\n",
       "    <tr>\n",
       "      <th id=\"T_5772f_level0_row6\" class=\"row_heading level0 row6\" >6</th>\n",
       "      <td id=\"T_5772f_row6_col0\" class=\"data row6 col0\" >0.0488</td>\n",
       "      <td id=\"T_5772f_row6_col1\" class=\"data row6 col1\" >0.0246</td>\n",
       "      <td id=\"T_5772f_row6_col2\" class=\"data row6 col2\" >0.1569</td>\n",
       "      <td id=\"T_5772f_row6_col3\" class=\"data row6 col3\" >0.9695</td>\n",
       "      <td id=\"T_5772f_row6_col4\" class=\"data row6 col4\" >0.1069</td>\n",
       "      <td id=\"T_5772f_row6_col5\" class=\"data row6 col5\" >1.8135</td>\n",
       "    </tr>\n",
       "    <tr>\n",
       "      <th id=\"T_5772f_level0_row7\" class=\"row_heading level0 row7\" >7</th>\n",
       "      <td id=\"T_5772f_row7_col0\" class=\"data row7 col0\" >0.0487</td>\n",
       "      <td id=\"T_5772f_row7_col1\" class=\"data row7 col1\" >0.0899</td>\n",
       "      <td id=\"T_5772f_row7_col2\" class=\"data row7 col2\" >0.2999</td>\n",
       "      <td id=\"T_5772f_row7_col3\" class=\"data row7 col3\" >0.5672</td>\n",
       "      <td id=\"T_5772f_row7_col4\" class=\"data row7 col4\" >0.1305</td>\n",
       "      <td id=\"T_5772f_row7_col5\" class=\"data row7 col5\" >1.6167</td>\n",
       "    </tr>\n",
       "    <tr>\n",
       "      <th id=\"T_5772f_level0_row8\" class=\"row_heading level0 row8\" >8</th>\n",
       "      <td id=\"T_5772f_row8_col0\" class=\"data row8 col0\" >0.0692</td>\n",
       "      <td id=\"T_5772f_row8_col1\" class=\"data row8 col1\" >0.4483</td>\n",
       "      <td id=\"T_5772f_row8_col2\" class=\"data row8 col2\" >0.6695</td>\n",
       "      <td id=\"T_5772f_row8_col3\" class=\"data row8 col3\" >0.4019</td>\n",
       "      <td id=\"T_5772f_row8_col4\" class=\"data row8 col4\" >0.1471</td>\n",
       "      <td id=\"T_5772f_row8_col5\" class=\"data row8 col5\" >1.0859</td>\n",
       "    </tr>\n",
       "    <tr>\n",
       "      <th id=\"T_5772f_level0_row9\" class=\"row_heading level0 row9\" >9</th>\n",
       "      <td id=\"T_5772f_row9_col0\" class=\"data row9 col0\" >0.0675</td>\n",
       "      <td id=\"T_5772f_row9_col1\" class=\"data row9 col1\" >0.4190</td>\n",
       "      <td id=\"T_5772f_row9_col2\" class=\"data row9 col2\" >0.6473</td>\n",
       "      <td id=\"T_5772f_row9_col3\" class=\"data row9 col3\" >-0.2101</td>\n",
       "      <td id=\"T_5772f_row9_col4\" class=\"data row9 col4\" >0.1451</td>\n",
       "      <td id=\"T_5772f_row9_col5\" class=\"data row9 col5\" >1.6548</td>\n",
       "    </tr>\n",
       "    <tr>\n",
       "      <th id=\"T_5772f_level0_row10\" class=\"row_heading level0 row10\" >Mean</th>\n",
       "      <td id=\"T_5772f_row10_col0\" class=\"data row10 col0\" >0.0478</td>\n",
       "      <td id=\"T_5772f_row10_col1\" class=\"data row10 col1\" >0.1183</td>\n",
       "      <td id=\"T_5772f_row10_col2\" class=\"data row10 col2\" >0.2782</td>\n",
       "      <td id=\"T_5772f_row10_col3\" class=\"data row10 col3\" >0.7298</td>\n",
       "      <td id=\"T_5772f_row10_col4\" class=\"data row10 col4\" >0.1084</td>\n",
       "      <td id=\"T_5772f_row10_col5\" class=\"data row10 col5\" >1.5444</td>\n",
       "    </tr>\n",
       "    <tr>\n",
       "      <th id=\"T_5772f_level0_row11\" class=\"row_heading level0 row11\" >Std</th>\n",
       "      <td id=\"T_5772f_row11_col0\" class=\"data row11 col0\" >0.0141</td>\n",
       "      <td id=\"T_5772f_row11_col1\" class=\"data row11 col1\" >0.1604</td>\n",
       "      <td id=\"T_5772f_row11_col2\" class=\"data row11 col2\" >0.2023</td>\n",
       "      <td id=\"T_5772f_row11_col3\" class=\"data row11 col3\" >0.3654</td>\n",
       "      <td id=\"T_5772f_row11_col4\" class=\"data row11 col4\" >0.0306</td>\n",
       "      <td id=\"T_5772f_row11_col5\" class=\"data row11 col5\" >0.2354</td>\n",
       "    </tr>\n",
       "  </tbody>\n",
       "</table>\n"
      ],
      "text/plain": [
       "<pandas.io.formats.style.Styler at 0x2487e58ae80>"
      ]
     },
     "metadata": {},
     "output_type": "display_data"
    },
    {
     "data": {
      "application/vnd.jupyter.widget-view+json": {
       "model_id": "9d76339f283a4565a3f87ac5a12c38fe",
       "version_major": 2,
       "version_minor": 0
      },
      "text/plain": [
       "Processing:   0%|          | 0/4 [00:00<?, ?it/s]"
      ]
     },
     "metadata": {},
     "output_type": "display_data"
    },
    {
     "data": {
      "text/html": [],
      "text/plain": [
       "<IPython.core.display.HTML object>"
      ]
     },
     "metadata": {},
     "output_type": "display_data"
    },
    {
     "data": {
      "text/html": [
       "<style type=\"text/css\">\n",
       "#T_873f6_row10_col0, #T_873f6_row10_col1, #T_873f6_row10_col2, #T_873f6_row10_col3, #T_873f6_row10_col4, #T_873f6_row10_col5 {\n",
       "  background: yellow;\n",
       "}\n",
       "</style>\n",
       "<table id=\"T_873f6\">\n",
       "  <thead>\n",
       "    <tr>\n",
       "      <th class=\"blank level0\" >&nbsp;</th>\n",
       "      <th id=\"T_873f6_level0_col0\" class=\"col_heading level0 col0\" >MAE</th>\n",
       "      <th id=\"T_873f6_level0_col1\" class=\"col_heading level0 col1\" >MSE</th>\n",
       "      <th id=\"T_873f6_level0_col2\" class=\"col_heading level0 col2\" >RMSE</th>\n",
       "      <th id=\"T_873f6_level0_col3\" class=\"col_heading level0 col3\" >R2</th>\n",
       "      <th id=\"T_873f6_level0_col4\" class=\"col_heading level0 col4\" >RMSLE</th>\n",
       "      <th id=\"T_873f6_level0_col5\" class=\"col_heading level0 col5\" >MAPE</th>\n",
       "    </tr>\n",
       "    <tr>\n",
       "      <th class=\"index_name level0\" >Fold</th>\n",
       "      <th class=\"blank col0\" >&nbsp;</th>\n",
       "      <th class=\"blank col1\" >&nbsp;</th>\n",
       "      <th class=\"blank col2\" >&nbsp;</th>\n",
       "      <th class=\"blank col3\" >&nbsp;</th>\n",
       "      <th class=\"blank col4\" >&nbsp;</th>\n",
       "      <th class=\"blank col5\" >&nbsp;</th>\n",
       "    </tr>\n",
       "  </thead>\n",
       "  <tbody>\n",
       "    <tr>\n",
       "      <th id=\"T_873f6_level0_row0\" class=\"row_heading level0 row0\" >0</th>\n",
       "      <td id=\"T_873f6_row0_col0\" class=\"data row0 col0\" >0.0382</td>\n",
       "      <td id=\"T_873f6_row0_col1\" class=\"data row0 col1\" >0.0120</td>\n",
       "      <td id=\"T_873f6_row0_col2\" class=\"data row0 col2\" >0.1097</td>\n",
       "      <td id=\"T_873f6_row0_col3\" class=\"data row0 col3\" >0.9822</td>\n",
       "      <td id=\"T_873f6_row0_col4\" class=\"data row0 col4\" >0.0699</td>\n",
       "      <td id=\"T_873f6_row0_col5\" class=\"data row0 col5\" >1.5989</td>\n",
       "    </tr>\n",
       "    <tr>\n",
       "      <th id=\"T_873f6_level0_row1\" class=\"row_heading level0 row1\" >1</th>\n",
       "      <td id=\"T_873f6_row1_col0\" class=\"data row1 col0\" >0.0494</td>\n",
       "      <td id=\"T_873f6_row1_col1\" class=\"data row1 col1\" >0.0259</td>\n",
       "      <td id=\"T_873f6_row1_col2\" class=\"data row1 col2\" >0.1610</td>\n",
       "      <td id=\"T_873f6_row1_col3\" class=\"data row1 col3\" >0.9090</td>\n",
       "      <td id=\"T_873f6_row1_col4\" class=\"data row1 col4\" >0.0917</td>\n",
       "      <td id=\"T_873f6_row1_col5\" class=\"data row1 col5\" >1.7343</td>\n",
       "    </tr>\n",
       "    <tr>\n",
       "      <th id=\"T_873f6_level0_row2\" class=\"row_heading level0 row2\" >2</th>\n",
       "      <td id=\"T_873f6_row2_col0\" class=\"data row2 col0\" >0.0318</td>\n",
       "      <td id=\"T_873f6_row2_col1\" class=\"data row2 col1\" >0.0082</td>\n",
       "      <td id=\"T_873f6_row2_col2\" class=\"data row2 col2\" >0.0905</td>\n",
       "      <td id=\"T_873f6_row2_col3\" class=\"data row2 col3\" >0.9773</td>\n",
       "      <td id=\"T_873f6_row2_col4\" class=\"data row2 col4\" >0.0641</td>\n",
       "      <td id=\"T_873f6_row2_col5\" class=\"data row2 col5\" >1.6632</td>\n",
       "    </tr>\n",
       "    <tr>\n",
       "      <th id=\"T_873f6_level0_row3\" class=\"row_heading level0 row3\" >3</th>\n",
       "      <td id=\"T_873f6_row3_col0\" class=\"data row3 col0\" >0.0419</td>\n",
       "      <td id=\"T_873f6_row3_col1\" class=\"data row3 col1\" >0.0185</td>\n",
       "      <td id=\"T_873f6_row3_col2\" class=\"data row3 col2\" >0.1358</td>\n",
       "      <td id=\"T_873f6_row3_col3\" class=\"data row3 col3\" >0.9782</td>\n",
       "      <td id=\"T_873f6_row3_col4\" class=\"data row3 col4\" >0.0705</td>\n",
       "      <td id=\"T_873f6_row3_col5\" class=\"data row3 col5\" >1.3048</td>\n",
       "    </tr>\n",
       "    <tr>\n",
       "      <th id=\"T_873f6_level0_row4\" class=\"row_heading level0 row4\" >4</th>\n",
       "      <td id=\"T_873f6_row4_col0\" class=\"data row4 col0\" >0.0485</td>\n",
       "      <td id=\"T_873f6_row4_col1\" class=\"data row4 col1\" >0.0329</td>\n",
       "      <td id=\"T_873f6_row4_col2\" class=\"data row4 col2\" >0.1813</td>\n",
       "      <td id=\"T_873f6_row4_col3\" class=\"data row4 col3\" >0.9425</td>\n",
       "      <td id=\"T_873f6_row4_col4\" class=\"data row4 col4\" >0.0796</td>\n",
       "      <td id=\"T_873f6_row4_col5\" class=\"data row4 col5\" >1.9051</td>\n",
       "    </tr>\n",
       "    <tr>\n",
       "      <th id=\"T_873f6_level0_row5\" class=\"row_heading level0 row5\" >5</th>\n",
       "      <td id=\"T_873f6_row5_col0\" class=\"data row5 col0\" >0.0442</td>\n",
       "      <td id=\"T_873f6_row5_col1\" class=\"data row5 col1\" >0.0553</td>\n",
       "      <td id=\"T_873f6_row5_col2\" class=\"data row5 col2\" >0.2352</td>\n",
       "      <td id=\"T_873f6_row5_col3\" class=\"data row5 col3\" >0.8712</td>\n",
       "      <td id=\"T_873f6_row5_col4\" class=\"data row5 col4\" >0.0693</td>\n",
       "      <td id=\"T_873f6_row5_col5\" class=\"data row5 col5\" >1.6845</td>\n",
       "    </tr>\n",
       "    <tr>\n",
       "      <th id=\"T_873f6_level0_row6\" class=\"row_heading level0 row6\" >6</th>\n",
       "      <td id=\"T_873f6_row6_col0\" class=\"data row6 col0\" >0.0461</td>\n",
       "      <td id=\"T_873f6_row6_col1\" class=\"data row6 col1\" >0.0157</td>\n",
       "      <td id=\"T_873f6_row6_col2\" class=\"data row6 col2\" >0.1255</td>\n",
       "      <td id=\"T_873f6_row6_col3\" class=\"data row6 col3\" >0.9805</td>\n",
       "      <td id=\"T_873f6_row6_col4\" class=\"data row6 col4\" >0.0907</td>\n",
       "      <td id=\"T_873f6_row6_col5\" class=\"data row6 col5\" >1.6854</td>\n",
       "    </tr>\n",
       "    <tr>\n",
       "      <th id=\"T_873f6_level0_row7\" class=\"row_heading level0 row7\" >7</th>\n",
       "      <td id=\"T_873f6_row7_col0\" class=\"data row7 col0\" >0.0332</td>\n",
       "      <td id=\"T_873f6_row7_col1\" class=\"data row7 col1\" >0.0117</td>\n",
       "      <td id=\"T_873f6_row7_col2\" class=\"data row7 col2\" >0.1082</td>\n",
       "      <td id=\"T_873f6_row7_col3\" class=\"data row7 col3\" >0.9436</td>\n",
       "      <td id=\"T_873f6_row7_col4\" class=\"data row7 col4\" >0.0662</td>\n",
       "      <td id=\"T_873f6_row7_col5\" class=\"data row7 col5\" >1.4661</td>\n",
       "    </tr>\n",
       "    <tr>\n",
       "      <th id=\"T_873f6_level0_row8\" class=\"row_heading level0 row8\" >8</th>\n",
       "      <td id=\"T_873f6_row8_col0\" class=\"data row8 col0\" >0.0590</td>\n",
       "      <td id=\"T_873f6_row8_col1\" class=\"data row8 col1\" >0.2573</td>\n",
       "      <td id=\"T_873f6_row8_col2\" class=\"data row8 col2\" >0.5072</td>\n",
       "      <td id=\"T_873f6_row8_col3\" class=\"data row8 col3\" >0.6567</td>\n",
       "      <td id=\"T_873f6_row8_col4\" class=\"data row8 col4\" >0.0917</td>\n",
       "      <td id=\"T_873f6_row8_col5\" class=\"data row8 col5\" >1.0293</td>\n",
       "    </tr>\n",
       "    <tr>\n",
       "      <th id=\"T_873f6_level0_row9\" class=\"row_heading level0 row9\" >9</th>\n",
       "      <td id=\"T_873f6_row9_col0\" class=\"data row9 col0\" >0.0635</td>\n",
       "      <td id=\"T_873f6_row9_col1\" class=\"data row9 col1\" >0.2643</td>\n",
       "      <td id=\"T_873f6_row9_col2\" class=\"data row9 col2\" >0.5141</td>\n",
       "      <td id=\"T_873f6_row9_col3\" class=\"data row9 col3\" >0.2368</td>\n",
       "      <td id=\"T_873f6_row9_col4\" class=\"data row9 col4\" >0.1339</td>\n",
       "      <td id=\"T_873f6_row9_col5\" class=\"data row9 col5\" >1.5704</td>\n",
       "    </tr>\n",
       "    <tr>\n",
       "      <th id=\"T_873f6_level0_row10\" class=\"row_heading level0 row10\" >Mean</th>\n",
       "      <td id=\"T_873f6_row10_col0\" class=\"data row10 col0\" >0.0456</td>\n",
       "      <td id=\"T_873f6_row10_col1\" class=\"data row10 col1\" >0.0702</td>\n",
       "      <td id=\"T_873f6_row10_col2\" class=\"data row10 col2\" >0.2168</td>\n",
       "      <td id=\"T_873f6_row10_col3\" class=\"data row10 col3\" >0.8478</td>\n",
       "      <td id=\"T_873f6_row10_col4\" class=\"data row10 col4\" >0.0828</td>\n",
       "      <td id=\"T_873f6_row10_col5\" class=\"data row10 col5\" >1.5642</td>\n",
       "    </tr>\n",
       "    <tr>\n",
       "      <th id=\"T_873f6_level0_row11\" class=\"row_heading level0 row11\" >Std</th>\n",
       "      <td id=\"T_873f6_row11_col0\" class=\"data row11 col0\" >0.0097</td>\n",
       "      <td id=\"T_873f6_row11_col1\" class=\"data row11 col1\" >0.0962</td>\n",
       "      <td id=\"T_873f6_row11_col2\" class=\"data row11 col2\" >0.1522</td>\n",
       "      <td id=\"T_873f6_row11_col3\" class=\"data row11 col3\" >0.2240</td>\n",
       "      <td id=\"T_873f6_row11_col4\" class=\"data row11 col4\" >0.0199</td>\n",
       "      <td id=\"T_873f6_row11_col5\" class=\"data row11 col5\" >0.2342</td>\n",
       "    </tr>\n",
       "  </tbody>\n",
       "</table>\n"
      ],
      "text/plain": [
       "<pandas.io.formats.style.Styler at 0x2487e881cd0>"
      ]
     },
     "metadata": {},
     "output_type": "display_data"
    },
    {
     "data": {
      "application/vnd.jupyter.widget-view+json": {
       "model_id": "79318362961a46248da163f37ec33ee9",
       "version_major": 2,
       "version_minor": 0
      },
      "text/plain": [
       "Processing:   0%|          | 0/4 [00:00<?, ?it/s]"
      ]
     },
     "metadata": {},
     "output_type": "display_data"
    },
    {
     "data": {
      "text/html": [],
      "text/plain": [
       "<IPython.core.display.HTML object>"
      ]
     },
     "metadata": {},
     "output_type": "display_data"
    },
    {
     "data": {
      "text/html": [
       "<style type=\"text/css\">\n",
       "#T_ac2c6_row10_col0, #T_ac2c6_row10_col1, #T_ac2c6_row10_col2, #T_ac2c6_row10_col3, #T_ac2c6_row10_col4, #T_ac2c6_row10_col5 {\n",
       "  background: yellow;\n",
       "}\n",
       "</style>\n",
       "<table id=\"T_ac2c6\">\n",
       "  <thead>\n",
       "    <tr>\n",
       "      <th class=\"blank level0\" >&nbsp;</th>\n",
       "      <th id=\"T_ac2c6_level0_col0\" class=\"col_heading level0 col0\" >MAE</th>\n",
       "      <th id=\"T_ac2c6_level0_col1\" class=\"col_heading level0 col1\" >MSE</th>\n",
       "      <th id=\"T_ac2c6_level0_col2\" class=\"col_heading level0 col2\" >RMSE</th>\n",
       "      <th id=\"T_ac2c6_level0_col3\" class=\"col_heading level0 col3\" >R2</th>\n",
       "      <th id=\"T_ac2c6_level0_col4\" class=\"col_heading level0 col4\" >RMSLE</th>\n",
       "      <th id=\"T_ac2c6_level0_col5\" class=\"col_heading level0 col5\" >MAPE</th>\n",
       "    </tr>\n",
       "    <tr>\n",
       "      <th class=\"index_name level0\" >Fold</th>\n",
       "      <th class=\"blank col0\" >&nbsp;</th>\n",
       "      <th class=\"blank col1\" >&nbsp;</th>\n",
       "      <th class=\"blank col2\" >&nbsp;</th>\n",
       "      <th class=\"blank col3\" >&nbsp;</th>\n",
       "      <th class=\"blank col4\" >&nbsp;</th>\n",
       "      <th class=\"blank col5\" >&nbsp;</th>\n",
       "    </tr>\n",
       "  </thead>\n",
       "  <tbody>\n",
       "    <tr>\n",
       "      <th id=\"T_ac2c6_level0_row0\" class=\"row_heading level0 row0\" >0</th>\n",
       "      <td id=\"T_ac2c6_row0_col0\" class=\"data row0 col0\" >0.1447</td>\n",
       "      <td id=\"T_ac2c6_row0_col1\" class=\"data row0 col1\" >0.2753</td>\n",
       "      <td id=\"T_ac2c6_row0_col2\" class=\"data row0 col2\" >0.5247</td>\n",
       "      <td id=\"T_ac2c6_row0_col3\" class=\"data row0 col3\" >0.5929</td>\n",
       "      <td id=\"T_ac2c6_row0_col4\" class=\"data row0 col4\" >0.1617</td>\n",
       "      <td id=\"T_ac2c6_row0_col5\" class=\"data row0 col5\" >13.1139</td>\n",
       "    </tr>\n",
       "    <tr>\n",
       "      <th id=\"T_ac2c6_level0_row1\" class=\"row_heading level0 row1\" >1</th>\n",
       "      <td id=\"T_ac2c6_row1_col0\" class=\"data row1 col0\" >0.1197</td>\n",
       "      <td id=\"T_ac2c6_row1_col1\" class=\"data row1 col1\" >0.0903</td>\n",
       "      <td id=\"T_ac2c6_row1_col2\" class=\"data row1 col2\" >0.3005</td>\n",
       "      <td id=\"T_ac2c6_row1_col3\" class=\"data row1 col3\" >0.6828</td>\n",
       "      <td id=\"T_ac2c6_row1_col4\" class=\"data row1 col4\" >0.1550</td>\n",
       "      <td id=\"T_ac2c6_row1_col5\" class=\"data row1 col5\" >12.3724</td>\n",
       "    </tr>\n",
       "    <tr>\n",
       "      <th id=\"T_ac2c6_level0_row2\" class=\"row_heading level0 row2\" >2</th>\n",
       "      <td id=\"T_ac2c6_row2_col0\" class=\"data row2 col0\" >0.1307</td>\n",
       "      <td id=\"T_ac2c6_row2_col1\" class=\"data row2 col1\" >0.1455</td>\n",
       "      <td id=\"T_ac2c6_row2_col2\" class=\"data row2 col2\" >0.3814</td>\n",
       "      <td id=\"T_ac2c6_row2_col3\" class=\"data row2 col3\" >0.5976</td>\n",
       "      <td id=\"T_ac2c6_row2_col4\" class=\"data row2 col4\" >0.1686</td>\n",
       "      <td id=\"T_ac2c6_row2_col5\" class=\"data row2 col5\" >14.2388</td>\n",
       "    </tr>\n",
       "    <tr>\n",
       "      <th id=\"T_ac2c6_level0_row3\" class=\"row_heading level0 row3\" >3</th>\n",
       "      <td id=\"T_ac2c6_row3_col0\" class=\"data row3 col0\" >0.1583</td>\n",
       "      <td id=\"T_ac2c6_row3_col1\" class=\"data row3 col1\" >0.3035</td>\n",
       "      <td id=\"T_ac2c6_row3_col2\" class=\"data row3 col2\" >0.5509</td>\n",
       "      <td id=\"T_ac2c6_row3_col3\" class=\"data row3 col3\" >0.6410</td>\n",
       "      <td id=\"T_ac2c6_row3_col4\" class=\"data row3 col4\" >0.1735</td>\n",
       "      <td id=\"T_ac2c6_row3_col5\" class=\"data row3 col5\" >11.7671</td>\n",
       "    </tr>\n",
       "    <tr>\n",
       "      <th id=\"T_ac2c6_level0_row4\" class=\"row_heading level0 row4\" >4</th>\n",
       "      <td id=\"T_ac2c6_row4_col0\" class=\"data row4 col0\" >0.1365</td>\n",
       "      <td id=\"T_ac2c6_row4_col1\" class=\"data row4 col1\" >0.1574</td>\n",
       "      <td id=\"T_ac2c6_row4_col2\" class=\"data row4 col2\" >0.3967</td>\n",
       "      <td id=\"T_ac2c6_row4_col3\" class=\"data row4 col3\" >0.7247</td>\n",
       "      <td id=\"T_ac2c6_row4_col4\" class=\"data row4 col4\" >0.1563</td>\n",
       "      <td id=\"T_ac2c6_row4_col5\" class=\"data row4 col5\" >14.4973</td>\n",
       "    </tr>\n",
       "    <tr>\n",
       "      <th id=\"T_ac2c6_level0_row5\" class=\"row_heading level0 row5\" >5</th>\n",
       "      <td id=\"T_ac2c6_row5_col0\" class=\"data row5 col0\" >0.1207</td>\n",
       "      <td id=\"T_ac2c6_row5_col1\" class=\"data row5 col1\" >0.2396</td>\n",
       "      <td id=\"T_ac2c6_row5_col2\" class=\"data row5 col2\" >0.4895</td>\n",
       "      <td id=\"T_ac2c6_row5_col3\" class=\"data row5 col3\" >0.4421</td>\n",
       "      <td id=\"T_ac2c6_row5_col4\" class=\"data row5 col4\" >0.1534</td>\n",
       "      <td id=\"T_ac2c6_row5_col5\" class=\"data row5 col5\" >12.5807</td>\n",
       "    </tr>\n",
       "    <tr>\n",
       "      <th id=\"T_ac2c6_level0_row6\" class=\"row_heading level0 row6\" >6</th>\n",
       "      <td id=\"T_ac2c6_row6_col0\" class=\"data row6 col0\" >0.1560</td>\n",
       "      <td id=\"T_ac2c6_row6_col1\" class=\"data row6 col1\" >0.3620</td>\n",
       "      <td id=\"T_ac2c6_row6_col2\" class=\"data row6 col2\" >0.6017</td>\n",
       "      <td id=\"T_ac2c6_row6_col3\" class=\"data row6 col3\" >0.5513</td>\n",
       "      <td id=\"T_ac2c6_row6_col4\" class=\"data row6 col4\" >0.1737</td>\n",
       "      <td id=\"T_ac2c6_row6_col5\" class=\"data row6 col5\" >11.6353</td>\n",
       "    </tr>\n",
       "    <tr>\n",
       "      <th id=\"T_ac2c6_level0_row7\" class=\"row_heading level0 row7\" >7</th>\n",
       "      <td id=\"T_ac2c6_row7_col0\" class=\"data row7 col0\" >0.1075</td>\n",
       "      <td id=\"T_ac2c6_row7_col1\" class=\"data row7 col1\" >0.0948</td>\n",
       "      <td id=\"T_ac2c6_row7_col2\" class=\"data row7 col2\" >0.3078</td>\n",
       "      <td id=\"T_ac2c6_row7_col3\" class=\"data row7 col3\" >0.5440</td>\n",
       "      <td id=\"T_ac2c6_row7_col4\" class=\"data row7 col4\" >0.1412</td>\n",
       "      <td id=\"T_ac2c6_row7_col5\" class=\"data row7 col5\" >14.4467</td>\n",
       "    </tr>\n",
       "    <tr>\n",
       "      <th id=\"T_ac2c6_level0_row8\" class=\"row_heading level0 row8\" >8</th>\n",
       "      <td id=\"T_ac2c6_row8_col0\" class=\"data row8 col0\" >0.1436</td>\n",
       "      <td id=\"T_ac2c6_row8_col1\" class=\"data row8 col1\" >0.4006</td>\n",
       "      <td id=\"T_ac2c6_row8_col2\" class=\"data row8 col2\" >0.6330</td>\n",
       "      <td id=\"T_ac2c6_row8_col3\" class=\"data row8 col3\" >0.4654</td>\n",
       "      <td id=\"T_ac2c6_row8_col4\" class=\"data row8 col4\" >0.1639</td>\n",
       "      <td id=\"T_ac2c6_row8_col5\" class=\"data row8 col5\" >11.9561</td>\n",
       "    </tr>\n",
       "    <tr>\n",
       "      <th id=\"T_ac2c6_level0_row9\" class=\"row_heading level0 row9\" >9</th>\n",
       "      <td id=\"T_ac2c6_row9_col0\" class=\"data row9 col0\" >0.1109</td>\n",
       "      <td id=\"T_ac2c6_row9_col1\" class=\"data row9 col1\" >0.1020</td>\n",
       "      <td id=\"T_ac2c6_row9_col2\" class=\"data row9 col2\" >0.3194</td>\n",
       "      <td id=\"T_ac2c6_row9_col3\" class=\"data row9 col3\" >0.7055</td>\n",
       "      <td id=\"T_ac2c6_row9_col4\" class=\"data row9 col4\" >0.1451</td>\n",
       "      <td id=\"T_ac2c6_row9_col5\" class=\"data row9 col5\" >11.6260</td>\n",
       "    </tr>\n",
       "    <tr>\n",
       "      <th id=\"T_ac2c6_level0_row10\" class=\"row_heading level0 row10\" >Mean</th>\n",
       "      <td id=\"T_ac2c6_row10_col0\" class=\"data row10 col0\" >0.1329</td>\n",
       "      <td id=\"T_ac2c6_row10_col1\" class=\"data row10 col1\" >0.2171</td>\n",
       "      <td id=\"T_ac2c6_row10_col2\" class=\"data row10 col2\" >0.4506</td>\n",
       "      <td id=\"T_ac2c6_row10_col3\" class=\"data row10 col3\" >0.5947</td>\n",
       "      <td id=\"T_ac2c6_row10_col4\" class=\"data row10 col4\" >0.1593</td>\n",
       "      <td id=\"T_ac2c6_row10_col5\" class=\"data row10 col5\" >12.8234</td>\n",
       "    </tr>\n",
       "    <tr>\n",
       "      <th id=\"T_ac2c6_level0_row11\" class=\"row_heading level0 row11\" >Std</th>\n",
       "      <td id=\"T_ac2c6_row11_col0\" class=\"data row11 col0\" >0.0170</td>\n",
       "      <td id=\"T_ac2c6_row11_col1\" class=\"data row11 col1\" >0.1091</td>\n",
       "      <td id=\"T_ac2c6_row11_col2\" class=\"data row11 col2\" >0.1187</td>\n",
       "      <td id=\"T_ac2c6_row11_col3\" class=\"data row11 col3\" >0.0914</td>\n",
       "      <td id=\"T_ac2c6_row11_col4\" class=\"data row11 col4\" >0.0106</td>\n",
       "      <td id=\"T_ac2c6_row11_col5\" class=\"data row11 col5\" >1.1181</td>\n",
       "    </tr>\n",
       "  </tbody>\n",
       "</table>\n"
      ],
      "text/plain": [
       "<pandas.io.formats.style.Styler at 0x2487e78efa0>"
      ]
     },
     "metadata": {},
     "output_type": "display_data"
    },
    {
     "data": {
      "application/vnd.jupyter.widget-view+json": {
       "model_id": "a06e2cb92ebf48f68fd3fabfc9e15372",
       "version_major": 2,
       "version_minor": 0
      },
      "text/plain": [
       "Processing:   0%|          | 0/4 [00:00<?, ?it/s]"
      ]
     },
     "metadata": {},
     "output_type": "display_data"
    }
   ],
   "source": [
    "# Initialize 3 best models, Capping max_depth at 7\n",
    "dt_ozone = create_model('dt',max_depth=7)\n",
    "rf_ozone = create_model('rf',max_depth=7)\n",
    "et_ozone = create_model('et',max_depth=7)"
   ]
  },
  {
   "cell_type": "code",
   "execution_count": 77,
   "metadata": {},
   "outputs": [
    {
     "data": {
      "text/html": [],
      "text/plain": [
       "<IPython.core.display.HTML object>"
      ]
     },
     "metadata": {},
     "output_type": "display_data"
    },
    {
     "data": {
      "text/html": [
       "<style type=\"text/css\">\n",
       "#T_34d5d_row10_col0, #T_34d5d_row10_col1, #T_34d5d_row10_col2, #T_34d5d_row10_col3, #T_34d5d_row10_col4, #T_34d5d_row10_col5 {\n",
       "  background: yellow;\n",
       "}\n",
       "</style>\n",
       "<table id=\"T_34d5d\">\n",
       "  <thead>\n",
       "    <tr>\n",
       "      <th class=\"blank level0\" >&nbsp;</th>\n",
       "      <th id=\"T_34d5d_level0_col0\" class=\"col_heading level0 col0\" >MAE</th>\n",
       "      <th id=\"T_34d5d_level0_col1\" class=\"col_heading level0 col1\" >MSE</th>\n",
       "      <th id=\"T_34d5d_level0_col2\" class=\"col_heading level0 col2\" >RMSE</th>\n",
       "      <th id=\"T_34d5d_level0_col3\" class=\"col_heading level0 col3\" >R2</th>\n",
       "      <th id=\"T_34d5d_level0_col4\" class=\"col_heading level0 col4\" >RMSLE</th>\n",
       "      <th id=\"T_34d5d_level0_col5\" class=\"col_heading level0 col5\" >MAPE</th>\n",
       "    </tr>\n",
       "    <tr>\n",
       "      <th class=\"index_name level0\" >Fold</th>\n",
       "      <th class=\"blank col0\" >&nbsp;</th>\n",
       "      <th class=\"blank col1\" >&nbsp;</th>\n",
       "      <th class=\"blank col2\" >&nbsp;</th>\n",
       "      <th class=\"blank col3\" >&nbsp;</th>\n",
       "      <th class=\"blank col4\" >&nbsp;</th>\n",
       "      <th class=\"blank col5\" >&nbsp;</th>\n",
       "    </tr>\n",
       "  </thead>\n",
       "  <tbody>\n",
       "    <tr>\n",
       "      <th id=\"T_34d5d_level0_row0\" class=\"row_heading level0 row0\" >0</th>\n",
       "      <td id=\"T_34d5d_row0_col0\" class=\"data row0 col0\" >0.0684</td>\n",
       "      <td id=\"T_34d5d_row0_col1\" class=\"data row0 col1\" >0.0441</td>\n",
       "      <td id=\"T_34d5d_row0_col2\" class=\"data row0 col2\" >0.2101</td>\n",
       "      <td id=\"T_34d5d_row0_col3\" class=\"data row0 col3\" >0.9347</td>\n",
       "      <td id=\"T_34d5d_row0_col4\" class=\"data row0 col4\" >0.0849</td>\n",
       "      <td id=\"T_34d5d_row0_col5\" class=\"data row0 col5\" >5.3115</td>\n",
       "    </tr>\n",
       "    <tr>\n",
       "      <th id=\"T_34d5d_level0_row1\" class=\"row_heading level0 row1\" >1</th>\n",
       "      <td id=\"T_34d5d_row1_col0\" class=\"data row1 col0\" >0.0681</td>\n",
       "      <td id=\"T_34d5d_row1_col1\" class=\"data row1 col1\" >0.0377</td>\n",
       "      <td id=\"T_34d5d_row1_col2\" class=\"data row1 col2\" >0.1942</td>\n",
       "      <td id=\"T_34d5d_row1_col3\" class=\"data row1 col3\" >0.8676</td>\n",
       "      <td id=\"T_34d5d_row1_col4\" class=\"data row1 col4\" >0.1046</td>\n",
       "      <td id=\"T_34d5d_row1_col5\" class=\"data row1 col5\" >5.1505</td>\n",
       "    </tr>\n",
       "    <tr>\n",
       "      <th id=\"T_34d5d_level0_row2\" class=\"row_heading level0 row2\" >2</th>\n",
       "      <td id=\"T_34d5d_row2_col0\" class=\"data row2 col0\" >0.0582</td>\n",
       "      <td id=\"T_34d5d_row2_col1\" class=\"data row2 col1\" >0.0222</td>\n",
       "      <td id=\"T_34d5d_row2_col2\" class=\"data row2 col2\" >0.1490</td>\n",
       "      <td id=\"T_34d5d_row2_col3\" class=\"data row2 col3\" >0.9386</td>\n",
       "      <td id=\"T_34d5d_row2_col4\" class=\"data row2 col4\" >0.0815</td>\n",
       "      <td id=\"T_34d5d_row2_col5\" class=\"data row2 col5\" >5.6781</td>\n",
       "    </tr>\n",
       "    <tr>\n",
       "      <th id=\"T_34d5d_level0_row3\" class=\"row_heading level0 row3\" >3</th>\n",
       "      <td id=\"T_34d5d_row3_col0\" class=\"data row3 col0\" >0.0752</td>\n",
       "      <td id=\"T_34d5d_row3_col1\" class=\"data row3 col1\" >0.0568</td>\n",
       "      <td id=\"T_34d5d_row3_col2\" class=\"data row3 col2\" >0.2383</td>\n",
       "      <td id=\"T_34d5d_row3_col3\" class=\"data row3 col3\" >0.9328</td>\n",
       "      <td id=\"T_34d5d_row3_col4\" class=\"data row3 col4\" >0.0937</td>\n",
       "      <td id=\"T_34d5d_row3_col5\" class=\"data row3 col5\" >4.6550</td>\n",
       "    </tr>\n",
       "    <tr>\n",
       "      <th id=\"T_34d5d_level0_row4\" class=\"row_heading level0 row4\" >4</th>\n",
       "      <td id=\"T_34d5d_row4_col0\" class=\"data row4 col0\" >0.0772</td>\n",
       "      <td id=\"T_34d5d_row4_col1\" class=\"data row4 col1\" >0.0640</td>\n",
       "      <td id=\"T_34d5d_row4_col2\" class=\"data row4 col2\" >0.2529</td>\n",
       "      <td id=\"T_34d5d_row4_col3\" class=\"data row4 col3\" >0.8881</td>\n",
       "      <td id=\"T_34d5d_row4_col4\" class=\"data row4 col4\" >0.1008</td>\n",
       "      <td id=\"T_34d5d_row4_col5\" class=\"data row4 col5\" >5.9912</td>\n",
       "    </tr>\n",
       "    <tr>\n",
       "      <th id=\"T_34d5d_level0_row5\" class=\"row_heading level0 row5\" >5</th>\n",
       "      <td id=\"T_34d5d_row5_col0\" class=\"data row5 col0\" >0.0602</td>\n",
       "      <td id=\"T_34d5d_row5_col1\" class=\"data row5 col1\" >0.0700</td>\n",
       "      <td id=\"T_34d5d_row5_col2\" class=\"data row5 col2\" >0.2646</td>\n",
       "      <td id=\"T_34d5d_row5_col3\" class=\"data row5 col3\" >0.8369</td>\n",
       "      <td id=\"T_34d5d_row5_col4\" class=\"data row5 col4\" >0.0813</td>\n",
       "      <td id=\"T_34d5d_row5_col5\" class=\"data row5 col5\" >5.1246</td>\n",
       "    </tr>\n",
       "    <tr>\n",
       "      <th id=\"T_34d5d_level0_row6\" class=\"row_heading level0 row6\" >6</th>\n",
       "      <td id=\"T_34d5d_row6_col0\" class=\"data row6 col0\" >0.0778</td>\n",
       "      <td id=\"T_34d5d_row6_col1\" class=\"data row6 col1\" >0.0496</td>\n",
       "      <td id=\"T_34d5d_row6_col2\" class=\"data row6 col2\" >0.2226</td>\n",
       "      <td id=\"T_34d5d_row6_col3\" class=\"data row6 col3\" >0.9386</td>\n",
       "      <td id=\"T_34d5d_row6_col4\" class=\"data row6 col4\" >0.1023</td>\n",
       "      <td id=\"T_34d5d_row6_col5\" class=\"data row6 col5\" >4.9438</td>\n",
       "    </tr>\n",
       "    <tr>\n",
       "      <th id=\"T_34d5d_level0_row7\" class=\"row_heading level0 row7\" >7</th>\n",
       "      <td id=\"T_34d5d_row7_col0\" class=\"data row7 col0\" >0.0592</td>\n",
       "      <td id=\"T_34d5d_row7_col1\" class=\"data row7 col1\" >0.0380</td>\n",
       "      <td id=\"T_34d5d_row7_col2\" class=\"data row7 col2\" >0.1949</td>\n",
       "      <td id=\"T_34d5d_row7_col3\" class=\"data row7 col3\" >0.8171</td>\n",
       "      <td id=\"T_34d5d_row7_col4\" class=\"data row7 col4\" >0.0974</td>\n",
       "      <td id=\"T_34d5d_row7_col5\" class=\"data row7 col5\" >5.7316</td>\n",
       "    </tr>\n",
       "    <tr>\n",
       "      <th id=\"T_34d5d_level0_row8\" class=\"row_heading level0 row8\" >8</th>\n",
       "      <td id=\"T_34d5d_row8_col0\" class=\"data row8 col0\" >0.0847</td>\n",
       "      <td id=\"T_34d5d_row8_col1\" class=\"data row8 col1\" >0.3421</td>\n",
       "      <td id=\"T_34d5d_row8_col2\" class=\"data row8 col2\" >0.5849</td>\n",
       "      <td id=\"T_34d5d_row8_col3\" class=\"data row8 col3\" >0.5436</td>\n",
       "      <td id=\"T_34d5d_row8_col4\" class=\"data row8 col4\" >0.1122</td>\n",
       "      <td id=\"T_34d5d_row8_col5\" class=\"data row8 col5\" >4.5609</td>\n",
       "    </tr>\n",
       "    <tr>\n",
       "      <th id=\"T_34d5d_level0_row9\" class=\"row_heading level0 row9\" >9</th>\n",
       "      <td id=\"T_34d5d_row9_col0\" class=\"data row9 col0\" >0.0742</td>\n",
       "      <td id=\"T_34d5d_row9_col1\" class=\"data row9 col1\" >0.1972</td>\n",
       "      <td id=\"T_34d5d_row9_col2\" class=\"data row9 col2\" >0.4440</td>\n",
       "      <td id=\"T_34d5d_row9_col3\" class=\"data row9 col3\" >0.4307</td>\n",
       "      <td id=\"T_34d5d_row9_col4\" class=\"data row9 col4\" >0.1323</td>\n",
       "      <td id=\"T_34d5d_row9_col5\" class=\"data row9 col5\" >4.8318</td>\n",
       "    </tr>\n",
       "    <tr>\n",
       "      <th id=\"T_34d5d_level0_row10\" class=\"row_heading level0 row10\" >Mean</th>\n",
       "      <td id=\"T_34d5d_row10_col0\" class=\"data row10 col0\" >0.0703</td>\n",
       "      <td id=\"T_34d5d_row10_col1\" class=\"data row10 col1\" >0.0922</td>\n",
       "      <td id=\"T_34d5d_row10_col2\" class=\"data row10 col2\" >0.2756</td>\n",
       "      <td id=\"T_34d5d_row10_col3\" class=\"data row10 col3\" >0.8129</td>\n",
       "      <td id=\"T_34d5d_row10_col4\" class=\"data row10 col4\" >0.0991</td>\n",
       "      <td id=\"T_34d5d_row10_col5\" class=\"data row10 col5\" >5.1979</td>\n",
       "    </tr>\n",
       "    <tr>\n",
       "      <th id=\"T_34d5d_level0_row11\" class=\"row_heading level0 row11\" >Std</th>\n",
       "      <td id=\"T_34d5d_row11_col0\" class=\"data row11 col0\" >0.0085</td>\n",
       "      <td id=\"T_34d5d_row11_col1\" class=\"data row11 col1\" >0.0954</td>\n",
       "      <td id=\"T_34d5d_row11_col2\" class=\"data row11 col2\" >0.1274</td>\n",
       "      <td id=\"T_34d5d_row11_col3\" class=\"data row11 col3\" >0.1699</td>\n",
       "      <td id=\"T_34d5d_row11_col4\" class=\"data row11 col4\" >0.0148</td>\n",
       "      <td id=\"T_34d5d_row11_col5\" class=\"data row11 col5\" >0.4544</td>\n",
       "    </tr>\n",
       "  </tbody>\n",
       "</table>\n"
      ],
      "text/plain": [
       "<pandas.io.formats.style.Styler at 0x2487e7ee6d0>"
      ]
     },
     "metadata": {},
     "output_type": "display_data"
    },
    {
     "data": {
      "application/vnd.jupyter.widget-view+json": {
       "model_id": "2eba04831edf42feb9bbf2043cfec79c",
       "version_major": 2,
       "version_minor": 0
      },
      "text/plain": [
       "Processing:   0%|          | 0/6 [00:00<?, ?it/s]"
      ]
     },
     "metadata": {},
     "output_type": "display_data"
    }
   ],
   "source": [
    "# Develop a blended model with voting regressor\n",
    "blended_ozone = blend_models(estimator_list=[dt_ozone,rf_outdoor,et_ozone],optimize='MAE')"
   ]
  },
  {
   "cell_type": "markdown",
   "metadata": {},
   "source": [
    "In this case the random forest individual models has a better MAE and R2 compared to the blended model."
   ]
  },
  {
   "cell_type": "markdown",
   "metadata": {},
   "source": [
    "#### 3.3.3 Stacked Model"
   ]
  },
  {
   "cell_type": "markdown",
   "metadata": {},
   "source": [
    "A meta model, linear regression by default, is trained over the 3 selected regressors"
   ]
  },
  {
   "cell_type": "code",
   "execution_count": 90,
   "metadata": {},
   "outputs": [
    {
     "data": {
      "text/html": [],
      "text/plain": [
       "<IPython.core.display.HTML object>"
      ]
     },
     "metadata": {},
     "output_type": "display_data"
    },
    {
     "data": {
      "text/html": [
       "<style type=\"text/css\">\n",
       "#T_b14ce_row10_col0, #T_b14ce_row10_col1, #T_b14ce_row10_col2, #T_b14ce_row10_col3, #T_b14ce_row10_col4, #T_b14ce_row10_col5 {\n",
       "  background: yellow;\n",
       "}\n",
       "</style>\n",
       "<table id=\"T_b14ce\">\n",
       "  <thead>\n",
       "    <tr>\n",
       "      <th class=\"blank level0\" >&nbsp;</th>\n",
       "      <th id=\"T_b14ce_level0_col0\" class=\"col_heading level0 col0\" >MAE</th>\n",
       "      <th id=\"T_b14ce_level0_col1\" class=\"col_heading level0 col1\" >MSE</th>\n",
       "      <th id=\"T_b14ce_level0_col2\" class=\"col_heading level0 col2\" >RMSE</th>\n",
       "      <th id=\"T_b14ce_level0_col3\" class=\"col_heading level0 col3\" >R2</th>\n",
       "      <th id=\"T_b14ce_level0_col4\" class=\"col_heading level0 col4\" >RMSLE</th>\n",
       "      <th id=\"T_b14ce_level0_col5\" class=\"col_heading level0 col5\" >MAPE</th>\n",
       "    </tr>\n",
       "    <tr>\n",
       "      <th class=\"index_name level0\" >Fold</th>\n",
       "      <th class=\"blank col0\" >&nbsp;</th>\n",
       "      <th class=\"blank col1\" >&nbsp;</th>\n",
       "      <th class=\"blank col2\" >&nbsp;</th>\n",
       "      <th class=\"blank col3\" >&nbsp;</th>\n",
       "      <th class=\"blank col4\" >&nbsp;</th>\n",
       "      <th class=\"blank col5\" >&nbsp;</th>\n",
       "    </tr>\n",
       "  </thead>\n",
       "  <tbody>\n",
       "    <tr>\n",
       "      <th id=\"T_b14ce_level0_row0\" class=\"row_heading level0 row0\" >0</th>\n",
       "      <td id=\"T_b14ce_row0_col0\" class=\"data row0 col0\" >0.0384</td>\n",
       "      <td id=\"T_b14ce_row0_col1\" class=\"data row0 col1\" >0.0103</td>\n",
       "      <td id=\"T_b14ce_row0_col2\" class=\"data row0 col2\" >0.1016</td>\n",
       "      <td id=\"T_b14ce_row0_col3\" class=\"data row0 col3\" >0.9847</td>\n",
       "      <td id=\"T_b14ce_row0_col4\" class=\"data row0 col4\" >0.0686</td>\n",
       "      <td id=\"T_b14ce_row0_col5\" class=\"data row0 col5\" >1.9161</td>\n",
       "    </tr>\n",
       "    <tr>\n",
       "      <th id=\"T_b14ce_level0_row1\" class=\"row_heading level0 row1\" >1</th>\n",
       "      <td id=\"T_b14ce_row1_col0\" class=\"data row1 col0\" >0.0520</td>\n",
       "      <td id=\"T_b14ce_row1_col1\" class=\"data row1 col1\" >0.0306</td>\n",
       "      <td id=\"T_b14ce_row1_col2\" class=\"data row1 col2\" >0.1750</td>\n",
       "      <td id=\"T_b14ce_row1_col3\" class=\"data row1 col3\" >0.8924</td>\n",
       "      <td id=\"T_b14ce_row1_col4\" class=\"data row1 col4\" >0.0968</td>\n",
       "      <td id=\"T_b14ce_row1_col5\" class=\"data row1 col5\" >2.7537</td>\n",
       "    </tr>\n",
       "    <tr>\n",
       "      <th id=\"T_b14ce_level0_row2\" class=\"row_heading level0 row2\" >2</th>\n",
       "      <td id=\"T_b14ce_row2_col0\" class=\"data row2 col0\" >0.0314</td>\n",
       "      <td id=\"T_b14ce_row2_col1\" class=\"data row2 col1\" >0.0078</td>\n",
       "      <td id=\"T_b14ce_row2_col2\" class=\"data row2 col2\" >0.0883</td>\n",
       "      <td id=\"T_b14ce_row2_col3\" class=\"data row2 col3\" >0.9785</td>\n",
       "      <td id=\"T_b14ce_row2_col4\" class=\"data row2 col4\" >0.0610</td>\n",
       "      <td id=\"T_b14ce_row2_col5\" class=\"data row2 col5\" >2.1320</td>\n",
       "    </tr>\n",
       "    <tr>\n",
       "      <th id=\"T_b14ce_level0_row3\" class=\"row_heading level0 row3\" >3</th>\n",
       "      <td id=\"T_b14ce_row3_col0\" class=\"data row3 col0\" >0.0431</td>\n",
       "      <td id=\"T_b14ce_row3_col1\" class=\"data row3 col1\" >0.0189</td>\n",
       "      <td id=\"T_b14ce_row3_col2\" class=\"data row3 col2\" >0.1375</td>\n",
       "      <td id=\"T_b14ce_row3_col3\" class=\"data row3 col3\" >0.9776</td>\n",
       "      <td id=\"T_b14ce_row3_col4\" class=\"data row3 col4\" >0.0714</td>\n",
       "      <td id=\"T_b14ce_row3_col5\" class=\"data row3 col5\" >2.4320</td>\n",
       "    </tr>\n",
       "    <tr>\n",
       "      <th id=\"T_b14ce_level0_row4\" class=\"row_heading level0 row4\" >4</th>\n",
       "      <td id=\"T_b14ce_row4_col0\" class=\"data row4 col0\" >0.0499</td>\n",
       "      <td id=\"T_b14ce_row4_col1\" class=\"data row4 col1\" >0.0316</td>\n",
       "      <td id=\"T_b14ce_row4_col2\" class=\"data row4 col2\" >0.1778</td>\n",
       "      <td id=\"T_b14ce_row4_col3\" class=\"data row4 col3\" >0.9447</td>\n",
       "      <td id=\"T_b14ce_row4_col4\" class=\"data row4 col4\" >0.0799</td>\n",
       "      <td id=\"T_b14ce_row4_col5\" class=\"data row4 col5\" >3.0693</td>\n",
       "    </tr>\n",
       "    <tr>\n",
       "      <th id=\"T_b14ce_level0_row5\" class=\"row_heading level0 row5\" >5</th>\n",
       "      <td id=\"T_b14ce_row5_col0\" class=\"data row5 col0\" >0.0469</td>\n",
       "      <td id=\"T_b14ce_row5_col1\" class=\"data row5 col1\" >0.0600</td>\n",
       "      <td id=\"T_b14ce_row5_col2\" class=\"data row5 col2\" >0.2449</td>\n",
       "      <td id=\"T_b14ce_row5_col3\" class=\"data row5 col3\" >0.8603</td>\n",
       "      <td id=\"T_b14ce_row5_col4\" class=\"data row5 col4\" >0.0712</td>\n",
       "      <td id=\"T_b14ce_row5_col5\" class=\"data row5 col5\" >2.2730</td>\n",
       "    </tr>\n",
       "    <tr>\n",
       "      <th id=\"T_b14ce_level0_row6\" class=\"row_heading level0 row6\" >6</th>\n",
       "      <td id=\"T_b14ce_row6_col0\" class=\"data row6 col0\" >0.0512</td>\n",
       "      <td id=\"T_b14ce_row6_col1\" class=\"data row6 col1\" >0.0191</td>\n",
       "      <td id=\"T_b14ce_row6_col2\" class=\"data row6 col2\" >0.1383</td>\n",
       "      <td id=\"T_b14ce_row6_col3\" class=\"data row6 col3\" >0.9763</td>\n",
       "      <td id=\"T_b14ce_row6_col4\" class=\"data row6 col4\" >0.0922</td>\n",
       "      <td id=\"T_b14ce_row6_col5\" class=\"data row6 col5\" >2.6935</td>\n",
       "    </tr>\n",
       "    <tr>\n",
       "      <th id=\"T_b14ce_level0_row7\" class=\"row_heading level0 row7\" >7</th>\n",
       "      <td id=\"T_b14ce_row7_col0\" class=\"data row7 col0\" >0.0376</td>\n",
       "      <td id=\"T_b14ce_row7_col1\" class=\"data row7 col1\" >0.0191</td>\n",
       "      <td id=\"T_b14ce_row7_col2\" class=\"data row7 col2\" >0.1382</td>\n",
       "      <td id=\"T_b14ce_row7_col3\" class=\"data row7 col3\" >0.9080</td>\n",
       "      <td id=\"T_b14ce_row7_col4\" class=\"data row7 col4\" >0.0785</td>\n",
       "      <td id=\"T_b14ce_row7_col5\" class=\"data row7 col5\" >2.6018</td>\n",
       "    </tr>\n",
       "    <tr>\n",
       "      <th id=\"T_b14ce_level0_row8\" class=\"row_heading level0 row8\" >8</th>\n",
       "      <td id=\"T_b14ce_row8_col0\" class=\"data row8 col0\" >0.0642</td>\n",
       "      <td id=\"T_b14ce_row8_col1\" class=\"data row8 col1\" >0.2677</td>\n",
       "      <td id=\"T_b14ce_row8_col2\" class=\"data row8 col2\" >0.5174</td>\n",
       "      <td id=\"T_b14ce_row8_col3\" class=\"data row8 col3\" >0.6428</td>\n",
       "      <td id=\"T_b14ce_row8_col4\" class=\"data row8 col4\" >0.0939</td>\n",
       "      <td id=\"T_b14ce_row8_col5\" class=\"data row8 col5\" >3.2557</td>\n",
       "    </tr>\n",
       "    <tr>\n",
       "      <th id=\"T_b14ce_level0_row9\" class=\"row_heading level0 row9\" >9</th>\n",
       "      <td id=\"T_b14ce_row9_col0\" class=\"data row9 col0\" >0.0699</td>\n",
       "      <td id=\"T_b14ce_row9_col1\" class=\"data row9 col1\" >0.2506</td>\n",
       "      <td id=\"T_b14ce_row9_col2\" class=\"data row9 col2\" >0.5006</td>\n",
       "      <td id=\"T_b14ce_row9_col3\" class=\"data row9 col3\" >0.2764</td>\n",
       "      <td id=\"T_b14ce_row9_col4\" class=\"data row9 col4\" >0.1358</td>\n",
       "      <td id=\"T_b14ce_row9_col5\" class=\"data row9 col5\" >3.4226</td>\n",
       "    </tr>\n",
       "    <tr>\n",
       "      <th id=\"T_b14ce_level0_row10\" class=\"row_heading level0 row10\" >Mean</th>\n",
       "      <td id=\"T_b14ce_row10_col0\" class=\"data row10 col0\" >0.0485</td>\n",
       "      <td id=\"T_b14ce_row10_col1\" class=\"data row10 col1\" >0.0716</td>\n",
       "      <td id=\"T_b14ce_row10_col2\" class=\"data row10 col2\" >0.2220</td>\n",
       "      <td id=\"T_b14ce_row10_col3\" class=\"data row10 col3\" >0.8442</td>\n",
       "      <td id=\"T_b14ce_row10_col4\" class=\"data row10 col4\" >0.0849</td>\n",
       "      <td id=\"T_b14ce_row10_col5\" class=\"data row10 col5\" >2.6550</td>\n",
       "    </tr>\n",
       "    <tr>\n",
       "      <th id=\"T_b14ce_level0_row11\" class=\"row_heading level0 row11\" >Std</th>\n",
       "      <td id=\"T_b14ce_row11_col0\" class=\"data row11 col0\" >0.0113</td>\n",
       "      <td id=\"T_b14ce_row11_col1\" class=\"data row11 col1\" >0.0949</td>\n",
       "      <td id=\"T_b14ce_row11_col2\" class=\"data row11 col2\" >0.1494</td>\n",
       "      <td id=\"T_b14ce_row11_col3\" class=\"data row11 col3\" >0.2128</td>\n",
       "      <td id=\"T_b14ce_row11_col4\" class=\"data row11 col4\" >0.0204</td>\n",
       "      <td id=\"T_b14ce_row11_col5\" class=\"data row11 col5\" >0.4638</td>\n",
       "    </tr>\n",
       "  </tbody>\n",
       "</table>\n"
      ],
      "text/plain": [
       "<pandas.io.formats.style.Styler at 0x2487e86f9a0>"
      ]
     },
     "metadata": {},
     "output_type": "display_data"
    },
    {
     "data": {
      "application/vnd.jupyter.widget-view+json": {
       "model_id": "4269af184aaf4a36acf8024ccb4c46fe",
       "version_major": 2,
       "version_minor": 0
      },
      "text/plain": [
       "Processing:   0%|          | 0/6 [00:00<?, ?it/s]"
      ]
     },
     "metadata": {},
     "output_type": "display_data"
    }
   ],
   "source": [
    "# Develop a blended model with voting regressor\n",
    "stacked_ozone = stack_models(estimator_list=[dt_ozone,rf_outdoor,et_ozone],optimize='MAE')"
   ]
  },
  {
   "cell_type": "markdown",
   "metadata": {},
   "source": [
    "This model has roughly equivalent results to the random forest model."
   ]
  },
  {
   "cell_type": "markdown",
   "metadata": {},
   "source": [
    "#### 3.3.3 Evaluate Model"
   ]
  },
  {
   "cell_type": "markdown",
   "metadata": {},
   "source": [
    "Assume that random forest model is the most appropriate"
   ]
  },
  {
   "cell_type": "code",
   "execution_count": 78,
   "metadata": {},
   "outputs": [
    {
     "data": {
      "text/html": [],
      "text/plain": [
       "<IPython.core.display.HTML object>"
      ]
     },
     "metadata": {},
     "output_type": "display_data"
    },
    {
     "data": {
      "image/png": "[encoded data removed]",
      "text/plain": [
       "<Figure size 800x550 with 1 Axes>"
      ]
     },
     "metadata": {},
     "output_type": "display_data"
    }
   ],
   "source": [
    "#Plot learning Curve\n",
    "plot_model(rf_ozone, plot = 'learning')"
   ]
  },
  {
   "cell_type": "markdown",
   "metadata": {},
   "source": [
    "Cross-validation model scores hardly increase from 85% to 90% with an increase in training instances."
   ]
  },
  {
   "cell_type": "code",
   "execution_count": 79,
   "metadata": {
    "scrolled": false
   },
   "outputs": [
    {
     "data": {
      "text/html": [],
      "text/plain": [
       "<IPython.core.display.HTML object>"
      ]
     },
     "metadata": {},
     "output_type": "display_data"
    },
    {
     "data": {
      "image/png": "[encoded data removed]",
      "text/plain": [
       "<Figure size 800x550 with 2 Axes>"
      ]
     },
     "metadata": {},
     "output_type": "display_data"
    }
   ],
   "source": [
    "# Plot Residuals\n",
    "plot_model(rf_ozone, plot = 'residuals')"
   ]
  },
  {
   "cell_type": "markdown",
   "metadata": {},
   "source": [
    "The residuals plot shows the distribution of residual (delta between actual vs predicted indoor air pollution deaths), which are largely within +/-10 deaths per 100,000, which is reasonable on the individual country level considering the {mean,max} of the metric = {20,2830}, considering the R2 is actually around 97%"
   ]
  },
  {
   "cell_type": "code",
   "execution_count": 80,
   "metadata": {},
   "outputs": [
    {
     "data": {
      "text/html": [],
      "text/plain": [
       "<IPython.core.display.HTML object>"
      ]
     },
     "metadata": {},
     "output_type": "display_data"
    },
    {
     "data": {
      "image/png": "[encoded data removed]",
      "text/plain": [
       "<Figure size 800x500 with 1 Axes>"
      ]
     },
     "metadata": {},
     "output_type": "display_data"
    }
   ],
   "source": [
    "# Plot Feature Importance - Variable Importance (different from average importance shown in dashbaoard)\n",
    "plot_model(rf_ozone, plot = 'feature')"
   ]
  },
  {
   "cell_type": "markdown",
   "metadata": {},
   "source": [
    "The Feature Importance plot shows that the SoDI drives the model at a variable importance of around 0.45, with Population in second at around 0.35, and third with GDP per capita at around 0.2."
   ]
  },
  {
   "cell_type": "markdown",
   "metadata": {},
   "source": [
    "#### 3.3.4 Predict"
   ]
  },
  {
   "cell_type": "code",
   "execution_count": 91,
   "metadata": {
    "scrolled": false
   },
   "outputs": [
    {
     "data": {
      "text/html": [
       "<style type=\"text/css\">\n",
       "</style>\n",
       "<table id=\"T_c58df\">\n",
       "  <thead>\n",
       "    <tr>\n",
       "      <th class=\"blank level0\" >&nbsp;</th>\n",
       "      <th id=\"T_c58df_level0_col0\" class=\"col_heading level0 col0\" >Model</th>\n",
       "      <th id=\"T_c58df_level0_col1\" class=\"col_heading level0 col1\" >MAE</th>\n",
       "      <th id=\"T_c58df_level0_col2\" class=\"col_heading level0 col2\" >MSE</th>\n",
       "      <th id=\"T_c58df_level0_col3\" class=\"col_heading level0 col3\" >RMSE</th>\n",
       "      <th id=\"T_c58df_level0_col4\" class=\"col_heading level0 col4\" >R2</th>\n",
       "      <th id=\"T_c58df_level0_col5\" class=\"col_heading level0 col5\" >RMSLE</th>\n",
       "      <th id=\"T_c58df_level0_col6\" class=\"col_heading level0 col6\" >MAPE</th>\n",
       "    </tr>\n",
       "  </thead>\n",
       "  <tbody>\n",
       "    <tr>\n",
       "      <th id=\"T_c58df_level0_row0\" class=\"row_heading level0 row0\" >0</th>\n",
       "      <td id=\"T_c58df_row0_col0\" class=\"data row0 col0\" >Random Forest Regressor</td>\n",
       "      <td id=\"T_c58df_row0_col1\" class=\"data row0 col1\" >0.0571</td>\n",
       "      <td id=\"T_c58df_row0_col2\" class=\"data row0 col2\" >0.0935</td>\n",
       "      <td id=\"T_c58df_row0_col3\" class=\"data row0 col3\" >0.3058</td>\n",
       "      <td id=\"T_c58df_row0_col4\" class=\"data row0 col4\" >0.9068</td>\n",
       "      <td id=\"T_c58df_row0_col5\" class=\"data row0 col5\" >0.0776</td>\n",
       "      <td id=\"T_c58df_row0_col6\" class=\"data row0 col6\" >1.5183</td>\n",
       "    </tr>\n",
       "  </tbody>\n",
       "</table>\n"
      ],
      "text/plain": [
       "<pandas.io.formats.style.Styler at 0x2480978f8b0>"
      ]
     },
     "metadata": {},
     "output_type": "display_data"
    },
    {
     "data": {
      "text/html": [
       "<div>\n",
       "<style scoped>\n",
       "    .dataframe tbody tr th:only-of-type {\n",
       "        vertical-align: middle;\n",
       "    }\n",
       "\n",
       "    .dataframe tbody tr th {\n",
       "        vertical-align: top;\n",
       "    }\n",
       "\n",
       "    .dataframe thead th {\n",
       "        text-align: right;\n",
       "    }\n",
       "</style>\n",
       "<table border=\"1\" class=\"dataframe\">\n",
       "  <thead>\n",
       "    <tr style=\"text-align: right;\">\n",
       "      <th></th>\n",
       "      <th>GDP_pCapita</th>\n",
       "      <th>Population</th>\n",
       "      <th>SoDI</th>\n",
       "      <th>Income_Class_encoded</th>\n",
       "      <th>Year</th>\n",
       "      <th>Deaths_OZone</th>\n",
       "      <th>prediction_label</th>\n",
       "    </tr>\n",
       "  </thead>\n",
       "  <tbody>\n",
       "    <tr>\n",
       "      <th>1025</th>\n",
       "      <td>5386.467773</td>\n",
       "      <td>14587367.0</td>\n",
       "      <td>0.630</td>\n",
       "      <td>2.0</td>\n",
       "      <td>1970-01-01 00:00:00.000001996</td>\n",
       "      <td>0.004042</td>\n",
       "      <td>0.005366</td>\n",
       "    </tr>\n",
       "    <tr>\n",
       "      <th>935</th>\n",
       "      <td>21227.347656</td>\n",
       "      <td>29610218.0</td>\n",
       "      <td>0.809</td>\n",
       "      <td>3.0</td>\n",
       "      <td>1970-01-01 00:00:00.000001996</td>\n",
       "      <td>0.004505</td>\n",
       "      <td>0.004721</td>\n",
       "    </tr>\n",
       "    <tr>\n",
       "      <th>3024</th>\n",
       "      <td>117254.742188</td>\n",
       "      <td>607950.0</td>\n",
       "      <td>0.894</td>\n",
       "      <td>3.0</td>\n",
       "      <td>1970-01-01 00:00:00.000002018</td>\n",
       "      <td>0.324673</td>\n",
       "      <td>0.461738</td>\n",
       "    </tr>\n",
       "    <tr>\n",
       "      <th>3584</th>\n",
       "      <td>10171.480469</td>\n",
       "      <td>10289.0</td>\n",
       "      <td>0.573</td>\n",
       "      <td>3.0</td>\n",
       "      <td>1970-01-01 00:00:00.000002014</td>\n",
       "      <td>0.000000</td>\n",
       "      <td>0.000000</td>\n",
       "    </tr>\n",
       "    <tr>\n",
       "      <th>2131</th>\n",
       "      <td>477.762451</td>\n",
       "      <td>7081119.0</td>\n",
       "      <td>0.190</td>\n",
       "      <td>0.0</td>\n",
       "      <td>1970-01-01 00:00:00.000001994</td>\n",
       "      <td>0.005983</td>\n",
       "      <td>0.009433</td>\n",
       "    </tr>\n",
       "    <tr>\n",
       "      <th>...</th>\n",
       "      <td>...</td>\n",
       "      <td>...</td>\n",
       "      <td>...</td>\n",
       "      <td>...</td>\n",
       "      <td>...</td>\n",
       "      <td>...</td>\n",
       "      <td>...</td>\n",
       "    </tr>\n",
       "    <tr>\n",
       "      <th>524</th>\n",
       "      <td>2993.033691</td>\n",
       "      <td>230248.0</td>\n",
       "      <td>0.494</td>\n",
       "      <td>1.0</td>\n",
       "      <td>1970-01-01 00:00:00.000001998</td>\n",
       "      <td>0.188629</td>\n",
       "      <td>0.162806</td>\n",
       "    </tr>\n",
       "    <tr>\n",
       "      <th>5227</th>\n",
       "      <td>590.393494</td>\n",
       "      <td>4413477.0</td>\n",
       "      <td>0.556</td>\n",
       "      <td>0.0</td>\n",
       "      <td>1970-01-01 00:00:00.000001998</td>\n",
       "      <td>0.024129</td>\n",
       "      <td>0.054696</td>\n",
       "    </tr>\n",
       "    <tr>\n",
       "      <th>2883</th>\n",
       "      <td>7948.685547</td>\n",
       "      <td>5537620.0</td>\n",
       "      <td>0.660</td>\n",
       "      <td>2.0</td>\n",
       "      <td>1970-01-01 00:00:00.000002012</td>\n",
       "      <td>0.029349</td>\n",
       "      <td>0.022826</td>\n",
       "    </tr>\n",
       "    <tr>\n",
       "      <th>3941</th>\n",
       "      <td>1664.245728</td>\n",
       "      <td>3494496.0</td>\n",
       "      <td>0.467</td>\n",
       "      <td>1.0</td>\n",
       "      <td>1970-01-01 00:00:00.000002007</td>\n",
       "      <td>0.022929</td>\n",
       "      <td>0.029863</td>\n",
       "    </tr>\n",
       "    <tr>\n",
       "      <th>2083</th>\n",
       "      <td>26713.058594</td>\n",
       "      <td>158649.0</td>\n",
       "      <td>0.773</td>\n",
       "      <td>3.0</td>\n",
       "      <td>1970-01-01 00:00:00.000002006</td>\n",
       "      <td>0.000000</td>\n",
       "      <td>0.032571</td>\n",
       "    </tr>\n",
       "  </tbody>\n",
       "</table>\n",
       "<p>1143 rows × 7 columns</p>\n",
       "</div>"
      ],
      "text/plain": [
       "        GDP_pCapita  Population   SoDI  Income_Class_encoded  \\\n",
       "1025    5386.467773  14587367.0  0.630                   2.0   \n",
       "935    21227.347656  29610218.0  0.809                   3.0   \n",
       "3024  117254.742188    607950.0  0.894                   3.0   \n",
       "3584   10171.480469     10289.0  0.573                   3.0   \n",
       "2131     477.762451   7081119.0  0.190                   0.0   \n",
       "...             ...         ...    ...                   ...   \n",
       "524     2993.033691    230248.0  0.494                   1.0   \n",
       "5227     590.393494   4413477.0  0.556                   0.0   \n",
       "2883    7948.685547   5537620.0  0.660                   2.0   \n",
       "3941    1664.245728   3494496.0  0.467                   1.0   \n",
       "2083   26713.058594    158649.0  0.773                   3.0   \n",
       "\n",
       "                              Year  Deaths_OZone  prediction_label  \n",
       "1025 1970-01-01 00:00:00.000001996      0.004042          0.005366  \n",
       "935  1970-01-01 00:00:00.000001996      0.004505          0.004721  \n",
       "3024 1970-01-01 00:00:00.000002018      0.324673          0.461738  \n",
       "3584 1970-01-01 00:00:00.000002014      0.000000          0.000000  \n",
       "2131 1970-01-01 00:00:00.000001994      0.005983          0.009433  \n",
       "...                            ...           ...               ...  \n",
       "524  1970-01-01 00:00:00.000001998      0.188629          0.162806  \n",
       "5227 1970-01-01 00:00:00.000001998      0.024129          0.054696  \n",
       "2883 1970-01-01 00:00:00.000002012      0.029349          0.022826  \n",
       "3941 1970-01-01 00:00:00.000002007      0.022929          0.029863  \n",
       "2083 1970-01-01 00:00:00.000002006      0.000000          0.032571  \n",
       "\n",
       "[1143 rows x 7 columns]"
      ]
     },
     "execution_count": 91,
     "metadata": {},
     "output_type": "execute_result"
    }
   ],
   "source": [
    "#Use random forest model to predict holdout testing dataset indoor pollution deaths per 100,000\n",
    "predictions = predict_model(rf_ozone)\n",
    "predictions"
   ]
  },
  {
   "cell_type": "markdown",
   "metadata": {},
   "source": [
    "Even with the hold-out testing dataset, the tuned model has RMSE,MAE,R2 not drastically different from the test-train dataset used to build the model, so it shows that the model was not overfitted to the input data."
   ]
  },
  {
   "cell_type": "code",
   "execution_count": 92,
   "metadata": {
    "scrolled": false
   },
   "outputs": [
    {
     "name": "stdout",
     "output_type": "stream",
     "text": [
      "Transformation Pipeline and Model Successfully Saved\n"
     ]
    },
    {
     "data": {
      "text/plain": [
       "(Pipeline(memory=FastMemory(location=C:\\Users\\kevin\\AppData\\Local\\Temp\\joblib),\n",
       "          steps=[('date_feature_extractor',\n",
       "                  TransformerWrapper(include=['Year'],\n",
       "                                     transformer=ExtractDateTimeFeatures())),\n",
       "                 ('numerical_imputer',\n",
       "                  TransformerWrapper(include=['GDP_pCapita', 'Population',\n",
       "                                              'SoDI', 'Income_Class_encoded'],\n",
       "                                     transformer=SimpleImputer())),\n",
       "                 ('categorical_imputer',\n",
       "                  TransformerWrapper(include=[],\n",
       "                                     transformer=SimpleImputer(strategy='most_frequent'))),\n",
       "                 ('trained_model',\n",
       "                  RandomForestRegressor(max_depth=7, n_jobs=-1,\n",
       "                                        random_state=123))]),\n",
       " 'Ozone Deaths Random Forest 2023-03-29.pkl')"
      ]
     },
     "execution_count": 92,
     "metadata": {},
     "output_type": "execute_result"
    }
   ],
   "source": [
    "#Save Model\n",
    "save_model(rf_ozone,'Ozone Deaths Random Forest 2023-03-29')"
   ]
  }
 ],
 "metadata": {
  "kernelspec": {
   "display_name": "Python 3 (ipykernel)",
   "language": "python",
   "name": "python3"
  },
  "language_info": {
   "codemirror_mode": {
    "name": "ipython",
    "version": 3
   },
   "file_extension": ".py",
   "mimetype": "text/x-python",
   "name": "python",
   "nbconvert_exporter": "python",
   "pygments_lexer": "ipython3",
   "version": "3.9.16"
  }
 },
 "nbformat": 4,
 "nbformat_minor": 4
}
